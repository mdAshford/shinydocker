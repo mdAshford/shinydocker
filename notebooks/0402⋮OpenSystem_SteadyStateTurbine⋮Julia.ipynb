{
 "cells": [
  {
   "cell_type": "markdown",
   "metadata": {},
   "source": [
    " <div style=\"display:inline-block; position:absolute; top:0; right:0; color: #230e3e; font:italic 1em serif;\">$\\LaTeX$<span style=\"display:inline-block; vertical-align:bottom\">\n",
    "    <a href=\"https://www.mathjax.org\">\n",
    "    <img style=\"height:1.5em\" title=\"Powered by MathJax\"\n",
    "    src=\"https://www.mathjax.org/badge/mj_logo.png\"\n",
    "    border=\"0\" alt=\"Powered by MathJax\" >\n",
    "</a></span></div>\n",
    "\n",
    "<div style=\"display:inline-block; position:absolute; top:0; left:0; color: #230e3e; font:italic 1em serif;\"><a href=\"https://www.julialang.org\">\n",
    "    <img style=\"height:2.25em; vertical-align:top\" title=\"Powered by Julia\"\n",
    "    src=\"./figures/julia-logo-mask.png\"\n",
    "    border=\"0\" alt=\"Powered by Julia\" >\n",
    "</a></div>\n",
    "</a></div>$\\require{cancel} \\require{mhchem} \\require{bbox} \\require{color} \\require{enclose} \\require{AMSmath} \\require{AMSsymbols}$"
   ]
  },
  {
   "cell_type": "markdown",
   "metadata": {},
   "source": [
    "### Given\n",
    "Steam flows through a turbine at 6000 kg/s, with entry and exit conditions as shown:\n",
    "\n",
    "![test-two,six.png](./figures/steamTurbine.png)"
   ]
  },
  {
   "cell_type": "markdown",
   "metadata": {},
   "source": [
    "### Find\n",
    "Turbine power output [kW]"
   ]
  },
  {
   "cell_type": "markdown",
   "metadata": {},
   "source": [
    "### Get Organized   \n",
    "\n",
    "#### Mass conservation  \n",
    "Trivial. We have one input and one output, so  \n",
    "\n",
    " $$\\dot m_{in} = \\dot m_{out} = \\dot m.$$\n",
    "\n",
    "#### Energy conservation  \n",
    "We always start with the basic energy equation, in rate form for this exercise:  \n",
    "\n",
    "$$\\begin{equation}\n",
    "   \\dot E_{in} - \\dot E_{out} = \\frac {\\rm d}{\\rm dt}E_{sys} \\\\\n",
    "\\end{equation}$$\n",
    "\n",
    "Turbines are steady-state devices, so the energy equation reduces to  \n",
    "\n",
    " $$ \\dot E_{in} - \\dot E_{out} = \\color{red}\\cancelto{\\text{0: steady state}}{\\frac {\\rm d}{\\rm dt}E_{sys}} \\color{black} = 0 $$  \n"
   ]
  },
  {
   "cell_type": "markdown",
   "metadata": {},
   "source": [
    "Now, identify the energy flows (all in rate form):   \n",
    " - **energy advected in by steam** at ⓵: $\\ \\ \\dot E_{in,\\ce{H2O}} = \\dot{m}e_{in,\\ce{H2O}} = \\dot m \\left( e_{1,internal} + e_{1,flow} + e_{1,potential} + e_{1,kinetic} \\right)$  \n",
    "  We have no kinetic or potential energy considerations, so  \n",
    "  \n",
    "  $$\\dot e_{in,\\ce{H2O}} = e_{1,internal} + e_{1,flow} = u_1 + P_1 v_1 = h_1$$ \n",
    "\n",
    " - **turbine power:** $\\ \\ \\dot W_{turbine, out}$  \n",
    "\n",
    "\n",
    " - **energy advected out by steam** at ⓶:  $\\ \\ \\dot E_{out,\\ce{H2O}} = \\dot{m}e_{out,\\ce{H2O}} = \\dot m \\left( e_{2,internal} + e_{2,flow} + e_{2,potential} + e_{2,kinetic} \\right)$  \n",
    "  We have no kinetic or potential energy considerations, so  \n",
    "  \n",
    "  $$\\dot e_{out,\\ce{H2O}} = e_{2,internal} + e_{2,flow} =  u_2 + P_2 v_2 = h_2$$ \n",
    "\n"
   ]
  },
  {
   "cell_type": "markdown",
   "metadata": {},
   "source": [
    "**Apply some algebra**\n",
    "\n",
    "$$\\dot E_{in} - \\dot E_{out} = 0 $$  \n",
    "\n",
    "\n",
    "$$\\dot E_{in,\\ce{H2O}} -\\dot E_{out,\\ce{H2O}} - \\dot W_{turbine,out} = 0 $$  \n",
    "\n",
    "\n",
    "\\begin{align*}\n",
    "\\\\\n",
    " \\dot W_{turbine,out} &= \\dot E_{out,\\ce{H2O}} - \\dot E_{in,\\ce{H2O}}  \\\\[6pt]\n",
    "     &= \\dot m \\left( h_2 - h_1 \\right)\n",
    "\\end{align*}\n",
    "\n"
   ]
  },
  {
   "cell_type": "markdown",
   "metadata": {},
   "source": [
    "### Attack \n",
    "Today, we'll use Julia, with _Unitful.jl_, a package for calculation with physical units."
   ]
  },
  {
   "cell_type": "code",
   "execution_count": 1,
   "metadata": {},
   "outputs": [],
   "source": [
    "using Unitful       # Unitful units package\n",
    "const kJ = u\"kJ\"    # make shortcuts to Unitful units constructor\n",
    "const kg = u\"kg\"\n",
    "const s = u\"s\";    "
   ]
  },
  {
   "cell_type": "code",
   "execution_count": 2,
   "metadata": {},
   "outputs": [],
   "source": [
    "# Define physical quantities\n",
    "h1 = 2653.5kJ/kg\n",
    "h2 = 3138.3kJ/kg\n",
    "ṁ = 6000kg/s;"
   ]
  },
  {
   "cell_type": "code",
   "execution_count": 3,
   "metadata": {},
   "outputs": [
    {
     "data": {
      "text/plain": [
       "2908.800000000001 MW"
      ]
     },
     "execution_count": 3,
     "metadata": {},
     "output_type": "execute_result"
    }
   ],
   "source": [
    "# Calculations\n",
    "Ẇ = ṁ * (h2 - h1)\n",
    "Ẇ |> u\"MW\""
   ]
  },
  {
   "cell_type": "markdown",
   "metadata": {},
   "source": [
    "<footer style=\"background-color: #461d7c; color:rgba(253,208,35,0.35); line-height:2em; padding-left:1em; padding-right:0.5em; bottom:0; float:bottom; text-align:right;\"><i>ψᵟ</i></footer>"
   ]
  }
 ],
 "metadata": {
  "kernelspec": {
   "display_name": "Julia 1.0.0",
   "language": "julia",
   "name": "julia-1.0"
  },
  "language_info": {
   "file_extension": ".jl",
   "mimetype": "application/julia",
   "name": "julia",
   "version": "1.0.0"
  }
 },
 "nbformat": 4,
 "nbformat_minor": 2
}

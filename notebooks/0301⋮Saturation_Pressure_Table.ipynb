{
 "cells": [
  {
   "cell_type": "markdown",
   "metadata": {},
   "source": [
    "$\\require{cancel} \\require{mhchem} \\require{bbox} \\require{color} \\require{enclose} \\require{AMSmath} \\require{AMSsymbols} \n",
    "$"
   ]
  },
  {
   "cell_type": "markdown",
   "metadata": {},
   "source": [
    "### Given  \n",
    "$\\ce{H2O} \\left\\{ \\begin{align} \\ce{P \\ &= \\ 400 kPa} \\\\\n",
    "    \\ce{u \\ &= \\ 1450 kJ/kg}\n",
    "    \\end{align} \n",
    "    \\right.$\n",
    "\n",
    "### Find \n",
    "Remaining properties and describe the phase.\n",
    "\n",
    "### Attack \n",
    "1. We are given pressure (P) and internal energy (u), **two independent properties**, so they fix our state.\n",
    "2. Not knowing the phase of the water, we head to the Saturation Pressure Table and locate the row corresponding to $ \\color{#16344a} \\colorbox{#f1f1f0}{P = 400 kPa = 4 bar = 4 MPa.}$\n",
    "\n",
    "    ![03%7C01.png](./figures/0301.png)"
   ]
  },
  {
   "cell_type": "markdown",
   "metadata": {},
   "source": [
    "3. From $\\color{#16344a} \\colorbox{#f1f1f0}{P = 400 kPa},$ we get internal energy values for the saturated liquid $\\enclose{}[mathbackground=#f1f1f0, mathcolor=#16344a]{\\displaystyle u_f = 604.31 \\text{ kJ/kg}}$ and saturated vapor $\\enclose{}[mathbackground=#f1f1f0, mathcolor=#16344a]{\\displaystyle u_g = 2553.6 \\text{ kJ/kg}}$. \n",
    "\n",
    "4. Comparing those to the internal energy given $\\left(u=1450 \\text{ kJ/kg}\\right),$ we see that $u_f < u < u_g.$\n",
    "5. Therefore,\n",
    "    - We have saturation conditions\n",
    "        - Had $u < u_f$, our $\\ce{H2O}$ would be *Compressed (Subcooled) Liquid*\n",
    "        - Had $u > u_g$, our $\\ce{H2O}$ would be *Superheated Vapor*\n",
    "    - Our phase is **saturated mixture**\n",
    "        - Had $u = u_f$, phase would be *saturated liquid*\n",
    "        - Had $u = u_g$, phase would be *saturated vapor*\n",
    "    - The temperature comes directly frtom the table: $\\enclose{}[mathbackground=#f1f1f0, mathcolor=#16344a]{T = T_{saturation} = 143.6 \\ ^\\circ \\text{F.}}$ **Never forget:** temperature and pressure are NOT independent in saturation conditions. If you know one, you know the other."
   ]
  },
  {
   "cell_type": "markdown",
   "metadata": {},
   "source": [
    "6. Before we determine the remaining properties $v, h,$ and $s,$ we should discuss the property tables. Saturation tables only contain data along phase boundaries. \n",
    "\n",
    "    ![03%7C01.png](./figures/0301_saturation_dome.png)"
   ]
  },
  {
   "cell_type": "markdown",
   "metadata": {},
   "source": []
  },
  {
   "cell_type": "markdown",
   "metadata": {},
   "source": [
    "$\\fcolorbox{red}{blue}{what do I do here?}$\n",
    "\n",
    "$$\\enclose{circle}{\\enclose{box}{x}}$$\n"
   ]
  },
  {
   "cell_type": "markdown",
   "metadata": {},
   "source": [
    "$\\enclose{}[mathbackground=#bad6dd, mathcolor=#16344a]{P = 400 kPa = 4 bar = 4 MPa.}$\n",
    "\n",
    "$\\enclose{}[mathbackground=#f1f1f0, mathcolor=#16344a]{P = 400 kPa = 4 bar = 4 MPa.}$\n",
    "\n",
    "$ \\color{#16344a} \\displaystyle \\colorbox{#bad6dd}{P = 400 kPa = 4 bar = 4 MPa.}$\n",
    "\n",
    "$\\color{#16344a} \\bbox[#f1f1f0,5px,border:1px solid #16344a]{P = 400 kPa = 4 bar = 4 MPa.}$\n",
    "\n",
    "$\\color{#16344a} \\bbox[#f1f1f0,5px,border:1px solid #16344a]{P = 400 kPa = 4 bar = 4 MPa.}$"
   ]
  },
  {
   "cell_type": "code",
   "execution_count": null,
   "metadata": {},
   "outputs": [],
   "source": []
  }
 ],
 "metadata": {
  "kernelspec": {
   "display_name": "Julia 1.0.0",
   "language": "julia",
   "name": "julia-1.0"
  },
  "language_info": {
   "file_extension": ".jl",
   "mimetype": "application/julia",
   "name": "julia",
   "version": "1.0.0"
  }
 },
 "nbformat": 4,
 "nbformat_minor": 2
}

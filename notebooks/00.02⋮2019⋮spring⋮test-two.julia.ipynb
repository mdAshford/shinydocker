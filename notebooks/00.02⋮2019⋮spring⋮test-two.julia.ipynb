{
 "cells": [
  {
   "cell_type": "markdown",
   "metadata": {},
   "source": [
    " <div style=\"display:inline-block; position:absolute; top:0; right:0; color: #230e3e; font:italic 1em serif;\">$\\LaTeX$<span style=\"display:inline-block; vertical-align:bottom\">\n",
    "    <a href=\"https://www.mathjax.org\">\n",
    "    <img style=\"height:1.5em\" title=\"Powered by MathJax\"\n",
    "    src=\"https://www.mathjax.org/badge/mj_logo.png\"\n",
    "    border=\"0\" alt=\"Powered by MathJax\" >\n",
    "</a></span></div>\n",
    "<div style=\"display:inline-block; position:absolute; top:0; left:0; color: #230e3e; font:italic 1em serif;\"><a href=\"https://www.julialang.org\">\n",
    "    <img style=\"height:2.25em; vertical-align:top\" title=\"Powered by Julia\"\n",
    "    src=\"./figures/julia-logo-mask.png\"\n",
    "    border=\"0\" alt=\"Powered by Julia\" >\n",
    "</a></div>\n",
    "</a></div>$\\require{cancel} \\require{mhchem} \\require{bbox} \\require{color} \\require{enclose} \\require{AMSmath} \\require{AMSsymbols}$ \n",
    "\n"
   ]
  },
  {
   "cell_type": "code",
   "execution_count": 1,
   "metadata": {},
   "outputs": [
    {
     "data": {
      "text/html": [
       "<link rel='stylesheet' href='./css/youcan.css' type='text/css' charset='utf-8' />"
      ],
      "text/plain": [
       "HTML{String}(\"<link rel='stylesheet' href='./css/youcan.css' type='text/css' charset='utf-8' />\")"
      ]
     },
     "execution_count": 1,
     "metadata": {},
     "output_type": "execute_result"
    }
   ],
   "source": [
    "## Jupyter notebook housekeeping\n",
    "HTML(\"<link rel='stylesheet' href='./css/youcan.css' type='text/css' charset='utf-8' />\")"
   ]
  },
  {
   "cell_type": "code",
   "execution_count": 2,
   "metadata": {},
   "outputs": [],
   "source": [
    "using Unitful     # units package for julia"
   ]
  },
  {
   "cell_type": "markdown",
   "metadata": {},
   "source": [
    "![cerulean1](./figures/2019,test2,head.png)"
   ]
  },
  {
   "cell_type": "markdown",
   "metadata": {},
   "source": [
    "![cerulean1](./figures/2019,test2,c1.png)"
   ]
  },
  {
   "cell_type": "markdown",
   "metadata": {},
   "source": [
    "<hr class=\"little\"/>"
   ]
  },
  {
   "cell_type": "markdown",
   "metadata": {},
   "source": [
    "On a Pv diagram, work is the area under the curve.  \n",
    "1. When volume increases, the system is doing work; decreasing volume means work is being done to the system.  \n",
    "\n",
    "2. In a cycle (like our case), the area under both curves cancels, so we only need to calculate the area bounded by the cycle. "
   ]
  },
  {
   "cell_type": "code",
   "execution_count": 3,
   "metadata": {},
   "outputs": [
    {
     "data": {
      "text/plain": [
       "300.0 kJ"
      ]
     },
     "execution_count": 3,
     "metadata": {},
     "output_type": "execute_result"
    }
   ],
   "source": [
    "W_net = (200 - 100)u\"kPa\" * (6 - 1)u\"m^3\"\n",
    "      + (400 - 200)u\"kPa\" * (3 - 1)u\"m^3\"\n",
    "      + (400 - 200)u\"kPa\" * 0.5*(6 - 3)u\"m^3\" |> u\"kJ\""
   ]
  },
  {
   "cell_type": "markdown",
   "metadata": {},
   "source": [
    "We have the magnitude, let's get the direction. By inspection, we see that more work is going into the system (1-2-3-4-5) than out (5-1), so the net work goes __into the system__."
   ]
  },
  {
   "cell_type": "markdown",
   "metadata": {},
   "source": [
    "$$ \n",
    "\\bbox[#dff0d8, 0.5em,border:2px solid #4cae4c]{\n",
    "\\color{#3c763d}\n",
    "\\small W_{net} = 300\\, \\ce{kJ}, \\text{into the system.}}\n",
    "$$"
   ]
  },
  {
   "cell_type": "markdown",
   "metadata": {},
   "source": [
    "<hr class=\"big\"/>"
   ]
  },
  {
   "cell_type": "markdown",
   "metadata": {},
   "source": [
    "![cerulean1](./figures/2019,test2,c2.png)"
   ]
  },
  {
   "cell_type": "markdown",
   "metadata": {},
   "source": [
    "<hr class=\"little\"/>"
   ]
  },
  {
   "cell_type": "markdown",
   "metadata": {},
   "source": [
    "With a few judicious assumptions and system selection, we can make this a classic mechanical energy problem. Just don't overthink it. My walkthrough is very much overexplained, in the interest of pointing out the underlying fundamental physics.\n",
    "\n",
    "As usual, start with a hideous sketch.\n",
    "\n",
    "![cerulean1](./figures/simpledam.png)"
   ]
  },
  {
   "cell_type": "markdown",
   "metadata": {},
   "source": [
    "**Specify the system.**\n",
    "1. What should we include in the system? Our energy flow is  \n",
    "\n",
    "  $$\\text{Water ⟶ Dam ⟶ Electricity}.$$    \n",
    "\n",
    "  The most straightforward approach is to include the water only, then solve for $n_\\ce{dam}.$\n",
    "  \n",
    "  $$\\bbox[5px,border:2px dashed #00A]{\\text{Water}} \\text{ ⟶ Dam ⟶ Electricity}$$  \n",
    "    \n",
    "    \n",
    "2. Make system boundaries coincident with the water surfaces.   \n",
    "\n",
    "  1. Unless the height difference is extreme, we can assume both surfaces are at the same pressure.  \n",
    "    \n",
    "  2. We can assume the water has zero velocity. Sometimes, this is an uncomfortable assumption. It depends on specific situations. Generally, it's safe to assume zero velocity in and out OR assume the same velocity in and out. Both options are mathematically identical. \n",
    "    \n",
    "    \n",
    "3. Assume the water flows in and out at the same temperature. We already established equal pressure in and out. We are not at saturation conditions, so T and P are independent; thus, we can now say the water enters and leaves at the same thermodynamic state. \n",
    "\n",
    "  Therefore, the only energetic difference (in vs out) is mechanical energy, aka PE + KE. "
   ]
  },
  {
   "cell_type": "markdown",
   "metadata": {},
   "source": [
    "**Summarizing our assumptions,**  \n",
    "\n",
    "<ol class = \"a-prefix-list\">\n",
    "  <li>(a<sub></sub>) the dam is a steady state steady flow device.</li>\n",
    "  <li>(a<sub></sub>) $\\vec V_{in} = \\vec V_{out}$</li>\n",
    "  <li>(a<sub></sub>) $\\left. \n",
    "      \\begin{array}{l}\n",
    "        P_{in} = P_{out} \\\\\n",
    "        T_{in} = T_{out}\n",
    "      \\end{array} \n",
    "      \\right\\} \\small \\ce{State}_{in} = \\ce{State}_{out}\n",
    "      $. \n",
    "      \n",
    "  <li>(a<sub></sub>) $\\rho_{water} = 1000\\, \\ce{kg/m^3}$   </li>\n",
    "\n",
    "</ol>"
   ]
  },
  {
   "cell_type": "markdown",
   "metadata": {},
   "source": [
    "**Attack**\n",
    "\n",
    "Mass: We have one entrance and one exit, so mass conservation is trivial.  \n",
    "\n",
    "Energy: We apply the first law as usual. Again, I'm being overly explicit in the walkthrough.\n",
    "\n",
    "\\begin{array}{cccl}\n",
    " &\\dot E_{in}& &-& & \\dot E_{out} & &= \\frac{d}{dt} E_{sys} \\\\\n",
    " \\big(\\dot E_{thermo} &+& \\dot E_{mech} \\big)_{in} &-& \\big(\\dot E_{thermo} + \\dot E_{mech} \\big)_{out} &-& \\dot W_{water,out} &= \\cancelto{0 \\ (a_1)}{\\frac{d}{dt} E_{sys}} \\\\\n",
    " \\big( \\dot E_{thermo} &+&  \\ce{\\dot{KE} + \\dot{PE}}\\big)_{in} &-& \\big(\\dot E_{thermo} + \\ce{KE + PE}\\big)_{out} &-& \\dot W_{water,out} &= 0 \\\\[6pt]\n",
    " ~\n",
    "\\end{array}\n",
    "\n",
    "Gathering like terms,  \n",
    "\n",
    "$$\n",
    "\\cancelto{0 \\ (a_3)}{(\\dot E_{thermo,in} - \\dot E_{thermo,out})} +  \\cancelto{0 \\ (a_2)}{\\left(\\, \\ce{KE}_{in} - \\ce{KE}_{out} \\right)} + \\left( \\dot m_{water}gz_{in} - \\dot m_{water}gz_{out}\\right)  - \\dot W_{water,out} = 0 \\\\[12pt]\n",
    "{~}\n",
    "$$\n",
    "\n",
    "Cleaning up, \n",
    "\n",
    "$$ \\dot W_{water,out} = \\dot m_{water}g \\left(z_{in} - z_{out}\\right),  $$   \n",
    "\n",
    "$$ \\dot m_{water} = \\rho_{water}\\dot V_{water},  $$   \n",
    "\n",
    "and   \n",
    "\n",
    "$$ \\eta_\\ce{dam} =  \\small{\\frac{ \\text{desired output}}{\\text{required input}}} = \\frac{\\dot W_{electricity,out}}{\\dot W_{water,out}}  .$$   \n",
    "\n"
   ]
  },
  {
   "cell_type": "markdown",
   "metadata": {},
   "source": [
    "<div class=\"btn-info\">&nbsp;<div class=\"badge\"></div><i class=\"fa fa-exclamation-circle\"></i><strong> Note</strong></div>\n",
    "<div class=\"panel-info\"><div class=\"panel-heading\">   \n",
    "    \n",
    "For what it's worth, in this case $\\small \\dot E_{thermodynamic} = \\dot E_{internal} + \\dot E_{flow} = \\dot m (e_{internal} + e_{flow}) = \\dot m (u +Pv) = \\dot mh$.</div></div>"
   ]
  },
  {
   "cell_type": "code",
   "execution_count": 4,
   "metadata": {},
   "outputs": [
    {
     "data": {
      "text/plain": [
       "3.3044487840000003 GW"
      ]
     },
     "execution_count": 4,
     "metadata": {},
     "output_type": "execute_result"
    }
   ],
   "source": [
    "g = 1u\"gn\"   # unitful.jl built-in gravitational constant\n",
    "V̇_water = 1560u\"m^3/s\"\n",
    "ρ_water = 1000u\"kg/m^3\"   # (a3)\n",
    "Δz_dam = 216u\"m\"\n",
    "\n",
    "ṁ_water = ρ_water * V̇_water\n",
    "\n",
    "Ẇ_water_out = ṁ_water * g * Δz_dam |> u\"GW\""
   ]
  },
  {
   "cell_type": "code",
   "execution_count": 5,
   "metadata": {},
   "outputs": [
    {
     "data": {
      "text/plain": [
       "0.36617302282267716"
      ]
     },
     "execution_count": 5,
     "metadata": {},
     "output_type": "execute_result"
    }
   ],
   "source": [
    "Ẇ_electricity_out = 1.21u\"GW\"\n",
    "\n",
    "η_dam = Ẇ_electricity_out / Ẇ_water_out"
   ]
  },
  {
   "cell_type": "markdown",
   "metadata": {},
   "source": [
    "$$ \n",
    "\\bbox[#dff0d8, 0.5em,border:2px solid #4cae4c]{\n",
    "\\color{#3c763d}\n",
    "\\eta_{dam} = 36.6\\%}\n",
    "$$"
   ]
  },
  {
   "cell_type": "markdown",
   "metadata": {},
   "source": [
    "<hr class=\"big\"/>"
   ]
  },
  {
   "cell_type": "markdown",
   "metadata": {},
   "source": [
    "![cerulean1](./figures/2019,test2,c4.png)"
   ]
  },
  {
   "cell_type": "markdown",
   "metadata": {},
   "source": [
    "<hr class=\"little\"/>"
   ]
  },
  {
   "cell_type": "markdown",
   "metadata": {},
   "source": [
    "A little thought before diving in is very helpful. We need to find how much gasoline is consumed. We know that the engine receives fuel and outputs work. \n",
    "\n",
    "We have efficiency\n",
    "\n",
    "\\begin{align*}\n",
    " \\eta = \\scriptsize \\frac{\\text{desired output}}{\\text{required input}},\n",
    "\\end{align*}\n",
    "\n",
    "but it relates energy (or power). No problem:\n",
    "\n",
    "\\begin{align*}\n",
    " \\eta = \\frac{E_\\text{desired}}{E_\\text{required}} \n",
    "      = \\frac{E_\\text{output}}{E_\\text{fuel}}\n",
    "      = \\frac{\\dot E_\\text{output}t_\\text{output}}{m_\\text{fuel}e_\\text{fuel}},\n",
    "\\end{align*}\n",
    "\n",
    "so\n",
    "\n",
    "\\begin{align*}\n",
    " m_\\text{fuel} = \\frac{\\dot E_\\text{output}t_\\text{output}}{\\eta e_\\text{fuel}}.\n",
    "\\end{align*}"
   ]
  },
  {
   "cell_type": "markdown",
   "metadata": {},
   "source": [
    "<div class=\"btn-warning\">&nbsp;<div class=\"badge\"></div><i class=\"fa fa-exclamation-circle\"></i><strong> Reality Check</strong> </div>\n",
    "<div class=\"panel-warning\"><div class=\"panel-heading\">\n",
    "    \n",
    "A quick and dirty reality check: according to our last equation, as efficiency ( $\\eta$ ) goes up, fuel consumption ( $m_\\text{fuel}$ ) goes down. That's the expected behavior. It's not a thorough algebra check, but it can give a little reassurance. \n",
    "\n",
    "Just never forget  $$\\small \\textit{energy = power} \\times \\textit{time}.$$ \n",
    "</div></div>"
   ]
  },
  {
   "cell_type": "code",
   "execution_count": 6,
   "metadata": {},
   "outputs": [
    {
     "data": {
      "text/plain": [
       "1.245847176079734 kg"
      ]
     },
     "execution_count": 6,
     "metadata": {},
     "output_type": "execute_result"
    }
   ],
   "source": [
    "Ė = 25u\"kW\"\n",
    "t = 10u\"minute\"\n",
    "η = 0.28\n",
    "e_fuel = 43u\"MJ/kg\"\n",
    "\n",
    "m_fuel = (Ė * t) / (η * e_fuel) |> u\"kg\""
   ]
  },
  {
   "cell_type": "markdown",
   "metadata": {},
   "source": [
    "$$ \n",
    "\\bbox[#dff0d8, 0.5em,border:2px solid #4cae4c]{\n",
    "\\color{#3c763d}\n",
    "m_{fuel} = 1.246\\,\\ce{kg} }\n",
    "$$"
   ]
  },
  {
   "cell_type": "markdown",
   "metadata": {},
   "source": [
    "<hr class=\"big\"/>"
   ]
  },
  {
   "cell_type": "markdown",
   "metadata": {},
   "source": [
    "![cerulean1](./figures/2019,test2,c5.png)"
   ]
  },
  {
   "cell_type": "markdown",
   "metadata": {},
   "source": [
    "<hr class=\"little\"/>"
   ]
  },
  {
   "cell_type": "markdown",
   "metadata": {},
   "source": [
    "This is purely boundary work. Let's use 2 and 1 to represent final and inital states, respectively. \n",
    "\n",
    "\\begin{align*}\n",
    "W_{b,out}=\\int^2_1 P\\ dV = P \\left(V_2 - V_1 \\right) = mP \\left(v_2 - v_1 \\right)\n",
    "\\end{align*}\n",
    "\n",
    "The shape of the volume matters not, only the change in volume and its relationship to pressure."
   ]
  },
  {
   "cell_type": "code",
   "execution_count": 7,
   "metadata": {},
   "outputs": [
    {
     "data": {
      "text/plain": [
       "-1770.93 kJ"
      ]
     },
     "execution_count": 7,
     "metadata": {},
     "output_type": "execute_result"
    }
   ],
   "source": [
    "P = 350u\"kPa\"\n",
    "v₁ = 0.3749u\"m^3/kg\"\n",
    "v₂ = 0.0938u\"m^3/kg\"\n",
    "m = 18u\"kg\"\n",
    "\n",
    "Wb_out = m * P * (v₂ - v₁) |> u\"kJ\""
   ]
  },
  {
   "cell_type": "markdown",
   "metadata": {},
   "source": [
    "\n",
    "$$ \n",
    "\\bbox[#dff0d8, 0.5em,border:2px solid #4cae4c]{\n",
    "\\color{#3c763d}\n",
    "W_b = 1770.93\\, \\ce{kJ}\\text{, into the system.} }\n",
    "$$"
   ]
  },
  {
   "cell_type": "markdown",
   "metadata": {},
   "source": [
    "<div class=\"btn-warning\">&nbsp;<div class=\"badge\"></div><i class=\"fa fa-exclamation-circle\"></i><strong> Reality Check</strong> </div>\n",
    "<div class=\"panel-warning\"><div class=\"panel-heading\">\n",
    "    \n",
    "Based on the information given, the volume decreased. A decrease in volume means the boundary work goes into the system.  \n",
    "</div></div>"
   ]
  },
  {
   "cell_type": "markdown",
   "metadata": {},
   "source": [
    "<hr class=\"big\"/>"
   ]
  },
  {
   "cell_type": "markdown",
   "metadata": {},
   "source": [
    "![cerulean1](./figures/2019,test2,c6.png)\n",
    "\n",
    "Movement of energy driven by a temperature difference."
   ]
  },
  {
   "cell_type": "markdown",
   "metadata": {},
   "source": [
    "<hr class=\"big\"/>"
   ]
  },
  {
   "cell_type": "markdown",
   "metadata": {},
   "source": [
    "![cerulean1](./figures/2019,test2,c7.png)"
   ]
  },
  {
   "cell_type": "markdown",
   "metadata": {},
   "source": [
    "<footer style=\"background-color: #461d7c; color:rgba(253,208,35,0.35); line-height:2em; padding-left:1em; padding-right:0.5em; bottom:0; float:bottom; text-align:right;\"><i>ψᵟ</i></footer>"
   ]
  }
 ],
 "metadata": {
  "kernel_info": {
   "name": "python3"
  },
  "kernelspec": {
   "display_name": "Julia 1.0.2",
   "language": "julia",
   "name": "julia-1.0"
  },
  "language_info": {
   "file_extension": ".jl",
   "mimetype": "application/julia",
   "name": "julia",
   "version": "1.0.2"
  },
  "nteract": {
   "version": "0.11.6"
  },
  "varInspector": {
   "cols": {
    "lenName": 16,
    "lenType": 16,
    "lenVar": 40
   },
   "kernels_config": {
    "python": {
     "delete_cmd_postfix": "",
     "delete_cmd_prefix": "del ",
     "library": "var_list.py",
     "varRefreshCmd": "print(var_dic_list())"
    },
    "r": {
     "delete_cmd_postfix": ") ",
     "delete_cmd_prefix": "rm(",
     "library": "var_list.r",
     "varRefreshCmd": "cat(var_dic_list()) "
    }
   },
   "types_to_exclude": [
    "module",
    "function",
    "builtin_function_or_method",
    "instance",
    "_Feature"
   ],
   "window_display": false
  }
 },
 "nbformat": 4,
 "nbformat_minor": 2
}

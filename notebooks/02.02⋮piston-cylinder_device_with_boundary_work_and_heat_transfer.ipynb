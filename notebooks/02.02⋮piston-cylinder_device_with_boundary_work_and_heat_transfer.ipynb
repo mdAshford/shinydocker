{
 "cells": [
  {
   "cell_type": "markdown",
   "metadata": {},
   "source": [
    "<div style=\"display:inline-block; position:absolute; top:0; right:0; color: #230e3e; font:italic 1em serif;\">$\\LaTeX$<span style=\"display:inline-block; vertical-align:bottom\"><a href=\"https://www.mathjax.org\">\n",
    "    <img style=\"height:1.25em\" title=\"Powered by MathJax\"\n",
    "    src=\"https://www.mathjax.org/badge/mj_logo.png\"\n",
    "    border=\"0\" alt=\"Powered by MathJax\" />\n",
    "</a></span> </div>"
   ]
  },
  {
   "cell_type": "markdown",
   "metadata": {},
   "source": [
    "$\\require{autoload-all}$    \n",
    "<h1 style=\"background-color: #461d7c; color:white; line-height:2em; padding-left:1em\">\n",
    "Piston-Cylinder with Boundary Work and Heat Transfer</h1>"
   ]
  },
  {
   "cell_type": "markdown",
   "metadata": {},
   "source": [
    "A piston cylinder device contains 3 kg of helium at 600 &#x2103;, 300 kPa. A process takes place such that the volume of the helium increases by 50% and the pressure becomes 150 kPa. During the process the internal energy of the helium decreases by 682 kJ/kg, and the helium does 982 kJ/kg of work on the piston. Determine the amount of heat transfer that occurred during the process, in kJ, and its direction."
   ]
  },
  {
   "cell_type": "markdown",
   "metadata": {},
   "source": [
    "### Given\n",
    "A good diagram can always take the place of text.\n",
    "\n",
    "<img src=\".\\figures\\He_piston-cylinder.png\" alt=\"Hydroelectric Power Plant\" style=\"height: 20em;\">"
   ]
  },
  {
   "cell_type": "markdown",
   "metadata": {},
   "source": [
    "### Find\n",
    "   The heat transfer during this process and its direction \\[kJ\\]"
   ]
  },
  {
   "cell_type": "markdown",
   "metadata": {},
   "source": [
    "## Get Organized and Attack\n",
    "\n",
    "You must get organized before you start wildly writing equations and numbers. Determine the information that _you actually need_ in order to accomplish your goal. We define our system as the helium. The physical principle we employ is the conservation of energy, aka the First Law (of Thermodynamics). \n",
    "\n",
    "We notice a few things  \n",
    "\n",
    " - System volume changed: **boundary work!**\n",
    " - We are given the value of the boundary work; no calculation necessary.   \n",
    " >```the helium does 982 kJ/kg of work on the piston```\n",
    " - We know the system pressure, so the pressure of the surroundings is of no consequence. \n",
    "\n",
    "\n"
   ]
  },
  {
   "cell_type": "markdown",
   "metadata": {},
   "source": [
    "### Assumptions\n",
    "\n",
    "1. Frictionless piston  \n",
    "2. Heat transfer is **out** of the system  \n"
   ]
  },
  {
   "cell_type": "markdown",
   "metadata": {},
   "source": [
    "### Attack\n",
    "By the First Law,\n",
    "\n",
    "$$\\begin{align*}\n",
    "     E_{in} - E_{out} &= \\Delta E_{sys} \\\\\n",
    "       \\\\\n",
    "     - W_{b,out} - Q_{out} &= \\Delta U_{sys} \\\\\n",
    "       \\\\\n",
    "     - m_{sys}w_{b,out} - Q_{out} &= m_{sys} \\left( u_{2} - u_{1} \\right) \\\\\n",
    "       \\\\\n",
    "       Q_{out} &= - m_{sys}\\left( u_{2} - u_{1} + w_{b,out} \\right) \\\\\n",
    "       \\\\\n",
    "       Q_{out} &= - 3 \\ kg\\left(  -682 \\ kJ/kg + 982 \\ kJ/kg \\right) \\\\\n",
    "       \\\\\n",
    "       Q_{out} &= - 900 \\ kJ  \\\\\n",
    "       \\\\  \n",
    "     \\large Q_{in} &=  \\large 900 \\ kJ\n",
    "   \\end{align*}\n",
    "$$"
   ]
  },
  {
   "cell_type": "markdown",
   "metadata": {},
   "source": [
    "<div class=\"alert alert-success\">\n",
    "\n",
    "<h2>Keep in mind</h2>\n",
    "<p>\n",
    "The direction we choose for an unknown energy flow is completely arbitrary. If we chose incorrectly, the sign will be merely negative.  </p>\n",
    "</div>"
   ]
  },
  {
   "cell_type": "markdown",
   "metadata": {},
   "source": [
    "<footer style=\"background-color: #461d7c; color:rgba(253,208,35,0.35); line-height:2em; padding-left:1em; padding-right:0.5em; bottom:0; float:bottom; text-align:right;\"><i>ψᵟ</i></footer>"
   ]
  }
 ],
 "metadata": {
  "kernelspec": {
   "display_name": "Julia 1.0.0",
   "language": "julia",
   "name": "julia-1.0"
  },
  "language_info": {
   "file_extension": ".jl",
   "mimetype": "application/julia",
   "name": "julia",
   "version": "1.0.0"
  }
 },
 "nbformat": 4,
 "nbformat_minor": 2
}

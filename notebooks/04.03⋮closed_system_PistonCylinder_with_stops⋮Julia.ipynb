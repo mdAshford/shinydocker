{
 "cells": [
  {
   "cell_type": "markdown",
   "metadata": {},
   "source": [
    " <div style=\"display:inline-block; position:absolute; top:0; right:0; color: #230e3e; font:italic 1em serif;\">$\\LaTeX$<span style=\"display:inline-block; vertical-align:bottom\">\n",
    "    <a href=\"https://www.mathjax.org\">\n",
    "    <img style=\"height:1.5em\" title=\"Powered by MathJax\"\n",
    "    src=\"https://www.mathjax.org/badge/mj_logo.png\"\n",
    "    border=\"0\" alt=\"Powered by MathJax\" >\n",
    "</a></span></div>\n",
    "\n",
    "<div style=\"display:inline-block; position:absolute; top:0; left:0; color: #230e3e; font:italic 1em serif;\"><a href=\"https://www.julialang.org\">\n",
    "    <img style=\"height:2.25em; vertical-align:top\" title=\"Powered by Julia\"\n",
    "    src=\"./figures/julia-logo-mask.png\"\n",
    "    border=\"0\" alt=\"Powered by Julia\" >\n",
    "</a></div>\n",
    "</a></div>$\\require{cancel} \\require{mhchem} \\require{bbox} \\require{color} \\require{enclose} \\require{AMSmath} \\require{AMSsymbols}$"
   ]
  },
  {
   "cell_type": "markdown",
   "metadata": {},
   "source": [
    "### Given\n",
    "A mass of 5 kg of saturated liquid–vapor mixture of water is contained in a piston–cylinder device at 125 kPa. Initially, 2 kg of the water is in the liquid phase and the rest is in the vapor phase. Heat is now transferred to the water, and the piston, which is resting on a set of stops, starts moving when the pressure inside reaches 300 kPa. Heat transfer continues until the total volume increases by 20 percent. "
   ]
  },
  {
   "cell_type": "markdown",
   "metadata": {},
   "source": [
    "### Find\n",
    "Determine  \n",
    "  $\\quad$(a) the initial and final temperatures,  \n",
    "  $\\quad$(b) the mass of liquid water when the piston first starts moving,  \n",
    "  $\\quad$(c) the work done during this process, and  \n",
    "  $\\quad$(d) show the process on a P-v diagram.\n"
   ]
  },
  {
   "cell_type": "markdown",
   "metadata": {},
   "source": [
    "### Get Organized   "
   ]
  },
  {
   "cell_type": "markdown",
   "metadata": {},
   "source": [
    "First, we break the problem down into states and the processes that connect them. We are given an initial state. Heat is added at constant volume until we reach the second state, which is right before the piston lifts. More heat is added at constant pressure until we reach the final state.\n",
    "\n",
    "We also note that the only work interactions are boundary work.\n",
    "\n",
    "![Cengelboles7ed4-126](./figures/Cengelboles7ed4-126.png)\n",
    "\n",
    "Plotting the processes is also very helpful, and a habit you want to pick up.\n",
    "\n",
    "![Cengelboles7ed4-126](./figures/Cengelboles7ed4-126plot.png)\n",
    "\n"
   ]
  },
  {
   "cell_type": "markdown",
   "metadata": {},
   "source": [
    "Let's go through all the information we need to find in order to answer the questions.  \n",
    "\n",
    "#### (a) the initial and final temperatures.  \n",
    "\n",
    "$\\quad$ $T_1 = T_{sat@125\\,\\rm kPa}$   \n",
    "$\\quad$ We get $T_3$ once we resolve State ⓷\n",
    "\n",
    "\n",
    "#### (b) the mass of liquid water when the piston first starts moving,   \n",
    "$\\quad$ This is state ⓶, and $\\displaystyle m_{liquid,2} = m_{total} - m_{vapor,2} = m_{total} - x_2 m_{total} = \\left(1 - x_2 \\right)m_{total}$\n",
    "\n",
    "#### (c) the work done during this process   \n",
    "$\\quad$ $W_{total} = W_{1 \\rightarrow 2} + W_{2 \\rightarrow 3}$   \n",
    "\n",
    "$\\quad$ States ⓵ and ⓶ are connected by a constant volume process. With no volume change, there is no boundary work, so  $W_{1 \\rightarrow 2} = 0$.\n",
    "\n",
    "$\\quad$ Thus, $$ W_{total} = W_{2 \\rightarrow 3} = \\int^3_2 P_2\\, \\text dV = P_2 \\left( V_3 - V_2 \\right) = P_2m \\left( v_3 - v_2 \\right) = P_2m \\left( 1.2 v_1 - v_1 \\right) = 0.2 P_2 m v_1 $$  \n",
    "\n",
    "\n",
    "#### (d) show the process on a P-v diagram.\n",
    "$\\quad$ See above\n",
    "\n"
   ]
  },
  {
   "cell_type": "markdown",
   "metadata": {},
   "source": [
    "### Attack "
   ]
  },
  {
   "cell_type": "markdown",
   "metadata": {},
   "source": [
    " Today, we'll use Julia, with _Unitful.jl_, a package for calculation with physical units."
   ]
  },
  {
   "cell_type": "code",
   "execution_count": 1,
   "metadata": {},
   "outputs": [],
   "source": [
    "using Unitful       # Unitful units package\n",
    "const kJ = u\"kJ\"    # make shortcuts to Unitful units constructor\n",
    "const kg = u\"kg\"\n",
    "const m = u\"m\"\n",
    "const kPa = u\"kPa\"\n",
    "const °C = u\"°C\";"
   ]
  },
  {
   "cell_type": "markdown",
   "metadata": {},
   "source": [
    "#### (a) the initial and final temperatures.  \n",
    "$\\quad$ $\\color{red} T_1 = T_{sat@125\\,\\rm kPa} =   105.52\\, ℃ $ \n",
    "\n",
    "$\\quad$ We'll come back to $T_3.$"
   ]
  },
  {
   "cell_type": "markdown",
   "metadata": {},
   "source": [
    "#### (b) the mass of liquid water when the piston first starts moving     \n",
    "$\\quad$ $m_{liquid,2} = \\left(1 - x_2 \\right)m_{total}$, so we need $x_2: \\ce{H2O} \\left\\{ \\begin{align*} \\ce{P_2 \\ &= \\ 300 kPa} \\\\\n",
    "    \\ce{v_2 \\ &= \\ v_1 }\n",
    "    \\end{align*} \n",
    "    \\right.$\n",
    "\n",
    "$\\quad$ At State ⓵, $\\ce{H2O} \\left\\{ \\begin{align*} \\ce{P_1 \\ &= \\ 125 kPa} \\\\\n",
    "    x_1 \\ &= \\ 0.6 \n",
    "    \\end{align*} \n",
    "    \\right.$   \n",
    "    "
   ]
  },
  {
   "cell_type": "code",
   "execution_count": 2,
   "metadata": {},
   "outputs": [
    {
     "data": {
      "text/plain": [
       "1.7126384 m^3 kg^-1"
      ]
     },
     "execution_count": 2,
     "metadata": {},
     "output_type": "execute_result"
    }
   ],
   "source": [
    "vf_1 = (1.0432e-3 + 1.0528e-3)m^3/kg   # interpolate with target halfway between table breakpoints\n",
    "vg_1 = (1.694 + 1.159)m^3/kg\n",
    "x_1 = 3kg / 5kg\n",
    "\n",
    "v_1 = vf_1 + x_1 * (vg_1 - vf_1)"
   ]
  },
  {
   "cell_type": "markdown",
   "metadata": {},
   "source": [
    "$\\quad$ Back to finding $x_2: \\ce{H2O} \\left\\{ \\begin{align*} \\ce{P_2 \\ &= \\ 300 kPa} \\\\\n",
    "    \\ce{v_2 \\ &= \\ v_1} = 1.713\\ m^3/kg\n",
    "    \\end{align*} \n",
    "    \\right.$  \n",
    "\n",
    "$\\quad$ $v_2 = 0.6058\\, m^3/kg. \\quad  v_{g@300kPa} = 0.6058\\, m^3/kg. \\quad v_2 > v_{g@300kPa}.$   \n",
    "\n",
    "$\\quad$ Therefore, we have superheated vapor, and $ \\color{red} m_{liquid,2} = 0.$"
   ]
  },
  {
   "cell_type": "markdown",
   "metadata": {},
   "source": [
    "#### (c) the work done during this process   \n",
    "$\\quad$  $W_{total} = 0.2 P_2 m v_1$   "
   ]
  },
  {
   "cell_type": "code",
   "execution_count": 3,
   "metadata": {},
   "outputs": [
    {
     "data": {
      "text/plain": [
       "513.79152 kJ"
      ]
     },
     "execution_count": 3,
     "metadata": {},
     "output_type": "execute_result"
    }
   ],
   "source": [
    "# Calculations\n",
    "mass = 5kg\n",
    "P_2 = 300kPa\n",
    "W = 0.2 * P_2 * mass * v_1\n",
    "W |> kJ"
   ]
  },
  {
   "cell_type": "markdown",
   "metadata": {},
   "source": [
    "$\\quad$ $\\color{red} W_{total} = 513.79\\, kJ$   "
   ]
  },
  {
   "cell_type": "markdown",
   "metadata": {},
   "source": [
    "#### back to (a) and $T_3$.  "
   ]
  },
  {
   "cell_type": "code",
   "execution_count": 4,
   "metadata": {},
   "outputs": [
    {
     "data": {
      "text/plain": [
       "2.05516608 m^3 kg^-1"
      ]
     },
     "execution_count": 4,
     "metadata": {},
     "output_type": "execute_result"
    }
   ],
   "source": [
    "v_3 = 1.2 * v_1"
   ]
  },
  {
   "cell_type": "markdown",
   "metadata": {},
   "source": [
    "$\\quad$ Finding $T_3: \\ce{H2O} \\left\\{ \\begin{align*} \\ce{P_3 \\ &= \\ 300 kPa} \\\\\n",
    "    v_3 \\ &= 2.055\\ \\rm m^3/kg\n",
    "    \\end{align*} \n",
    "    \\right.$  "
   ]
  },
  {
   "cell_type": "markdown",
   "metadata": {},
   "source": [
    "$\\quad$ Unfortuately, the steam tables in your textbook do not include state ③, so I'll use different property tables to solve.  \n",
    "\n",
    "| T [℃]   | v [$m^3/kg$]  |\n",
    "| --------|:-------------:|\n",
    "| 1000    | 1.95824       |  \n",
    "| 1100    | 2.11226       | \n"
   ]
  },
  {
   "cell_type": "code",
   "execution_count": 5,
   "metadata": {},
   "outputs": [
    {
     "data": {
      "text/plain": [
       "1062.9308401506296 °C"
      ]
     },
     "execution_count": 5,
     "metadata": {},
     "output_type": "execute_result"
    }
   ],
   "source": [
    "# not in the Moran/Shapiro textbook tables\n",
    "# interpolate\n",
    "T_1000 = 1000°C\n",
    "T_1100 = 1100°C\n",
    "v_1000 = 1.95824m^3/kg\n",
    "v_1100 = 2.11226m^3/kg\n",
    "\n",
    "T_3 = T_1000 + (T_1100 - T_1000)*(v_3 - v_1000)/(v_1100 - v_1000)"
   ]
  },
  {
   "cell_type": "markdown",
   "metadata": {},
   "source": [
    "$\\quad$ $\\color{red} T_3 = 1062.93\\, \\rm °C$ "
   ]
  },
  {
   "cell_type": "markdown",
   "metadata": {},
   "source": [
    "<footer style=\"background-color: #461d7c; color:rgba(253,208,35,0.35); line-height:2em; padding-left:1em; padding-right:0.5em; bottom:0; float:bottom; text-align:right;\"><i>ψᵟ</i></footer>"
   ]
  }
 ],
 "metadata": {
  "kernelspec": {
   "display_name": "Julia 1.0.0",
   "language": "julia",
   "name": "julia-1.0"
  },
  "language_info": {
   "file_extension": ".jl",
   "mimetype": "application/julia",
   "name": "julia",
   "version": "1.0.0"
  }
 },
 "nbformat": 4,
 "nbformat_minor": 2
}

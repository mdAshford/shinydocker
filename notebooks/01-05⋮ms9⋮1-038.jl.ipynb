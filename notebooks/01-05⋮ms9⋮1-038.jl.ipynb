{
 "cells": [
  {
   "cell_type": "markdown",
   "metadata": {},
   "source": [
    " <div style=\"display:inline-block; position:absolute; top:0; right:0; color: #230e3e; font:italic 1em serif;\">$\\LaTeX$<span style=\"display:inline-block; vertical-align:bottom\">\n",
    "    <a href=\"https://www.mathjax.org\">\n",
    "    <img style=\"height:1.5em\" title=\"Powered by MathJax\"\n",
    "    src=\"https://www.mathjax.org/badge/mj_logo.png\"\n",
    "    border=\"0\" alt=\"Powered by MathJax\" >\n",
    "</a></span></div>\n",
    "<div style=\"display:inline-block; position:absolute; top:0; left:0; color: #230e3e; font:italic 1em serif;\"><a href=\"https://www.julialang.org\">\n",
    "    <img style=\"height:2.25em; vertical-align:top\" title=\"Powered by Julia\"\n",
    "    src=\"./figures/julia-logo-mask.png\"\n",
    "    border=\"0\" alt=\"Powered by Julia\" >\n",
    "</a></div>\n",
    "</a></div>$\\require{cancel} \\require{mhchem} \\require{bbox} \\require{color} \\require{enclose} \\require{AMSmath} \\require{AMSsymbols}$"
   ]
  },
  {
   "cell_type": "markdown",
   "metadata": {},
   "source": [
    "<header style=\"background-color:#e7e2ee; color:#461d7c; line-height:2em; padding-left:1em; padding-right:1em; bottom:0; float:bottom; text-align:right; float:right; font-family:serif; font-size:small;\">Problem 1.038 ⋮ Moran, Shapiro, Boettner, Bailey, <i>Fundamentals of Engineering Thermodynamics</i>, 9th edition.</header>  "
   ]
  },
  {
   "cell_type": "markdown",
   "metadata": {},
   "source": [
    "# Problem 1.038   \n",
    "\n",
    "As shown in the figure, an inclined manometer is used to measure the pressure of the gas within the reservoir. The manometer fluid is mercury, which has a density of 845 lb/ft³. The manometer fluid rises a distance\n",
    "7 inches along the manometer tube, which is inclined 30º from the horizontal. The atmospheric pressure is 14.7 lbf/in² and the acceleration of gravity is 32.2 ft/s². Determine the gas pressure, in lbf/in². Express the pressure as a gage or a vacuum pressure, as appropriate, in lbf/in².\n",
    "\n",
    "![ms9⋮1.038](./figures/ms9⋮1-038.png)"
   ]
  },
  {
   "cell_type": "code",
   "execution_count": 1,
   "metadata": {},
   "outputs": [],
   "source": [
    "# a little Julia housekeeping\n",
    "using Unitful;       # use unitful.jl units package for Julia"
   ]
  },
  {
   "cell_type": "markdown",
   "metadata": {},
   "source": [
    "## Given   \n",
    "\n",
    "Gas reservoir with manometer as described."
   ]
  },
  {
   "cell_type": "code",
   "execution_count": 2,
   "metadata": {},
   "outputs": [
    {
     "data": {
      "text/plain": [
       "7//12 ft"
      ]
     },
     "execution_count": 2,
     "metadata": {},
     "output_type": "execute_result"
    }
   ],
   "source": [
    "# given\n",
    "       ρ_Hg = 845u\"lb/ft^3\"  # some people are anal about lining up equations\n",
    "          g = 32.2u\"ft/s^2\"\n",
    "θ_manometer = 30u\"°\"\n",
    "L_manometer = (7//12)u\"ft\"  # julia has a Rational data type that treats fractions exactly"
   ]
  },
  {
   "cell_type": "markdown",
   "metadata": {},
   "source": [
    "## Find  \n",
    "\n",
    "$P_{gas}\\ [\\small \\ce{psig}]$"
   ]
  },
  {
   "cell_type": "markdown",
   "metadata": {},
   "source": [
    "## Assumptions  \n",
    "\n",
    "Elevation increases in the upward direction."
   ]
  },
  {
   "cell_type": "markdown",
   "metadata": {},
   "source": [
    "## Get Organized\n",
    "\n",
    "This is one of the few scenarios where working in gage pressure makes sense. \n",
    "We are tasked with determining the pressure difference across the gauge (our manometer). \n",
    "As always with hydrostatic pressure scenarios, we start with either a pressure we know or the pressure we seek, then traverse the manometer from that one to the other. \n",
    "We'll solve this one from both perspectives.  \n",
    "\n",
    "Remember, hydrostatic pressure is a function of **vertical** depth/elevation, so we must resolve the vertical component of the manometer length."
   ]
  },
  {
   "cell_type": "markdown",
   "metadata": {},
   "source": [
    "#### Solving with gage pressure   \n",
    "\n",
    "Our two endpoints are the pressure we seek $(P_{gas})$ and the mercury/atmosphere interface, where we know $P_{gage} = 0.$  \n",
    "\n",
    "Starting at $P_{gas},$\n",
    "\n",
    "$$\n",
    "\\begin{array}{lcc}\n",
    "  P_{gas,gage} &+& \\Delta P_\\ce{Hg} &= 0 \\\\\n",
    "  P_{gas,gage} &+& (\\rho_\\ce{Hg})(-|g|)(-L\\sin\\theta) &= 0\n",
    "\\end{array}  \\\\[18pt]\n",
    "$$  \n",
    "\n",
    "$$P_{gas,gage} = - \\rho_\\ce{Hg}|g|L\\sin\\theta $$  \n",
    "\n",
    "\n",
    "$$P_{gas,vacuum} = \\rho_\\ce{Hg}|g|L\\sin\\theta \\tag{1} \\label{gage}$$  "
   ]
  },
  {
   "cell_type": "markdown",
   "metadata": {},
   "source": [
    "#### Solving with absolute pressure   \n",
    "\n",
    "This time, our two endpoints are the pressure we seek $(P_{gas})$ and the atmosphere, where we were given $P_{atm} = 14.7\\,\\ce{psia}.$  \n",
    "\n",
    "Starting at $P_{gas},$\n",
    "\n",
    "$$\n",
    "\\begin{array}{lcc}\n",
    "  P_{gas,abs} &+& \\Delta P_\\ce{Hg} &= P_{atm} \\\\\n",
    "  P_{gas,abs} &+& (\\rho_\\ce{Hg})(-|g|)(-L\\sin\\theta) &= P_{atm} \\\\\n",
    "\\end{array}  \\\\[18pt]\n",
    "$$   \n",
    "\n",
    "$$\n",
    "\\begin{array}{ccc}\n",
    "  P_{gas,abs} &=& P_{atm} - \\rho_\\ce{Hg}|g|L\\sin\\theta \\\\\n",
    "  P_{gas,gage} + \\cancel{P_{atm}} &=& \\cancel{P_{atm}} - \\rho_\\ce{Hg}|g|L\\sin\\theta \n",
    "\\end{array}  \\\\[18pt]\n",
    "$$  \n",
    "\n",
    "\\begin{array}{rr}\n",
    "P_{gas,gage} &= - \\rho_\\ce{Hg}|g|L\\sin\\theta     \\\\\n",
    "P_{gas,vacuum} &= \\phantom{-} \\rho_\\ce{Hg}|g|L\\sin\\theta \\tag{2} \\label{abs}\n",
    "\\end{array}  \n",
    "\n",
    "That's the same result we obtained in Eq.1 earlier."
   ]
  },
  {
   "cell_type": "markdown",
   "metadata": {},
   "source": [
    "## Attack   \n",
    "\n",
    "We're organized and calm and ready to find everything we're supposed to find.  "
   ]
  },
  {
   "cell_type": "code",
   "execution_count": 3,
   "metadata": {},
   "outputs": [
    {
     "name": "stdout",
     "output_type": "stream",
     "text": [
      "P_gas_vacuum = 1.7128967050136623 lbf inch^-2\n"
     ]
    }
   ],
   "source": [
    "P_gas_vacuum = ρ_Hg * g * L_manometer * sin(θ_manometer) |> u\"lbf/inch^2\"\n",
    "\n",
    "println(\"P_gas_vacuum = \",P_gas_vacuum)"
   ]
  },
  {
   "cell_type": "markdown",
   "metadata": {},
   "source": [
    "$$ \n",
    "\\bbox[#dff0d8, 0.5em, border:2.5pt solid #4cae4c]{\n",
    "\\color{#3c763d}\n",
    "P_\\text{gas,vacuum} = 1.713\\, \\small \\ce{psig}\n",
    "}\n",
    "$$"
   ]
  },
  {
   "cell_type": "markdown",
   "metadata": {},
   "source": [
    "<div class=\"btn-info\">&nbsp;<div class=\"badge\"></div><i class=\"fa fa-code\"></i><strong> Julia Notes</strong></div>\n",
    "<div class=\"panel-info\"><div class=\"panel-heading\">   \n",
    "\n",
    "1. Julia allows unicode characters in variable names, eg: `𝛀𝚿𝚽 = 1911`, or `Δ𝑓ℎ̅°_Al₂O₃ᶜᴿ = -1675.700kJ/mol`.\n",
    "1. Julia has a built-in constant `π`, also known as `pi`. Julia, like all computer languages, performs calculations and stores values at various levels of precision. Higher precision means slower computation and more memory consumption. Life is a series of compromises.\n",
    "</div></div>"
   ]
  },
  {
   "cell_type": "code",
   "execution_count": 4,
   "metadata": {},
   "outputs": [
    {
     "name": "stdout",
     "output_type": "stream",
     "text": [
      "π = 3.1415926535897...\n",
      "\n",
      "acos(-1.0) = 3.141592653589793\n",
      "\n",
      "π - acos(-1.0) = 0.0\n",
      "\n",
      "π == acos(-1)? false\n"
     ]
    }
   ],
   "source": [
    "# fun with calculation precision\n",
    "\n",
    "# julia built-in constant\n",
    "println(π) \n",
    "println()\n",
    "\n",
    "# popular simple trigonometric method to obtain a value for π in\n",
    "# languages lacking a built-in π constant\n",
    "println(\"acos(-1.0) = \",acos(-1.0))\n",
    "println()\n",
    "\n",
    "# compare\n",
    "println(\"π - acos(-1.0) = \",π - acos(-1.0))\n",
    "println()\n",
    "\n",
    "# compare another way\n",
    "println(\"π == acos(-1)? \",π == acos(-1))"
   ]
  },
  {
   "cell_type": "markdown",
   "metadata": {},
   "source": [
    "<div class=\"panel-info\"><div class=\"panel-heading\">   \n",
    "    \n",
    "3. The difference doesn't matter for us now, but it is a huge factor in equality comparisons, and it could become a factor in an application with repetitive calculations. All numeric calculations inherently have these slight quirky errors.\n",
    "</div></div>"
   ]
  },
  {
   "cell_type": "markdown",
   "metadata": {},
   "source": [
    "<footer style=\"background-color: #461d7c; color:rgba(253,208,35,0.35); line-height:2em; padding-left:1em; padding-right:0.5em; bottom:0; float:bottom; text-align:right;\"><i>ψᵟ</i></footer>"
   ]
  }
 ],
 "metadata": {
  "kernelspec": {
   "display_name": "Julia 1.0.2",
   "language": "julia",
   "name": "julia-1.0"
  },
  "language_info": {
   "file_extension": ".jl",
   "mimetype": "application/julia",
   "name": "julia",
   "version": "1.0.2"
  }
 },
 "nbformat": 4,
 "nbformat_minor": 2
}

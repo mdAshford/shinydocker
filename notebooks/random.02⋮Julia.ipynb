{
 "cells": [
  {
   "cell_type": "markdown",
   "metadata": {},
   "source": [
    " <div style=\"display:inline-block; position:absolute; top:0; right:0; color: #230e3e; font:italic 1em serif;\">$\\LaTeX$<span style=\"display:inline-block; vertical-align:bottom\">\n",
    "    <a href=\"https://www.mathjax.org\">\n",
    "    <img style=\"height:1.5em\" title=\"Powered by MathJax\"\n",
    "    src=\"https://www.mathjax.org/badge/mj_logo.png\"\n",
    "    border=\"0\" alt=\"Powered by MathJax\" >\n",
    "</a></span></div>\n",
    "\n",
    "<div style=\"display:inline-block; position:absolute; top:0; left:0; color: #230e3e; font:italic 1em serif;\"><a href=\"https://www.julialang.org\">\n",
    "    <img style=\"height:2.25em; vertical-align:top\" title=\"Powered by Julia\"\n",
    "    src=\"./figures/julia-logo-mask.png\"\n",
    "    border=\"0\" alt=\"Powered by Julia\" >\n",
    "</a></div>\n",
    "</a></div>$\\require{cancel} \\require{mhchem} \\require{bbox} \\require{color} \\require{enclose} \\require{AMSmath} \\require{AMSsymbols}$"
   ]
  },
  {
   "cell_type": "markdown",
   "metadata": {},
   "source": [
    "**R-134a is throttled through a porous plug from a saturated liquid at 35 °C to a final state where the pressure is 1.5 bar. Determine the final temperature, and the physical state of the fluid at the exit.** "
   ]
  },
  {
   "cell_type": "markdown",
   "metadata": {},
   "source": [
    "### Get Organized and Attack\n",
    "\n",
    "Here is what we are given as states and process. We know throttles are isenthalpic, so we express that relationship as well.   \n",
    "\n",
    " $\\text{R-134a} \\left| \\begin{align*} \n",
    "  T_{1} &= 35\\, \\ce{°C} \\\\[0pt]\n",
    "  x_{1} &= \\text{sat liquid} \n",
    " \\end{align*}\\right|\n",
    " \\xrightarrow{\\text{isenthalpic}}\n",
    " $\n",
    " $\\left| \\begin{align*} \n",
    "  P_{2} &= 1.5\\, \\ce{bar} \\\\[0pt]\n",
    "  h_2 &= h_1\n",
    " \\end{align*}\\right|\n",
    " $\n"
   ]
  },
  {
   "cell_type": "markdown",
   "metadata": {},
   "source": [
    "Once we get State_1 ($h_1$), we have enough information to resolve State_2 ($h_2=h_1$), and we're done. "
   ]
  },
  {
   "cell_type": "code",
   "execution_count": 1,
   "metadata": {
    "scrolled": true
   },
   "outputs": [
    {
     "name": "stdout",
     "output_type": "stream",
     "text": [
      "h2 = h1 = 98.78 kJ/kg\n",
      "\n",
      "h2f = 27.775 kJ/kg\n",
      "h2g = 237.005 kJ/kg\n"
     ]
    }
   ],
   "source": [
    "# STATE 1\n",
    "println(\"h2 = h1 = \",(97.31 + 100.25)/2,\" kJ/kg\")\n",
    "println()\n",
    "\n",
    "# STATE 2\n",
    "println(\"h2f = \", (25.77 + 29.78)/2,\" kJ/kg\")\n",
    "println(\"h2g = \", (236.04 + 237.97)/2,\" kJ/kg\")"
   ]
  },
  {
   "cell_type": "markdown",
   "metadata": {},
   "source": [
    "<div class=\"panel-success\"><div class=\"panel-heading\"><div class=\"badge\"></div> $$\\ \\normalsize h_f < h_2 < h_g \\\\  \\therefore \\text{saturated mixture} $$\n",
    "</div></div>"
   ]
  },
  {
   "cell_type": "markdown",
   "metadata": {},
   "source": [
    "<footer style=\"background-color: #461d7c; color:rgba(253,208,35,0.35); line-height:2em; padding-left:1em; padding-right:0.5em; bottom:0; float:bottom; text-align:right;\"><i>ψᵟ</i></footer>"
   ]
  }
 ],
 "metadata": {
  "kernelspec": {
   "display_name": "Julia 1.0.2",
   "language": "julia",
   "name": "julia-1.0"
  },
  "language_info": {
   "file_extension": ".jl",
   "mimetype": "application/julia",
   "name": "julia",
   "version": "1.0.2"
  }
 },
 "nbformat": 4,
 "nbformat_minor": 2
}

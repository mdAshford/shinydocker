{
 "cells": [
  {
   "cell_type": "markdown",
   "metadata": {},
   "source": [
    " <div style=\"display:inline-block; position:absolute; top:0; right:0; color: #230e3e; font:italic 1em serif;\">$\\LaTeX$<span style=\"display:inline-block; vertical-align:bottom\">\n",
    "    <a href=\"https://www.mathjax.org\">\n",
    "    <img style=\"height:1.5em\" title=\"Powered by MathJax\"\n",
    "    src=\"https://www.mathjax.org/badge/mj_logo.png\"\n",
    "    border=\"0\" alt=\"Powered by MathJax\" >\n",
    "</a></span></div>\n",
    "<div style=\"display:inline-block; position:absolute; top:0; left:0; color: #230e3e; font:italic 1em serif;\"><a href=\"https://www.julialang.org\">\n",
    "    <img style=\"height:2.25em; vertical-align:top\" title=\"Powered by Julia\"\n",
    "    src=\"./figures/julia-logo-mask.png\"\n",
    "    border=\"0\" alt=\"Powered by Julia\" >\n",
    "\n",
    "</a></div>$\\require{cancel} \\require{mhchem} \\require{bbox} \\require{color} \\require{enclose} \\require{AMSmath} \\require{AMSsymbols}$ \n",
    "\n"
   ]
  },
  {
   "cell_type": "code",
   "execution_count": 12,
   "metadata": {},
   "outputs": [
    {
     "data": {
      "text/html": [
       "<link rel='stylesheet' href='./css/youcan-how-your-grade-is-calculated.css' type='text/css' charset='utf-8' />"
      ],
      "text/plain": [
       "HTML{String}(\"<link rel='stylesheet' href='./css/youcan-how-your-grade-is-calculated.css' type='text/css' charset='utf-8' />\")"
      ]
     },
     "execution_count": 12,
     "metadata": {},
     "output_type": "execute_result"
    }
   ],
   "source": [
    "## Jupyter notebook housekeeping\n",
    "HTML(\"<link rel='stylesheet' href='./css/youcan-how-your-grade-is-calculated.css' type='text/css' charset='utf-8' />\")"
   ]
  },
  {
   "cell_type": "code",
   "execution_count": 11,
   "metadata": {},
   "outputs": [],
   "source": [
    "using Plots\n",
    "plotly();"
   ]
  },
  {
   "cell_type": "markdown",
   "metadata": {},
   "source": [
    "# How your grade is calculated.\n",
    "\n",
    "Your grade is a weighted average of your Tests, Homework, and Final Exam scores, as follows:  \n",
    "\n",
    "\n",
    "\\begin{gather}  \\notag\n",
    " \\textbf{GRADE} = 50 \\times \\textbf{TEST} + 25 \\times \\textbf{HOMEWORKS} + 25 \\times \\textbf{FINAL}\n",
    "\\end{gather}\n",
    "\n",
    "Here is how it works, with a demo example. Farther down the page are live cells that you can use with your numbers.  \n",
    " \n",
    "**HOMEWORKS** comes straight from WileyPLUS. `homeworks = 0.98`\n",
    "```julia\n",
    "homeworks = 0.98\n",
    "```\n",
    "**FINAL** is self-explanatory.\n",
    "```julia\n",
    "final = 0.95\n",
    "```\n",
    "**TESTS** requires a few intermediate calculations:\n",
    "```julia\n",
    "T = [83; 71; 89; 97] / 100\n",
    "```\n",
    "1. This drops the lowest test score, then calcuates the average.  \n",
    "$ \\qquad \\small\n",
    "\\begin{gather} \\notag \\\\ \\notag\n",
    "\\textbf{DROP} = \\frac{\\text{sum} \\left\\{T_1, T_2, T_3, T_4 \\right\\} - \\text{minimum} \\left\\{T_1, T_2, T_3, T_4 \\right\\}}{3}\n",
    "\\end{gather}\n",
    "$  \n",
    "```julia\n",
    "drop = (sum(T) - minimum(T)) / 3\n",
    "```\n",
    "1. This replaces the lowest test score with FINAL if FINAL > lowest score, then calcuates the average. \n",
    "$ \\qquad \\small\n",
    "\\begin{gather} \\notag \\\\ \\notag\n",
    "\\textbf{REPLACE} = \\frac{\\text{sum} \\left\\{T_1, T_2, T_3, T_4, \\textbf{FINAL} \\right\\} - \\text{minimum} \\left\\{T_1, T_2, T_3, T_4,\\textbf{FINAL} \\right\\}}{4}\n",
    "\\end{gather} \n",
    "$  \n",
    "```julia\n",
    "replace = (sum([T; final]) - minimum([T; final]))/4  \n",
    "```\n",
    "1. Wrapping up,  \n",
    "$ \\qquad \\small\n",
    "\\begin{gather} \\notag \\\\ \\notag\n",
    "\\textbf{TESTS} \\text{ = maximum\\{} \\textbf{DROP, REPLACE} \\}\n",
    "\\end{gather}\n",
    "$  \n",
    "```julia\n",
    "tests = max(drop, replace)\n",
    "```\n",
    "\n",
    "**GRADE** incorporates the weighted average.  \n",
    "$ \\qquad \\small\n",
    "\\begin{gather} \\notag \\\\ \\notag\n",
    " \\textbf{GRADE} = 50 \\times \\textbf{TEST} + 25 \\times \\textbf{HOMEWORKS} + 25 \\times \\textbf{FINAL}\n",
    "\\end{gather}\n",
    "$ \n",
    "```julia\n",
    "grade = 25*homeworks + 50*tests + 25*final\n",
    "```\n",
    "\n",
    "**LETTER GRADE** comes from this lookup table.  \n",
    "\n",
    "score|97|92|90|87|82|80|77|72|70|67|62|60|0\n",
    "-----|--|--|--|--|--|--|--|--|--|--|--|--|-\n",
    "grade|A+|A |A-|B+|B |B-|C+|C |C-|D+|D |D-|F\n",
    "\n",
    "\n"
   ]
  },
  {
   "cell_type": "markdown",
   "metadata": {},
   "source": [
    "<hr class=\"little\" />"
   ]
  },
  {
   "cell_type": "code",
   "execution_count": 10,
   "metadata": {},
   "outputs": [],
   "source": [
    "# MUST execute this cell before looking up a letter grade!\n",
    "\n",
    "\"\"\"\n",
    "the good\n",
    "\"\"\"\n",
    "function letter_grade(score)\n",
    "    lg_map = [97 \"A+\"; 92 \"A\"; 90 \"A-\"; 87 \"B+\"; 82 \"B\"; 80 \"B-\"; 77 \"C+\"; \n",
    "        72 \"C\"; 70 \"C-\"; 67 \"D+\"; 62 \"D\"; 60 \"D-\"; 0 \"F\"]\n",
    "    (lg_map[findfirst(floor(score+0.5) .>= lg_map[:,1] ),2] , \n",
    "        numberline(score,lg_map) )\n",
    "end\n",
    "\n",
    "\n",
    "\"\"\"\n",
    "the bad\n",
    "\"\"\"\n",
    "function composite(homeworks,final,T)\n",
    "    length(T) > 1 || println(                       # if there's only one test, print message, exit\n",
    "        \"error! mininum 2 tests req'd. \",\n",
    "        \"no substituton performed\")    \n",
    "    drop = (sum(T) - minimum(T)) / (length(T)-1)                 # average ⋮ largest n-1 scores, where n = # of tests\n",
    "    replace = (sum([T; final]) - minimum([T; final]))/length(T)  # average \n",
    "    tests = max(drop, replace)\n",
    "    \n",
    "    # calculate the answer, rounded to 3 decimals\n",
    "    floor((25*homeworks + 50*tests + 25*final) * 1000 + 0.5) / 1000\n",
    "end\n",
    "\n",
    "\n",
    "\"\"\"\n",
    "the ugly\n",
    "\"\"\"\n",
    "function numberline(score,lg_map)\n",
    "    scatter([grade],[0.2], \n",
    "        yaxis = false,\n",
    "        size=(600,150),\n",
    "        ylim=(0,0.45),\n",
    "        markershape=:circle,\n",
    "        legend=:none,\n",
    "        markeralpha = 0.15,\n",
    "        markerstrokealpha = 1,\n",
    "        markercolor = :red,\n",
    "        markerstrokecolor = :red)\n",
    "\n",
    "    scatter!(lg_map[1:end-1,1],ones(size(lg_map,1)-1)*0.4,\n",
    "        xticks = lg_map[1:end-1,1], \n",
    "    #     annotations = lg_map[1:end-1,2]), \n",
    "        marker=0.01,\n",
    "        grid=:off,\n",
    "        tickfontsize=9,\n",
    "        aspect_ratio=5)\n",
    "\n",
    "    annotate!(lg_map[1:end-1,1], ones(size(lg_map,1)-1)*0.45, \n",
    "        lg_map[1:end-1,2],9)\n",
    "end\n",
    ";"
   ]
  },
  {
   "cell_type": "markdown",
   "metadata": {},
   "source": [
    "<hr class=\"big\" />"
   ]
  },
  {
   "cell_type": "code",
   "execution_count": 13,
   "metadata": {},
   "outputs": [
    {
     "data": {
      "application/vnd.plotly.v1+json": {
       "data": [
        {
         "colorbar": {
          "title": ""
         },
         "hoverinfo": "text",
         "legendgroup": "y1",
         "marker": {
          "color": "rgba(255, 0, 0, 0.150)",
          "line": {
           "color": "rgba(255, 0, 0, 1.000)",
           "width": 1
          },
          "size": 8,
          "symbol": "circle"
         },
         "mode": "markers",
         "name": "y1",
         "showlegend": true,
         "text": [
          null
         ],
         "type": "scatter",
         "x": [
          79.25
         ],
         "xaxis": "x1",
         "y": [
          0.2
         ],
         "yaxis": "y1",
         "zmax": 0.1,
         "zmin": -0.1
        },
        {
         "colorbar": {
          "title": ""
         },
         "hoverinfo": "text",
         "legendgroup": "y2",
         "marker": {
          "color": "rgba(227, 111, 71, 0.010)",
          "line": {
           "color": "rgba(0, 0, 0, 0.010)",
           "width": 1
          },
          "size": 8,
          "symbol": "circle"
         },
         "mode": "markers",
         "name": "y2",
         "showlegend": true,
         "text": [
          null,
          null,
          null,
          null,
          null,
          null,
          null,
          null,
          null,
          null,
          null,
          null
         ],
         "type": "scatter",
         "x": [
          97,
          92,
          90,
          87,
          82,
          80,
          77,
          72,
          70,
          67,
          62,
          60
         ],
         "xaxis": "x1",
         "y": [
          0.4,
          0.4,
          0.4,
          0.4,
          0.4,
          0.4,
          0.4,
          0.4,
          0.4,
          0.4,
          0.4,
          0.4
         ],
         "yaxis": "y1",
         "zmax": 0.1,
         "zmin": -0.1
        }
       ],
       "layout": {
        "annotations": [
         {
          "font": {
           "color": "rgba(0, 0, 0, 1.000)",
           "family": "sans-serif",
           "size": 13
          },
          "rotation": 0,
          "showarrow": false,
          "text": "A+",
          "x": 97,
          "xanchor": "center",
          "xref": "x",
          "y": 0.45,
          "yanchor": "middle",
          "yref": "y"
         },
         {
          "font": {
           "color": "rgba(0, 0, 0, 1.000)",
           "family": "sans-serif",
           "size": 13
          },
          "rotation": 0,
          "showarrow": false,
          "text": "A",
          "x": 92,
          "xanchor": "center",
          "xref": "x",
          "y": 0.45,
          "yanchor": "middle",
          "yref": "y"
         },
         {
          "font": {
           "color": "rgba(0, 0, 0, 1.000)",
           "family": "sans-serif",
           "size": 13
          },
          "rotation": 0,
          "showarrow": false,
          "text": "A-",
          "x": 90,
          "xanchor": "center",
          "xref": "x",
          "y": 0.45,
          "yanchor": "middle",
          "yref": "y"
         },
         {
          "font": {
           "color": "rgba(0, 0, 0, 1.000)",
           "family": "sans-serif",
           "size": 13
          },
          "rotation": 0,
          "showarrow": false,
          "text": "B+",
          "x": 87,
          "xanchor": "center",
          "xref": "x",
          "y": 0.45,
          "yanchor": "middle",
          "yref": "y"
         },
         {
          "font": {
           "color": "rgba(0, 0, 0, 1.000)",
           "family": "sans-serif",
           "size": 13
          },
          "rotation": 0,
          "showarrow": false,
          "text": "B",
          "x": 82,
          "xanchor": "center",
          "xref": "x",
          "y": 0.45,
          "yanchor": "middle",
          "yref": "y"
         },
         {
          "font": {
           "color": "rgba(0, 0, 0, 1.000)",
           "family": "sans-serif",
           "size": 13
          },
          "rotation": 0,
          "showarrow": false,
          "text": "B-",
          "x": 80,
          "xanchor": "center",
          "xref": "x",
          "y": 0.45,
          "yanchor": "middle",
          "yref": "y"
         },
         {
          "font": {
           "color": "rgba(0, 0, 0, 1.000)",
           "family": "sans-serif",
           "size": 13
          },
          "rotation": 0,
          "showarrow": false,
          "text": "C+",
          "x": 77,
          "xanchor": "center",
          "xref": "x",
          "y": 0.45,
          "yanchor": "middle",
          "yref": "y"
         },
         {
          "font": {
           "color": "rgba(0, 0, 0, 1.000)",
           "family": "sans-serif",
           "size": 13
          },
          "rotation": 0,
          "showarrow": false,
          "text": "C",
          "x": 72,
          "xanchor": "center",
          "xref": "x",
          "y": 0.45,
          "yanchor": "middle",
          "yref": "y"
         },
         {
          "font": {
           "color": "rgba(0, 0, 0, 1.000)",
           "family": "sans-serif",
           "size": 13
          },
          "rotation": 0,
          "showarrow": false,
          "text": "C-",
          "x": 70,
          "xanchor": "center",
          "xref": "x",
          "y": 0.45,
          "yanchor": "middle",
          "yref": "y"
         },
         {
          "font": {
           "color": "rgba(0, 0, 0, 1.000)",
           "family": "sans-serif",
           "size": 13
          },
          "rotation": 0,
          "showarrow": false,
          "text": "D+",
          "x": 67,
          "xanchor": "center",
          "xref": "x",
          "y": 0.45,
          "yanchor": "middle",
          "yref": "y"
         },
         {
          "font": {
           "color": "rgba(0, 0, 0, 1.000)",
           "family": "sans-serif",
           "size": 13
          },
          "rotation": 0,
          "showarrow": false,
          "text": "D",
          "x": 62,
          "xanchor": "center",
          "xref": "x",
          "y": 0.45,
          "yanchor": "middle",
          "yref": "y"
         },
         {
          "font": {
           "color": "rgba(0, 0, 0, 1.000)",
           "family": "sans-serif",
           "size": 13
          },
          "rotation": 0,
          "showarrow": false,
          "text": "D-",
          "x": 60,
          "xanchor": "center",
          "xref": "x",
          "y": 0.45,
          "yanchor": "middle",
          "yref": "y"
         }
        ],
        "height": 150,
        "margin": {
         "b": 20,
         "l": 0,
         "r": 0,
         "t": 20
        },
        "paper_bgcolor": "rgba(255, 255, 255, 1.000)",
        "plot_bgcolor": "rgba(255, 255, 255, 1.000)",
        "showlegend": false,
        "width": 600,
        "xaxis": {
         "anchor": "y1",
         "domain": [
          0.05656167979002625,
          0.9934383202099737
         ],
         "gridcolor": "rgba(0, 0, 0, 0.100)",
         "gridwidth": 0.5,
         "linecolor": "rgba(0, 0, 0, 1.000)",
         "mirror": false,
         "range": [
          58.89,
          98.11
         ],
         "showgrid": false,
         "showline": true,
         "showticklabels": true,
         "tickangle": 0,
         "tickcolor": "rgb(0, 0, 0)",
         "tickfont": {
          "color": "rgba(0, 0, 0, 1.000)",
          "family": "sans-serif",
          "size": 13
         },
         "tickmode": "array",
         "ticks": "inside",
         "ticktext": [
          "97",
          "92",
          "90",
          "87",
          "82",
          "80",
          "77",
          "72",
          "70",
          "67",
          "62",
          "60"
         ],
         "tickvals": [
          97,
          92,
          90,
          87,
          82,
          80,
          77,
          72,
          70,
          67,
          62,
          60
         ],
         "title": "",
         "titlefont": {
          "color": "rgba(0, 0, 0, 1.000)",
          "family": "sans-serif",
          "size": 15
         },
         "type": "-",
         "visible": true,
         "zeroline": false,
         "zerolinecolor": "rgba(0, 0, 0, 1.000)"
        },
        "yaxis": {
         "anchor": "x1",
         "domain": [
          0.43417189660318467,
          0.6491614367301487
         ],
         "gridcolor": "rgba(0, 0, 0, 0.100)",
         "gridwidth": 0.5,
         "linecolor": "rgba(0, 0, 0, 1.000)",
         "mirror": false,
         "range": [
          0,
          0.45
         ],
         "showgrid": false,
         "showline": false,
         "showticklabels": false,
         "tickangle": 0,
         "tickcolor": "rgba(0, 0, 0, 0.000)",
         "tickfont": {
          "color": "rgba(0, 0, 0, 1.000)",
          "family": "sans-serif",
          "size": 13
         },
         "tickmode": "array",
         "ticks": "inside",
         "ticktext": [
          "0.0",
          "0.1",
          "0.2",
          "0.3",
          "0.4"
         ],
         "tickvals": [
          0,
          0.1,
          0.2,
          0.30000000000000004,
          0.4
         ],
         "title": "",
         "titlefont": {
          "color": "rgba(0, 0, 0, 1.000)",
          "family": "sans-serif",
          "size": 15
         },
         "type": "-",
         "visible": true,
         "zeroline": false,
         "zerolinecolor": "rgba(0, 0, 0, 1.000)"
        }
       }
      },
      "text/html": [
       "    <div id=\"7721fc47-0298-4a11-9b98-580f97fda074\" style=\"width:600px;height:150px;\"></div>\n",
       "    <script>\n",
       "    PLOT = document.getElementById('7721fc47-0298-4a11-9b98-580f97fda074');\n",
       "    Plotly.plot(PLOT, [{\"xaxis\":\"x1\",\"colorbar\":{\"title\":\"\"},\"yaxis\":\"y1\",\"text\":[null],\"x\":[79.25],\"showlegend\":true,\"mode\":\"markers\",\"name\":\"y1\",\"zmin\":-0.1,\"legendgroup\":\"y1\",\"marker\":{\"symbol\":\"circle\",\"color\":\"rgba(255, 0, 0, 0.150)\",\"line\":{\"color\":\"rgba(255, 0, 0, 1.000)\",\"width\":1},\"size\":8},\"zmax\":0.1,\"y\":[0.2],\"type\":\"scatter\",\"hoverinfo\":\"text\"},{\"xaxis\":\"x1\",\"colorbar\":{\"title\":\"\"},\"yaxis\":\"y1\",\"text\":[null,null,null,null,null,null,null,null,null,null,null,null],\"x\":[97.0,92.0,90.0,87.0,82.0,80.0,77.0,72.0,70.0,67.0,62.0,60.0],\"showlegend\":true,\"mode\":\"markers\",\"name\":\"y2\",\"zmin\":-0.1,\"legendgroup\":\"y2\",\"marker\":{\"symbol\":\"circle\",\"color\":\"rgba(227, 111, 71, 0.010)\",\"line\":{\"color\":\"rgba(0, 0, 0, 0.010)\",\"width\":1},\"size\":8},\"zmax\":0.1,\"y\":[0.4,0.4,0.4,0.4,0.4,0.4,0.4,0.4,0.4,0.4,0.4,0.4],\"type\":\"scatter\",\"hoverinfo\":\"text\"}], {\"showlegend\":false,\"xaxis\":{\"showticklabels\":true,\"gridwidth\":0.5,\"tickvals\":[97.0,92.0,90.0,87.0,82.0,80.0,77.0,72.0,70.0,67.0,62.0,60.0],\"visible\":true,\"ticks\":\"inside\",\"range\":[58.89,98.11],\"domain\":[0.05656167979002625,0.9934383202099737],\"tickmode\":\"array\",\"linecolor\":\"rgba(0, 0, 0, 1.000)\",\"showgrid\":false,\"title\":\"\",\"mirror\":false,\"tickangle\":0,\"showline\":true,\"gridcolor\":\"rgba(0, 0, 0, 0.100)\",\"titlefont\":{\"color\":\"rgba(0, 0, 0, 1.000)\",\"family\":\"sans-serif\",\"size\":15},\"tickcolor\":\"rgb(0, 0, 0)\",\"ticktext\":[\"97\",\"92\",\"90\",\"87\",\"82\",\"80\",\"77\",\"72\",\"70\",\"67\",\"62\",\"60\"],\"zeroline\":false,\"type\":\"-\",\"tickfont\":{\"color\":\"rgba(0, 0, 0, 1.000)\",\"family\":\"sans-serif\",\"size\":13},\"zerolinecolor\":\"rgba(0, 0, 0, 1.000)\",\"anchor\":\"y1\"},\"paper_bgcolor\":\"rgba(255, 255, 255, 1.000)\",\"annotations\":[{\"yanchor\":\"middle\",\"xanchor\":\"center\",\"rotation\":-0.0,\"y\":0.45,\"font\":{\"color\":\"rgba(0, 0, 0, 1.000)\",\"family\":\"sans-serif\",\"size\":13},\"yref\":\"y\",\"showarrow\":false,\"text\":\"A+\",\"xref\":\"x\",\"x\":97},{\"yanchor\":\"middle\",\"xanchor\":\"center\",\"rotation\":-0.0,\"y\":0.45,\"font\":{\"color\":\"rgba(0, 0, 0, 1.000)\",\"family\":\"sans-serif\",\"size\":13},\"yref\":\"y\",\"showarrow\":false,\"text\":\"A\",\"xref\":\"x\",\"x\":92},{\"yanchor\":\"middle\",\"xanchor\":\"center\",\"rotation\":-0.0,\"y\":0.45,\"font\":{\"color\":\"rgba(0, 0, 0, 1.000)\",\"family\":\"sans-serif\",\"size\":13},\"yref\":\"y\",\"showarrow\":false,\"text\":\"A-\",\"xref\":\"x\",\"x\":90},{\"yanchor\":\"middle\",\"xanchor\":\"center\",\"rotation\":-0.0,\"y\":0.45,\"font\":{\"color\":\"rgba(0, 0, 0, 1.000)\",\"family\":\"sans-serif\",\"size\":13},\"yref\":\"y\",\"showarrow\":false,\"text\":\"B+\",\"xref\":\"x\",\"x\":87},{\"yanchor\":\"middle\",\"xanchor\":\"center\",\"rotation\":-0.0,\"y\":0.45,\"font\":{\"color\":\"rgba(0, 0, 0, 1.000)\",\"family\":\"sans-serif\",\"size\":13},\"yref\":\"y\",\"showarrow\":false,\"text\":\"B\",\"xref\":\"x\",\"x\":82},{\"yanchor\":\"middle\",\"xanchor\":\"center\",\"rotation\":-0.0,\"y\":0.45,\"font\":{\"color\":\"rgba(0, 0, 0, 1.000)\",\"family\":\"sans-serif\",\"size\":13},\"yref\":\"y\",\"showarrow\":false,\"text\":\"B-\",\"xref\":\"x\",\"x\":80},{\"yanchor\":\"middle\",\"xanchor\":\"center\",\"rotation\":-0.0,\"y\":0.45,\"font\":{\"color\":\"rgba(0, 0, 0, 1.000)\",\"family\":\"sans-serif\",\"size\":13},\"yref\":\"y\",\"showarrow\":false,\"text\":\"C+\",\"xref\":\"x\",\"x\":77},{\"yanchor\":\"middle\",\"xanchor\":\"center\",\"rotation\":-0.0,\"y\":0.45,\"font\":{\"color\":\"rgba(0, 0, 0, 1.000)\",\"family\":\"sans-serif\",\"size\":13},\"yref\":\"y\",\"showarrow\":false,\"text\":\"C\",\"xref\":\"x\",\"x\":72},{\"yanchor\":\"middle\",\"xanchor\":\"center\",\"rotation\":-0.0,\"y\":0.45,\"font\":{\"color\":\"rgba(0, 0, 0, 1.000)\",\"family\":\"sans-serif\",\"size\":13},\"yref\":\"y\",\"showarrow\":false,\"text\":\"C-\",\"xref\":\"x\",\"x\":70},{\"yanchor\":\"middle\",\"xanchor\":\"center\",\"rotation\":-0.0,\"y\":0.45,\"font\":{\"color\":\"rgba(0, 0, 0, 1.000)\",\"family\":\"sans-serif\",\"size\":13},\"yref\":\"y\",\"showarrow\":false,\"text\":\"D+\",\"xref\":\"x\",\"x\":67},{\"yanchor\":\"middle\",\"xanchor\":\"center\",\"rotation\":-0.0,\"y\":0.45,\"font\":{\"color\":\"rgba(0, 0, 0, 1.000)\",\"family\":\"sans-serif\",\"size\":13},\"yref\":\"y\",\"showarrow\":false,\"text\":\"D\",\"xref\":\"x\",\"x\":62},{\"yanchor\":\"middle\",\"xanchor\":\"center\",\"rotation\":-0.0,\"y\":0.45,\"font\":{\"color\":\"rgba(0, 0, 0, 1.000)\",\"family\":\"sans-serif\",\"size\":13},\"yref\":\"y\",\"showarrow\":false,\"text\":\"D-\",\"xref\":\"x\",\"x\":60}],\"height\":150,\"margin\":{\"l\":0,\"b\":20,\"r\":0,\"t\":20},\"plot_bgcolor\":\"rgba(255, 255, 255, 1.000)\",\"yaxis\":{\"showticklabels\":false,\"gridwidth\":0.5,\"tickvals\":[0.0,0.1,0.2,0.30000000000000004,0.4],\"visible\":true,\"ticks\":\"inside\",\"range\":[0.0,0.45],\"domain\":[0.43417189660318467,0.6491614367301487],\"tickmode\":\"array\",\"linecolor\":\"rgba(0, 0, 0, 1.000)\",\"showgrid\":false,\"title\":\"\",\"mirror\":false,\"tickangle\":0,\"showline\":false,\"gridcolor\":\"rgba(0, 0, 0, 0.100)\",\"titlefont\":{\"color\":\"rgba(0, 0, 0, 1.000)\",\"family\":\"sans-serif\",\"size\":15},\"tickcolor\":\"rgba(0, 0, 0, 0.000)\",\"ticktext\":[\"0.0\",\"0.1\",\"0.2\",\"0.3\",\"0.4\"],\"zeroline\":false,\"type\":\"-\",\"tickfont\":{\"color\":\"rgba(0, 0, 0, 1.000)\",\"family\":\"sans-serif\",\"size\":13},\"zerolinecolor\":\"rgba(0, 0, 0, 1.000)\",\"anchor\":\"x1\"},\"width\":600});\n",
       "    </script>\n"
      ]
     },
     "metadata": {},
     "output_type": "display_data"
    },
    {
     "data": {
      "text/html": [
       "<div class='verdict'> Numeric Score: 79.25 => C+ </div>"
      ],
      "text/plain": [
       "HTML{String}(\"<div class='verdict'> Numeric Score: 79.25 => C+ </div>\")"
      ]
     },
     "metadata": {},
     "output_type": "display_data"
    }
   ],
   "source": [
    "homeworks = 0.8\n",
    "final = 0.88\n",
    "T = [0.7, 0.7, 0.7, 0.7]\n",
    "\n",
    "grade = composite(homeworks,final,T)\n",
    "(letter , nmbline) = letter_grade(grade)\n",
    "\n",
    "display(nmbline)\n",
    "display(HTML(\"<div class='verdict'> Numeric Score: $grade => $letter </div>\"))"
   ]
  },
  {
   "cell_type": "markdown",
   "metadata": {},
   "source": [
    "<footer style=\"background-color: #461d7c; color:rgba(253,208,35,0.35); line-height:2em; padding-left:1em; padding-right:0.5em; bottom:0; float:bottom; text-align:right;\"><i>ψᵟ</i></footer>"
   ]
  }
 ],
 "metadata": {
  "kernel_info": {
   "name": "python3"
  },
  "kernelspec": {
   "display_name": "Julia 1.0.2",
   "language": "julia",
   "name": "julia-1.0"
  },
  "language_info": {
   "file_extension": ".jl",
   "mimetype": "application/julia",
   "name": "julia",
   "version": "1.0.2"
  },
  "nteract": {
   "version": "0.11.6"
  },
  "varInspector": {
   "cols": {
    "lenName": 16,
    "lenType": 16,
    "lenVar": 40
   },
   "kernels_config": {
    "python": {
     "delete_cmd_postfix": "",
     "delete_cmd_prefix": "del ",
     "library": "var_list.py",
     "varRefreshCmd": "print(var_dic_list())"
    },
    "r": {
     "delete_cmd_postfix": ") ",
     "delete_cmd_prefix": "rm(",
     "library": "var_list.r",
     "varRefreshCmd": "cat(var_dic_list()) "
    }
   },
   "types_to_exclude": [
    "module",
    "function",
    "builtin_function_or_method",
    "instance",
    "_Feature"
   ],
   "window_display": false
  }
 },
 "nbformat": 4,
 "nbformat_minor": 2
}

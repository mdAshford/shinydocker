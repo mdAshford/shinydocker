{
 "cells": [
  {
   "cell_type": "markdown",
   "metadata": {},
   "source": [
    "# Some Random Problems\n",
    "\n",
    "1. Water vapor enters a subsonic diffuser at 0.5 bar, 175 °C, and 200 m/s. The diffuser inlet is 100 cm$^2$. During passage through the diffuser, the fluid velocity is reduced to 50 m/s, pressure increases to 1.0 bar and heat transfer to the surroundings is 0.5 kg/kJ. Determine  \n",
    "\t1. the final temperature,  \n",
    "\t2. the mass flow rate, kg/s and  \n",
    "\t3. the outlet area, cm$^2$.  $$$$   \n",
    "    \n",
    "1. R-134a is throttled through a porous plug from a saturated liquid at 35 °C to a final state where the pressure is 1.5 bar. Determine  \n",
    "\t1. the final temperature, and\n",
    "\t2. the physical state of the fluid at the exit.  $$$$        \n",
    "\n",
    "1. <ins>I didn't mean to include this one. But if you want do it, you need to assume the pump is isentropic.</ins><del>A steam power cycle operates under the following conditions: (1) 100 bar and 500 °C at the turbine inlet; (2) 0.4 bar and 90% quality at the turbine exit; (3) saturated liquid at 0.4 bar at the condenser outlet; and (4) 100 bar at the pump outlet. The mass flow rate of the water is 10 kg/s. Neglecting kinetic and potential energy changes, determine</del>\n",
    "\t1. the turbine work, kJ/kg\n",
    "\t2. the condenser heat loss, kJ/kg\n",
    "\t3. the pump work, kJ/kg\n",
    "\t3. the boiler heat input, kW  $$$$   \n",
    "\n",
    "1. An uninsulated, rigid tank contains 5 kg of steam initially at 50 bar and 300 °C. The air surrounding the tank is at a uniform temperature of 25 °C. After a period of time, the pressure within the tank has been reduced to 10 bar due to heat transfer from the vessel contents to the air. Determine  \n",
    "\t1. the heat transfer from the steam, in kJ\n",
    "\t1. the final temperature of the steam, in °C  $$$$   \n",
    "\n",
    "1. Refrigerant 134a enters an air-cooled condenser as a superheated vapor at 10 bar and 60 °C and leaves as a saturated liquid at 10 bar. Atmospheric air at 30 °C is blown over the condenser tubes and leaves at 45 °C. The heat transfer between the two fluid streams equals 20 MJ/hr. Changes in potential and kinetic energy are negligible. Determine  \n",
    "\t1. the mass flow rates of the R134a and the air, in kg/hr,\n",
    "\t1. the change in kinetic energy for R134a if the pipe diameter is 2.0 cm in kJ/hr.\n",
    "\t1. Is neglecting the change in kinetic energy a reasonable modeling assumption?  $$$$   \n",
    "\n",
    "1. A pump draws a solution with a specific gravity of 1.25 from a storage tank through a 10 cm diameter pipe. The velocity in the inlet pipe is 1.2 m/s. The height of the liquid in the storage tank is maintained constant by the addition of makeup liquid. The open end of the 5 cm discharge pipe is 15 m above the top of the liquid in the storage tank. If the process is assumed to be internally reversible and adiabatic, and the fluid to be incompressible, determine the power supplied to the pump in the piping system, in kilowatts.  $$$$   \n",
    "\n",
    "1. A refrigeration system contains an adiabatic compressor which handles refrigerant 134a. Inlet conditions are 140 kPa and -15 °C and the exit state is 1.5 MPa and 90 °C. The changes in potential and kinetic energies are negligible. Find\n",
    "\t1. the isentropic efficiency of the compressor and\n",
    "\t1. the entropy generation, in kJ/kg$\\cdot$K.  $$$$   \n",
    "\n",
    "1. Refrigerant 134a enters an adiabatic compressor as saturated vapor at 120 kPa at a rate of 0.3 $^m$3/min and exits at 1 Mpa. If the isentropic efficiency of the compressor is 80%, determine:\n",
    "\t1. the temperature of the refrigerant at the exit of the compressor and\n",
    "\t1. the power input, in kW.  $$$$     \n",
    "\n",
    "1. A gas initially at 0.025 m$^3$ and 1.0 MPa is expanded quasi-statically in a piston-cylinder device at constant pressure until the volume is 0.050 m$^3$. It is then held at constant volume and cooled until its pressure is one-half of the initial value. Then it is compressed quasi-statically to the original state by following the path PV = constant. Determine the net work for the cycle in kilojoules.  $$$$     \n",
    "\n",
    "1. Refrigerant 134a enters an air-cooled condenser as a superheated vapor at 10 bar and 60 °C and leaves as a saturated liquid at 10 bar. Atmospheric air at 30 °C is blown over the condenser tubes and leaves at 45 °C. The heat transfer between the two fluid streams equals 20 MJ/hr. Changes in potential and kinetic energy are negligible. Determine\n",
    "\t1. the mass flow rates of the R134a and the air, in kg/hr,\n",
    "\t1. the change in kinetic energy for R134a if the pipe diameter is 2.0 cm in kJ/h.\n",
    "\t1. Is neglecting the change in kinetic energy a reasonable modeling assumption?  $$$$   \n",
    "\n",
    "20. In large steam power plants, the feedwater is frequently heated in closed feedwater heaters, which are basically heat exchangers, by steam extracted from the turbine at some stage. Steam enters the feedwater heater at 1 MPa and 200 °C and leaves as saturated liquid at the same pressure. Feedwater enters the heater at 2.5 MPa and 50 °C and leaves 10 °C below the exit temperature of the steam. Neglecting any heat losses from the outer surfaces of the heater, determine:\n",
    "\t1. the ratio of the mass flow rates of the extracted steam and the feedwater and\n",
    "\t1. the reversible work for this process per unit mass of feedwater. Assume the surroundings to be 25 °C.  $$$$   \n",
    "\n",
    "5. <span style=\"color:red\">You need to assume the pump is isentropic</span> This is a Thermo 2 problem, but give it a try: A steam power cycle operates under the following conditions: (1) 100 bar and 500 °C at the turbine inlet; (2) 0.4 bar and 90% quality at the turbine exit; (3) saturated liquid at 0.4 bar at the condenser outlet; and (4) 100 bar at the pump outlet. The order of devices is  \n",
    "\n",
    "   $$ \\rm ⓵ \\rightarrow turbine \\rightarrow ⓶ \\rightarrow condenser \\rightarrow ⓷ \\rightarrow pump \\rightarrow ⓸ \\rightarrow boiler \\rightarrow ⓵ $$\n",
    "\n",
    "   The mass flow rate of the water is 10 kg/s. Neglecting kinetic and potential energy changes, determine\n",
    "\t1. the turbine work [kJ], and isentropic efficiency\n",
    "\t2. the condenser heat loss [kJ]\n",
    "\t3. the pump work, assuming it’s isentropic [kJ]\n",
    "\t4. the boiler heat input [kW]\n",
    "\t5. The overall plant thermal efficiency  \n"
   ]
  },
  {
   "cell_type": "code",
   "execution_count": null,
   "metadata": {},
   "outputs": [],
   "source": []
  },
  {
   "cell_type": "code",
   "execution_count": null,
   "metadata": {},
   "outputs": [],
   "source": []
  }
 ],
 "metadata": {
  "kernelspec": {
   "display_name": "Julia 1.0.2",
   "language": "julia",
   "name": "julia-1.0"
  },
  "language_info": {
   "file_extension": ".jl",
   "mimetype": "application/julia",
   "name": "julia",
   "version": "1.0.2"
  }
 },
 "nbformat": 4,
 "nbformat_minor": 2
}

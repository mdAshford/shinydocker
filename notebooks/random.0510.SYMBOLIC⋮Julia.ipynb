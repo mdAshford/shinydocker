{
 "cells": [
  {
   "cell_type": "markdown",
   "metadata": {},
   "source": [
    " <div style=\"display:inline-block; position:absolute; top:0; right:0; color: #230e3e; font:italic 1em serif;\">$\\LaTeX$<span style=\"display:inline-block; vertical-align:bottom\">\n",
    "    <a href=\"https://www.mathjax.org\">\n",
    "    <img style=\"height:1.5em\" title=\"Powered by MathJax\"\n",
    "    src=\"https://www.mathjax.org/badge/mj_logo.png\"\n",
    "    border=\"0\" alt=\"Powered by MathJax\" >\n",
    "</a></span></div>\n",
    "\n",
    "<div style=\"display:inline-block; position:absolute; top:0; left:0; color: #230e3e; font:italic 1em serif;\"><a href=\"https://www.julialang.org\">\n",
    "    <img style=\"height:2.25em; vertical-align:top\" title=\"Powered by Julia\"\n",
    "    src=\"./figures/julia-logo-mask.png\"\n",
    "    border=\"0\" alt=\"Powered by Julia\" >\n",
    "</a></div>\n",
    "</a></div>$\\require{cancel} \\require{mhchem} \\require{bbox} \\require{color} \\require{enclose} \\require{AMSmath} \\require{AMSsymbols}$"
   ]
  },
  {
   "cell_type": "markdown",
   "metadata": {},
   "source": [
    "# <div class=\"panel-warning\"><div class=\"panel-heading\"><div style=\"line-height:1.2em;\">This is an example of working a problem symbolically. You work the problem in a way that the only tasks remaining are table lookup and arithmetic. </div></div></div>\n",
    "\n",
    "## Given\n",
    "Refrigerant 134a enters an air-cooled condenser as a superheated vapor at 10 bar and 60 °C and leaves as a saturated liquid at 10 bar. Atmospheric air at 30 °C is blown over the condenser tubes and leaves at 45 °C. The heat transfer between the two fluid streams equals 20 MJ/hr. Changes in potential and kinetic energy are negligible."
   ]
  },
  {
   "cell_type": "markdown",
   "metadata": {},
   "source": [
    "## Find\n",
    "\n",
    "The mass flow rates of the R134a and the air, in kg/hr."
   ]
  },
  {
   "cell_type": "markdown",
   "metadata": {},
   "source": [
    "## Get Organized and Attack"
   ]
  },
  {
   "cell_type": "markdown",
   "metadata": {},
   "source": [
    "We have a heat exchanger. It's usually best to treat each stream within the exchanger as separate systems. Also, the heat lost by one stream is gained by the other. Make sure you account for the directions of heat transfer appropriately and consistently. **Be alert: you MUST get the direction of interstream heat transfer correct when the value is assigned**, like in this problem.\n",
    "\n",
    "Inspection of the given property data indicates that the R-134a is losing heat to the air. \n",
    "\n",
    "We'll name our streams \"R\" and \"A\". Remember, for ideal gases (like air), enthalpy and internal energy are functions of temperature alone. "
   ]
  },
  {
   "cell_type": "markdown",
   "metadata": {},
   "source": [
    "<p style = \"width:100%; background-image:  url(./figures/bacgroundTiles.png); line-height:0.5em; \" >&nbsp;</p>"
   ]
  },
  {
   "cell_type": "markdown",
   "metadata": {},
   "source": [
    "\n",
    " $\\begin{array}{r}\n",
    " \\qquad \\qquad \\qquad \\\\[0pt]\n",
    " \\text{R-134a} \\\\[0pt]\n",
    " \\\\[0pt]\n",
    " \\end{array}\n",
    " \\left| \n",
    " \\begin{align*} \n",
    "   P_{R,1} &= 10\\, \\ce{bar}       \\\\[0pt]\n",
    "   T_{R,1} &= 60\\, \\ce{°C}         \n",
    " \\end{align*}\\right|\n",
    " \\xrightarrow{\\normalsize \\dot Q_{R,out} = 20\\, \\ce{MJ/hr}}\n",
    " $$\\left| \n",
    " \\begin{align*}\n",
    "   P_{R,2} &= 10\\, \\ce{bar}       \\\\[0pt]\n",
    "   x_{R,2} &= 0 \n",
    " \\end{align*}\\right|\n",
    " $\n",
    "\n",
    "\n",
    " $\\begin{array}{r}\n",
    " \\qquad \\qquad \\qquad \\\\[0pt]\n",
    " \\ce{air} \\\\[0pt]\n",
    " \\\\[0pt]\n",
    " \\end{array}\n",
    " \\left| \n",
    " \\begin{align*} \n",
    "   T_{A,1} &= 30\\, \\ce{°C}         \n",
    " \\end{align*}\\right|\n",
    " \\xrightarrow{\\normalsize \\dot Q_{A,in} = 20\\, \\ce{MJ/hr}}\n",
    " $$\\left| \n",
    " \\begin{align*}\n",
    "   T_{A,2} &= 45\\, \\ce{°C}       \\\\[0pt]\n",
    " \\end{align*}\\right|\n",
    " $\n",
    "\n",
    "\n",
    "\n"
   ]
  },
  {
   "cell_type": "markdown",
   "metadata": {},
   "source": [
    "We'll tackle both streams, keeping in mind $\\dot Q_{R,out} = \\dot Q_{A,in} = 20\\, \\ce{MJ}.$   \n",
    "\n",
    "$ \\qquad \\qquad\n",
    "\\begin{array}{ccccl}\n",
    " \\dot E_{in} &-& \\dot E_{out} &=& \\frac{d}{dt} E_{sys}     \\\\[0pt]\n",
    " \\dot m_{R}h_{R,1} &-& \\dot m_{R}h_{R,2} - \\dot Q_{R,out} &=& 0     \\\\[0pt]\n",
    " \\dot m_{A}h_{A,1} + \\dot Q_{A,in} &-& \\dot m_{A}h_{A,2}  &=& 0     \\\\[0pt]\n",
    "\\end{array}\n",
    "$"
   ]
  },
  {
   "cell_type": "markdown",
   "metadata": {},
   "source": [
    "A little bit of algebra, and we get to our final answers:\n"
   ]
  },
  {
   "cell_type": "markdown",
   "metadata": {},
   "source": [
    "<div class=\"panel-success\"><div class=\"panel-heading\"><div class=\"badge\"></div> \n",
    "    $ \\qquad \\qquad \\begin{align*}\n",
    " \\dot m_{R} &= \\frac{20\\, \\ce{MJ}}{h_{R,1} - h_{R,2}}   \\\\[12pt] \n",
    " \\dot m_{A} &= \\frac{20\\, \\ce{MJ}}{h_{A,2} - h_{A,1}}   \\\\[12pt]\n",
    " \\text{where}\\quad \\\\[12pt]\n",
    "   h_{R,1} &= h_\\text{R-134a⋮10 bar⋮60 °C}              \\\\[12pt]\n",
    "   h_{R,2} &= h_\\text{R-134a⋮10 bar⋮saturated liquid}   \\\\[12pt]\n",
    "   h_{A,1} &= h_\\text{air⋮303.15 K}                     \\\\[12pt]\n",
    "   h_{A,2} &= h_\\text{air⋮318.15 K}                     \\\\[12pt]\n",
    "\\end{align*}$\n",
    "</div></div>"
   ]
  },
  {
   "cell_type": "markdown",
   "metadata": {},
   "source": [
    "<footer style=\"background-color: #461d7c; color:rgba(253,208,35,0.35); line-height:2em; padding-left:1em; padding-right:0.5em; bottom:0; float:bottom; text-align:right;\"><i>ψᵟ</i></footer>"
   ]
  }
 ],
 "metadata": {
  "kernelspec": {
   "display_name": "Julia 1.0.2",
   "language": "julia",
   "name": "julia-1.0"
  },
  "language_info": {
   "file_extension": ".jl",
   "mimetype": "application/julia",
   "name": "julia",
   "version": "1.0.2"
  }
 },
 "nbformat": 4,
 "nbformat_minor": 2
}

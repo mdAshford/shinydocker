{
 "cells": [
  {
   "cell_type": "markdown",
   "metadata": {},
   "source": [
    " <div style=\"display:inline-block; position:absolute; top:0; right:0; color: #230e3e; font:italic 1em serif;\">$\\LaTeX$<span style=\"display:inline-block; vertical-align:bottom\">\n",
    "    <a href=\"https://www.mathjax.org\">\n",
    "    <img style=\"height:1.5em\" title=\"Powered by MathJax\"\n",
    "    src=\"https://www.mathjax.org/badge/mj_logo.png\"\n",
    "    border=\"0\" alt=\"Powered by MathJax\" >\n",
    "</a></span></div>\n",
    "\n",
    "<div style=\"display:inline-block; position:absolute; top:0; left:0; color: #230e3e; font:italic 1em serif;\"><a href=\"https://www.julialang.org\">\n",
    "    <img style=\"height:2.25em; vertical-align:top\" title=\"Powered by Julia\"\n",
    "    src=\"./figures/julia-logo-mask.png\"\n",
    "    border=\"0\" alt=\"Powered by Julia\" >\n",
    "</a></div>\n",
    "</a></div>$\\require{cancel} \\require{mhchem} \\require{bbox} \\require{color} \\require{enclose} \\require{AMSmath} \\require{AMSsymbols}$"
   ]
  },
  {
   "cell_type": "markdown",
   "metadata": {},
   "source": [
    "<header style=\"background-color:#e7e2ee; color:#461d7c; line-height:2em; padding-left:1em; padding-right:1em; bottom:0; float:bottom; text-align:right; float:right;\">Moran, Shapiro, Boettner, Bailey, <i>Fundamentals of Engineering Thermodynamics</i>, 9th edition</header>"
   ]
  },
  {
   "cell_type": "markdown",
   "metadata": {},
   "source": [
    "### problem 4.034"
   ]
  },
  {
   "cell_type": "markdown",
   "metadata": {},
   "source": [
    "### Given\n",
    "Steam enters the first-stage turbine shown in the figure at 40 bar and 500°C with a mass flow rate of 40,000 kg/hr. Steam exits the first-stage turbine at 20 bar and 400°C. The steam is then reheated at constant pressure to 500°C before entering the second-stage turbine. Steam leaves the second stage as saturated vapor at 0.6 bar. Assume steady state operation and ignore stray heat transfer and kinetic and potential energy effects. \n",
    "\n",
    "![4.034 diagram](./figures/EAT_14908854309950_8181991609077116.png)"
   ]
  },
  {
   "cell_type": "markdown",
   "metadata": {},
   "source": [
    "### Find\n",
    "  $\\quad$(a) volumetric flow rate of the steam at the inlet to the first-stage turbine, in m³/min,   \n",
    "  $\\quad$(b) the rate of heat transfer to the steam flowing through the reheater, in kW, and   \n",
    "  $\\quad$(c) the total power produced by the two stages of the turbine, in kW.   "
   ]
  },
  {
   "cell_type": "markdown",
   "metadata": {},
   "source": [
    "### Get Organized   "
   ]
  },
  {
   "cell_type": "markdown",
   "metadata": {},
   "source": [
    "List your assumptions:   \n",
    "1. Steady state operation  \n",
    "2. No heat losses from any components  \n",
    "3. No kinetic and potential energy effects."
   ]
  },
  {
   "cell_type": "markdown",
   "metadata": {},
   "source": [
    "Let's determine what information we need to find in order to answer the questions.  \n",
    "\n",
    "#### (a) volumetric flow rate of the steam at the inlet to the first-stage turbine, \n",
    "\n",
    "$\\quad$ We need $\\dot V_1.$ We are given $\\dot m.$ We know $\\dot V_1 = \\dot m v_1$   \n",
    "$\\quad$ We'll resolve State ⓵ to get $v_1.$\n",
    "\n",
    "\n",
    "#### (b) the rate of heat transfer to the steam flowing through the reheater   \n",
    "$\\quad$ We apply the energy equation to the reheater. _Remember, the steam is flowing, so it carries internal energy and flow energy in/out of the system._  \n",
    "\n",
    "\\begin{equation*}\n",
    " \\dot E_{in} - \\dot E_{out} = \\color{red}\\cancelto{\\text{0: steady state}}{\\frac {\\rm d}{\\rm dt}E_{sys}} \\\\[6pt] \n",
    " \\dot Q_\\mathit{reheater,in} + \\dot m \\left( u_2 + P_2v_2 \\right) - \\dot m \\left( u_3 + P_3v_3 \\right) = 0 \\\\[12pt]\n",
    " \\dot Q_\\mathit{reheater,in} = \\dot m \\left( h_3 - h_2 \\right)   \n",
    "\\end{equation*}\n",
    "\n",
    "$\\quad$ We'll resolve States ⓶ and ⓷ to get $h_3, h_2.$  \n",
    "\n",
    "\n",
    "#### (c) the total power produced by the two stages of the turbine   \n",
    "$\\quad$ We apply the energy equation to each turbine and sum the results.  \n",
    "\n",
    "$$\\dot W_{total,out} = \\dot W_\\textit{first stage, out} + \\dot W_\\textit{second stage, out}$$  \n",
    "\n",
    "$\\quad$ We'll start with first stage turbine. _Again, the steam is flowing, so it carries internal energy and flow energy in/out of the system._   \n",
    "\n",
    "\\begin{equation*}\n",
    " \\dot E_{in} - \\dot E_{out} = \\color{red}\\cancelto{\\text{0: steady state}}{\\frac {\\rm d}{\\rm dt}E_{sys}} \\\\[6pt] \n",
    " \\dot m \\left( u_1 + P_1v_1 \\right) - \\dot W_\\textit{first stage, out} - \\dot m \\left( u_2 + P_2v_2 \\right) = 0 \\\\[12pt]\n",
    " \\dot W_\\textit{first stage, out} = \\dot m \\left( h_1 - h_2 \\right)   \n",
    "\\end{equation*}\n",
    "\n",
    "$\\quad$ Likewise, \n",
    "\\begin{equation*}\n",
    " \\dot W_\\textit{second stage, out} = \\dot m \\left( h_3 - h_4 \\right)  \\\\[15pt]\n",
    "\\end{equation*}\n",
    "\n",
    "$\\quad$ Finally, \n",
    "\\begin{align*}\n",
    " \\dot W_{total,out} \n",
    "     &= \\dot m \\left( h_1 - h_2 \\right) + \\dot m \\left( h_3 - h_4 \\right) \\\\ \\\\\n",
    "\\end{align*}  \n",
    "\n",
    "$\\quad$ Overall, the properties we need are $v_1,\\ h_1,\\ h_2,\\ h_3,\\ h_4.$"
   ]
  },
  {
   "cell_type": "markdown",
   "metadata": {},
   "source": [
    "### Attack "
   ]
  },
  {
   "cell_type": "markdown",
   "metadata": {},
   "source": [
    " Today, we'll use Julia, with _Unitful.jl_, a package for calculation with physical units."
   ]
  },
  {
   "cell_type": "code",
   "execution_count": 1,
   "metadata": {},
   "outputs": [],
   "source": [
    "using Unitful       # Unitful units package\n",
    "const kJ = u\"kJ\"    # make shortcuts to Unitful units constructor\n",
    "const kg = u\"kg\"\n",
    "const m = u\"m\"\n",
    "const kW = u\"kW\"\n",
    "const minute = u\"minute\"\n",
    "const hr = u\"hr\";"
   ]
  },
  {
   "cell_type": "markdown",
   "metadata": {},
   "source": [
    "#### (a) volumetric flow rate of the steam at the inlet to the first-stage turbine, \n",
    "\n",
    "$\\quad \\dot V_1 = \\dot m v_1$   \n",
    "\n",
    "$\\quad \\left.\n",
    "\\begin{alignat*}{1}\n",
    "P_1 &= 40\\ \\textsf{bar} \\\\\n",
    "T_1 &= 500\\ \\textsf{℃} \n",
    "\\end{alignat*}\n",
    "\\right\\}\n",
    "\\rightarrow\n",
    "v_1 = 0.08643\\, \\mathrm{m^3/kg}, \\quad h_1 = 3445.3\\, \\mathrm{kJ/kg}\n",
    "$  \n",
    "\n",
    "$\\quad$ _We get $h_1$ while we're in the table, knowing we need it later._"
   ]
  },
  {
   "cell_type": "code",
   "execution_count": 2,
   "metadata": {
    "scrolled": true
   },
   "outputs": [
    {
     "data": {
      "text/plain": [
       "57.620000000000005 m^3 minute^-1"
      ]
     },
     "execution_count": 2,
     "metadata": {},
     "output_type": "execute_result"
    }
   ],
   "source": [
    "ṁ = 40000kg/hr              # given\n",
    "h₁ = 3445.3kJ/kg            # table \n",
    "v₁ = 0.08643m^3/kg          # table\n",
    "\n",
    "V̇₁ = ṁ * v₁ |> m^3/minute"
   ]
  },
  {
   "cell_type": "markdown",
   "metadata": {},
   "source": [
    "$\\color{red} \\dot V_1 = 57.62\\ \\rm m^3/min$\n",
    "\n",
    "<p style = \" background-image:  url(./figures/bacgroundTiles.png); line-height: 0.35em\" >&nbsp;</p>"
   ]
  },
  {
   "cell_type": "markdown",
   "metadata": {},
   "source": [
    "#### (b) the rate of heat transfer to the steam flowing through the reheater   \n",
    "$\\quad \\dot Q_\\mathit{reheater,in} = \\dot m \\left( h_3 - h_2 \\right) $\n",
    "\n",
    "$\\quad \\left.\n",
    "\\begin{alignat*}{1}\n",
    "P_3 &= 20\\ \\textsf{bar} \\\\\n",
    "T_3 &= 500\\ \\textsf{℃} \n",
    "\\end{alignat*}\n",
    "\\right\\}\n",
    "\\rightarrow\n",
    " h_3 = 3467.6\\, \\mathrm{kJ/kg}\n",
    "$\n",
    "$\\quad \\left.\n",
    "\\begin{alignat*}{1}\n",
    "P_2 &= 20\\ \\textsf{bar} \\\\\n",
    "T_2 &= 400\\ \\textsf{℃} \n",
    "\\end{alignat*}\n",
    "\\right\\}\n",
    "\\rightarrow\n",
    " h_2 = 3247.6\\, \\mathrm{kJ/kg}\n",
    "$ "
   ]
  },
  {
   "cell_type": "code",
   "execution_count": 3,
   "metadata": {
    "scrolled": true
   },
   "outputs": [
    {
     "data": {
      "text/plain": [
       "2444.4444444444443 kW"
      ]
     },
     "execution_count": 3,
     "metadata": {},
     "output_type": "execute_result"
    }
   ],
   "source": [
    "h₃ = 3467.6kJ/kg            # table \n",
    "h₂ = 3247.6kJ/kg            # table \n",
    "\n",
    "Q̇_reheater_in = ṁ * (h₃ - h₂) |> kW"
   ]
  },
  {
   "cell_type": "markdown",
   "metadata": {},
   "source": [
    "$\\color{red} \\dot Q_\\mathit{reheater,in} = 2444.44\\, \\rm kW$\n",
    "\n",
    "<p style = \" background-image:  url(./figures/bacgroundTiles.png); line-height: 0.35em\" >&nbsp;</p>"
   ]
  },
  {
   "cell_type": "markdown",
   "metadata": {},
   "source": [
    "#### (c) the total power produced by the two stages of the turbine   \n",
    "$\\quad \\dot W_{total,out} = \\dot m \\left( h_1 - h_2 \\right) + \\dot m \\left( h_3 - h_4 \\right) $\n",
    "\n",
    "$\\quad \\left.\n",
    "\\begin{array}{l}\n",
    "P_4 = 0.6\\ \\textsf{bar} \\\\\n",
    "\\text{saturated vapor}\n",
    "\\end{array}\n",
    "\\right\\}\n",
    "\\rightarrow\n",
    " h_4 = 2653.5\\, \\mathrm{kJ/kg}\n",
    "$"
   ]
  },
  {
   "cell_type": "code",
   "execution_count": 4,
   "metadata": {
    "scrolled": true
   },
   "outputs": [
    {
     "data": {
      "text/plain": [
       "11242.222222222224 kW"
      ]
     },
     "execution_count": 4,
     "metadata": {},
     "output_type": "execute_result"
    }
   ],
   "source": [
    "h₄ = 2653.5kJ/kg            # table \n",
    "\n",
    "Ẇ_total_out = ṁ * (h₁ - h₂ + h₃ - h₄) |> kW"
   ]
  },
  {
   "cell_type": "markdown",
   "metadata": {},
   "source": [
    "$\\color{red} \\dot W_{total,out} = 11242.22\\ \\rm kW$"
   ]
  },
  {
   "cell_type": "markdown",
   "metadata": {},
   "source": [
    "<footer style=\"background-color: #461d7c; color:rgba(253,208,35,0.35); line-height:2em; padding-left:1em; padding-right:0.5em; bottom:0; float:bottom; text-align:right;\"><i>ψᵟ</i></footer>"
   ]
  }
 ],
 "metadata": {
  "kernelspec": {
   "display_name": "Julia 1.0.0",
   "language": "julia",
   "name": "julia-1.0"
  },
  "language_info": {
   "file_extension": ".jl",
   "mimetype": "application/julia",
   "name": "julia",
   "version": "1.0.0"
  }
 },
 "nbformat": 4,
 "nbformat_minor": 2
}

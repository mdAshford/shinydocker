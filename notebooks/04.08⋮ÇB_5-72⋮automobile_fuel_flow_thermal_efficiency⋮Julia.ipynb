{
 "cells": [
  {
   "cell_type": "markdown",
   "metadata": {},
   "source": [
    " <div style=\"display:inline-block; position:absolute; top:0; right:0; color: #230e3e; font:italic 1em serif;\">$\\LaTeX$<span style=\"display:inline-block; vertical-align:bottom\">\n",
    "    <a href=\"https://www.mathjax.org\">\n",
    "    <img style=\"height:1.5em\" title=\"Powered by MathJax\"\n",
    "    src=\"https://www.mathjax.org/badge/mj_logo.png\"\n",
    "    border=\"0\" alt=\"Powered by MathJax\" >\n",
    "</a></span></div>\n",
    "\n",
    "<div style=\"display:inline-block; position:absolute; top:0; left:0; color: #230e3e; font:italic 1em serif;\"><a href=\"https://www.julialang.org\">\n",
    "    <img style=\"height:2.25em; vertical-align:top\" title=\"Powered by Julia\"\n",
    "    src=\"./figures/julia-logo-mask.png\"\n",
    "    border=\"0\" alt=\"Powered by Julia\" >\n",
    "</a></div>\n",
    "</a></div>$\\require{cancel} \\require{mhchem} \\require{bbox} \\require{color} \\require{enclose} \\require{AMSmath} \\require{AMSsymbols}$"
   ]
  },
  {
   "cell_type": "markdown",
   "metadata": {},
   "source": [
    "<header style=\"background-color:#e7e2ee; color:#461d7c; line-height:2em; padding-left:1em; padding-right:1em; bottom:0; float:bottom; text-align:right; float:right; font-family:serif; font-size:small;\">Çengel, Y. A., and Boles, M. A. (2001). <i>Thermodynamics: An engineering approach.</i> Boston: McGraw-Hill.\n",
    "</header>"
   ]
  },
  {
   "cell_type": "markdown",
   "metadata": {},
   "source": [
    "**5-72**. In steam power plants, open feedwater heaters are frequently utilized to heat the feedwater by mixing it with steam bled off the turbine at some intermediate stage. Consider an open feedwater heater that operates at a pressure of 1000 kPa. Feedwater at 50°C and 1000 kPa is to be heated with superheated steam at 200°C and 1000 kPa. In an ideal feedwater heater, the mixture leaves the heater as saturated liquid at the feedwater pressure. Determine the ratio of the mass flow rates of the feedwater and the superheated vapor for this case. \n",
    "\n",
    "\n",
    "![Cengelboles7ed5-72](./figures/ch05_cen98179_p05072_lg.jpg)\n"
   ]
  },
  {
   "cell_type": "markdown",
   "metadata": {},
   "source": [
    "### Given\n",
    "<ol> \n",
    " Figure hass all the pertinent information   "
   ]
  },
  {
   "cell_type": "markdown",
   "metadata": {},
   "source": [
    "### Find\n",
    "<ol>\n",
    "  \n",
    "$\\displaystyle \\frac{\\dot m_{feedwater}}{\\dot m_{supersteam}} = \\frac{\\dot m_1}{\\dot m_2} $  "
   ]
  },
  {
   "cell_type": "markdown",
   "metadata": {},
   "source": [
    "### Get Organized\n",
    "<ol>\n",
    "    \n",
    "We have a mixing chamber with no heat losses. Mixing chambers never have work interactions. This is an algebra problem, where we employ both mass and energy conservation.\n",
    "\n",
    "First, the conservation of mass.   \n",
    "    \n",
    "$$\\dot m_1 + \\dot m_2 = \\dot m_3 $$\n",
    "\n",
    "Conservation of energy\n",
    "\n",
    "$$ \\dot m_1h_1 + \\dot m_2h_2 = \\dot m_3h_3 \\\\[9pt] $$   \n",
    "\n",
    "Combine both equations, solve for $\\displaystyle \\frac{\\dot m_1}{\\dot m_2}.$ \n",
    "\n",
    "\n",
    "\n",
    "\n",
    "\\begin{align*}\n",
    " \\dot m_1h_1 + \\dot m_2h_2 &= \\left( \\dot m_1 + \\dot m_2 \\right) h_3   \n",
    "    \\\\[9pt]\n",
    " \\dot m_1h_1 + \\dot m_2h_2 &=  \\dot m_1 h_3 + \\dot m_2 h_3   \n",
    "    \\\\[9pt]\n",
    " \\dot m_1 \\left( h_1 - h_3 \\right) &=  \\dot m_2 \\left( h_3 - h_2 \\right)\n",
    "    \\\\[18pt]\n",
    " \\frac {\\dot m_1}{\\dot m_2} &= \\frac{h_3 - h_2}{h_1 - h_3}\n",
    "\\end{align*}\n"
   ]
  },
  {
   "cell_type": "markdown",
   "metadata": {},
   "source": [
    "### Attack\n",
    "Get the property data. Use the compressed liquid approximation for $h_1,$ because its pressure is below the Compressed Liquid Table's threshold. \n",
    "\n",
    "\\begin{align*}\n",
    "  h_1 = \\mathop{h}\\left( \\ce{H2O} \\left| \\begin{subarray}{l}{\\ce{1 MPa}}\\\\{\\ce{50 °C}}\\end{subarray} \\right. \\right) &=  h_{f@50°C} + v_{f@50°C}( P - P_{sat@50°C}) \\\\\n",
    "    &= 209.33\\,\\ce{kJ/kg} + 0.0010121\\,\\ce{m^3/kg}\\left(\\text{1 MPa} - \\text{0.1235 bar}\\right) \\\\ \n",
    "    &= 209.43\\,\\ce{kJ/kg} \\\\[15pt]\n",
    "  h_2 = \\mathop{h}\\left( \\ce{H2O} \\left| \\begin{subarray}{l}{\\ce{1 MPa}}\\\\{\\ce{200 °C}}\\end{subarray} \\right. \\right) &= 2827.9\\, \\ce{kJ/kg} \\qquad \\\\[15pt]\n",
    "  h_3 = \\mathop{h}\\left( \\ce{H2O} \\left| \\begin{subarray}{l}{\\ce{1 MPa}}\\\\{\\text{sat liquid}}\\end{subarray} \\right. \\right) &= 2778.1\\, \\ce{kJ/kg} \n",
    "\\end{align*}\n"
   ]
  },
  {
   "cell_type": "code",
   "execution_count": 1,
   "metadata": {},
   "outputs": [],
   "source": [
    "using Unitful;       # Unitful units package"
   ]
  },
  {
   "cell_type": "code",
   "execution_count": 2,
   "metadata": {
    "scrolled": true
   },
   "outputs": [
    {
     "data": {
      "text/plain": [
       "209.4299600565 kJ kg^-1"
      ]
     },
     "execution_count": 2,
     "metadata": {},
     "output_type": "execute_result"
    }
   ],
   "source": [
    "P = 1u\"MPa\"\n",
    "h₂ = 2827.9u\"kJ/kg\"\n",
    "h₃ = 762.81u\"kJ/kg\"\n",
    "\n",
    "h𝑓50°C = 209.33u\"kJ/kg\"\n",
    "v𝑓50°C = 0.00010121u\"m^3/kg\"\n",
    "P_sat50°C = 0.1235u\"bar\"\n",
    "\n",
    "h₁ = h𝑓50°C + v𝑓50°C * (P - P_sat50°C) |> u\"kJ/kg\""
   ]
  },
  {
   "cell_type": "code",
   "execution_count": 3,
   "metadata": {},
   "outputs": [
    {
     "data": {
      "text/plain": [
       "3.7317753640171873"
      ]
     },
     "execution_count": 3,
     "metadata": {},
     "output_type": "execute_result"
    }
   ],
   "source": [
    "ṁ₁╱ṁ₂ = (h₃ - h₂) / (h₁ - h₃)"
   ]
  },
  {
   "cell_type": "markdown",
   "metadata": {},
   "source": [
    "<div class=\"panel-success\"><div class=\"panel-heading\"><div class=\"badge\"></div> $$\\ \\normalsize \\frac{\\dot m_1}{\\dot m_2} = 3.732$$\n",
    "</div></div>"
   ]
  },
  {
   "cell_type": "markdown",
   "metadata": {},
   "source": [
    "<footer style=\"background-color: #461d7c; color:rgba(253,208,35,0.35); line-height:2em; padding-left:1em; padding-right:0.5em; bottom:0; float:bottom; text-align:right;\"><i>ψᵟ</i></footer>"
   ]
  }
 ],
 "metadata": {
  "kernelspec": {
   "display_name": "Julia 1.0.2",
   "language": "julia",
   "name": "julia-1.0"
  },
  "language_info": {
   "file_extension": ".jl",
   "mimetype": "application/julia",
   "name": "julia",
   "version": "1.0.2"
  }
 },
 "nbformat": 4,
 "nbformat_minor": 2
}

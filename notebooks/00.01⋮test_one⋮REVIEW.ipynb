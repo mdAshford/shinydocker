{
 "cells": [
  {
   "cell_type": "markdown",
   "metadata": {},
   "source": [
    "<div style=\"text-align:center; font-weight:bold; border:solid 1px; background-color:#dfe1ee;\">\n",
    "ME215: Thermodynamics I⋮Test One REVIEW⋮26 September 2018\n",
    "</div>"
   ]
  },
  {
   "cell_type": "code",
   "execution_count": 1,
   "metadata": {},
   "outputs": [],
   "source": [
    "using Unitful     # units package for Julia"
   ]
  },
  {
   "cell_type": "markdown",
   "metadata": {},
   "source": [
    "1. **(15) A room contains a refrigerator. On a particular day, the refrigerator consumed 1.25 kWh of electricity while removing 2000 kJ of heat from its contents. For that day, what was the net energy change of the room [kJ]?**\n",
    "\n",
    "  The contents of the refrigerator and the energy they contain are already in the room. The refrigerator removes energy from the contents, but does not remove that energy from the room. The only energy that crosses the room's boundary is the energy that refrigerator itself consumes.  \n",
    "  \n",
    "  **\"kWh\" is a unit of energy. Think (power)(time).**\n",
    "   \n",
    "  $ \\displaystyle  \\rm \\small \n",
    "  1.25\\, kWh \\left(\\frac{3600\\, s}{h}\\right)\n",
    "  \\left( \\frac {kJ/s}{kW} \\right)\n",
    "  = 4500\\,kJ\n",
    "  $"
   ]
  },
  {
   "cell_type": "code",
   "execution_count": 2,
   "metadata": {},
   "outputs": [
    {
     "data": {
      "text/plain": [
       "4500.0 kJ"
      ]
     },
     "execution_count": 2,
     "metadata": {},
     "output_type": "execute_result"
    }
   ],
   "source": [
    "1.25u\"kW*hr\" |> u\"kJ\""
   ]
  },
  {
   "cell_type": "markdown",
   "metadata": {},
   "source": [
    "<p style = \"width:100vw; background-image:  url(./figures/bacgroundTiles.png); line-height: 0.35em\" >&nbsp;</p>"
   ]
  },
  {
   "cell_type": "markdown",
   "metadata": {},
   "source": [
    "2. **(10) Explain the differences between open, closed, and isolated systems.**\n",
    "\n",
    " **open:** mass and energy may cross the boundary  \n",
    " **closed:** energy may cross the boundary, mass cannot  \n",
    " **isolated:** neither mass nor energy may cross the boundary  "
   ]
  },
  {
   "cell_type": "markdown",
   "metadata": {},
   "source": [
    "<p style = \"width:100vw; background-image:  url(./figures/bacgroundTiles.png); line-height: 0.35em\" >&nbsp;</p>"
   ]
  },
  {
   "cell_type": "markdown",
   "metadata": {},
   "source": [
    "3. **(15) A 1.5-kW electric resistance heater in a room is turned on and kept on for 38 min.  \n",
    " Calculate the amount of energy transferred to the room by the heater [kJ]**  \n",
    "\n",
    " $ \\displaystyle \\small \\rm \n",
    "  E = \\dot{E} \\cdot time \n",
    "    = \\bigg( 1.5\\,kW \\bigg) \\bigg( 38\\,min \\bigg) \\left(\\frac{60\\,s}{min} \\right)\n",
    "   \\left( \\frac {kJ/s}{kW} \\right) \n",
    "   = 3420\\,kJ\n",
    " $"
   ]
  },
  {
   "cell_type": "code",
   "execution_count": 3,
   "metadata": {},
   "outputs": [
    {
     "data": {
      "text/plain": [
       "3420.0 kJ"
      ]
     },
     "execution_count": 3,
     "metadata": {},
     "output_type": "execute_result"
    }
   ],
   "source": [
    "1.5u\"kW\" * 38u\"minute\" |> u\"kJ\""
   ]
  },
  {
   "cell_type": "markdown",
   "metadata": {},
   "source": [
    "<p style = \"width:100vw; background-image:  url(./figures/bacgroundTiles.png); line-height: 0.35em\" >&nbsp;</p>"
   ]
  },
  {
   "cell_type": "markdown",
   "metadata": {},
   "source": [
    "4. **(20) The difference in atmospheric pressure from the base to the summit of a mountain is measured to be a manometer reading of 68 inches H2O. Assuming the average specific volume of air is 12.8 ft^3/lbm, the density of water is 62.4 lbm/ft^3, what is the height of the mountain [feet]?**  \n",
    "\n",
    " We are describing the same pressure difference using different units: a column of water _vs_ a column of air. \n",
    "\n",
    " $$ \\displaystyle  \n",
    " \\begin{alignat}{1} \\rm \n",
    "   \\Delta P_{mountain} = \\Delta P_{water} &= \\rm \\Delta P_{air}  \\\\[6pt] \n",
    "  \\rm \\rho_\\text{water} g \\Delta h_{water} &= \\rm \\rho_{air} g \\Delta h_{air}  \\\\[6pt]\n",
    "  \\rm \\Delta h_{air} &= \\rm \\frac{\\rho_{water}}{\\rho_{air}} \\Delta h_{water}  \\\\[6pt]\n",
    "  \\rm \\Delta h_{air} &= \\rm \\rho_{water} v_{air} \\Delta h_{water}\n",
    " \\end{alignat}\n",
    " $$"
   ]
  },
  {
   "cell_type": "code",
   "execution_count": 4,
   "metadata": {},
   "outputs": [
    {
     "data": {
      "text/plain": [
       "4526.08 ft"
      ]
     },
     "execution_count": 4,
     "metadata": {},
     "output_type": "execute_result"
    }
   ],
   "source": [
    "rho_water = 62.4u\"lb/ft^3\"\n",
    "v_air = 12.8u\"ft^3/lb\"\n",
    "dh_water = 68u\"inch\"\n",
    "\n",
    "dh_air = rho_water * v_air * dh_water |> u\"ft\""
   ]
  },
  {
   "cell_type": "markdown",
   "metadata": {},
   "source": [
    "<p style = \"width:100vw; background-image:  url(./figures/bacgroundTiles.png); line-height: 0.35em\" >&nbsp;</p>"
   ]
  },
  {
   "cell_type": "markdown",
   "metadata": {},
   "source": [
    "5. **(10) The density and the specific volume of a simple compressible system are known. The number of additional intensive, independent properties needed to fix the state of this system is**  \n",
    "\n",
    " Fixing the state of a simple compressible system requires two independent properties. Density and specific volume are not independent of each other: $v = 1/ \\rho.$  \n",
    "\n",
    " (b) 1  "
   ]
  },
  {
   "cell_type": "markdown",
   "metadata": {},
   "source": [
    "<p style = \"width:100vw; background-image:  url(./figures/bacgroundTiles.png); line-height: 0.35em\" >&nbsp;</p>"
   ]
  },
  {
   "cell_type": "markdown",
   "metadata": {},
   "source": [
    "6. **(10) Identify the extensive properties in the following list:  \n",
    " (a) temperature (b) volume (c) internal energy (d) pressure (e) None of the above**  \n",
    "\n",
    " (b) volume (c) internal energy"
   ]
  },
  {
   "cell_type": "markdown",
   "metadata": {},
   "source": [
    "<p style = \"width:100vw; background-image:  url(./figures/bacgroundTiles.png); line-height: 0.35em\" >&nbsp;</p>"
   ]
  },
  {
   "cell_type": "markdown",
   "metadata": {},
   "source": [
    "7. **(20) One hundred ninety-six (196) thermodynamics students are locked in a room to take an exam. The room is 30 meters wide by 20 meters long by 10 meters tall. The ceiling/roof is a frictionless piston that maintains pressure in the room at a constant 100 kPa. Each student releases heat at a rate of 125 W for the hour-long test.\n",
    "Consider the energy released into the room by the students. If one third is lost through the walls, and one third increases the energy of the room itself, how much will the students raise the roof [m]?**  \n",
    "\n",
    " The \"unspecified\" third of the energy raises the roof. \n",
    " \n",
    "$$  \\rm E_{roof} =  \\int P \\, \\mathrm dV    \\\\[6pt] $$  \n",
    "$$  \\rm \\tfrac13 E_{students} = \\int P A \\, \\mathrm dz  \\\\[6pt] $$  \n",
    "$$  \\rm \\tfrac13 \\left( N_{students} \\dot{E}_{single student} \\Delta t \\right) = P A \\Delta z \\\\[12pt] $$  \n",
    "$$  \\rm \\displaystyle \\Delta z = \\frac{\\tfrac13 N_{students} \\dot{E}_{single student} \\, \\Delta t}{PA} = \\frac{\\frac{1}{3} \\cdot 196\\ \\text{students} \\cdot 125 \\, \\frac{\\text W}{\\text{student}} \\cdot 1 \\, \\text{hr} } {100 \\, \\text{kPa} \\cdot \\left(30 \\,\\text m \\cdot 20 \\, \\text m \\right)} \\\\[6pt]\n",
    " $$"
   ]
  },
  {
   "cell_type": "code",
   "execution_count": 6,
   "metadata": {},
   "outputs": [
    {
     "data": {
      "text/plain": [
       "0.49 m"
      ]
     },
     "execution_count": 6,
     "metadata": {},
     "output_type": "execute_result"
    }
   ],
   "source": [
    "N_students = 196\n",
    "Ė_singleStudent = 125u\"W\"\n",
    "time = 1u\"hr\"\n",
    "E_roof = 1/3 * N_students * Ė_singleStudent * time\n",
    "P = 100u\"kPa\"\n",
    "A = 30u\"m\" * 20u\"m\"\n",
    "\n",
    "Δz = E_roof / (P * A) |> u\"m\""
   ]
  },
  {
   "cell_type": "markdown",
   "metadata": {},
   "source": [
    "<footer style=\"background-color: #461d7c; color:rgba(253,208,35,0.35); line-height:2em; padding-left:1em; padding-right:0.5em; bottom:0; float:bottom; text-align:right;\"><i>ψᵟ</i></footer>"
   ]
  }
 ],
 "metadata": {
  "kernelspec": {
   "display_name": "Julia 1.0.0",
   "language": "julia",
   "name": "julia-1.0"
  },
  "language_info": {
   "file_extension": ".jl",
   "mimetype": "application/julia",
   "name": "julia",
   "version": "1.0.0"
  }
 },
 "nbformat": 4,
 "nbformat_minor": 2
}

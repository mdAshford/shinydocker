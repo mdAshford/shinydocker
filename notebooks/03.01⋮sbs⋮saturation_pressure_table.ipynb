{
 "cells": [
  {
   "cell_type": "markdown",
   "metadata": {},
   "source": [
    "$\\require{cancel} \\require{mhchem} \\require{bbox} \\require{color} \\require{enclose} \\require{AMSmath} \\require{AMSsymbols} \n",
    "$    <div style=\"display:inline-block; position:absolute; top:0; right:0; color: #230e3e; font:italic 1em serif;\">$\\LaTeX$<span style=\"display:inline-block; vertical-align:bottom\"><a href=\"https://www.mathjax.org\">\n",
    "    <img style=\"height:1.25em\" title=\"Powered by MathJax\"\n",
    "    src=\"https://www.mathjax.org/badge/mj_logo.png\"\n",
    "    border=\"0\" alt=\"Powered by MathJax\" />\n",
    "</a></span> </div>   "
   ]
  },
  {
   "cell_type": "markdown",
   "metadata": {},
   "source": [
    "### Given   \n",
    "\n",
    "$\\ce{H2O} \\left\\{ \\begin{alignat*}{1}  P  &=  400 kPa \\\\\n",
    "    u  &=  1450 kJ/kg\n",
    "    \\end{alignat*} \n",
    "    \\right.$\n",
    "\n",
    "### Find \n",
    "1. Specific volume, enthalpy, and entropy.  \n",
    "2. Describe the phase.\n",
    "\n",
    "### Attack \n",
    "1. We are given pressure (P) and internal energy (u), **two independent properties**, so they fix our state.\n",
    "2. Not knowing the phase of the water, we head to the Saturation Pressure Table and locate the row corresponding to $ \\color{#16344a} \\colorbox{#f1f1f0}{P = 400 kPa = 4 bar = 0.4 MPa.}$\n",
    "\n",
    "    ![03%7C01.png](./figures/0301.png)"
   ]
  },
  {
   "cell_type": "markdown",
   "metadata": {},
   "source": [
    "3. From $\\color{#16344a} \\colorbox{#f1f1f0}{P = 400 kPa},$ we get internal energy values for the saturated liquid $\\enclose{}[mathbackground=#f1f1f0, mathcolor=#16344a]{\\displaystyle u_f = 604.31 \\text{ kJ/kg}}$ and saturated vapor $\\enclose{}[mathbackground=#f1f1f0, mathcolor=#16344a]{\\displaystyle u_g = 2553.6 \\text{ kJ/kg}}$. \n",
    "\n",
    "4. Comparing those to the internal energy given $\\left(u=1450 \\text{ kJ/kg}\\right),$ we see that $u_f < u < u_g.$\n",
    "5. Therefore,\n",
    "    - We have saturation conditions\n",
    "        - Had $u < u_f$, our $\\ce{H2O}$ would be *Compressed (Subcooled) Liquid*\n",
    "        - Had $u > u_g$, our $\\ce{H2O}$ would be *Superheated Vapor*\n",
    "    - Our phase is **saturated mixture**\n",
    "        - Had $u = u_f$, phase would be *saturated liquid*\n",
    "        - Had $u = u_g$, phase would be *saturated vapor*\n",
    "    - The temperature comes directly frtom the table: $\\enclose{}[mathbackground=#f1f1f0, mathcolor=#16344a]{T = T_{saturation} = 143.6 \\ ^\\circ \\text{F.}}$ **Never forget:** temperature and pressure are NOT independent in saturation conditions. If you know one, you know the other."
   ]
  },
  {
   "cell_type": "markdown",
   "metadata": {},
   "source": [
    "6. Before we determine the remaining properties $v, h,$ and $s,$ we should discuss the property tables. Saturation tables only contain data along phase boundaries. For mixed-phase conditions, the average propeties of the mixture are a weighted average of the properties of each phase present. For vapor/liquid mixtures, we introduce a new property, quality, which is the mass fraction of vapor in a vapor/liquid mixture. A quality $x=0$ denotes a saturated liquid, and quality $x=1$ represents a saturated vapor. **Quality is undefined outside of saturation conditions.**  \n",
    "\n",
    "   ![03%7C01.png](./figures/0301_saturation_dome.png)  \n",
    "    \n",
    "  To determine $v, h,$ and $s,$ we first calculate $x,$ then use it to calculate the other properties. Remember, get values from the saturation tables at $\\color{#16344a} \\colorbox{#f1f1f0}{P = 400 kPa}.$  \n",
    "  \n",
    "    $ \\displaystyle x = \\frac{u - u_f}{u_g - u_f} = \\frac{\\left(1450 - 604.31\\right)\\text{ kJ/kg}}{\\left(2553.6 - 604.31\\right)\\text{ kJ/kg}} = 0.434 $  \n",
    "    \n",
    "    $\\begin{alignat*}{1}\n",
    "    v &= v_f + x \\left( v_g - v_f \\right) &= \n",
    "    \\enclose{}[mathbackground=#f1f1f0, mathcolor=#16344a]{0.001086 \\text{ m}^3/ \\text{kg}} &+ 0.434 \\left(  \n",
    "    \\enclose{}[mathbackground=#f1f1f0, mathcolor=#16344a]{0.4625 \\text{ m}^3/ \\text{kg}} -\n",
    "    \\enclose{}[mathbackground=#f1f1f0, mathcolor=#16344a]{0.001086 \\text{ m}^3/ \\text{kg}}  \\right)\n",
    "    &= \\color{#ff2600}{v = 0.201 \\text{ m}^3/ \\text{kg }}\n",
    "    \\\\\n",
    "    h &= h_f + x \\left( h_g - h_f \\right) &= \n",
    "    \\enclose{}[mathbackground=#f1f1f0, mathcolor=#16344a]{604.74 \\text{ kJ/kg}} &+ 0.434 \\left(  \n",
    "    \\enclose{}[mathbackground=#f1f1f0, mathcolor=#16344a]{2738.6 \\text{ kJ/kg}} -\n",
    "    \\enclose{}[mathbackground=#f1f1f0, mathcolor=#16344a]{604.74 \\text{ kJ/kg}}  \\right)\n",
    "    &= \\color{#ff2600}{h = 1530.50 \\text{ kJ/kg}}\n",
    "    \\\\\n",
    "    s &= s_f + x \\left( s_g - s_f \\right) &= \n",
    "    \\enclose{}[mathbackground=#f1f1f0, mathcolor=#16344a]{1.7766 \\text{ kJ/kg} \\cdot \\text{K}} &+ 0.434 \\left(  \n",
    "    \\enclose{}[mathbackground=#f1f1f0, mathcolor=#16344a]{6.8959 \\text{ kJ/kg} \\cdot \\text{K}} -\n",
    "    \\enclose{}[mathbackground=#f1f1f0, mathcolor=#16344a]{1.7766 \\text{ kJ/kg}\\cdot \\text{K}}  \\right)\n",
    "    &= \\color{#ff2600}{s = 4.00 \\text{ kJ/kg}\\cdot \\text{K}}\n",
    "    \\end{alignat*}\n",
    "    $  \n",
    "    "
   ]
  },
  {
   "cell_type": "code",
   "execution_count": 14,
   "metadata": {},
   "outputs": [
    {
     "data": {
      "text/plain": [
       "0.4338451436163937"
      ]
     },
     "execution_count": 14,
     "metadata": {},
     "output_type": "execute_result"
    }
   ],
   "source": [
    "x = (1450 - 604.31)/(2553.6 - 604.31)"
   ]
  },
  {
   "cell_type": "code",
   "execution_count": 11,
   "metadata": {},
   "outputs": [
    {
     "data": {
      "text/plain": [
       "0.2012682230966147"
      ]
     },
     "execution_count": 11,
     "metadata": {},
     "output_type": "execute_result"
    }
   ],
   "source": [
    "v = 0.001086 + x * (0.4625 - 0.001086)"
   ]
  },
  {
   "cell_type": "code",
   "execution_count": 12,
   "metadata": {},
   "outputs": [
    {
     "data": {
      "text/plain": [
       "1530.5047981572777"
      ]
     },
     "execution_count": 12,
     "metadata": {},
     "output_type": "execute_result"
    }
   ],
   "source": [
    "h = 604.74 + x * (2738.6 - 604.74)"
   ]
  },
  {
   "cell_type": "code",
   "execution_count": 13,
   "metadata": {},
   "outputs": [
    {
     "data": {
      "text/plain": [
       "3.9975834437154045"
      ]
     },
     "execution_count": 13,
     "metadata": {},
     "output_type": "execute_result"
    }
   ],
   "source": [
    "s = 1.7766 + x * (6.8959 - 1.7766)"
   ]
  },
  {
   "cell_type": "markdown",
   "metadata": {},
   "source": [
    "<footer style=\"background-color: #461d7c; color:rgba(253,208,35,0.35); line-height:2em; padding-left:1em; padding-right:0.5em; bottom:0; float:bottom; text-align:right;\"><i>ψᵟ</i></footer>"
   ]
  }
 ],
 "metadata": {
  "kernelspec": {
   "display_name": "Julia 1.0.0",
   "language": "julia",
   "name": "julia-1.0"
  },
  "language_info": {
   "file_extension": ".jl",
   "mimetype": "application/julia",
   "name": "julia",
   "version": "1.0.0"
  }
 },
 "nbformat": 4,
 "nbformat_minor": 2
}

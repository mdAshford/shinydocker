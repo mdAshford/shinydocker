{
 "cells": [
  {
   "cell_type": "markdown",
   "metadata": {},
   "source": [
    " <div style=\"display:inline-block; position:absolute; top:0; right:0; color: #230e3e; font:italic 1em serif;\">$\\LaTeX$<span style=\"display:inline-block; vertical-align:bottom\">\n",
    "    <a href=\"https://www.mathjax.org\">\n",
    "    <img style=\"height:1.5em\" title=\"Powered by MathJax\"\n",
    "    src=\"https://www.mathjax.org/badge/mj_logo.png\"\n",
    "    border=\"0\" alt=\"Powered by MathJax\" >\n",
    "</a></span></div>\n",
    "<div style=\"display:inline-block; position:absolute; top:0; left:0; color: #230e3e; font:italic 1em serif;\"><a href=\"https://www.julialang.org\">\n",
    "    <img style=\"height:2.25em; vertical-align:top\" title=\"Powered by Julia\"\n",
    "    src=\"./figures/julia-logo-mask.png\"\n",
    "    border=\"0\" alt=\"Powered by Julia\" >\n",
    "</a></div>\n",
    "</a></div>$\\require{cancel} \\require{mhchem} \\require{bbox} \\require{color} \\require{enclose} \\require{AMSmath} \\require{AMSsymbols}$"
   ]
  },
  {
   "cell_type": "code",
   "execution_count": 1,
   "metadata": {},
   "outputs": [],
   "source": [
    "using Unitful"
   ]
  },
  {
   "cell_type": "markdown",
   "metadata": {},
   "source": [
    "<div style=\"background-color:gold; padding:1em;\">\n",
    "\n",
    "\n",
    "![test-one-header-sp19](./figures/test-one-AURUM-header-sp19.png)"
   ]
  },
  {
   "cell_type": "markdown",
   "metadata": {},
   "source": [
    "<div style=\"background-color:gold; padding:1em;\">\n",
    "    \n",
    "### AURUM\n",
    "\n",
    "$ \\rule{3cm}{0.3pt}\\ \\small \\sf{ kPa } (20)$\n",
    "\n",
    "**Given:** The pressure of a gas in a well-sealed vertical frictionless piston-cylinder device is to be increased by adding a mass of 55 kg on the piston. The diameter of the cylinder is 16 cm.\n",
    "\n",
    "**Find:** The increase in the pressure of the gas.\n",
    "\n",
    "\n",
    "$\n",
    "\\rule{10cm}{0.6pt} \\\\[12pt]\n",
    "\\displaystyle\n",
    "  P = \\frac {F}{A} \n",
    "    =  \\frac {\\Delta F}{A} \n",
    "    =  \\frac {\\Delta mg}{A} \n",
    "$\n"
   ]
  },
  {
   "cell_type": "code",
   "execution_count": 2,
   "metadata": {},
   "outputs": [
    {
     "data": {
      "text/plain": [
       "26.825851639677325 kPa"
      ]
     },
     "execution_count": 2,
     "metadata": {},
     "output_type": "execute_result"
    }
   ],
   "source": [
    "# aurum\n",
    "const g = 1u\"gn\"\n",
    "\n",
    "Δm = 55u\"kg\"\n",
    "D = 16u\"cm\"\n",
    "\n",
    "A = π/4 * D^2\n",
    "\n",
    "ΔP = Δm * g / A |> u\"kPa\""
   ]
  },
  {
   "cell_type": "markdown",
   "metadata": {},
   "source": [
    "<p style = \" background-image:  url(./figures/bacgroundTiles.png); line-height: 0.35em\" >&nbsp;</p>"
   ]
  },
  {
   "cell_type": "markdown",
   "metadata": {},
   "source": [
    "<div style=\"background-color:gold; padding:1em;\">\n",
    "\n",
    "### AURUM\n",
    "\n",
    "$ \\rule{3cm}{0.3pt}\\ \\small \\sf{ kPa } (20)$\n",
    "\n",
    "**Given:** A pressure gage connected to a tank reads 165 kPa at a location where the atmospheric pressure is 76.1 cmHg. The density of mercury is $\\small \\sf \\ce{13600 kg/m^3}.$\n",
    "\n",
    "**Find:** The absolute pressure in the tank\n",
    "\n",
    "---\n",
    "\n",
    "\n",
    "$P_{abs} = P_{atm} + \\Delta P_{gage} = \\rho g \\Delta z \\big|_{atm} + P_{gage}$   \n"
   ]
  },
  {
   "cell_type": "code",
   "execution_count": 3,
   "metadata": {},
   "outputs": [
    {
     "name": "stdout",
     "output_type": "stream",
     "text": [
      "P_atm = 101.49490484 kPa\n",
      "\n",
      "P_abs = 266.49490484 kPa\n"
     ]
    }
   ],
   "source": [
    "# aurum\n",
    "ρ_Hg = 13600u\"kg/m^3\"\n",
    "Δz = 76.1u\"cm\"\n",
    "P_gage = 165u\"kPa\"\n",
    "\n",
    "P_atm = ρ_Hg * g * Δz |> u\"kPa\"\n",
    "\n",
    "println(\"P_atm = \",P_atm)\n",
    "println()\n",
    "println(\"P_abs = \",P_gage + P_atm)"
   ]
  },
  {
   "cell_type": "markdown",
   "metadata": {},
   "source": [
    "<p style = \" background-image:  url(./figures/bacgroundTiles.png); line-height: 0.35em\" >&nbsp;</p>"
   ]
  },
  {
   "cell_type": "markdown",
   "metadata": {},
   "source": [
    "<div style=\"background-color:gold; padding:1em;\">\n",
    "\n",
    "### AURUM\n",
    "\n",
    "$ \\rule{3cm}{0.3pt}\\ \\small \\sf{ kPa } (20)$\n",
    "\n",
    "**Given:** The difference in atmospheric pressure from the base of a mountain to its summit is equivalent to a manometer reading of 159 inches H₂O. The average specific volume of air is 11.8 $\\small \\sf \\ce{ft^3/lbm}$, and the density of water is 62.4 $\\small \\sf \\ce{lbm/ft^3}$.\n",
    "\n",
    "\n",
    "**Find:** The height of the mountain\n",
    "\n",
    "---\n",
    "\n",
    "\n",
    "$\\begin{align*}\n",
    "\\Delta P_{mountain} = \\rho g \\Delta z_{air} &= \\rho g \\Delta z \\big|_{water} \\\\[6pt]\n",
    "                      \\rho_{air} \\Delta z_{air} &= \\rho_{water} \\Delta z_{water} \\\\[6pt]\n",
    "\\end{align*}$   \n",
    "\n",
    "$$$$\n",
    "\n",
    "$ \\displaystyle \\Delta z_{air} = \\frac{\\rho_{water}}{\\rho_{air}}\\Delta z_{water}\n",
    "= v_{air}\\rho_{water}\\Delta z_{water}\n",
    "$\n"
   ]
  },
  {
   "cell_type": "code",
   "execution_count": 4,
   "metadata": {
    "inputHidden": false,
    "outputHidden": false,
    "scrolled": true
   },
   "outputs": [
    {
     "data": {
      "text/plain": [
       "9756.24 ft"
      ]
     },
     "execution_count": 4,
     "metadata": {},
     "output_type": "execute_result"
    }
   ],
   "source": [
    "# aurum\n",
    "Δz_water = 159u\"inch\"\n",
    "v_air = 11.8u\"ft^3/lb\"\n",
    "ρ_water = 62.4u\"lb/ft^3\"\n",
    "\n",
    "Δz_air = v_air * ρ_water * Δz_water |> u\"ft\""
   ]
  },
  {
   "cell_type": "markdown",
   "metadata": {},
   "source": [
    "<p style = \" background-image:  url(./figures/bacgroundTiles.png); line-height: 4em\" >&nbsp;</p>"
   ]
  },
  {
   "cell_type": "markdown",
   "metadata": {},
   "source": [
    "<footer style=\"background-color: #461d7c; color:rgba(253,208,35,0.35); line-height:2em; padding-left:1em; padding-right:0.5em; bottom:0; float:bottom; text-align:right;\"><i>ψᵟ</i></footer>"
   ]
  }
 ],
 "metadata": {
  "kernel_info": {
   "name": "python3"
  },
  "kernelspec": {
   "display_name": "Julia 1.0.0",
   "language": "julia",
   "name": "julia-1.0"
  },
  "language_info": {
   "file_extension": ".jl",
   "mimetype": "application/julia",
   "name": "julia",
   "version": "1.0.0"
  },
  "nteract": {
   "version": "0.11.6"
  }
 },
 "nbformat": 4,
 "nbformat_minor": 2
}

{
 "cells": [
  {
   "cell_type": "markdown",
   "metadata": {},
   "source": [
    "# Classic Manometer\n",
    "A mercury manometer ( $\\rho_{Hg}$ = 13,600 kg/m$^3$) is connected to an air duct to measure the pressure inside. The difference in the manometer levels is 15 mm, and the atmospheric pressure is 100 kPa. (a) Judging from the figure, determine if the pressure in the duct is above or below the atmospheric pressure. (b) Determine the absolute pressure in the duct.   \n",
    "\n",
    "  – *Problem 1-67, Cengel, Y and M. Boles (2014) Thermodynamics: An Engineering Approach 8th Edition, McGraw-Hill*  \n",
    "\n",
    "![Air Duct](./figures/classic_manometer.png)\n"
   ]
  },
  {
   "cell_type": "markdown",
   "metadata": {},
   "source": [
    "<p style=\"background-color: #fff; text-align:center; background-image:'./figures/black-griddles.png'; padding: 0;\">&nbsp;</p>\n",
    "We are working in a ```Jupyter Notebook```, running a ```Python 3``` kernal. We import the ```pint``` package to define, operate and manipulate physical quantities. A little housekeeping follows."
   ]
  },
  {
   "cell_type": "code",
   "execution_count": 2,
   "metadata": {
    "scrolled": false
   },
   "outputs": [
    {
     "name": "stdout",
     "output_type": "stream",
     "text": [
      "Requirement already satisfied: pint in /anaconda3/lib/python3.6/site-packages (0.8.1)\n",
      "\u001b[31mdistributed 1.21.8 requires msgpack, which is not installed.\u001b[0m\n",
      "\u001b[33mYou are using pip version 10.0.1, however version 18.0 is available.\n",
      "You should consider upgrading via the 'pip install --upgrade pip' command.\u001b[0m\n"
     ]
    }
   ],
   "source": [
    "!pip install pint                     # install pint for use by our Python kernal\n",
    "import pint                           # make pint available for use this notebook's code chunks\n",
    "ureg = pint.UnitRegistry()            # shortcut to the pint units registry\n",
    "from IPython.display import Math      # for extra-pretty LaTeX output"
   ]
  },
  {
   "cell_type": "markdown",
   "metadata": {},
   "source": [
    "[jupyter](http://jupyter.org) | [pint](https://pypi.org/project/Pint/) | [pip](https://pip.pypa.io/en/stable/installing/) |  [anaconda](https://www.anaconda.com) | [python](https://www.python.org)\n",
    "<p style=\"background-color: #fff; text-align:center; background-image:'https://notebooks.azure.com/MarcusAshford/libraries/thermoOne/raw/img%2Fgriddles.png';\">&nbsp;</p>"
   ]
  },
  {
   "cell_type": "markdown",
   "metadata": {},
   "source": [
    "### Given"
   ]
  },
  {
   "cell_type": "code",
   "execution_count": 13,
   "metadata": {
    "inputHidden": false,
    "outputHidden": false
   },
   "outputs": [],
   "source": [
    "rho_Hg = 13600 * ureg.kg * ureg.m**(-3)     # density_mercury\n",
    "dh_Hg = 15 * ureg.mm                        # Δh_mercury\n",
    "P_atm = 100 * ureg.kPa                      # atmospheric pressure"
   ]
  },
  {
   "cell_type": "code",
   "execution_count": 14,
   "metadata": {},
   "outputs": [],
   "source": [
    "# Execute each of these in its own cell for pretty display (uncomment first)\n",
    "\n",
    "#  Math(r'\\rho_{{Hg}} = {:L}'.format(rho))      \n",
    "#  Math(r'\\Delta h = {:L}'.format(h))        \n",
    "#  Math(r'P_{{atm}}  = {:L}'.format(P_atm))"
   ]
  },
  {
   "cell_type": "markdown",
   "metadata": {},
   "source": [
    "### Find\n",
    "\n",
    "1. By inpection, is $P_{duct}$ above or below $P_{atm}$?\n",
    "2. $P_{duct}$"
   ]
  },
  {
   "cell_type": "markdown",
   "metadata": {},
   "source": [
    "## Get Organized and Attack\n",
    "\n",
    "The physical principles we employ involve pressure changes in fluids. We must traverse a path between the pressure we want $(P_{duct})$, and a pressure we know $(P_{atm})$, summing the pressure changes along the way. It's best to treat each fluid (or phase) separately; in this case, \n",
    "\n",
    "$$ P_{duct} = P_{atm} + \\Delta P_{outer} + \\Delta P_{Hg} +  \\Delta P_{inner} $$\n",
    "\n",
    "In a quiescent fluid, pressure is *hydrostatic*. That is, the only factor influencing pressure is elevation (depth). In mathematicl terms, \n",
    "\n",
    "$$\n",
    "\\\\\n",
    "\\begin{align}\n",
    "     \\Delta P  & = \\rho g \\Delta h, \\\\ \n",
    "     \\\\\n",
    "     \\textsf{where } \\rho & \\equiv \\textsf{fluid density,} \\\\\n",
    "        g & \\equiv \\textsf{gravitational acceleration value, and} \\\\\n",
    "     \\Delta h & \\equiv \\textsf{change in elevation.} \\\\\n",
    "     \\\\\n",
    "\\end{align}\n",
    "$$\n",
    "\n",
    "**Keep in mind**\n",
    "\n",
    " 1. Pressure increases with depth.  \n",
    "\n",
    " 2. With few exceptions, the densities of gases is so low that **very large** elevation changes are required to produce any meaningful change in hydrostatic pressure. Thus, we can neglect the contributions of $\\Delta P_{inner}$ and $\\Delta P_{outer}$.  \n",
    "\n",
    " 3. Pascal's Law tells us that in a continuous fluid, the pressure is the same everywhere at the same elevation. We disregard the portion of the mercury leg below the level common to both legs; their respective hydrostatic pressure effects negate each other.  "
   ]
  },
  {
   "cell_type": "markdown",
   "metadata": {},
   "source": [
    "### Assumptions\n",
    "\n",
    "1. We are given no information about gravity, so we assume the sea-level gravitational constant. $g = 9.81 \\ ^m ⁄ _{s^2}$\n",
    "2. $\\Delta P_{inner} = \\Delta P_{outer} = 0$"
   ]
  },
  {
   "cell_type": "code",
   "execution_count": 15,
   "metadata": {},
   "outputs": [],
   "source": [
    "g = 1 * ureg.gravity        # gravity is a built-in constant of the pint Python library\n",
    "# Math(r'g = {:L}'.format(g.to(ureg.meter/ureg.second**2)))      # pretty print g in [m/s^2]"
   ]
  },
  {
   "cell_type": "markdown",
   "metadata": {},
   "source": [
    "### Attack\n",
    "\n",
    "Part 1: By inpection, is $P_{duct}$ greater than or less than $P_{atm}$?  \n",
    "\n",
    "> $P_{duct} > P_{atm}$\n",
    ">\n",
    "> The mercury in the leg of the manometer in communication with the atmosphere is pushed up by the higher pressure in the duct. \n",
    "\n",
    "\n",
    "Part 2: Find $P_{duct}$.\n",
    "\n",
    "> $\n",
    "\\begin{align}\n",
    "P_{duct} & = P_{atm} + \\Delta P_{outer} + \\Delta P_{Hg} +  \\Delta P_{inner} \\\\ \n",
    "\\\\\n",
    "& = P_{atm} + 0 + \\Delta P_{Hg} + 0 \\\\\n",
    "\\\\\n",
    "  & = P_{atm} + \\left[ \\rho_{Hg} \\right] \\big[ g \\big] \\left[\\Delta h_{Hg}\\right]  \\\\\n",
    "\\\\\n",
    "  & = \\text{100 kPa } + \\left( \\bigg[13600 \\frac{kg}{m^3} \\bigg]\n",
    "      \\bigg[9.807 \\frac{m}{s^2} \\bigg]\n",
    "      \\bigg[15 \\ mm \\bigg]\n",
    "      \\right) \\left(\n",
    "      \\bigg[\\frac{m}{1000 \\ mm} \\bigg]\n",
    "      \\bigg[\\frac{N}{kg \\cdot m \\cdot s^{-2}} \\bigg]\n",
    "      \\bigg[\\frac{kPa}{1000 \\ N \\cdot m^{-2}} \\bigg]\n",
    "      \\right) \n",
    "\\end{align}\n",
    "$\n",
    "\n"
   ]
  },
  {
   "cell_type": "code",
   "execution_count": 16,
   "metadata": {
    "inputHidden": false,
    "outputHidden": false,
    "scrolled": true
   },
   "outputs": [
    {
     "data": {
      "text/html": [
       "102.0005566 kilopascal"
      ],
      "text/latex": [
       "$102.0005566\\ \\mathrm{kilopascal}$"
      ],
      "text/plain": [
       "<Quantity(102.0005566, 'kilopascal')>"
      ]
     },
     "execution_count": 16,
     "metadata": {},
     "output_type": "execute_result"
    }
   ],
   "source": [
    "P_duct = P_atm + (rho_Hg * g * dh_Hg)          # code\n",
    "P_duct"
   ]
  },
  {
   "cell_type": "code",
   "execution_count": 17,
   "metadata": {
    "scrolled": true
   },
   "outputs": [
    {
     "data": {
      "text/latex": [
       "$$P_{duct} = 102.0005566\\ \\mathrm{kilopascal}$$"
      ],
      "text/plain": [
       "<IPython.core.display.Math object>"
      ]
     },
     "execution_count": 17,
     "metadata": {},
     "output_type": "execute_result"
    }
   ],
   "source": [
    "Math(r'P_{{duct}} = {:L}'.format(P_duct))      # pretty print"
   ]
  },
  {
   "cell_type": "code",
   "execution_count": null,
   "metadata": {},
   "outputs": [],
   "source": []
  }
 ],
 "metadata": {
  "kernel_info": {
   "name": "python3"
  },
  "kernelspec": {
   "display_name": "Python 3",
   "language": "python",
   "name": "python3"
  },
  "language_info": {
   "codemirror_mode": {
    "name": "ipython",
    "version": 3
   },
   "file_extension": ".py",
   "mimetype": "text/x-python",
   "name": "python",
   "nbconvert_exporter": "python",
   "pygments_lexer": "ipython3",
   "version": "3.6.5"
  },
  "nteract": {
   "version": "0.11.6"
  }
 },
 "nbformat": 4,
 "nbformat_minor": 2
}

{
 "cells": [
  {
   "cell_type": "markdown",
   "metadata": {
    "extensions": {
     "jupyter_dashboards": {
      "version": 1,
      "views": {
       "grid_default": {
        "col": 0,
        "height": 4,
        "hidden": true,
        "row": 0,
        "width": null
       },
       "report_default": {
        "hidden": true
       }
      }
     }
    }
   },
   "source": [
    "$\\require{cancel} \\require{mhchem} \\require{bbox} \\require{color} \\require{enclose} \\require{AMSmath} \\require{AMSsymbols} \n",
    "$"
   ]
  },
  {
   "cell_type": "markdown",
   "metadata": {
    "extensions": {
     "jupyter_dashboards": {
      "version": 1,
      "views": {
       "grid_default": {
        "hidden": true
       },
       "report_default": {
        "hidden": false
       }
      }
     }
    }
   },
   "source": [
    "### Given  \n",
    "$\\ce{H2O} \\left\\{ \\begin{align} \\text{T}=220\\ ^\\circ\\text{C} \\\\\n",
    "    \\text{saturated vapor}\n",
    "    \\end{align} \n",
    "    \\right.$\n",
    "\n",
    "### Find \n",
    "Properties: internal energy, specific volume, enthalpy, and entropy.  \n",
    "\n",
    "### Attack \n",
    "1. We are given temperature and quality (saturated vapor $\\rightarrow x = 1$), **two independent properties**, so they fix our state.\n",
    "2. We head to the Saturation Temperture Table and locate the row corresponding to \n",
    "$\\enclose{}[mathbackground=#f1f1f0, mathcolor=#16344a]{\\text{T}= 220\\ ^\\circ \\text{C}}$.\n",
    "\n",
    "    ![03%7C01.png](./figures/0302_sat_temp_table.png)   \n",
    "    \n",
    "\n",
    "3. From the intersection of $\\enclose{}[mathbackground=#f1f1f0, mathcolor=#16344a]{\\text{T}= 220\\ ^\\circ \\text{C}}$ and <span style=\"color:#f1f1f0; background-color:#1a698a; font-family: sans-serif; font-weight:bold; font-size: 1.2em; height: 1.5em; display: inline;\">&nbsp;Saturated Vapor&nbsp;</span>, we get the properties we are seeking:\n",
    "\n",
    "    $\\enclose{}[mathbackground=#f1f1f0, mathcolor=#16344a]{ \\text{P} = \\text P_{sat} = \\text{2318 kPa}\\vphantom{v_g}}$,\n",
    "    $\\enclose{}[mathbackground=#f1f1f0, mathcolor=#16344a]{ v = v_g = 0.08619\\ \\text m^3 \\text{/kg}}$,\n",
    "    $\\enclose{}[mathbackground=#f1f1f0, mathcolor=#16344a]{ u = u_g = 2602.4 \\text{ kJ/kg}}$,\n",
    "    $\\enclose{}[mathbackground=#f1f1f0, mathcolor=#16344a]{ h = h_g = 2802.1 \\text{ kJ/kg}}$, and\n",
    "    $\\enclose{}[mathbackground=#f1f1f0, mathcolor=#16344a]{ s = s_g = 6.2861 \\text{ kJ/kg}\\cdot \\text K}$."
   ]
  }
 ],
 "metadata": {
  "extensions": {
   "jupyter_dashboards": {
    "activeView": "report_default",
    "version": 1,
    "views": {
     "grid_default": {
      "cellMargin": 10,
      "defaultCellHeight": 20,
      "maxColumns": 12,
      "name": "grid",
      "type": "grid"
     },
     "report_default": {
      "name": "report",
      "type": "report"
     }
    }
   }
  },
  "kernelspec": {
   "display_name": "Julia 1.0.0",
   "language": "julia",
   "name": "julia-1.0"
  },
  "language_info": {
   "file_extension": ".jl",
   "mimetype": "application/julia",
   "name": "julia",
   "version": "1.0.0"
  }
 },
 "nbformat": 4,
 "nbformat_minor": 2
}

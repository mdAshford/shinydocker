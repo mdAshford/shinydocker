{
 "cells": [
  {
   "cell_type": "markdown",
   "metadata": {},
   "source": [
    " <div style=\"display:inline-block; position:absolute; top:0; right:0; color: #230e3e; font:italic 1em serif;\">$\\LaTeX$<span style=\"display:inline-block; vertical-align:bottom\">\n",
    "    <a href=\"https://www.mathjax.org\">\n",
    "    <img style=\"height:1.5em\" title=\"Powered by MathJax\"\n",
    "    src=\"https://www.mathjax.org/badge/mj_logo.png\"\n",
    "    border=\"0\" alt=\"Powered by MathJax\" >\n",
    "</a></span></div>\n",
    "\n",
    "<div style=\"display:inline-block; position:absolute; top:0; left:0; color: #230e3e; font:italic 1em serif;\"><a href=\"https://www.julialang.org\">\n",
    "    <img style=\"height:2.25em; vertical-align:top\" title=\"Powered by Julia\"\n",
    "    src=\"./figures/julia-logo-mask.png\"\n",
    "    border=\"0\" alt=\"Powered by Julia\" >\n",
    "</a></div>\n",
    "</a></div>$\\require{cancel} \\require{mhchem} \\require{bbox} \\require{color} \\require{enclose} \\require{AMSmath} \\require{AMSsymbols}$"
   ]
  },
  {
   "cell_type": "markdown",
   "metadata": {},
   "source": [
    "<header style=\"background-color:#e7e2ee; color:#461d7c; line-height:2em; padding-left:1em; padding-right:1em; bottom:0; float:bottom; text-align:right; float:right; font-family:serif; font-size:small;\">Çengel, Y. A., and Boles, M. A. (2001). <i>Thermodynamics: An engineering approach.</i> Boston: McGraw-Hill.\n",
    "</header>"
   ]
  },
  {
   "cell_type": "markdown",
   "metadata": {},
   "source": [
    "**5.112.** A 2 m³ rigid insulated tank initially containing saturated water vapor at 1 MPa is connected through a valve to a supply line that carries steam at 400 °C. Now the valve is opened, and steam is allowed to flow slowly into the tank until the pressure in the tank rises to 2 MPa. At this instant the tank temperature is measured to be 300 °C. Determine the mass of the steam that has entered and the pressure of the steam in the supply line.\n",
    "\n",
    "\n",
    "![Cengelboles7ed4-126](./figures/ch05_cen98179_p05112_lg.7cc78c1912f24303ba7787713d5784c1.jpg)\n"
   ]
  },
  {
   "cell_type": "markdown",
   "metadata": {},
   "source": [
    "### Given\n",
    " \n",
    " 1. $V = 2\\, m^3 \\\\[6pt]$    \n",
    "    \n",
    " 3. $T_{supply} = 400\\, \\text{°C} \\\\[6pt]$    \n",
    " \n",
    " 4. $\\ce{H2O} \\left\\{ \n",
    "    \\begin{align*} \n",
    "       P_{initial} &= 1\\, \\text{MPa} \\\\\n",
    "       x_{initial}  &=  1 \n",
    "    \\end{align*} \n",
    "    \\right. \\quad \\Longrightarrow \\quad$  $ \\left\\{ \n",
    "    \\begin{align*} \n",
    "       P_{final} &= 2\\, \\text{MPa} \\\\\n",
    "       T_{final}  &=  300\\, \\text{°C}\n",
    "    \\end{align*} \n",
    "    \\right. $ \n",
    " "
   ]
  },
  {
   "cell_type": "markdown",
   "metadata": {},
   "source": [
    "### Find\n",
    "<ol type=\"A\" >\n",
    "  \n",
    "  1. $m_{in}$     \n",
    "  2. $P_{supply}$ \n"
   ]
  },
  {
   "cell_type": "markdown",
   "metadata": {},
   "source": [
    "### Get Organized   "
   ]
  },
  {
   "cell_type": "markdown",
   "metadata": {},
   "source": [
    "First, we observe that this is NOT a steady state process. Energy and/or mass of the system are changing in time. Remember, we must account for our system spatially and temporally. It's not difficult if you stay organized. We are given enough information to resolve two of the three states we need (_initial, final, supply_). Let's go through all the information we need to find in order to answer the questions.  \n",
    "<ol type=\"A\" >\n",
    "    \n",
    "1. **Mass entered,   $m_{in}$**   \n",
    "  Apply continuity (aka conservation of mass)   \n",
    "  \n",
    "  \\begin{array}{ccccc}\n",
    "    m_{in} &-& m_{out} &=& \\Delta m_{sys}  \\\\[6pt]\n",
    "    m_{in} &&  &=& m_{final} - m_{initial}  \\\\[6pt]\n",
    "    m_{in} &&  &=& \\displaystyle \\frac{V}{v_{final}} - \\frac{V}{v_{initial}}  \\\\\n",
    "  \\end{array}  \n",
    "\n",
    "  We get $m_{in}$ once we resolve initial and final states.\n",
    "  \n",
    "  "
   ]
  },
  {
   "cell_type": "markdown",
   "metadata": {},
   "source": [
    "<ol type=\"A\" >  \n",
    "    \n",
    "2. **Supply pressure $P_{supply}$**     \n",
    "\n",
    " We can determine supply pressure by resolving the state of the supply steam. For this, we apply the conservation of energy. We already know $T_{supply},$ so we can resolve the state with an independant property. If the steam were modeled as an ideal gas, we would have other options, but we try to  avoid using the ideal gas approach with any fluids that may change phase, like **STEAM**. $ \\\\[12pt]$\n",
    "   \n",
    " <div class=\"panel-warning\"><div class=\"panel-heading\"><div class=\"badge\">note</div>$ \\ $ Typically, in unsteady flow systems, you cannot eliminate mass terms via division. Stay vigilant.</div></div>    \n",
    "  \n",
    "  \\begin{array}{ccccc}\n",
    "    E_{in} &-& E_{out} &=& \\Delta E_{sys}  \\\\[6pt]\n",
    "    H_{in} &&  &=& U_{sys,final} - U_{sys,initial} \\\\[6pt]\n",
    "    m_{in} h_{supply} &&  &=& m_{final} u_{final} - m_{initial} u_{initial}  \\\\[6pt]\n",
    "  \\end{array}   \n",
    "  \n",
    "  We calculated the mass terms already. We get $u_{initial}$ and $u_{final}$ from the tables. Enthapy and pressure are independent, so solve the energy equation for $h_{supply},$ then use it to find $P_{supply}.$\n",
    "\n"
   ]
  },
  {
   "cell_type": "markdown",
   "metadata": {},
   "source": [
    "### Attack "
   ]
  },
  {
   "cell_type": "markdown",
   "metadata": {},
   "source": [
    " Today, we'll use Julia, with _Unitful.jl_, a package for calculation with physical units."
   ]
  },
  {
   "cell_type": "code",
   "execution_count": 1,
   "metadata": {},
   "outputs": [],
   "source": [
    "using Unitful;       # Unitful units package"
   ]
  },
  {
   "cell_type": "markdown",
   "metadata": {},
   "source": [
    "Look up your properties, and get to work.   \n",
    "\n",
    "  $\\quad \\ce{H2O} \\left| \\begin{array}{ll} \n",
    "         \\begin{subarray}{l}{\\textit{1 MPa}}\\\\{\\textit{sat vapor}}\\end{subarray} & v_{initial} = 0.1944\\, \\ce{m^3/kg}  & u_{initial} = 2583.6\\, \\ce{kJ/kg} \\\\\n",
    "         \\begin{subarray}{l}{\\textit{2 MPa}}\\\\{\\textit{300 °C}}\\end{subarray} & v_{final} = 0.1254\\, \\ce{m^3/kg} &  u_{final} = 2772.15\\, \\ce{kJ/kg}\n",
    "         \\end{array}\\right.$"
   ]
  },
  {
   "cell_type": "code",
   "execution_count": 2,
   "metadata": {},
   "outputs": [],
   "source": [
    "v_initial = 0.1944u\"m^3/kg\"\n",
    "v_final = 0.1254u\"m^3/kg\"\n",
    "u_initial = 2583.6u\"kJ/kg\"\n",
    "u_final = 2772.15u\"kJ/kg\";"
   ]
  },
  {
   "cell_type": "markdown",
   "metadata": {},
   "source": [
    "<p style = \"width:100vw; background-image:  url(./figures/bacgroundTiles.png); line-height: 0.35em\" >&nbsp;</p>"
   ]
  },
  {
   "cell_type": "markdown",
   "metadata": {},
   "source": [
    "<ol type=\"A\">\n",
    "    \n",
    "1. **Mass entered,   $m_{in}$**   \n",
    "\n",
    " $\\displaystyle m_{in} = m_{final} - m_{initial} = \\frac{V}{v_{final}} - \\frac{V}{v_{initial}}$"
   ]
  },
  {
   "cell_type": "code",
   "execution_count": 3,
   "metadata": {},
   "outputs": [
    {
     "data": {
      "text/plain": [
       "5.660897473762969 kg"
      ]
     },
     "execution_count": 3,
     "metadata": {},
     "output_type": "execute_result"
    }
   ],
   "source": [
    "V = 2u\"m^3\"  # Given\n",
    "\n",
    "m_initial = V / v_initial\n",
    "m_final = V / v_final\n",
    "\n",
    "m_in = m_final - m_initial"
   ]
  },
  {
   "cell_type": "markdown",
   "metadata": {},
   "source": [
    "<div class=\"panel-success\"><div class=\"panel-heading\"><div class=\"badge\">1</div>\n",
    "$\\ \\normalsize m_{in} = 5.661\\, \\ce{kg}$\n",
    "</div></div>"
   ]
  },
  {
   "cell_type": "markdown",
   "metadata": {},
   "source": [
    "<p style = \"width:100vw; background-image:  url(./figures/bacgroundTiles.png); line-height: 0.35em\" >&nbsp;</p>"
   ]
  },
  {
   "cell_type": "markdown",
   "metadata": {},
   "source": [
    "<ol type=\"A\">\n",
    "    \n",
    "2. **Supply pressure $P_{supply}$**     \n",
    "\n",
    "  Solve the energy equation for $h_{supply},$ then use it to find $P_{supply}.$    \n",
    "  \n",
    "  $ \\displaystyle h_{supply} = \\frac{m_{final} u_{final} - m_{initial} u_{initial}}{m_{in}} $"
   ]
  },
  {
   "cell_type": "code",
   "execution_count": 4,
   "metadata": {},
   "outputs": [
    {
     "data": {
      "text/plain": [
       "3114.8191304347824 kJ kg^-1"
      ]
     },
     "execution_count": 4,
     "metadata": {},
     "output_type": "execute_result"
    }
   ],
   "source": [
    "h_supply = (m_final*u_final - m_initial*u_initial) / m_in"
   ]
  },
  {
   "cell_type": "markdown",
   "metadata": {},
   "source": [
    "<ul>\n",
    "Now, set the final state for the steam supply.\n",
    "    $\\quad \\ce{H2O}\\left|\\small \\begin{array}{ll} T = 400\\, °C \n",
    "    \\\\[-12pt] h = 3114.819\\, \\ce{kJ/kg} \\end{array} \\right.$   \n",
    "    \n",
    "We have to interpolate in the superheat table to determine the pressure. Find two states at 400 °C with enthalpies that bracket $h_{supply}.$\n",
    "\n",
    "   $\\ce{H2O}\\left|_{400\\, °C}\\right. \\quad \\small \\begin{array}{c|c|c|l} \n",
    "      P & 80\\, & 100 & \\ce{bar} \\\\[-12pt] \n",
    "      h & 3138.3\\,  &3096.5 & \\ce{kJ/kg} \\end{array} $   \n",
    " \n"
   ]
  },
  {
   "cell_type": "code",
   "execution_count": 5,
   "metadata": {},
   "outputs": [
    {
     "data": {
      "text/plain": [
       "91.2348658206783 bar"
      ]
     },
     "execution_count": 5,
     "metadata": {},
     "output_type": "execute_result"
    }
   ],
   "source": [
    "P = [  80     100  ]u\"bar\"\n",
    "h = [3138.3  3096.5]u\"kJ/kg\"\n",
    "\n",
    "P_supply = P[1] + (P[2] - P[1])*(h_supply - h[1]) / (h[2] - h[1]) "
   ]
  },
  {
   "cell_type": "markdown",
   "metadata": {},
   "source": [
    "<div class=\"panel-success\"><div class=\"panel-heading\"><div class=\"badge\">2</div>\n",
    "$\\ \\normalsize P_{supply} = 91.23\\, \\ce{bar}$\n",
    "</div></div>"
   ]
  },
  {
   "cell_type": "markdown",
   "metadata": {},
   "source": [
    "<footer style=\"background-color: #461d7c; color:rgba(253,208,35,0.35); line-height:2em; padding-left:1em; padding-right:0.5em; bottom:0; float:bottom; text-align:right;\"><i>ψᵟ</i></footer>"
   ]
  }
 ],
 "metadata": {
  "kernelspec": {
   "display_name": "Julia 1.0.2",
   "language": "julia",
   "name": "julia-1.0"
  },
  "language_info": {
   "file_extension": ".jl",
   "mimetype": "application/julia",
   "name": "julia",
   "version": "1.0.2"
  }
 },
 "nbformat": 4,
 "nbformat_minor": 2
}

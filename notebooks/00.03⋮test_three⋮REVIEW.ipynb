{
 "cells": [
  {
   "cell_type": "markdown",
   "metadata": {},
   "source": [
    " <div style=\"display:inline-block; position:absolute; top:0; right:0; color: #230e3e; font:italic 1em serif;\">$\\LaTeX$<span style=\"display:inline-block; vertical-align:bottom\">\n",
    "    <a href=\"https://www.mathjax.org\">\n",
    "    <img style=\"height:1.5em\" title=\"Powered by MathJax\"\n",
    "    src=\"https://www.mathjax.org/badge/mj_logo.png\"\n",
    "    border=\"0\" alt=\"Powered by MathJax\" >\n",
    "</a></span></div>\n",
    "<div style=\"display:inline-block; position:absolute; top:0; left:0; color: #230e3e; font:italic 1em serif;\"><a href=\"https://www.julialang.org\">\n",
    "    <img style=\"height:1.75em; vertical-align:top\" title=\"Powered by Julia\"\n",
    "    src=\"./figures/julia-logo-mask.png\"\n",
    "    border=\"0\" alt=\"Powered by Julia\" >\n",
    "</a></div>"
   ]
  },
  {
   "cell_type": "markdown",
   "metadata": {},
   "source": [
    "<div style=\"text-align:center; font-weight:bold; border:solid 1px; background-color:#dfe1ee;\">\n",
    "ME215: Thermodynamics I⋮Test Three REVIEW⋮12 November 2018\n",
    "</div>"
   ]
  },
  {
   "cell_type": "code",
   "execution_count": 1,
   "metadata": {},
   "outputs": [],
   "source": [
    "using Unitful     # units package for Julia"
   ]
  },
  {
   "cell_type": "markdown",
   "metadata": {},
   "source": [
    "<p style = \" background-image:  url(./figures/bacgroundTiles.png); line-height: 0.35em\" >&nbsp;</p>"
   ]
  },
  {
   "cell_type": "markdown",
   "metadata": {},
   "source": [
    "**Air enters a compressor operating at steady state at 1 atm with a specific enthalpy of 290 kJ/kg and exits at a higher pressure with a specific enthalpy of 1023 kJ/kg. The mass flow rate is 0.1 kg/s. Kinetic and potential energy effects are negligible and the air can be modeled as an ideal gas. If the compressor power input is 77 kW, find the rate of heat transfer between the air and its surroundings.**  \n",
    "\n",
    " We have one inlet and one outlet, so the conservation of mass is trivial. \n",
    " \n",
    " By conservation of energy:  \n",
    " \n",
    "\\begin{array}{ccccl}\n",
    "  E_{in} &-& E_{out} &=&  \\frac{d}{dt}E_{sys}  \\\\\n",
    "  \\dot m h_{in} + Q_{in} + W_{in} &-& \\dot m h_{out} &=& 0 \\\\\n",
    "\\end{array}\n",
    "$$ \\vdots $$\n",
    "\n",
    "$$  Q_{out} = - Q_{in} = \\dot m \\left( h_{in} -  h_{out} \\right)  + W_{in}  $$\n",
    "\n"
   ]
  },
  {
   "cell_type": "code",
   "execution_count": 3,
   "metadata": {
    "scrolled": true
   },
   "outputs": [
    {
     "name": "stdout",
     "output_type": "stream",
     "text": [
      "Q̇_out = 3.7 kW\n"
     ]
    }
   ],
   "source": [
    "ṁ = 0.1u\"kg/s\"\n",
    "h_in = 290u\"kJ/kg\"\n",
    "h_out = 1023u\"kJ/kg\"\n",
    "Ẇ_in = 77u\"kW\"\n",
    "\n",
    "Q̇_out = ṁ * (h_in - h_out) + Ẇ_in |> u\"kW\"\n",
    "println(\"Q̇_out = \", Q̇_out)"
   ]
  },
  {
   "cell_type": "markdown",
   "metadata": {},
   "source": [
    "<p style = \" background-image:  url(./figures/bacgroundTiles.png); line-height: 0.35em\" >&nbsp;</p>"
   ]
  },
  {
   "cell_type": "markdown",
   "metadata": {},
   "source": [
    "**Steam enters a 4.4 cm diameter pipe at 80 bar and 700°C with a velocity of 150 m/s. Determine the mass flow rate, in kg/s.**  \n",
    " \n",
    "$ \\displaystyle \\dot m = \\rho \\overrightarrow VA = \\frac{\\overrightarrow VA}{v} = \\frac{\\overrightarrow V \\left( \\frac \\pi 4 d^2 \\right)}{v}$\n"
   ]
  },
  {
   "cell_type": "code",
   "execution_count": 13,
   "metadata": {},
   "outputs": [
    {
     "name": "stdout",
     "output_type": "stream",
     "text": [
      "ṁ = 4.707525833862106 kg s^-1\n"
     ]
    }
   ],
   "source": [
    "d = 4.4u\"cm\"\n",
    "V⃑ = 150u\"m/s\"\n",
    "v = 0.04845u\"m^3/kg\"\n",
    "\n",
    "ṁ = V⃑ * pi/4 * d^2 / v |> u\"kg/s\"\n",
    "println(\"ṁ = \", ṁ)"
   ]
  },
  {
   "cell_type": "markdown",
   "metadata": {},
   "source": [
    "<p style = \" background-image:  url(./figures/bacgroundTiles.png); line-height: 0.35em\" >&nbsp;</p>"
   ]
  },
  {
   "cell_type": "markdown",
   "metadata": {},
   "source": [
    "**Steam expands in a turbine from 6 MPa and 400°C to 0.1 MPa and 160°C at a rate of 1.2 kg/s. Heat is lost from the turbine at a rate of 34 kJ/s during the process. Find the power output of the turbine.**  \n",
    "\n",
    " We have one inlet and one outlet, so the conservation of mass is trivial. \n",
    " \n",
    " By conservation of energy:  \n",
    " \n",
    "\\begin{array}{ccccl}\n",
    "  E_{in} &-& E_{out} &=&  \\frac{d}{dt}E_{sys}  \\\\\n",
    "  \\dot m h_{in} &-& \\dot m h_{out} - Q_{out} - W_{out} &=& 0 \\\\ \\\\ \n",
    "\\end{array}\n",
    "$$ \\vdots $$\n",
    "\n",
    "$$  W_{out} = \\dot m \\left( h_{in} -  h_{out} \\right)  - Q_{out}  $$\n",
    "\n"
   ]
  },
  {
   "cell_type": "code",
   "execution_count": 16,
   "metadata": {
    "scrolled": true
   },
   "outputs": [
    {
     "name": "stdout",
     "output_type": "stream",
     "text": [
      "Ẇ_out = 423.2 kW\n"
     ]
    }
   ],
   "source": [
    "ṁ = 1.2u\"kg/s\"\n",
    "h_in = 3177.2u\"kJ/kg\"\n",
    "h_out = 2796.2u\"kJ/kg\"\n",
    "Q̇_out = 34u\"kJ/s\"\n",
    "\n",
    "Ẇ_out = ṁ * (h_in - h_out) - Q̇_out |> u\"kW\"\n",
    "println(\"Ẇ_out = \", Ẇ_out)"
   ]
  },
  {
   "cell_type": "code",
   "execution_count": 17,
   "metadata": {
    "scrolled": true
   },
   "outputs": [
    {
     "name": "stdout",
     "output_type": "stream",
     "text": [
      "Ẇ_out = 812.7199999999999 kW\n"
     ]
    }
   ],
   "source": [
    "ṁ = 1.2u\"kg/s\"\n",
    "h_in = 3422.2u\"kJ/kg\"\n",
    "h_out = 2716.6u\"kJ/kg\"\n",
    "Q̇_out = 34u\"kJ/s\"\n",
    "\n",
    "Ẇ_out = ṁ * (h_in - h_out) - Q̇_out |> u\"kW\"\n",
    "println(\"Ẇ_out = \", Ẇ_out)"
   ]
  },
  {
   "cell_type": "markdown",
   "metadata": {},
   "source": [
    "<p style = \" background-image:  url(./figures/bacgroundTiles.png); line-height: 0.35em\" >&nbsp;</p>"
   ]
  },
  {
   "cell_type": "markdown",
   "metadata": {},
   "source": [
    "**True/False: The amount of mass entering a control volume must be equal to the amount of mass leaving?**   \n",
    "\n",
    "  **FALSE** Under unsteady flow, the mass entering often does not equal the mass leaving.   "
   ]
  },
  {
   "cell_type": "markdown",
   "metadata": {},
   "source": [
    "<p style = \" background-image:  url(./figures/bacgroundTiles.png); line-height: 0.35em\" >&nbsp;</p>"
   ]
  },
  {
   "cell_type": "markdown",
   "metadata": {},
   "source": [
    "**True/False: For a one-inlet, one-exit control volume at steady state, the mass flow rates at the inlet and exit are equal but the inlet and exit volumetric flow rates may not be equal.**   \n",
    "\n",
    "  **TRUE** Mass is conserved; volume is not.   "
   ]
  },
  {
   "cell_type": "markdown",
   "metadata": {},
   "source": [
    "<p style = \" background-image:  url(./figures/bacgroundTiles.png); line-height: 0.35em\" >&nbsp;</p>"
   ]
  },
  {
   "cell_type": "markdown",
   "metadata": {},
   "source": [
    "**Use the following terms to name the 5 devices listed below  \n",
    "\tCompressor | Diffuser | Nozzle | Pump | Turbine\t| Throttle | Mixing Chamber**\n",
    "    \n",
    "  **Nozzle** — A flow passage of varying cross-sectional area in which the velocity of a gas or liquid increases in the direction of flow  \n",
    "  **Compressor** — A device in which work is done on a gas to increase the pressure and/or elevation  \n",
    "  **Turbine** — A device in which power is developed as a result of a gas or liquid passing through a set of blades attached to a shaft free to rotate.  \n",
    "  **Pump** — A device in which work is done on a liquid to increase the pressure and/or elevation  \n",
    "**Diffuser** — A flow passage of varying cross-sectional area in which the velocity of a gas or liquid decreases in the direction of flow  \n"
   ]
  },
  {
   "cell_type": "markdown",
   "metadata": {},
   "source": [
    "<footer style=\"background-color: #461d7c; color:rgba(253,208,35,0.35); line-height:2em; padding-left:1em; padding-right:0.5em; bottom:0; float:bottom; text-align:right;\"><i>ψᵟ</i></footer>"
   ]
  }
 ],
 "metadata": {
  "kernelspec": {
   "display_name": "Julia 1.0.0",
   "language": "julia",
   "name": "julia-1.0"
  },
  "language_info": {
   "file_extension": ".jl",
   "mimetype": "application/julia",
   "name": "julia",
   "version": "1.0.0"
  },
  "toc": {
   "base_numbering": 1,
   "nav_menu": {},
   "number_sections": true,
   "sideBar": true,
   "skip_h1_title": false,
   "title_cell": "Table of Contents",
   "title_sidebar": "Contents",
   "toc_cell": false,
   "toc_position": {},
   "toc_section_display": true,
   "toc_window_display": false
  },
  "varInspector": {
   "cols": {
    "lenName": 16,
    "lenType": 16,
    "lenVar": 40
   },
   "kernels_config": {
    "python": {
     "delete_cmd_postfix": "",
     "delete_cmd_prefix": "del ",
     "library": "var_list.py",
     "varRefreshCmd": "print(var_dic_list())"
    },
    "r": {
     "delete_cmd_postfix": ") ",
     "delete_cmd_prefix": "rm(",
     "library": "var_list.r",
     "varRefreshCmd": "cat(var_dic_list()) "
    }
   },
   "types_to_exclude": [
    "module",
    "function",
    "builtin_function_or_method",
    "instance",
    "_Feature"
   ],
   "window_display": true
  }
 },
 "nbformat": 4,
 "nbformat_minor": 2
}

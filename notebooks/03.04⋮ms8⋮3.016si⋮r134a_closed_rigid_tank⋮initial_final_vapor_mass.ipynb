{
 "cells": [
  {
   "cell_type": "markdown",
   "metadata": {},
   "source": [
    "$\\require{cancel}  \\require{bbox} \\require{color} \\require{enclose} \\require{AMSmath} \\require{AMSsymbols} \\require{sinuitx} \\require{mhchem}$\n",
    "<div style=\"display:inline-block; position:absolute; top:0; right:0; color: #461d7c; font:serif;\">typeset with love, in $\\LaTeX$</div>"
   ]
  },
  {
   "cell_type": "markdown",
   "metadata": {},
   "source": [
    "# Problem 3.016 SI\n",
    "A closed, rigid tank whose volume is $1.8\\ \\ce{m^3}$ contains Refrigerant-134a, initially a two-phase liquid–vapor mixture at 10 °C. The refrigerant is heated to a final state where temperature is 50 °C and quality is 100%. \n",
    "\n",
    "Determine the mass of vapor present at the initial and final states, each in kg."
   ]
  },
  {
   "cell_type": "markdown",
   "metadata": {},
   "source": [
    "### Given  \n",
    "\n",
    "R134a   \n",
    "1. Two-phase liquid–vapor mixture: $T_1 = 10\\ \\text{°C},\\ V_1 = 1.8\\ \\ce{m^3}$    \n",
    "2. Quality = 100% (saturated vapor): $T_2 = 50\\ \\text{°C},\\ V_2 = V_1$   "
   ]
  },
  {
   "cell_type": "markdown",
   "metadata": {},
   "source": [
    "### Find\n",
    "1. $m_{1,vapor}$  \n",
    "2. $m_{2,vapor}$  \n",
    "\n"
   ]
  },
  {
   "cell_type": "markdown",
   "metadata": {},
   "source": [
    "### Get Organized  \n",
    "Often, it isn't easy to know where to begin. The best place to start is anywhere you can define a state. Relate the states to each other via the processes that connect them. \n",
    "\n",
    "$$ \\color{#16344a} \\colorbox{#f1f1f0}{State A} \\xrightarrow{process} \\color{#16344a} \\colorbox{#f1f1f0}{State B} \n",
    "$$"
   ]
  },
  {
   "cell_type": "markdown",
   "metadata": {},
   "source": [
    "1. Our system is inside a rigid tank $\\rightarrow$ **constant volume process**. We're being asked to find mass, so there's a good chance specific volume $\\left(v = \\frac{V}{m}\\right)$ will be involved.  \n",
    "\n",
    "\n",
    "2. We are asked to find $m_{vapor}$, so we expect quality $\\left(x = \\frac{m_{vapor}}{m_{total}}\\right)$ may be needed.  \n",
    "\n",
    "\n",
    "3. We are not given enough information to define State ⓵. However, State ⓶ can be resolved and we know the states are connected by a constant volume process:   \n",
    "\n",
    "  a) \n",
    "  \\begin{equation} \\Large{⓵} \\normalsize \\xrightarrow{\\text{constant volume}} \\Large{⓶} \\end{equation}   \n",
    "\n",
    "  \\begin{equation}  \n",
    "   V_1 = V_2 = V_{sys} \\label{e1}\n",
    "  \\end{equation} \n",
    "\n",
    " b) Closed system $\\rightarrow$ system mass is constant   \n",
    "    \n",
    "   \\begin{equation}  m_1 = m_2 = m_{sys} \\label{e2} \\end{equation}  \n",
    "    \n",
    " c) From (a) and (b) $\\rightarrow$ constant specific volume  \n",
    "   \\begin{equation} v_1 = v_2 = v_{sys}  \\end{equation}"
   ]
  },
  {
   "cell_type": "markdown",
   "metadata": {},
   "source": [
    "#### Plan your attack\n",
    "\n",
    "1. We start with State ⓶ because we have enough information to specify the state. We need to calculate the mass of vapor in the system $\\left( m_{2,vapor} \\right)$. We are told the system consists of saturated vapor, so  \n",
    " \n",
    " \\begin{equation}  m_{2,vapor} = m_{sys} \\label{e4}  \\end{equation}  \n",
    " \n",
    "  Now we seek $m_{sys},$ but we have $V_{sys}.$ No problem... specific volume relates the two:\n",
    " \n",
    "  \\begin{equation}  v_{sys} =  \\frac{V_{sys}}{m_{sys}} \\label{e5} \\end{equation}   \n",
    " \n",
    " A little algebra yields an expression for $m_{2,vapor},$ where specific volume is the only unknown, and that can be retrieved from the property tables.  \n",
    "    \n",
    " \\begin{equation}  m_{2,vapor} =  \\frac{V_{sys}}{v_{sys}} = m_{sys}  \\end{equation}   \n",
    "\n",
    "---\n",
    "        \n",
    "2. The vapor mass of a system can be calculated from total mass and quality. \n",
    "\n",
    "  \\begin{equation} x = \\frac{m_{vapor}}{m_{total}} \\end{equation} \n",
    "  \n",
    "  In our case,   \n",
    "  \n",
    "  $$m_{1,vapor} = x_1 \\cdot m_{1,total} = x_1 \\cdot m_{sys}, \\\\[12pt]$$  \n",
    "  \n",
    "  so once we determine quality $x_1,$ we can complete the vapor mass calculation."
   ]
  },
  {
   "cell_type": "markdown",
   "metadata": {},
   "source": [
    "### Attack\n",
    "\n",
    " 1. Get $v_{sys} = v_{g,2}$ by resolving $\\ \\text{⓶ = R134a} \\left\\{ \\begin{alignat*}{1} \n",
    "         & \\text{T}_2 = 50\\ ^\\circ\\text{C} \\\\\n",
    "          & \\text{sat vapor}\n",
    "        \\end{alignat*} \\right.$\n",
    "        \n",
    "     ![./figures/0303_sat_pressure_table.png](./figures/ms3.016si⋮r134a_sat_temp_table.png)\n",
    "        \n",
    " Our target temperature is halfway between the closest temperature entries in our table, so interpolation yields the mean of the relevant specific volumes: $v_\\text{g,50 ℃} = \\text{average(0.0159, 0.0142)} = \\enclose{}[mathbackground=#f1f1f0, mathcolor=#16344a]{0.01505\\ \\ce{m^3/kg} = v_{g,2}}$ \n",
    " \n",
    " $$m_{2,vapor} = m_{sys} =  \\frac{V_{sys}}{v_{g,2}} = \\frac{1.8\\ \\ce{m^3}}{\\enclose{}[mathbackground=#f1f1f0, mathcolor=#16344a]{0.01505\\ \\ce{m^3/kg}}}$$ \n",
    " \n",
    " $$\\color{red}m_{2,vapor} = 119.6\\ \\ce{kg}$$"
   ]
  },
  {
   "cell_type": "code",
   "execution_count": 1,
   "metadata": {},
   "outputs": [],
   "source": [
    "# ⋮⋮⋮⋮⋮ Julia initializations and setups ⋮⋮⋮⋮⋮⋮⋮⋮⋮⋮⋮⋮⋮⋮⋮⋮⋮⋮⋮⋮⋮⋮⋮⋮⋮⋮⋮⋮⋮⋮⋮⋮⋮⋮⋮⋮⋮⋮⋮⋮\n",
    "using Unitful;                 # units package for Julia\n",
    "const m = u\"m\", kg = u\"kg\";    # these constants allow cleaner appl of Unitful units"
   ]
  },
  {
   "cell_type": "code",
   "execution_count": 2,
   "metadata": {},
   "outputs": [
    {
     "data": {
      "text/plain": [
       "119.60132890365448 kg"
      ]
     },
     "execution_count": 2,
     "metadata": {},
     "output_type": "execute_result"
    }
   ],
   "source": [
    "# ⋮⋮⋮⋮⋮ calculate m_2,vapor ⋮⋮⋮⋮⋮⋮⋮⋮⋮⋮⋮⋮⋮⋮⋮⋮⋮⋮⋮⋮⋮⋮⋮⋮⋮⋮⋮⋮⋮⋮⋮⋮⋮⋮⋮⋮⋮⋮⋮⋮⋮⋮⋮⋮⋮⋮⋮⋮⋮⋮⋮⋮⋮⋮⋮⋮⋮⋮⋮\n",
    "v_g2 = (  (0.0159 + 0.0142) / 2  )m^3/kg\n",
    "V_sys = 1.8m^3\n",
    "m_sys = V_sys / v_g2"
   ]
  },
  {
   "cell_type": "markdown",
   "metadata": {},
   "source": [
    "<p style = \"width:100vw; background-image:  url(./figures/bacgroundTiles.png); line-height: 0.5em\" >&nbsp;</p>"
   ]
  },
  {
   "cell_type": "markdown",
   "metadata": {},
   "source": [
    "  2. We've established that $m_{1,vapor} = x_1 \\cdot m_{sys}$. We already calculated $m_{sys},$ and we get $x_1$ by resolving $\\ \\text{⓵ = R134a} \\left\\{ \\begin{alignat*}{1} \n",
    "        & \\text{T}_1=10\\ ^\\circ\\text{C} \\\\\n",
    "        & \\enclose{}[mathbackground=#f1f1f0, mathcolor=#16344a]{v_1 = 0.01505\\ \\ce{m^3/kg}}\n",
    "        \\end{alignat*} \\right.$  \n",
    "        \n",
    "  We must determine which table we need. As usual, we try the saturation tables first.  \n",
    "        \n",
    "  ![./figures/0303_sat_pressure_table.png](./figures/ms3.016si⋮r134a_sat_temp_table_2.png)     \n",
    "  \n",
    "   Again, our  temperature is between (fortunately, halfway) its closest neighbors in the table, so interpolation will be necessary. We'll need both $v_f$ and $v_g$ to calculate quality, so we interpolate to get both at 10 ℃. We note that  $v_{f\\text{,10 ℃}} < v_1 < v_{g\\text{,10 ℃}}\\ ,$ which confirms that we have the correct table. \n",
    "\n",
    "   ![./figures/0303_sat_pressure_table.png](./figures/ms3.016si⋮twice_interpolate.png)     \n",
    "\n",
    "   Calculate quality:  \n",
    " \n",
    "   $$ x_1 = \\frac{v_1 - v_f}{v_g - v_f} =\n",
    "  \\frac{\\enclose{}[mathbackground=#f1f1f0, mathcolor=#16344a]{0.01505\\ \\ce{m^3/kg}} -\n",
    "    \\enclose{}[mathbackground=#f1f1f0, mathcolor=#16344a]{0.00079275\\ \\ce{m^3/kg}}}\n",
    "   {\\enclose{}[mathbackground=#f1f1f0, mathcolor=#16344a]{0.04925\\ \\ce{m^3/kg}} -\n",
    "    \\enclose{}[mathbackground=#f1f1f0, mathcolor=#16344a]{0.00079275\\ \\ce{m^3/kg}}}\n",
    "    = 0.294 $$  \n",
    " \n",
    "   Calculate vapor mass:  \n",
    " \n",
    "   $$m_{1,vapor} = \\left( 0.294 \\right) \\left( 119.6\\ \\ce{kg}\\right)$$\n",
    "   \n",
    "   $$ \\color{red}m_{1,vapor} = 35.19\\ \\ce{kg} $$\n",
    "  "
   ]
  },
  {
   "cell_type": "code",
   "execution_count": 3,
   "metadata": {},
   "outputs": [
    {
     "data": {
      "text/plain": [
       "0.29422325864550714"
      ]
     },
     "execution_count": 3,
     "metadata": {},
     "output_type": "execute_result"
    }
   ],
   "source": [
    "# ⋮⋮⋮⋮⋮ calculate x_1 ⋮⋮⋮⋮⋮⋮⋮⋮⋮⋮⋮⋮⋮⋮⋮⋮⋮⋮⋮⋮⋮⋮⋮⋮⋮⋮⋮⋮⋮⋮⋮⋮⋮⋮⋮⋮⋮⋮⋮⋮⋮⋮⋮⋮⋮⋮⋮⋮⋮⋮⋮⋮⋮⋮⋮⋮⋮⋮⋮⋮⋮⋮⋮⋮⋮⋮⋮⋮\n",
    "v_1 = v_g2\n",
    "v_f10C = ((0.0007884 + 0.0007971)/2)m^3/kg\n",
    "v_g10C = ((0.0525 + 0.0460)/2)m^3/kg\n",
    "x_1 = (v_1 - v_f10C)/(v_g10C - v_f10C)"
   ]
  },
  {
   "cell_type": "code",
   "execution_count": 4,
   "metadata": {},
   "outputs": [
    {
     "data": {
      "text/plain": [
       "35.1894927283663 kg"
      ]
     },
     "execution_count": 4,
     "metadata": {},
     "output_type": "execute_result"
    }
   ],
   "source": [
    "# ⋮⋮⋮⋮⋮ calculate m_1,vapor ⋮⋮⋮⋮⋮⋮⋮⋮⋮⋮⋮⋮⋮⋮⋮⋮⋮⋮⋮⋮⋮⋮⋮⋮⋮⋮⋮⋮⋮⋮⋮⋮⋮⋮⋮⋮⋮⋮⋮⋮⋮⋮⋮⋮⋮⋮⋮⋮⋮⋮⋮⋮⋮⋮⋮⋮⋮⋮⋮\n",
    "m_1vapor = x_1 * m_sys"
   ]
  },
  {
   "cell_type": "markdown",
   "metadata": {},
   "source": [
    "<footer style=\"background-color: #461d7c; color:rgba(253,208,35,0.35); line-height:2em; padding-left:1em; padding-right:0.5em; bottom:0; float:bottom; text-align:right;\"><i>ψᵟ</i></footer>"
   ]
  }
 ],
 "metadata": {
  "kernelspec": {
   "display_name": "Julia 1.0.0",
   "language": "julia",
   "name": "julia-1.0"
  },
  "language_info": {
   "file_extension": ".jl",
   "mimetype": "application/julia",
   "name": "julia",
   "version": "1.0.0"
  }
 },
 "nbformat": 4,
 "nbformat_minor": 2
}

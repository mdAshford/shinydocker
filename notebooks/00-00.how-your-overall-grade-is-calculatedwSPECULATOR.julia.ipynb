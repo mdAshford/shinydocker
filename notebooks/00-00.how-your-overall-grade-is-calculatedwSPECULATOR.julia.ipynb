{
 "cells": [
  {
   "cell_type": "markdown",
   "metadata": {},
   "source": [
    " <div style=\"display:inline-block; position:absolute; top:0; right:0; color: #230e3e; font:italic 1em serif;\">$\\LaTeX$<span style=\"display:inline-block; vertical-align:bottom\">\n",
    "    <a href=\"https://www.mathjax.org\">\n",
    "    <img style=\"height:1.5em\" title=\"Powered by MathJax\"\n",
    "    src=\"https://www.mathjax.org/badge/mj_logo.png\"\n",
    "    border=\"0\" alt=\"Powered by MathJax\" >\n",
    "</a></span></div>\n",
    "<div style=\"display:inline-block; position:absolute; top:0; left:0; color: #230e3e; font:italic 1em serif;\"><a href=\"https://www.julialang.org\">\n",
    "    <img style=\"height:2.25em; vertical-align:top\" title=\"Powered by Julia\"\n",
    "    src=\"./figures/julia-logo-mask.png\"\n",
    "    border=\"0\" alt=\"Powered by Julia\" >\n",
    "\n",
    "</a></div>$\\require{cancel} \\require{mhchem} \\require{bbox} \\require{color} \\require{enclose} \\require{AMSmath} \\require{AMSsymbols}$ \n",
    "\n"
   ]
  },
  {
   "cell_type": "markdown",
   "metadata": {},
   "source": [
    "# How your overall grade is calculated  \n",
    "\n",
    "$$ $$\n",
    "\n",
    "Your overall grade is a weighted average of your Tests, Homework, and Final Exam scores, as follows:  \n",
    "\n",
    "\n",
    "\\begin{align*} \\\\[6pt] \\qquad \\notag\n",
    " \\textbf{OVERALL} = 50 \\times \\textbf{TEST} + 25 \\times \\textbf{HOMEWORKS} + 25 \\times \\textbf{FINAL} \\\\[6pt] {}\n",
    "\\end{align*}\n",
    "\n",
    "Here is how it works, along with a demo example.   \n",
    " \n",
    "$$ $$\n",
    "\n",
    "$\\textbf{HOMEWORKS}$ comes straight from WileyPLUS.   \n",
    "\n",
    "$\\qquad \\textit{homeworks} = 0.83$\n",
    "\n",
    "\n",
    "\n",
    "$\\textbf{FINAL}$ is self-explanatory.  \n",
    "\n",
    "$\\qquad \\textit{final} = 0.88$\n",
    "\n",
    "\n",
    "$\\textbf{TESTS}$ requires a few intermediate calculations. Let's represent your tests by $\\textit{scores} = \\left\\{T_1, T_2, T_3, T_4 \\right\\}.$\n",
    "\n",
    "$\\qquad \\textit{scores} = \\left\\{0.83, 0.71, 0.89, 0.97\\right\\}$\n",
    "\n",
    "\n",
    "1. Calculate average of $\\textit{scores},$ excluding the lowest one.  \n",
    "$ \\quad \\small\n",
    "\\begin{align*} \\\\\n",
    " &\\textbf{DROP} = \\frac{\\text{sum} \\left\\{T_1, T_2, T_3, T_4 \\right\\} - \\text{minimum} \\left\\{T_1, T_2, T_3, T_4 \\right\\}}{3} \\\\ \n",
    " &\\textit{drop} = \\frac{3.4 - 0.71}{3} = 0.89667 \\\\[6pt] {}\n",
    "\\end{align*}\n",
    "$  \n",
    "\n",
    "1. Calculate average of {**T, FINAL**}, excluding the lowest one. This replaces the lowest test with the Final, unless the Final score is lower than all of the tests.   \n",
    "$ \\quad \\small\n",
    "\\begin{align*} \\notag \\\\ \\notag\n",
    " &\\textbf{REPLACE} = \\frac{\\text{sum} \\left\\{T_1, T_2, T_3, T_4, \\textbf{FINAL} \\right\\} - \\text{minimum} \\left\\{T_1, T_2, T_3, T_4,\\textbf{FINAL} \\right\\}}{4} \\\\\n",
    " &\\textit{replace} = \\frac{4.28 - 0.71}{4} = 0.8925 \\\\[6pt] {}\n",
    "\\end{align*} \n",
    "$  \n",
    "\n",
    "1. Wrapping up, choose the more favorable calculation   \n",
    "$ \\quad \\small\n",
    "\\begin{align*} \\notag \\\\ \\notag\n",
    "&\\textbf{TESTS} = \\text{maximum} \\textbf{\\{DROP, REPLACE\\} } \\\\[6pt]\n",
    "&\\textit{tests} = \\text{maximum{0.89667, 0.8925}} = 0.89667 \\\\[12pt] {}\n",
    "\\end{align*}\n",
    "$  \n",
    "\n",
    "\n",
    "**OVERALL** is the weighted average, per the syllabus.  \n",
    "$ \\qquad \\small\n",
    "\\begin{align*} \\notag \\\\ \\notag\n",
    " &\\textbf{OVERALL} = 25 \\cdot \\textbf{HOMEWORKS} + 50 \\cdot \\textbf{TESTS} +  25 \\cdot \\textbf{FINAL} \\\\[6pt]\n",
    " &\\textit{overall} = 25 (\\textit{homeworks}) + 50 (\\textit{tests}) +  25  (\\textit{final}) = 87.583 \\\\[12pt] {}\n",
    "\\end{align*}\n",
    "$ \n",
    "\n",
    "\n",
    "**LETTER GRADE** comes from this lookup table.  \n",
    "\n",
    "\n",
    "\n",
    "score|97|92|90|$\\bf\\color{red}87$|82|80|77|72|70|67|62|60|0\n",
    "-----|--|--|--|------------------|--|--|--|--|--|--|--|--|-\n",
    "grade|A+|A |A-|$\\bf\\color{red}B+$|B |B-|C+|C |C-|D+|D |D-|F\n",
    "\n",
    "\n"
   ]
  },
  {
   "cell_type": "markdown",
   "metadata": {},
   "source": [
    "<p class=\"big\" style=\"border:0.5px solid #461d7c;\"> </p>"
   ]
  },
  {
   "cell_type": "markdown",
   "metadata": {},
   "source": [
    "## Explore your own grade scenarios\n",
    "\n",
    "_This calculator is completely informational, hypothetical, and is in no way official. It is offered with no warranty or guarantee of accuracy or completeness.  The values update when the sliders are stationary for a second or so._\n",
    "\n",
    "_Just click the image below. **Use at your own risk.**_\n",
    "\n",
    "\n",
    "\n",
    "[![Speculator](./figures/speculator.png)](https://psydat.shinyapps.io/gradeSpeculator/)\n",
    "\n",
    "\n"
   ]
  },
  {
   "cell_type": "markdown",
   "metadata": {},
   "source": [
    "<footer style=\"background-color: #461d7c; color:rgba(253,208,35,0.35); line-height:2em; padding-left:1em; padding-right:0.5em; bottom:0; float:bottom; text-align:right;\"><i>ψᵟ</i></footer>"
   ]
  }
 ],
 "metadata": {
  "kernel_info": {
   "name": "python3"
  },
  "kernelspec": {
   "display_name": "Julia 1.0.2",
   "language": "julia",
   "name": "julia-1.0"
  },
  "language_info": {
   "file_extension": ".jl",
   "mimetype": "application/julia",
   "name": "julia",
   "version": "1.0.2"
  },
  "nteract": {
   "version": "0.11.6"
  },
  "varInspector": {
   "cols": {
    "lenName": 16,
    "lenType": 16,
    "lenVar": 40
   },
   "kernels_config": {
    "python": {
     "delete_cmd_postfix": "",
     "delete_cmd_prefix": "del ",
     "library": "var_list.py",
     "varRefreshCmd": "print(var_dic_list())"
    },
    "r": {
     "delete_cmd_postfix": ") ",
     "delete_cmd_prefix": "rm(",
     "library": "var_list.r",
     "varRefreshCmd": "cat(var_dic_list()) "
    }
   },
   "types_to_exclude": [
    "module",
    "function",
    "builtin_function_or_method",
    "instance",
    "_Feature"
   ],
   "window_display": false
  }
 },
 "nbformat": 4,
 "nbformat_minor": 2
}

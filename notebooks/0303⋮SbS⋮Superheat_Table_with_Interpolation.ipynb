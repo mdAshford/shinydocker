{
 "cells": [
  {
   "cell_type": "markdown",
   "metadata": {},
   "source": [
    "$\\require{cancel} \\require{mhchem} \\require{bbox} \\require{color} \\require{enclose} \\require{AMSmath} \\require{AMSsymbols} \n",
    "$"
   ]
  },
  {
   "cell_type": "markdown",
   "metadata": {},
   "source": [
    "### Given  \n",
    "$\\ce{H2O} \\left\\{ \\begin{align} \\ce{P \\ &= \\ 4000 kPa} \\\\\n",
    "    \\ce{u \\ &= \\ 3040 kJ/kg}\n",
    "    \\end{align} \n",
    "    \\right.$"
   ]
  },
  {
   "cell_type": "markdown",
   "metadata": {},
   "source": [
    "### Find \n",
    "1. Temperature, specific, volume, enthalpy, and entropy.  \n",
    "2. Describe the phase."
   ]
  },
  {
   "cell_type": "markdown",
   "metadata": {},
   "source": [
    "### Attack \n",
    "1. We are given pressure (P) and internal energy (u), **two independent properties**, so they fix our state.\n",
    "2. Not knowing the phase of the water, we head to the Saturation Pressure Table and locate the row corresponding to $ \\color{#16344a} \\colorbox{#f1f1f0}{P = 4000 kPa = 40 bar = 4 MPa.}$\n",
    "\n",
    "    ![./figures/0303_sat_pressure_table.png](./figures/0303_sat_pressure_table.png)"
   ]
  },
  {
   "cell_type": "markdown",
   "metadata": {},
   "source": [
    "3. From $\\color{#16344a} \\colorbox{#f1f1f0}{P = 40 bar},$ we get internal energy values for the saturated liquid \n",
    "$\\enclose{}[mathbackground=#f1f1f0, mathcolor=#16344a]{\\displaystyle u_f = 1082.3 \\text{ kJ/kg}}$ and saturated vapor \n",
    "$\\enclose{}[mathbackground=#f1f1f0, mathcolor=#16344a]{\\displaystyle u_g = 2602.3 \\text{ kJ/kg}}$. \n",
    "\n",
    "4. Comparing those to the internal energy given $\\left(u = 3040 \\text{ kJ/kg}\\right),$ we see that $u > u_g.$\n",
    "\n",
    "5. Therefore, we have $\\color{red}\\textsf{Superheated Vapor}$. Head to that table at $ \\color{#16344a} \\colorbox{#f1f1f0}{P = 40 bar}$ and find $u = 3040 \\text{ kJ/kg}$.  \n",
    "\n",
    "    ![./figures/0303_superheat_table.png](./figures/0303_superheat_table.png)"
   ]
  },
  {
   "cell_type": "markdown",
   "metadata": {},
   "source": [
    "6. Our internal energy is not on the table, but we see it is between $\\enclose{}[mathbackground=#f1f1f0, mathcolor=#16344a]{\\displaystyle u = 2992.2 \\text{ kJ/kg}}$ and $\\enclose{}[mathbackground=#f1f1f0, mathcolor=#16344a]{\\displaystyle u = 3099.5 \\text{ kJ/kg}}$.\n",
    "7. We must use linear interpolation to determine the state. We will demonstrate graphically with temperature, then calculate $v,$ $h,$ and $s$ straightaway.  \n",
    "\n",
    "    ![./figures/0303_superheat_interpolation.png](./figures/0303_superheat_interpolation.png)\n",
    "\n",
    "   Wrapping up,  \n",
    "   \n",
    "      $\\begin{alignat*}{1}\n",
    "    T &= \\enclose{}[mathbackground=#f1f1f0, mathcolor=#16344a]{400\\ ^\\circ \\text{C}} + \n",
    "    \\frac{\n",
    "    \\enclose{}[mathbackground=#f1f1f0, mathcolor=#16344a]{3040 \\text{ kJ/kg}} - \n",
    "    \\enclose{}[mathbackground=#f1f1f0, mathcolor=#16344a]{2992.2 \\text{ kJ/kg}}\n",
    "    }{\n",
    "    \\enclose{}[mathbackground=#f1f1f0, mathcolor=#16344a]{3099.5 \\text{ kJ/kg}} - \n",
    "    \\enclose{}[mathbackground=#f1f1f0, mathcolor=#16344a]{2992.2 \\text{ kJ/kg}}\n",
    "    } \\left(\n",
    "    \\enclose{}[mathbackground=#f1f1f0, mathcolor=#16344a]{500 ^\\circ \\text{C}} - \n",
    "    \\enclose{}[mathbackground=#f1f1f0, mathcolor=#16344a]{440 ^\\circ \\text{C}} \\right) = \n",
    "    \\color{red} 426.73\\ ^\\circ \\text{C}\n",
    "        \\\\ \\\\\n",
    "     v &= \\enclose{}[mathbackground=#f1f1f0, mathcolor=#16344a]{0.07872 \\text{ m}^3/kg} + \n",
    "    0.44547 \\left(\n",
    "    \\enclose{}[mathbackground=#f1f1f0, mathcolor=#16344a]{0.08643 \\text{ m}^3/kg} - \n",
    "    \\enclose{}[mathbackground=#f1f1f0, mathcolor=#16344a]{0.07872 \\text{ m}^3/kg} \\right) = \\color{red} 0.08215 \\text{ m}^3/kg\n",
    "         \\\\ \\\\\n",
    "     h &= \\enclose{}[mathbackground=#f1f1f0, mathcolor=#16344a]{3307.1\\ \\text{kJ/kg}} + \n",
    "    0.44547 \\left(\n",
    "    \\enclose{}[mathbackground=#f1f1f0, mathcolor=#16344a]{3445.3\\ \\text{kJ/kg}} - \n",
    "    \\enclose{}[mathbackground=#f1f1f0, mathcolor=#16344a]{3307.1\\ \\text{kJ/kg}}  \\right) = \\color{red} 3368.67\\ \\text{kJ/kg}\n",
    "         \\\\ \\\\\n",
    "     s &= \\enclose{}[mathbackground=#f1f1f0, mathcolor=#16344a]{6.9041\\ \\text{kJ/kg}\\cdot \\text {K}} + \n",
    "    0.44547 \\left(\n",
    "    \\enclose{}[mathbackground=#f1f1f0, mathcolor=#16344a]{7.0901\\ \\text{kJ/kg}\\cdot \\text {K}} - \n",
    "    \\enclose{}[mathbackground=#f1f1f0, mathcolor=#16344a]{6.9041\\ \\text{kJ/kg}\\cdot \\text {K}}  \\right)\n",
    "    = \\color{red} 6.9870\\ \\text{kJ/kg}\\cdot \\text {K}\n",
    "    \\end{alignat*}$\n"
   ]
  },
  {
   "cell_type": "code",
   "execution_count": 2,
   "metadata": {},
   "outputs": [
    {
     "data": {
      "text/plain": [
       "0.445479962721343"
      ]
     },
     "execution_count": 2,
     "metadata": {},
     "output_type": "execute_result"
    }
   ],
   "source": [
    "f = (3040 - 2992.2)/(3099.5 - 2992.2)"
   ]
  },
  {
   "cell_type": "code",
   "execution_count": 3,
   "metadata": {},
   "outputs": [
    {
     "data": {
      "text/plain": [
       "426.72879776328057"
      ]
     },
     "execution_count": 3,
     "metadata": {},
     "output_type": "execute_result"
    }
   ],
   "source": [
    "400 + f*60"
   ]
  },
  {
   "cell_type": "code",
   "execution_count": 4,
   "metadata": {},
   "outputs": [
    {
     "data": {
      "text/plain": [
       "0.08215465051258156"
      ]
     },
     "execution_count": 4,
     "metadata": {},
     "output_type": "execute_result"
    }
   ],
   "source": [
    "0.07872 + f*(0.08643 - 0.07872)"
   ]
  },
  {
   "cell_type": "code",
   "execution_count": 5,
   "metadata": {},
   "outputs": [
    {
     "data": {
      "text/plain": [
       "3368.6653308480895"
      ]
     },
     "execution_count": 5,
     "metadata": {},
     "output_type": "execute_result"
    }
   ],
   "source": [
    "3307.1 + f*(3445.3 - 3307.1)"
   ]
  },
  {
   "cell_type": "code",
   "execution_count": 6,
   "metadata": {},
   "outputs": [
    {
     "data": {
      "text/plain": [
       "6.986959273066169"
      ]
     },
     "execution_count": 6,
     "metadata": {},
     "output_type": "execute_result"
    }
   ],
   "source": [
    "6.9041 + f*(7.0901-6.9041)"
   ]
  }
 ],
 "metadata": {
  "kernelspec": {
   "display_name": "Julia 1.0.0",
   "language": "julia",
   "name": "julia-1.0"
  },
  "language_info": {
   "file_extension": ".jl",
   "mimetype": "application/julia",
   "name": "julia",
   "version": "1.0.0"
  }
 },
 "nbformat": 4,
 "nbformat_minor": 2
}

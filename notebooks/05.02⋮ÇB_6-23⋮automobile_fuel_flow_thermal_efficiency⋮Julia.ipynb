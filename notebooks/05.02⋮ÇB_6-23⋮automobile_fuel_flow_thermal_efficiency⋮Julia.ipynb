{
 "cells": [
  {
   "cell_type": "markdown",
   "metadata": {},
   "source": [
    " <div style=\"display:inline-block; position:absolute; top:0; right:0; color: #230e3e; font:italic 1em serif;\">$\\LaTeX$<span style=\"display:inline-block; vertical-align:bottom\">\n",
    "    <a href=\"https://www.mathjax.org\">\n",
    "    <img style=\"height:1.5em\" title=\"Powered by MathJax\"\n",
    "    src=\"https://www.mathjax.org/badge/mj_logo.png\"\n",
    "    border=\"0\" alt=\"Powered by MathJax\" >\n",
    "</a></span></div>\n",
    "\n",
    "<div style=\"display:inline-block; position:absolute; top:0; left:0; color: #230e3e; font:italic 1em serif;\"><a href=\"https://www.julialang.org\">\n",
    "    <img style=\"height:2.25em; vertical-align:top\" title=\"Powered by Julia\"\n",
    "    src=\"./figures/julia-logo-mask.png\"\n",
    "    border=\"0\" alt=\"Powered by Julia\" >\n",
    "</a></div>\n",
    "</a></div>$\\require{cancel} \\require{mhchem} \\require{bbox} \\require{color} \\require{enclose} \\require{AMSmath} \\require{AMSsymbols}$"
   ]
  },
  {
   "cell_type": "markdown",
   "metadata": {},
   "source": [
    "<header style=\"background-color:#e7e2ee; color:#461d7c; line-height:2em; padding-left:1em; padding-right:1em; bottom:0; float:bottom; text-align:right; float:right; font-family:serif; font-size:small;\">Çengel, Y. A., and Boles, M. A. (2001). <i>Thermodynamics: An engineering approach.</i> Boston: McGraw-Hill.\n",
    "</header>"
   ]
  },
  {
   "cell_type": "markdown",
   "metadata": {},
   "source": [
    "**6-23.** An automobile engine consumes fuel at a rate of 22 L/h and delivers 55 kW of power to the wheels. If the fuel has a heating value of 44,000 kJ/kg and a density of 0.8 g/cm³, determine the efficiency of this engine.\n",
    "\n",
    "\n"
   ]
  },
  {
   "cell_type": "markdown",
   "metadata": {},
   "source": [
    "### Given\n",
    "<ol> \n",
    " $\\dot Q_H = 30000\\, \\ce{Btu/hr}, \\quad \\eta_{th} = 40\\% $    "
   ]
  },
  {
   "cell_type": "markdown",
   "metadata": {},
   "source": [
    "### Find\n",
    "<ol>\n",
    "  \n",
    "$\\dot W_{net}$     \n"
   ]
  },
  {
   "cell_type": "markdown",
   "metadata": {},
   "source": [
    "### Get Organized  and Attack \n",
    "<ol>\n",
    "    \n",
    "This is the textbook definition of thermal efficiency. Use care in your unit conversions.\n",
    "\n",
    "\n",
    "$$ \\eta_{th} = \\frac{\\text{desired output}}{\\text{required input}} = \\frac{\\dot W_{wheels}}{\\dot E_{fuel}} \\\\[18pt] $$\n",
    "\n",
    "$$ \\dot E_{fuel} = \\dot m_{fuel} e_{fuel} = \\rho \\dot V_{fuel} e_{fuel} \\\\[18pt] $$  \n",
    "\n",
    "\n",
    "$$ \\eta_{th} = \\frac{\\dot W_{wheels}}{\\left( \\rho \\dot V e \\right)_{fuel}} $$"
   ]
  },
  {
   "cell_type": "code",
   "execution_count": 1,
   "metadata": {},
   "outputs": [],
   "source": [
    "using Unitful;       # Unitful units package"
   ]
  },
  {
   "cell_type": "code",
   "execution_count": 2,
   "metadata": {
    "scrolled": true
   },
   "outputs": [
    {
     "data": {
      "text/plain": [
       "0.2556818181818182"
      ]
     },
     "execution_count": 2,
     "metadata": {},
     "output_type": "execute_result"
    }
   ],
   "source": [
    "Ẇ_wheels = 55u\"kW\"\n",
    "V̇_fuel = 22u\"L/hr\"\n",
    "\n",
    "e_fuel = 44u\"MJ/kg\"\n",
    "ρ_fuel = 0.8u\"g/cm^3\"\n",
    "\n",
    "ηth = Ẇ_wheels / (ρ_fuel * V̇_fuel * e_fuel)\n",
    "\n",
    "uconvert(Unitful.NoUnits, ηth)   # simplify units"
   ]
  },
  {
   "cell_type": "markdown",
   "metadata": {},
   "source": [
    "<div class=\"panel-success\"><div class=\"panel-heading\"><div class=\"badge\"></div> $$\\ \\normalsize \\eta_{th} = 25.6\\% $$\n",
    "</div></div>"
   ]
  },
  {
   "cell_type": "markdown",
   "metadata": {},
   "source": [
    "<footer style=\"background-color: #461d7c; color:rgba(253,208,35,0.35); line-height:2em; padding-left:1em; padding-right:0.5em; bottom:0; float:bottom; text-align:right;\"><i>ψᵟ</i></footer>"
   ]
  }
 ],
 "metadata": {
  "kernelspec": {
   "display_name": "Julia 1.0.2",
   "language": "julia",
   "name": "julia-1.0"
  },
  "language_info": {
   "file_extension": ".jl",
   "mimetype": "application/julia",
   "name": "julia",
   "version": "1.0.2"
  }
 },
 "nbformat": 4,
 "nbformat_minor": 2
}

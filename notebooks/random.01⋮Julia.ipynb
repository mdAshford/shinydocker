{
 "cells": [
  {
   "cell_type": "markdown",
   "metadata": {},
   "source": [
    " <div style=\"display:inline-block; position:absolute; top:0; right:0; color: #230e3e; font:italic 1em serif;\">$\\LaTeX$<span style=\"display:inline-block; vertical-align:bottom\">\n",
    "    <a href=\"https://www.mathjax.org\">\n",
    "    <img style=\"height:1.5em\" title=\"Powered by MathJax\"\n",
    "    src=\"https://www.mathjax.org/badge/mj_logo.png\"\n",
    "    border=\"0\" alt=\"Powered by MathJax\" >\n",
    "</a></span></div>\n",
    "\n",
    "<div style=\"display:inline-block; position:absolute; top:0; left:0; color: #230e3e; font:italic 1em serif;\"><a href=\"https://www.julialang.org\">\n",
    "    <img style=\"height:2.25em; vertical-align:top\" title=\"Powered by Julia\"\n",
    "    src=\"./figures/julia-logo-mask.png\"\n",
    "    border=\"0\" alt=\"Powered by Julia\" >\n",
    "</a></div>\n",
    "</a></div>$\\require{cancel} \\require{mhchem} \\require{bbox} \\require{color} \\require{enclose} \\require{AMSmath} \\require{AMSsymbols}$"
   ]
  },
  {
   "cell_type": "markdown",
   "metadata": {},
   "source": [
    "**Water vapor enters a subsonic diffuser at 0.5 bar, 175 °C, and 200 m/s. The diffuser inlet is 100 cm$^2$. During passage through the diffuser, the fluid velocity is reduced to 50 m/s, pressure increases to 1.0 bar and heat transfer to the surroundings is 0.5 kg/kJ. Determine (1) the final temperature, (2) the mass flow rate, in kg/s and (3) the outlet area, in cm².** "
   ]
  },
  {
   "cell_type": "markdown",
   "metadata": {},
   "source": [
    "### Given\n",
    "<ol> \n",
    " $$\\ce{H2O} \\left| \n",
    " \\begin{array}{ll} \n",
    "   P_{1} = 0.5\\, \\ce{bar}       \\\\[0pt]\n",
    "   T_{1} = 175\\, \\ce{°C}         \\\\[0pt]\n",
    "   \\vec V_{1} = 200\\, \\ce{m/s}   \\\\[0pt]\n",
    "   A_{1} = 100\\, \\ce{cm^2}       \\\\[0pt]\n",
    " \\end{array}\\right|\n",
    " \\xrightarrow{\\normalsize q_{out} = 0.5\\, \\ce{kJ/kg}}\n",
    " \\left| \n",
    " \\begin{array}{ll} \n",
    "   P_{2} = 1\\, \\ce{bar}       \\\\[0pt]\n",
    "                              \\\\[0pt]\n",
    "   \\vec V_{2} = 50\\, \\ce{m/s} \\\\[0pt]\n",
    "                              \\\\[0pt]\n",
    " \\end{array}\\right|\n",
    " $$\n"
   ]
  },
  {
   "cell_type": "code",
   "execution_count": 1,
   "metadata": {},
   "outputs": [],
   "source": [
    "using Unitful       # Unitful units package"
   ]
  },
  {
   "cell_type": "code",
   "execution_count": 2,
   "metadata": {},
   "outputs": [],
   "source": [
    "# Given \n",
    "P₁ = 0.5u\"bar\"  \n",
    "T₁ = 175u\"°C\"\n",
    "V⃑₁ = 200u\"m/s\"\n",
    "A₁ = 100u\"cm^2\"\n",
    "\n",
    "P₂ = 1u\"bar\"  \n",
    "V⃑₂ = 50u\"m/s\"\n",
    "q_out = 0.5u\"kJ/kg\";"
   ]
  },
  {
   "cell_type": "markdown",
   "metadata": {},
   "source": [
    "### Find \n",
    "1. $T_2$  \n",
    "2. $\\dot m$  \n",
    "3. $A_2$"
   ]
  },
  {
   "cell_type": "markdown",
   "metadata": {},
   "source": [
    "### Get Organized  and Attack\n",
    "- This time, the conservation of mass is trivial, but we must calculate the factors that determine mass flow. \n",
    "- We'll attack first using mass conservation, and follow up with energy conservation to account for the heat loss. \n",
    "- We also note that the diffuser is a steady-state device.\n",
    "- We will account for changes in kinetic energy, assume neglible potential energy effects.\n",
    "- We need to resolve State 2. We have pressure, so we another property, independednt of P. "
   ]
  },
  {
   "cell_type": "markdown",
   "metadata": {},
   "source": [
    "#### Mass Conservation\n",
    "\n",
    "\\begin{align*}\n",
    "    \\dot m_{in} - \\dot m_{out} &= \\frac{d}{dt} m_{sys} \\\\[6pt]\n",
    "    \\dot m_1 - \\dot m_2 &= 0 \\\\[12pt]\n",
    "\\end{align*}   \n",
    "$$$$\n",
    "\\begin{align*}\n",
    "    \\dot m_1 &= \\dot m_2 \\\\[6pt]\n",
    "    \\frac{\\vec V_1 A_1}{v_1} &= \\frac{\\vec V_2 A_2}{v_2}\n",
    "\\end{align*}  "
   ]
  },
  {
   "cell_type": "markdown",
   "metadata": {},
   "source": [
    "#### Energy Conservation\n",
    "\n",
    "\\begin{array}{cccl}\n",
    "  \\dot E_{in} &-& \\dot E_{out} &=& \\frac{d}{dt} E_{sys} \\\\[6pt]\n",
    "  \\displaystyle \\dot m \\left(h_1 + \\frac{\\vec V_1^2}{2} \\right)  &-& \\displaystyle \\dot m\n",
    "     \\left( h_2 + \\frac{\\vec V_2^2}{2} \\right) - \\dot m q_{out} &=& 0 \\\\[12pt]\n",
    "  \\displaystyle h_1 + \\frac{\\vec V_1^2}{2} &-& \\displaystyle h_2 - \\frac{\\vec V_2^2}{2} \n",
    "  - q_{out} &=& 0 \\\\[12pt]\n",
    "\\end{array}  "
   ]
  },
  {
   "cell_type": "markdown",
   "metadata": {},
   "source": [
    "These equations can get out of hand, so now is a good time to stop and see what we know and don't know.\n",
    "\n",
    "$$ \\color{blue} h_1 \\color{black} + \\frac{\\color{green}\\vec V_1^2}{2} -  \\color{red}h_2 \\color{black} - \\frac{\\color{green}\\vec V_2^2}{2} \n",
    "  - \\color{green}q_{out}\\color{black} =0 $$\n",
    "  \n",
    "We can get $h_1$ from the <b style=\"color:blue\">TABLES</b>;  $\\vec V_1, \\vec V_1,$ and  $q_{out}$ are <b style=\"color:green\">GIVEN</b>; and $h_2$ is our only <b style=\"color:red\">UNKNOWN</b>. We're in great shape: $h_2$ gives us that second property we needed to set State 2."
   ]
  },
  {
   "cell_type": "markdown",
   "metadata": {},
   "source": [
    "$$\\ce{H2O} \\left| \n",
    " \\begin{array}{ll} \n",
    "   P_{1} = 0.5\\, \\ce{bar}       \\\\[0pt]\n",
    "   T_{1} = 175\\, \\ce{°C}         \\\\[0pt]\n",
    " \\end{array}\\right| \\longrightarrow \n",
    "h_1 = \\textit{double interpolation!} \\quad \n",
    " \\begin{align*}\n",
    "   0.35\\, \\ce{bar} < P_{1}& < 0.70\\, \\ce{bar}       \\\\[0pt]\n",
    "   160\\, \\ce{°C} < T_1& <  200\\, \\ce{°C}    \\\\[0pt]\n",
    " \\end{align*}\n",
    "$$ \n",
    "\n",
    "\n",
    "Stay organized, and you'll get through it unscathed. Interpolate in one property, then the other. You can interpolate both simultaneously, but it's very easy to miss a little mistake. "
   ]
  },
  {
   "cell_type": "markdown",
   "metadata": {},
   "source": [
    "<div class=\"panel-warning\"><div class=\"panel-heading\">$$\\small \\textit{I left the units off the weighting fraction to reduce clutter a bit.}$$</div></div>"
   ]
  },
  {
   "cell_type": "code",
   "execution_count": 3,
   "metadata": {},
   "outputs": [],
   "source": [
    "h_35kPa_160°C = 2800.6u\"kJ/kg\"\n",
    "h_35kPa_200°C = 2878.4u\"kJ/kg\"\n",
    "\n",
    "h_35kPa_175°C = h_35kPa_160°C + (h_35kPa_200°C - h_35kPa_160°C) * (175 - 160)/(200 - 160);\n",
    "# println(\"h_35kPa_175°C = \",h_35kPa_175°C)"
   ]
  },
  {
   "cell_type": "code",
   "execution_count": 4,
   "metadata": {},
   "outputs": [],
   "source": [
    "h_70kPa_160°C = 2798.2u\"kJ/kg\"\n",
    "h_70kPa_200°C = 2876.7u\"kJ/kg\"\n",
    "\n",
    "h_70kPa_175°C = h_70kPa_160°C + (h_70kPa_200°C - h_35kPa_160°C) * (175 - 160)/(200 - 160);\n",
    "# println(\"h_70kPa_175°C = \",h_70kPa_175°C)"
   ]
  },
  {
   "cell_type": "code",
   "execution_count": 5,
   "metadata": {},
   "outputs": [
    {
     "name": "stdout",
     "output_type": "stream",
     "text": [
      "h₁ = 2828.473214285714 kJ kg^-1\n"
     ]
    }
   ],
   "source": [
    "h_50kPa_175°C = h_35kPa_175°C + (h_70kPa_175°C - h_35kPa_175°C) * (50 - 35)/(70 - 35)\n",
    "\n",
    "h₁ = h_50kPa_175°C;\n",
    "println(\"h₁ = \",h₁)"
   ]
  },
  {
   "cell_type": "markdown",
   "metadata": {},
   "source": [
    "<p style = \" background-image:  url(./figures/bacgroundTiles.png); line-height: 0.35em\" >&nbsp;</p>"
   ]
  },
  {
   "cell_type": "markdown",
   "metadata": {},
   "source": [
    "#### Resolve State 2\n",
    "We seek $T_2, \\dot m,$ and $A_2.$ We can get them all from State 2. "
   ]
  },
  {
   "cell_type": "code",
   "execution_count": 6,
   "metadata": {
    "scrolled": true
   },
   "outputs": [
    {
     "name": "stdout",
     "output_type": "stream",
     "text": [
      "h₂ = 2846.723214285714 kJ kg^-1\n"
     ]
    }
   ],
   "source": [
    "h₂ = h₁ +  (V⃑₁^2 - V⃑₂^2) / 2 - q_out |>u\"kJ/kg\"\n",
    "println(\"h₂ = \",h₂)"
   ]
  },
  {
   "cell_type": "markdown",
   "metadata": {},
   "source": [
    "$\\ce{H2O} \\left| \n",
    " \\begin{array}{ll} \n",
    "   P_{2} = 1\\, \\ce{bar}       \\\\[0pt]\n",
    "   h_{2} = 2846.72\\, \\ce{kJ/kg}        \n",
    " \\end{array}\\right|\n",
    "$\n",
    "\n",
    "#### Get $T_2$"
   ]
  },
  {
   "cell_type": "code",
   "execution_count": 7,
   "metadata": {},
   "outputs": [
    {
     "name": "stdout",
     "output_type": "stream",
     "text": [
      "T₂ = 185.54903377280112 °C\n"
     ]
    }
   ],
   "source": [
    "h_1bar_160°C = 2796.2u\"kJ/kg\"\n",
    "h_1bar_200°C = 2875.3u\"kJ/kg\"\n",
    "\n",
    "T₂ = 160u\"°C\" + (200 - 160)u\"K\" * (h₂ - h_1bar_160°C) / (h_1bar_200°C - h_1bar_160°C) |> u\"°C\"\n",
    "println(\"T₂ = \",T₂)"
   ]
  },
  {
   "cell_type": "markdown",
   "metadata": {},
   "source": [
    "##### <div class=\"panel-success\"><div class=\"panel-heading\"><div class=\"badge\"></div> $$\\ \\normalsize T_{2} = 185.55\\, \\ce{°C} $$\n",
    "</div></div>"
   ]
  },
  {
   "cell_type": "markdown",
   "metadata": {},
   "source": [
    "<p style = \" background-image:  url(./figures/bacgroundTiles.png); line-height: 0.35em\" >&nbsp;</p>"
   ]
  },
  {
   "cell_type": "markdown",
   "metadata": {},
   "source": [
    "#### Calculate $\\dot m$\n",
    "We can calculate $\\dot m$ from State 1 or State 2. \n",
    "\n",
    "$$ \\frac{\\vec V_1 A_1}{v_1} = \\frac{\\vec V_2 A_2}{v_2} $$\n",
    "\n",
    "We have an unfortunate selection of variables. We need to calculate both $v_1$ and $v_2$ to finish up.\n",
    "\n",
    "##### Get $v_2$"
   ]
  },
  {
   "cell_type": "code",
   "execution_count": 8,
   "metadata": {},
   "outputs": [
    {
     "name": "stdout",
     "output_type": "stream",
     "text": [
      "v₂ = 2.1040804587321653 m^3 kg^-1\n"
     ]
    }
   ],
   "source": [
    "v_1bar_160°C = 1.984u\"m^3/kg\"\n",
    "v_1bar_200°C = 2.172u\"m^3/kg\"\n",
    "\n",
    "v₂ = v_1bar_160°C + (v_1bar_200°C - v_1bar_160°C) * (h₂ - h_1bar_160°C) / (h_1bar_200°C - h_1bar_160°C) \n",
    "println(\"v₂ = \",v₂)"
   ]
  },
  {
   "cell_type": "markdown",
   "metadata": {},
   "source": [
    "##### Get $v_1$\n",
    "In case you didn't get enough double interpolation the first time."
   ]
  },
  {
   "cell_type": "code",
   "execution_count": 9,
   "metadata": {},
   "outputs": [],
   "source": [
    "v_35kPa_160°C = 5.696u\"m^3/kg\"\n",
    "v_35kPa_200°C = 6.228u\"m^3/kg\"\n",
    "\n",
    "v_35kPa_175°C = v_35kPa_160°C + (v_35kPa_200°C - v_35kPa_160°C) * (175 - 160)/(200 - 160);\n",
    "# println(\"v_35kPa_175°C = \",v_35kPa_175°C)"
   ]
  },
  {
   "cell_type": "code",
   "execution_count": 10,
   "metadata": {},
   "outputs": [],
   "source": [
    "v_70kPa_160°C = 2.841u\"m^3/kg\"\n",
    "v_70kPa_200°C = 3.108u\"m^3/kg\"\n",
    "\n",
    "v_70kPa_175°C = v_70kPa_160°C + (v_70kPa_200°C - v_35kPa_160°C) * (175 - 160)/(200 - 160);\n",
    "# println(\"v_70kPa_175°C = \",v_70kPa_175°C)"
   ]
  },
  {
   "cell_type": "code",
   "execution_count": 11,
   "metadata": {},
   "outputs": [
    {
     "name": "stdout",
     "output_type": "stream",
     "text": [
      "v₁ = 4.1705 m^3 kg^-1\n"
     ]
    }
   ],
   "source": [
    "v_50kPa_175°C = v_35kPa_175°C + (v_70kPa_175°C - v_35kPa_175°C) * (50 - 35)/(70 - 35)\n",
    "\n",
    "v₁ = v_50kPa_175°C;\n",
    "println(\"v₁ = \",v₁)"
   ]
  },
  {
   "cell_type": "markdown",
   "metadata": {},
   "source": [
    "<p style = \" background-image:  url(./figures/bacgroundTiles.png); line-height: 0.35em\" >&nbsp;</p>"
   ]
  },
  {
   "cell_type": "markdown",
   "metadata": {},
   "source": [
    "#### Back to $\\dot m$\n",
    "\n",
    "$$ \\dot m = \\frac{\\vec V_1 A_1}{v_1} = \\frac{\\vec V_2 A_2}{v_2}$$"
   ]
  },
  {
   "cell_type": "code",
   "execution_count": 12,
   "metadata": {},
   "outputs": [
    {
     "data": {
      "text/plain": [
       "0.47955880589857336 kg s^-1"
      ]
     },
     "execution_count": 12,
     "metadata": {},
     "output_type": "execute_result"
    }
   ],
   "source": [
    "ṁ = V⃑₁ * A₁ / v₁ |> u\"kg/s\""
   ]
  },
  {
   "cell_type": "markdown",
   "metadata": {},
   "source": [
    "<div class=\"panel-success\"><div class=\"panel-heading\"><div class=\"badge\"></div> $$\\ \\normalsize \\dot m = 0.48\\, \\ce{kg/s} $$\n",
    "</div></div>"
   ]
  },
  {
   "cell_type": "code",
   "execution_count": 13,
   "metadata": {},
   "outputs": [
    {
     "data": {
      "text/plain": [
       "201.80606246082394 cm^2"
      ]
     },
     "execution_count": 13,
     "metadata": {},
     "output_type": "execute_result"
    }
   ],
   "source": [
    "A₂ =  ṁ * v₂ / V⃑₂ |> u\"cm^2\""
   ]
  },
  {
   "cell_type": "markdown",
   "metadata": {},
   "source": [
    "<div class=\"panel-success\"><div class=\"panel-heading\"><div class=\"badge\"></div> $$\\ \\normalsize A_2 = 201.81\\, \\ce{cm^2} $$\n",
    "</div></div>"
   ]
  },
  {
   "cell_type": "markdown",
   "metadata": {},
   "source": [
    "_...that was painful..._"
   ]
  },
  {
   "cell_type": "markdown",
   "metadata": {},
   "source": [
    "<footer style=\"background-color: #461d7c; color:rgba(253,208,35,0.35); line-height:2em; padding-left:1em; padding-right:0.5em; bottom:0; float:bottom; text-align:right;\"><i>ψᵟ</i></footer>"
   ]
  }
 ],
 "metadata": {
  "kernelspec": {
   "display_name": "Julia 1.0.2",
   "language": "julia",
   "name": "julia-1.0"
  },
  "language_info": {
   "file_extension": ".jl",
   "mimetype": "application/julia",
   "name": "julia",
   "version": "1.0.2"
  }
 },
 "nbformat": 4,
 "nbformat_minor": 2
}

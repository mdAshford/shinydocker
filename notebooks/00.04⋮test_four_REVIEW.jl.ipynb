{
 "cells": [
  {
   "cell_type": "markdown",
   "metadata": {},
   "source": [
    " <div style=\"display:inline-block; position:absolute; top:0; right:0; color: #230e3e; font:italic 1em serif;\">$\\LaTeX$<span style=\"display:inline-block; vertical-align:bottom\">\n",
    "    <a href=\"https://www.mathjax.org\">\n",
    "    <img style=\"height:1.5em\" title=\"Powered by MathJax\"\n",
    "    src=\"https://www.mathjax.org/badge/mj_logo.png\"\n",
    "    border=\"0\" alt=\"Powered by MathJax\" >\n",
    "</a></span></div>\n",
    "\n",
    "<div style=\"display:inline-block; position:absolute; top:0; left:0; color: #230e3e; font:italic 1em serif;\"><a href=\"https://www.julialang.org\">\n",
    "    <img style=\"height:2.25em; vertical-align:top\" title=\"Powered by Julia\"\n",
    "    src=\"./figures/julia-logo-mask.png\"\n",
    "    border=\"0\" alt=\"Powered by Julia\" >\n",
    "</a></div>\n",
    "</a></div>$\\require{cancel} \\require{mhchem} \\require{bbox} \\require{color} \\require{enclose} \\require{AMSmath} \\require{AMSsymbols}$"
   ]
  },
  {
   "cell_type": "code",
   "execution_count": 1,
   "metadata": {},
   "outputs": [],
   "source": [
    "using Unitful\n",
    "using Printf"
   ]
  },
  {
   "cell_type": "markdown",
   "metadata": {},
   "source": [
    "<p style = \" background-image:  url(./figures/bacgroundTiles.png); line-height: 1em\" >&nbsp;</p>"
   ]
  },
  {
   "cell_type": "markdown",
   "metadata": {},
   "source": [
    "GOLD **R-134a at 1000 kPa is throttled to a temperature of –16 °C and a quality of 100%. The velocity at the inlet and outlet is 10 m/s. Find:**   <ol type=\"a\">\n",
    "1. **Inlet quality**  \n",
    "2. **Ratio of inlet area to outlet area** </ol>"
   ]
  },
  {
   "cell_type": "markdown",
   "metadata": {},
   "source": [
    "### Get Organized and Attack\n",
    "\n",
    "We don't know state ➀, but we know state ➁, and we know **throttles are isenthalpic** and that we have steady state conditions (the system isn't accumulating mass or energy). \n",
    "\n",
    "#### 1. Find $x_1$  \n",
    "<ol>\n",
    "  All we need to do is resolve state ➀ and calculate it's quality.  $$$$\n",
    "    \n",
    "$\n",
    "\\text{R-134a}\\left|\\small \\begin{array}{l|l}  \n",
    " T_2 = -16\\,\\ce{°C} & P_1 = 1\\, \\ce{MPa} \\\\[-3pt]\n",
    " x_2:\\text{sat vapor} &  h_1 = h_2 & \\end{array} \\right. \\\\[12pt]\n",
    "$"
   ]
  },
  {
   "cell_type": "code",
   "execution_count": 2,
   "metadata": {
    "scrolled": false
   },
   "outputs": [
    {
     "name": "stdout",
     "output_type": "stream",
     "text": [
      "x1 = 0.8141750676174083\n"
     ]
    }
   ],
   "source": [
    "h2 = 237.74u\"kJ/kg\"           # R-134a{T = -16 °C, sat vapor} \n",
    "h1 = h2                       # it's a throttle\n",
    "\n",
    "h1f = 105.29u\"kJ/kg\"          # sat liquid @ P1 = 1 MPa\n",
    "h1g = 267.97u\"kJ/kg\"          # sat vapor @ P1 = 1 MPa\n",
    "\n",
    "# h1f < h1 < h1g:  we know it is saturated. We are in the right place.\n",
    "\n",
    "x1 = (h2 - h1f)/(h1g - h1f)   # calculate quality\n",
    "println(\"x1 = \",x1)"
   ]
  },
  {
   "cell_type": "markdown",
   "metadata": {},
   "source": [
    "<div class=\"panel-success\"><div class=\"panel-heading\"><div class=\"badge\"></div> $$\\ \\normalsize x_1 = 0.814 $$\n",
    "</div></div>"
   ]
  },
  {
   "cell_type": "markdown",
   "metadata": {},
   "source": [
    "\n",
    "#### 2. Find $\\displaystyle \\frac{A_{in}}{A_{out}}$  \n",
    "<ol>\n",
    "  Conservation of mass is the key here. Resolved into area and velocity, $\\dot m = \\rho \\vec V A.$ With one inlet, one outlet, at steady state,</ol>    \n",
    "   \n",
    "\\begin{align*}\n",
    " \\dot m_{in} &= \\dot m_{out} \\\\[6pt]\n",
    " \\frac{\\vec{V}_1A_1}{v_1} &= \\frac{\\vec{V}_2 A_2}{v_2} \\\\\n",
    "\\end{align*}\n",
    "\n",
    "<ol>Now, $ \\vec{V}_1 = \\vec{V}_2,$ so \n",
    "$$\n",
    "\\frac{A_1}{A_2} = \\frac{v_2}{v_1}\n",
    "$$\n"
   ]
  },
  {
   "cell_type": "code",
   "execution_count": 3,
   "metadata": {
    "scrolled": false
   },
   "outputs": [
    {
     "name": "stdout",
     "output_type": "stream",
     "text": [
      "A1 / A2 = 27.5442"
     ]
    }
   ],
   "source": [
    "v2 = 0.1247u\"m^3/kJ\"           # R-134a{T = -16 °C, sat vapor} \n",
    "\n",
    "# need to resolve v1\n",
    "# remember, we already know x1\n",
    "\n",
    "v1f = 1.1416e-3u\"m^3/kJ\"       # sat liquid @ P1 = 1 MPa\n",
    "v1g = 0.0053u\"m^3/kJ\"          # sat vapor @ P1 = 1 MPa\n",
    "\n",
    "v1 = v1f + x1 * (v1g - v1f)    # calculate v1\n",
    "@printf(\"A1 / A2 = %.4f\",v2/v1)"
   ]
  },
  {
   "cell_type": "markdown",
   "metadata": {},
   "source": [
    "#### <div class=\"panel-success\"><div class=\"panel-heading\"><div class=\"badge\"></div> $$\\ \\normalsize \\frac{A_1}{A_2} = 27.54 $$\n",
    "</div></div>"
   ]
  },
  {
   "cell_type": "markdown",
   "metadata": {},
   "source": [
    "<p style = \" background-image:  url(./figures/bacgroundTiles.png); line-height: 1em\" >&nbsp;</p>"
   ]
  },
  {
   "cell_type": "markdown",
   "metadata": {},
   "source": [
    "**An air-conditioner with an average COP of 2.2 consumes 36 kWh of electricity during a certain day. Calculate the amount of heat removed by this air-conditioner that day.** \n",
    "\n",
    "$$ \\sf \\text{COP}_R = \\frac{\\text{desired output}}{\\text{required input}} = \\frac{Q_L}{W_{in}} \n",
    "$$\n"
   ]
  },
  {
   "cell_type": "code",
   "execution_count": 4,
   "metadata": {},
   "outputs": [
    {
     "data": {
      "text/plain": [
       "285120.0 kJ"
      ]
     },
     "execution_count": 4,
     "metadata": {},
     "output_type": "execute_result"
    }
   ],
   "source": [
    "COP = 2.2\n",
    "Qʟ = COP * 36u\"kW*hr\" |> u\"kJ\""
   ]
  },
  {
   "cell_type": "markdown",
   "metadata": {},
   "source": [
    "<p style = \" background-image:  url(./figures/bacgroundTiles.png); line-height: 1em\" >&nbsp;</p>"
   ]
  },
  {
   "cell_type": "markdown",
   "metadata": {},
   "source": [
    "VIRIDIS **A 1000-L tank initially contains water at 300 kPa and a quality of 1%. Heat is transferred to the water, thereby raising its pressure and temperature. At a pressure of 2.5 MPa, a safety valve opens and saturated vapor at 2.5 MPa flows out. The process continues, maintaining 2.5 MPa until the quality in the tank is 90%, then stops. Determine the mass of water to exit and the total heat transfer (with direction).** \n",
    "\n",
    "![steamdrum](./figures/steamdrum.png.pdf)\n"
   ]
  },
  {
   "cell_type": "code",
   "execution_count": 5,
   "metadata": {},
   "outputs": [],
   "source": [
    "# Given\n",
    "V = 1000u\"L\"\n",
    "x1 = 0.01\n",
    "x3 = 0.9;"
   ]
  },
  {
   "cell_type": "markdown",
   "metadata": {},
   "source": [
    "Organization is key for a problem like this. However, the solution method is the same as every other process problem we've solved: start with what you know, consider what you need, and plot the path one process at a time. \n",
    "\n",
    "A few notes:\n",
    "- unsteady flow\n",
    "- only saturated vapor escapes\n",
    "- negligible potential or kinetic energy effects"
   ]
  },
  {
   "cell_type": "markdown",
   "metadata": {},
   "source": [
    "### Get Organized and Attack\n",
    "\n"
   ]
  },
  {
   "cell_type": "markdown",
   "metadata": {},
   "source": [
    "Here's what we're given, arranged by state and process. We will apply conservation of mass and conservation of energy for both processes.   \n",
    "\n",
    " $$1000\\, \\ce{L} \\ \\ce{H2O} \\left| \n",
    " \\begin{array}{ll} \n",
    "  P_{1} = 300\\, \\ce{kPa} \\\\\n",
    "  x_{1} = 1\\% \\\\\n",
    " \\end{array}\\right|\n",
    " \\xrightarrow{isochoric}\n",
    " \\left| \n",
    " \\begin{array}{ll} \n",
    "   P_2 = 2.5\\, \\ce{MPa} \\\\\n",
    "   v_2 = v_1 \\\\\n",
    " \\end{array}\\right|\n",
    " \\xrightarrow{isobaric}\n",
    " \\left| \n",
    " \\begin{array}{ll} \n",
    "   P_3 = 2.5\\, \\ce{MPa} \\\\\n",
    "   x_3 = 90\\% \\\\\n",
    " \\end{array}\\right|\n",
    " $$"
   ]
  },
  {
   "cell_type": "markdown",
   "metadata": {},
   "source": [
    "<p style = \"width:100vw; background-image:  url(./figures/bacgroundTiles.png); line-height: 0.35em\" >&nbsp;</p>"
   ]
  },
  {
   "cell_type": "markdown",
   "metadata": {},
   "source": [
    "### Isochoric Heating from State_1 to State_2 \n",
    "\n",
    "##### Mass  \n",
    "Our system is closed for this process. Nothing to do here but calculkate the mass.  \n",
    "\n",
    "$\\qquad m_1 = m_2 = \\displaystyle \\frac{V}{v_1}$\n",
    "\n",
    "##### Energy    \n",
    "$\\qquad\n",
    "\\begin{array}{lcccl}\n",
    "  E_{in} &-& E_{out} &=& \\Delta E_{sys} \\\\[6pt]\n",
    "  Q_{in,1\\rightarrow2} &&  &=& U_2 - U_1 = m_2u_2 - m_1u_1\\\\[6pt]\n",
    "\\end{array}  \n",
    "$  \n",
    "$$$$   \n",
    "   \n",
    "$\\qquad Q_{in,1\\rightarrow2} = m_1 \\left(u_2 - u_1 \\right) $"
   ]
  },
  {
   "cell_type": "code",
   "execution_count": 6,
   "metadata": {},
   "outputs": [
    {
     "data": {
      "text/plain": [
       "580.9744999999999 kJ kg^-1"
      ]
     },
     "execution_count": 6,
     "metadata": {},
     "output_type": "execute_result"
    }
   ],
   "source": [
    "# Get State 1 ⋮ Given P1 = 300 kPa, x3 = 0.01\n",
    "vf1 = 1.0732e-3u\"m^3/kg\"\n",
    "vg1 = 0.6058u\"m^3/kg\"\n",
    "uf1 = 561.15u\"kJ/kg\"\n",
    "ug1 = 2543.6u\"kJ/kg\"\n",
    "\n",
    "v1 = vf1 + x1 * (vg1 - vf1)\n",
    "u1 = uf1 + x1 * (ug1 - uf1)\n",
    "# @printf(\"v1 = %s\",v1); println()\n",
    "# @printf(\"u1 = %s\",u1); println()"
   ]
  },
  {
   "cell_type": "code",
   "execution_count": 7,
   "metadata": {},
   "outputs": [
    {
     "name": "stdout",
     "output_type": "stream",
     "text": [
      "m2 = 140.44020702010036 kg\n",
      "Qin1→2 = 70463.99300632655 kJ\n"
     ]
    }
   ],
   "source": [
    "# Get State 2 ⋮ Given P2 = 2.5 MPa, v2 = v1\n",
    "P2 = 2.5u\"MPa\"\n",
    "v2 = v1\n",
    "\n",
    "vf2 = 1.1973e-3u\"m^3/kg\"\n",
    "vg2 = 0.07998u\"m^3/kg\"\n",
    "uf2 = 959.11u\"kJ/kg\"\n",
    "ug2 = 2603.1u\"kJ/kg\"\n",
    "\n",
    "x2 = (v2 - vf2)/(vg2 - vf2)\n",
    "u2 = uf2 + x2 * (ug2 - uf2)\n",
    "\n",
    "m2 = V/v2 |> u\"kg\"\n",
    "@printf(\"m2 = %s\",m2); println()\n",
    "\n",
    "# Energy Equation\n",
    "Qin12 = m2 * (u2 - u1)\n",
    "\n",
    "@printf(\"Qin1→2 = %s\",Qin12); println()"
   ]
  },
  {
   "cell_type": "markdown",
   "metadata": {},
   "source": [
    "<p style = \"width:100vw; background-image:  url(./figures/bacgroundTiles.png); line-height: 0.35em\" >&nbsp;</p>"
   ]
  },
  {
   "cell_type": "markdown",
   "metadata": {},
   "source": [
    "### Isobaric Heating from State_2 to State_3 \n",
    "\n",
    "\n",
    "##### Mass  \n",
    "Now the valve is open and we have an unsteady flow, open system for the duration of the process. \n",
    "\n",
    "$\\qquad \n",
    "\\begin{array}{lcrcl}\n",
    "  m_{in} &-& m_{out} &=& \\Delta m_{sys}  \\\\[6pt]    \n",
    "  &-& m_{out,2\\rightarrow3}  &=& m_3 - m_2 \\\\[18pt]\n",
    "  \\hline\n",
    "  && m_{out,2\\rightarrow3} &=& m_2 - m_3\n",
    "\\end{array} \n",
    "$"
   ]
  },
  {
   "cell_type": "markdown",
   "metadata": {},
   "source": [
    "##### Energy    \n",
    "Now is a good time to remind yourself that all the $\\ce{H2O}$ escaping is saturated vapor at tank pressure.  \n",
    "\n",
    "$\\qquad\n",
    "\\begin{array}{lcrcl}\n",
    "  E_{in} &-& E_{out} &=& \\Delta E_{sys} \\\\[6pt]\n",
    "  Q_{in,2\\rightarrow3} &-& m_{out,2\\rightarrow3}h_{g,3} &=& m_3u_3 - m_2u_2\\\\[18pt]\n",
    "  \\hline\n",
    "  && Q_{in,2\\rightarrow3} &=& m_3u_3 - m_2u_2 + m_{out,2\\rightarrow3}h_{g,3}\n",
    "\\end{array}  \n",
    "$  "
   ]
  },
  {
   "cell_type": "code",
   "execution_count": 8,
   "metadata": {},
   "outputs": [],
   "source": [
    "# Get State 3 ⋮ Given P3 = 2.5 MPa, x3 = 90%\n",
    "# We're still saturated at P3 = P2, so\n",
    "# many propoerties will be the same\n",
    "P3 = P2\n",
    "x3 = 0.9\n",
    "\n",
    "vf3 = vf2\n",
    "vg3 = vg2\n",
    "uf3 = uf2\n",
    "ug3 = ug2\n",
    "\n",
    "hg3 = 2803.1u\"kJ/kg\"   # the escaping steam\n",
    "\n",
    "v3 = vf3 + x3 * (vg3 - vf3)\n",
    "u3 = uf3 + x3 * (ug3 - uf3)\n",
    "\n",
    "m3 = V/v3\n",
    "m_out = m2 - m3\n",
    "\n",
    "# Energy equation\n",
    "Qin23 = m3*u3 - m2*u2 + m_out*hg3; "
   ]
  },
  {
   "cell_type": "markdown",
   "metadata": {},
   "source": [
    "### A little summary algebra and you're home\n"
   ]
  },
  {
   "cell_type": "code",
   "execution_count": 9,
   "metadata": {
    "scrolled": true
   },
   "outputs": [
    {
     "name": "stdout",
     "output_type": "stream",
     "text": [
      "Qin = 307021.8088416562 kJ\n",
      "m_out = 126.57091428607026 kg"
     ]
    }
   ],
   "source": [
    "m_out = m2 - m3\n",
    "Qin = Qin12 + Qin23 |> u\"kJ\"\n",
    "\n",
    "# @printf(\"Q23in = %s\",Q23in); println()\n",
    "@printf(\"Qin = %s\",Qin); println()\n",
    "@printf(\"m_out = %s\",m_out);"
   ]
  },
  {
   "cell_type": "markdown",
   "metadata": {},
   "source": [
    "#### <div class=\"panel-success\"><div class=\"panel-heading\"><div class=\"badge\"></div> $$\\ \\normalsize Q_{in} = 307.02\\ \\ce{MJ} \\qquad \\dot m_{out} = 126.57\\ \\ce{kg}$$\n",
    "</div></div>"
   ]
  },
  {
   "cell_type": "markdown",
   "metadata": {},
   "source": [
    "<p style = \" background-image:  url(./figures/bacgroundTiles.png); line-height: 1em\" >&nbsp;</p>"
   ]
  },
  {
   "cell_type": "markdown",
   "metadata": {},
   "source": [
    "**A proposed power cycle (see figure below) is to have a thermal efficiency of 30% while receiving energy by heat transfer from condensing steam and discharging energy by heat transfer to a nearby lake at 20 °C. Determine the lowest possible condensing steam pressure (highest possible cycle efficiency).**\n",
    "\n",
    "The key expression here is that we were asking for the \"best\" of something. That should kake you think reversible processes, and that \n",
    "\n",
    "$$\\left(\\frac{Q_L}{Q_H}\\right)_{rev} = \\frac{T_L}{T_H}$$\n",
    "\n",
    "From there, \n",
    "\n",
    "$$\\eta_{th, max} = 1 - \\left( \\frac{Q_L}{Q_H} \\right)_{rev} = 1 - \\frac{T_L}{T_H}\n",
    "$$   \n",
    "\n",
    "$$$$\n",
    "\n",
    "$$ T_H = \\frac{T_L}{1 - \\eta_{th, max}}\n",
    "$$"
   ]
  },
  {
   "cell_type": "code",
   "execution_count": 10,
   "metadata": {},
   "outputs": [
    {
     "data": {
      "text/plain": [
       "145.6357142857143 °C"
      ]
     },
     "execution_count": 10,
     "metadata": {},
     "output_type": "execute_result"
    }
   ],
   "source": [
    "ηth = 0.3\n",
    "Tʟ = 20u\"°C\" |> u\"K\"\n",
    "Tʜ = Tʟ / (1 - ηth) |> u\"°C\"\n",
    "# @printf('Tʜ ='')"
   ]
  },
  {
   "cell_type": "markdown",
   "metadata": {},
   "source": [
    "With that temperature, we need the corresponding saturation pressure for our condensing steam:  $$$$\n",
    "<div class=\"panel-success\"><div class=\"panel-heading\"><div class=\"badge\"></div> $$\\ \\normalsize P = P_{sat@Tʜ} = 432\\, \\ce{kPa} $$\n",
    "</div></div>"
   ]
  },
  {
   "cell_type": "markdown",
   "metadata": {},
   "source": [
    "<footer style=\"background-color: #461d7c; color:rgba(253,208,35,0.35); line-height:2em; padding-left:1em; padding-right:0.5em; bottom:0; float:bottom; text-align:right;\"><i>ψᵟ</i></footer>"
   ]
  }
 ],
 "metadata": {
  "kernelspec": {
   "display_name": "Julia 1.0.2",
   "language": "julia",
   "name": "julia-1.0"
  },
  "language_info": {
   "file_extension": ".jl",
   "mimetype": "application/julia",
   "name": "julia",
   "version": "1.0.2"
  },
  "toc": {
   "base_numbering": 1,
   "nav_menu": {},
   "number_sections": true,
   "sideBar": true,
   "skip_h1_title": false,
   "title_cell": "Table of Contents",
   "title_sidebar": "Contents",
   "toc_cell": false,
   "toc_position": {},
   "toc_section_display": true,
   "toc_window_display": false
  },
  "varInspector": {
   "cols": {
    "lenName": 16,
    "lenType": 16,
    "lenVar": 40
   },
   "kernels_config": {
    "python": {
     "delete_cmd_postfix": "",
     "delete_cmd_prefix": "del ",
     "library": "var_list.py",
     "varRefreshCmd": "print(var_dic_list())"
    },
    "r": {
     "delete_cmd_postfix": ") ",
     "delete_cmd_prefix": "rm(",
     "library": "var_list.r",
     "varRefreshCmd": "cat(var_dic_list()) "
    }
   },
   "types_to_exclude": [
    "module",
    "function",
    "builtin_function_or_method",
    "instance",
    "_Feature"
   ],
   "window_display": true
  }
 },
 "nbformat": 4,
 "nbformat_minor": 2
}

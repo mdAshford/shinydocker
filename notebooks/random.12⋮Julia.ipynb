{
 "cells": [
  {
   "cell_type": "markdown",
   "metadata": {},
   "source": [
    " <div style=\"display:inline-block; position:absolute; top:0; right:0; color: #230e3e; font:italic 1em serif;\">$\\LaTeX$<span style=\"display:inline-block; vertical-align:bottom\">\n",
    "    <a href=\"https://www.mathjax.org\">\n",
    "    <img style=\"height:1.5em\" title=\"Powered by MathJax\"\n",
    "    src=\"https://www.mathjax.org/badge/mj_logo.png\"\n",
    "    border=\"0\" alt=\"Powered by MathJax\" >\n",
    "</a></span></div>\n",
    "\n",
    "<div style=\"display:inline-block; position:absolute; top:0; left:0; color: #230e3e; font:italic 1em serif;\"><a href=\"https://www.julialang.org\">\n",
    "    <img style=\"height:2.25em; vertical-align:top\" title=\"Powered by Julia\"\n",
    "    src=\"./figures/julia-logo-mask.png\"\n",
    "    border=\"0\" alt=\"Powered by Julia\" >\n",
    "</a></div>\n",
    "</a></div>$\\require{cancel} \\require{mhchem} \\require{bbox} \\require{color} \\require{enclose} \\require{AMSmath} \\require{AMSsymbols}$"
   ]
  },
  {
   "cell_type": "markdown",
   "metadata": {},
   "source": [
    "**<ins class=\"ansibgyellow\">You need to assume the pump is isentropic</ins> This is a Thermo 2 problem, but give it a try: A steam power cycle operates under the following conditions: (1) 100 bar and 500 °C at the turbine inlet; (2) 0.4 bar and 90% quality at the turbine exit; (3) saturated liquid at 0.4 bar at the condenser outlet; and (4) 100 bar at the pump outlet. The order of devices is**  \n",
    "\n",
    "   $$ \\rm ⓵ \\rightarrow turbine \\rightarrow ⓶ \\rightarrow condenser \\rightarrow ⓷ \\rightarrow pump \\rightarrow ⓸ \\rightarrow boiler \\rightarrow ⓵ $$\n",
    "\n",
    "The mass flow rate of the water is 10 kg/s. Neglecting kinetic and potential energy changes, determine\n",
    "1. the turbine work [kJ], and isentropic efficiency\n",
    "2. the condenser heat loss [kJ]\n",
    "3. the pump work, assuming it’s isentropic [kJ]\n",
    "4. the boiler heat input [kW]\n",
    "5. The overall plant thermal efficiency  \n"
   ]
  },
  {
   "cell_type": "markdown",
   "metadata": {},
   "source": [
    "### Get Organized and Attack\n",
    "Sketch may help\n",
    "   ![simple_rankine_cycle](./figures/simple_rankine_cycle.png)"
   ]
  },
  {
   "cell_type": "markdown",
   "metadata": {},
   "source": [
    "Each device\n",
    "- operates in steady state\n",
    "- has one inlet and one outlet\n",
    "- has an energy equation that reduces to   \n",
    "  $\\dot Q_{in} - \\dot W_{out} = \\dot m \\left(h_{out} - h_{in}\\right),$   \n",
    "  so enthalpy is the property we need for energy interactions.  \n",
    "  \n",
    "  \n",
    "The pump and turbine have isentropic efficiencies we need to consider, so we need entropy \n",
    "\n"
   ]
  },
  {
   "cell_type": "markdown",
   "metadata": {},
   "source": [
    "### Our plan is simple: resolve all four states, then execute the first law for each device."
   ]
  },
  {
   "cell_type": "code",
   "execution_count": 1,
   "metadata": {},
   "outputs": [],
   "source": [
    "using Unitful"
   ]
  },
  {
   "cell_type": "markdown",
   "metadata": {},
   "source": [
    "<p style = \"width:100%; background-image:  url(./figures/bacgroundTiles.png); line-height:0.5em; \" >&nbsp;</p>"
   ]
  },
  {
   "cell_type": "markdown",
   "metadata": {},
   "source": [
    "### Turbine: We have both actual states, need $\\dot W_{out}$ and $\\eta_{II}$"
   ]
  },
  {
   "cell_type": "code",
   "execution_count": 2,
   "metadata": {},
   "outputs": [
    {
     "data": {
      "text/plain": [
       "6.5952 kJ kg^-1 K^-1"
      ]
     },
     "execution_count": 2,
     "metadata": {},
     "output_type": "execute_result"
    }
   ],
   "source": [
    "# STATE 1 ⋮  100 bar, 500 °C \n",
    "h1 = ((3321.4 + 3425.1)/2)u\"kJ/kg\"   \n",
    "s1 = ((6.5282 + 6.6622)/2)u\"kJ/(kg*K)\""
   ]
  },
  {
   "cell_type": "code",
   "execution_count": 3,
   "metadata": {
    "scrolled": true
   },
   "outputs": [
    {
     "data": {
      "text/plain": [
       "2404.8599999999997 kJ kg^-1"
      ]
     },
     "execution_count": 3,
     "metadata": {},
     "output_type": "execute_result"
    }
   ],
   "source": [
    "# STATE 2 actual ⋮ 0.4 bar, 90% quality \n",
    "hf2 = 317.58u\"kJ/kg\"\n",
    "hfg2 = 2319.2u\"kJ/kg\"\n",
    "x2 = 0.9\n",
    " \n",
    "h2a = hf2 + x2 * hfg2"
   ]
  },
  {
   "cell_type": "markdown",
   "metadata": {},
   "source": [
    "**The pressures are set for these devices (really, for the whole plant) so pressure is the property we keep for the isentropic cases.**"
   ]
  },
  {
   "cell_type": "code",
   "execution_count": 4,
   "metadata": {
    "scrolled": true
   },
   "outputs": [
    {
     "data": {
      "text/plain": [
       "2261.6086208816846 kJ kg^-1"
      ]
     },
     "execution_count": 4,
     "metadata": {},
     "output_type": "execute_result"
    }
   ],
   "source": [
    "# STATE 2 isentropic ⋮ 0.4 bar, s2 = s1 \n",
    "sf2 = 1.0259u\"kJ/(kg*K)\"\n",
    "sg2 = 7.6700u\"kJ/(kg*K)\"\n",
    "x2s = (s1 - sf2)/(sg2 - sf2)\n",
    "\n",
    "hf2 = 317.58u\"kJ/kg\"\n",
    "hfg2 = 2319.2u\"kJ/kg\"\n",
    " \n",
    "h2s = hf2 + x2s * hfg2"
   ]
  },
  {
   "cell_type": "markdown",
   "metadata": {},
   "source": [
    "**Let's wrap up the turbine.**  \n",
    "It's a work-producing device. The ideal (isentropic) case would produce more work, so   \n",
    "\n",
    "$\\qquad \\displaystyle \\eta_{II} = \\frac{w_a}{w_s}.$\n"
   ]
  },
  {
   "cell_type": "code",
   "execution_count": 5,
   "metadata": {
    "scrolled": true
   },
   "outputs": [
    {
     "data": {
      "text/plain": [
       "0.8711352583582908"
      ]
     },
     "execution_count": 5,
     "metadata": {},
     "output_type": "execute_result"
    }
   ],
   "source": [
    "# TURBINE SUMMARY\n",
    "wTa = h1 - h2a\n",
    "wTs = h1 - h2s\n",
    "ηɪɪ = wTa / wTs"
   ]
  },
  {
   "cell_type": "markdown",
   "metadata": {},
   "source": [
    "<p style = \"width:100%; background-image:  url(./figures/bacgroundTiles.png); line-height:0.5em; \" >&nbsp;</p>"
   ]
  },
  {
   "cell_type": "markdown",
   "metadata": {},
   "source": [
    "### Condenser: We need $\\dot Q_{out}$. Remember to use the ACTUAL turbine exit state \n",
    "$\\qquad ⓶ \\rightarrow \\text{condenser} \\rightarrow ⓷$"
   ]
  },
  {
   "cell_type": "code",
   "execution_count": 6,
   "metadata": {},
   "outputs": [
    {
     "data": {
      "text/plain": [
       "2087.2799999999997 kJ kg^-1"
      ]
     },
     "execution_count": 6,
     "metadata": {},
     "output_type": "execute_result"
    }
   ],
   "source": [
    "# STATE 3 ⋮ saturated liquid, 0.4 bar \n",
    "h3 = hf2   # same pressure as state 2.\n",
    "qCond = h2a - h3"
   ]
  },
  {
   "cell_type": "markdown",
   "metadata": {},
   "source": [
    "<p style = \"width:100%; background-image:  url(./figures/bacgroundTiles.png); line-height:0.5em; \" >&nbsp;</p>"
   ]
  },
  {
   "cell_type": "markdown",
   "metadata": {},
   "source": [
    "### Pump: We need $\\dot W_{in}$. Isentropic (ideal) this time \n",
    "$\\qquad ⓷ \\rightarrow \\text{pump} \\rightarrow ⓸$"
   ]
  },
  {
   "cell_type": "code",
   "execution_count": 7,
   "metadata": {
    "scrolled": true
   },
   "outputs": [
    {
     "data": {
      "text/plain": [
       "10.974300279888041 kJ kg^-1"
      ]
     },
     "execution_count": 7,
     "metadata": {},
     "output_type": "execute_result"
    }
   ],
   "source": [
    "# STATE 4 ⋮ 100 bar, s4 = s3 ⋮ compressed liquid table!\n",
    "#\n",
    "#           h4      - h_100bar_40°C              s3      - s_100bar_40°C\n",
    "#   --------------------------------  =  --------------------------------\n",
    "#     h_100bar_80°C - h_100bar_40°C         s_100bar_80°C - s_100bar_40°C\n",
    "#\n",
    "\n",
    "s3 = 1.0259u\"kJ/(kg*K)\";   \n",
    "\n",
    "s_100bar_40°C = 0.5686u\"kJ/(kg*K)\"\n",
    "s_100bar_80°C = 1.0688u\"kJ/(kg*K)\"\n",
    "\n",
    "h_100bar_40°C = 176.38u\"kJ/kg\"\n",
    "h_100bar_80°C = 342.83u\"kJ/kg\"\n",
    "\n",
    "h4 = h_100bar_40°C + (h_100bar_80°C - h_100bar_40°C)*(s3 - s_100bar_40°C)/(s_100bar_80°C - s_100bar_40°C)\n",
    "wPump = h4 - h3"
   ]
  },
  {
   "cell_type": "markdown",
   "metadata": {},
   "source": [
    "<p style = \"width:100%; background-image:  url(./figures/bacgroundTiles.png); line-height:0.5em; \" >&nbsp;</p>"
   ]
  },
  {
   "cell_type": "markdown",
   "metadata": {},
   "source": [
    "### Boiler: We need $\\dot Q_{in}$. This completes the cycle\n",
    "$\\qquad ⓸ \\rightarrow \\text{boiler} \\rightarrow ⓵$"
   ]
  },
  {
   "cell_type": "code",
   "execution_count": 8,
   "metadata": {},
   "outputs": [
    {
     "data": {
      "text/plain": [
       "3044.695699720112 kJ kg^-1"
      ]
     },
     "execution_count": 8,
     "metadata": {},
     "output_type": "execute_result"
    }
   ],
   "source": [
    "qBoil = h1 - h4"
   ]
  },
  {
   "cell_type": "markdown",
   "metadata": {},
   "source": [
    "<p style = \"width:100%; background-image:  url(./figures/bacgroundTiles.png); line-height:0.5em; \" >&nbsp;</p>"
   ]
  },
  {
   "cell_type": "markdown",
   "metadata": {},
   "source": [
    "### Summary and final answers\n",
    "Don't forget, we need to answer everything in power, and get an efficiency. The mass flow was 10 kg/s, so trivial math ahead.\n",
    "\n",
    "There are many ways to get thermal efficiency for a cycle like this. The entire cycle is not reversible, so you **cannot** use $1 - \\frac{T_L}{T_H}.$ Also, remember that we calculated everything so that our heat and work flows all came out positive.\n",
    "\n",
    "$\\qquad \n",
    " \\begin{align*}\n",
    "   \\eta_{th} = \\frac{\\text{desired output}}{\\text{required input}} &= \\frac{w_{net}}{q_{in}} = \\frac{w_{turbine}-w_{pump}}{q_{boiler}} \\\\[9pt] &= 1-\\frac{q_{out}}{q_{in}} = 1 - \\frac{q_{condenser}}{q_{boiler}} \n",
    " \\end{align*}\n",
    "$"
   ]
  },
  {
   "cell_type": "markdown",
   "metadata": {},
   "source": [
    "<div class=\"panel-success\"><div class=\"panel-heading\"><div class=\"badge\"></div> $$final \\ answers$$\n",
    "</div></div>"
   ]
  },
  {
   "cell_type": "code",
   "execution_count": 9,
   "metadata": {},
   "outputs": [
    {
     "data": {
      "text/plain": [
       "0.3144536578181274"
      ]
     },
     "execution_count": 9,
     "metadata": {},
     "output_type": "execute_result"
    }
   ],
   "source": [
    "ηth = 1 - qCond/qBoil"
   ]
  },
  {
   "cell_type": "code",
   "execution_count": 10,
   "metadata": {},
   "outputs": [
    {
     "data": {
      "text/plain": [
       "0.3144536578181275"
      ]
     },
     "execution_count": 10,
     "metadata": {},
     "output_type": "execute_result"
    }
   ],
   "source": [
    "ηth = (wTa - wPump)/qBoil"
   ]
  },
  {
   "cell_type": "code",
   "execution_count": 11,
   "metadata": {},
   "outputs": [
    {
     "data": {
      "text/plain": [
       "9683.900000000003 kW"
      ]
     },
     "execution_count": 11,
     "metadata": {},
     "output_type": "execute_result"
    }
   ],
   "source": [
    "ṁ = 10u\"kg/s\"\n",
    "Ẇ_turbine = wTa * ṁ  |> u\"kW\""
   ]
  },
  {
   "cell_type": "code",
   "execution_count": 12,
   "metadata": {},
   "outputs": [
    {
     "data": {
      "text/plain": [
       "20872.799999999996 kW"
      ]
     },
     "execution_count": 12,
     "metadata": {},
     "output_type": "execute_result"
    }
   ],
   "source": [
    "Q̇_condenser = qCond * ṁ  |> u\"kW\""
   ]
  },
  {
   "cell_type": "code",
   "execution_count": 13,
   "metadata": {},
   "outputs": [
    {
     "data": {
      "text/plain": [
       "109.74300279888041 kW"
      ]
     },
     "execution_count": 13,
     "metadata": {},
     "output_type": "execute_result"
    }
   ],
   "source": [
    "Ẇ_pump = wPump * ṁ  |> u\"kW\""
   ]
  },
  {
   "cell_type": "code",
   "execution_count": 14,
   "metadata": {},
   "outputs": [
    {
     "data": {
      "text/plain": [
       "30446.95699720112 kW"
      ]
     },
     "execution_count": 14,
     "metadata": {},
     "output_type": "execute_result"
    }
   ],
   "source": [
    " Q̇_boiler = qBoil * ṁ  |> u\"kW\""
   ]
  },
  {
   "cell_type": "markdown",
   "metadata": {},
   "source": [
    "<div class=\"panel-success\"><div class=\"panel-heading\"><div class=\"badge\"></div> $ $\n",
    "</div></div>"
   ]
  },
  {
   "cell_type": "markdown",
   "metadata": {},
   "source": [
    "<footer style=\"background-color: #461d7c; color:rgba(253,208,35,0.35); line-height:2em; padding-left:1em; padding-right:0.5em; bottom:0; float:bottom; text-align:right;\"><i>ψᵟ</i></footer>"
   ]
  }
 ],
 "metadata": {
  "kernelspec": {
   "display_name": "Julia 1.0.2",
   "language": "julia",
   "name": "julia-1.0"
  },
  "language_info": {
   "file_extension": ".jl",
   "mimetype": "application/julia",
   "name": "julia",
   "version": "1.0.2"
  }
 },
 "nbformat": 4,
 "nbformat_minor": 2
}

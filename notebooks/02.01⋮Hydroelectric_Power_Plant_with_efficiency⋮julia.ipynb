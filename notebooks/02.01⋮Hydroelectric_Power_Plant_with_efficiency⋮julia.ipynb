{
 "cells": [
  {
   "cell_type": "markdown",
   "metadata": {},
   "source": [
    " <div style=\"display:inline-block; position:absolute; top:0; right:0; color: #230e3e; font:italic 1em serif;\">$\\LaTeX$<span style=\"display:inline-block; vertical-align:bottom\">\n",
    "    <a href=\"https://www.mathjax.org\">\n",
    "    <img style=\"height:1.5em\" title=\"Powered by MathJax\"\n",
    "    src=\"https://www.mathjax.org/badge/mj_logo.png\"\n",
    "    border=\"0\" alt=\"Powered by MathJax\" >\n",
    "</a></span></div>\n",
    "<div style=\"display:inline-block; position:absolute; top:0; left:0; color: #230e3e; font:italic 1em serif;\"><a href=\"https://www.julialang.org\">\n",
    "    <img style=\"height:2.25em; vertical-align:top\" title=\"Powered by Julia\"\n",
    "    src=\"./figures/julia-logo-mask.png\"\n",
    "    border=\"0\" alt=\"Powered by Julia\" >\n",
    "</a></div>\n",
    "</a></div>$\\require{cancel} \\require{mhchem} \\require{bbox} \\require{color} \\require{enclose} \\require{AMSmath} \\require{AMSsymbols}$"
   ]
  },
  {
   "cell_type": "markdown",
   "metadata": {},
   "source": [
    "<header style=\"background-color:#e7e2ee; color:#461d7c; line-height:2em; padding-left:1em; padding-right:1em; bottom:0; float:bottom; text-align:right; float:right; font-family:serif; font-size:small;\">Problem 2-122 ⋮ Çengel, Y. A., and Boles, M. A. (2001). <i>Thermodynamics: An Engineering Approach.</i> Boston: McGraw-Hill.</header>  \n"
   ]
  },
  {
   "cell_type": "raw",
   "metadata": {},
   "source": [
    "%%javascript\n",
    "MathJax.Hub.Config({\n",
    "    TeX: { equationNumbers: { autoNumber: \"AMS\" } }\n",
    "});"
   ]
  },
  {
   "cell_type": "code",
   "execution_count": 21,
   "metadata": {},
   "outputs": [
    {
     "data": {
      "application/javascript": [
       "MathJax.Hub.Config({\n",
       "    TeX: { equationNumbers: { autoNumber: \"AMS\" } }\n",
       "});\n"
      ]
     },
     "metadata": {},
     "output_type": "display_data"
    }
   ],
   "source": [
    "macro javascript_str(s) display(\"text/javascript\", s); end\n",
    "javascript\"\"\"\n",
    "MathJax.Hub.Config({\n",
    "    TeX: { equationNumbers: { autoNumber: \"AMS\" } }\n",
    "});\n",
    "\"\"\""
   ]
  },
  {
   "cell_type": "code",
   "execution_count": 22,
   "metadata": {},
   "outputs": [],
   "source": [
    "# a little Julia housekeeping\n",
    "using Unitful;           # use unitful.jl units package for Julia"
   ]
  },
  {
   "cell_type": "code",
   "execution_count": 23,
   "metadata": {},
   "outputs": [],
   "source": [
    "# define these unit constants to make the units a bit more readable \n",
    "const m, s, kg, MW = u\"m, s, kg, MW\";"
   ]
  },
  {
   "cell_type": "markdown",
   "metadata": {},
   "source": [
    "<div class=\"btn-info\">&nbsp;<div class=\"badge\"></div><i class=\"fa fa-code\"></i><strong> Julia Notes</strong></div>\n",
    "<div class=\"panel-info\"><div class=\"panel-heading\">   \n",
    "    \n",
    "1. The unit constants let us define Δz as <code>Δz = 90m</code>, instead of <code>Δz = 90u\"m\"</code>. The latter code is bit easier to read.  \n",
    "2. Assigning multiple values in a group (like we did here) saves a lot of space, and it's legal Julia syntax, but it's **terrible** coding practice. It makes your code harder to read, and demonstrates that you're evil and seething with sin.\n",
    "</div></div>"
   ]
  },
  {
   "cell_type": "markdown",
   "metadata": {},
   "source": [
    "# Hydroelectric Power Plant w/Efficiency\n",
    "In a hydroelectric power plant, 65 m³/s of water flows from an elevation of 90 m to a turbine, where electric power is generated. The overall efficiency of the turbine–generator is 84 percent. Disregarding frictional losses in piping, estimate the electric power output of this plant. <span style=\"color:#461d7c;\">_Answer: 48.2 MW_</span>\n",
    "\n",
    "<img src=\".\\figures\\ch02_cen98179_p02122_lg.jpg\" alt=\"Hydroelectric Power Plant\" style=\"height: 25em;\">"
   ]
  },
  {
   "cell_type": "markdown",
   "metadata": {},
   "source": [
    "### Given\n",
    "Hydroelectric electricity generation plant as depicted above."
   ]
  },
  {
   "cell_type": "code",
   "execution_count": 24,
   "metadata": {},
   "outputs": [
    {
     "data": {
      "text/plain": [
       "0.84"
      ]
     },
     "execution_count": 24,
     "metadata": {},
     "output_type": "execute_result"
    }
   ],
   "source": [
    "Δz = 90m       # elevation\n",
    "η = 0.84       # generator efficiency"
   ]
  },
  {
   "cell_type": "markdown",
   "metadata": {},
   "source": [
    "<div class=\"btn-info\">&nbsp;<div class=\"badge\"></div><i class=\"fa fa-code\"></i><strong> Julia Notes</strong></div>\n",
    "<div class=\"panel-info\"><div class=\"panel-heading\">   \n",
    "    \n",
    "Julia's defaults to showing the output of the last statement in a cell. Ending a statement with a semicolon suppresses this behavior.\n",
    "</div></div>"
   ]
  },
  {
   "cell_type": "code",
   "execution_count": 25,
   "metadata": {},
   "outputs": [],
   "source": [
    "V̇ = 65m^3/s;   # volumetric flow rate"
   ]
  },
  {
   "cell_type": "markdown",
   "metadata": {},
   "source": [
    "### Find\n",
    "\n",
    "Estimated electric power output $\\dot{W}_{electrical}$"
   ]
  },
  {
   "cell_type": "markdown",
   "metadata": {},
   "source": [
    "## Get Organized and Attack\n",
    "\n",
    "The physical principle we employ is the conservation of energy, aka the First Law (of Thermodynamics). We define our system as the hydroelectric plant and set the entrance to be the surface of the reservoir and exit to be the surface of the river below. The difference in mechanical energy between those points is the maximum energy available to the plant for conversion to electricty. Remember, the conversion isn't perfect, so we must account for efficiency.\n",
    "\n",
    "$$\\text{efficiency} = \\frac{\\text{desired output}}{\\text{required input}} \n",
    "        = \\frac{\\text{what you get}}{\\text{what you buy}}$$\n",
    "\n",
    "In our case, \n",
    "\n",
    "$$\\eta = \\frac{\\dot{W}_{electrical}}{\\dot{W}_{available}}$$\n",
    "\n",
    "or\n",
    "\n",
    "$$\\dot{W}_{electrical} = \\eta \\dot{W}_{available}$$\n",
    "\n",
    "\\begin{equation}\n",
    " \\dot{W}_{electrical} = \\eta \\dot{W}_{available}\n",
    "\\end{equation}\n",
    "\n"
   ]
  },
  {
   "cell_type": "markdown",
   "metadata": {},
   "source": [
    "### Assumptions\n",
    "\n",
    "1. We are given no information about gravity, so we assume the sea-level gravitational constant. $g = 9.81 \\ ^m ⁄ _{s^2}$  \n",
    "2. Steady flow: $\\frac{d}{dt} E_{sys} = 0$ and $\\dot{m}_{in} = \\dot{m}_{out} = \\dot{m}$  \n",
    "3. Water levels at the reservoir and river surfaces are constant: $\\vec{V_1} = \\vec{V_2} = 0$  \n",
    "4. No appreciable change in water temperature through the plant: $U_1 = U_2$ \n",
    "5. Water density $\\rho = 1000 \\ kg/m^3$ "
   ]
  },
  {
   "cell_type": "code",
   "execution_count": 6,
   "metadata": {},
   "outputs": [],
   "source": [
    "g = 9.81m/s^2    # gravity \n",
    "ρ = 1000kg/m^3   # density, water\n",
    ";"
   ]
  },
  {
   "cell_type": "markdown",
   "metadata": {},
   "source": [
    "### Attack\n",
    "\n",
    "We seek power, so we use the power form of the energy equation:\n",
    "\n",
    "$$\\begin{align}\n",
    "       \\dot{E}_\\textit{in} - \\dot{E}_\\textit{out} &= \\frac{d}{dt} E_\\textit{sys} \\\\\n",
    "       \\\\\n",
    "       \\dot{E}_{1} - \\dot{E}_{2} - \\dot{W}_\\textit{available} &=  \\color{red}\\cancelto{\\ 0 \\ (A2)}{\\color{black}\\frac{d}{dt} E_{sys}} \\\\\n",
    "       \\\\\n",
    "       \\dot{W}_\\textit{available} &= \\dot{m} \\left( e_{1} - e_{2} \\right) \\\\\n",
    "       \\\\\n",
    "       \\dot{W}_\\textit{available} &= \\dot{m} \\left( \\color{red}\\cancelto{\\ 0 \\ (A4)}{\\color{black}\\left( u_{1} - u_{2} \\right)} \\color{black} + \n",
    "           \\color{red}\\cancelto{\\ 0 \\ (A3)}{\\color{black}\\frac{\\vec{V_1}^2 - \\vec{V_2}^2}{2}}\n",
    "           \\color{black} + g\\left( z_{1} - z_{2} \\right) \\right) \\\\\n",
    "       \\\\\n",
    "       \\dot{W}_\\textit{available} &= \\rho \\dot{V} g\\left( z_{1} - z_{2} \\right)\n",
    "        \\\\   \n",
    "        \\\\\n",
    "        \\text{and}\n",
    "        \\\\\n",
    "        \\\\\n",
    "        \\dot{W}_\\textit{electrical} &= \\eta \\dot{W}_\\textit{available} = \\eta \\rho \\dot{V} g \\Delta z\n",
    "   \\end{align}$$"
   ]
  },
  {
   "cell_type": "code",
   "execution_count": 7,
   "metadata": {},
   "outputs": [
    {
     "data": {
      "text/plain": [
       "4.820634e7 kg m^2 s^-3"
      ]
     },
     "execution_count": 7,
     "metadata": {},
     "output_type": "execute_result"
    }
   ],
   "source": [
    "Ẇ_electrical = η * ρ * V̇ * g * Δz "
   ]
  },
  {
   "cell_type": "code",
   "execution_count": 9,
   "metadata": {},
   "outputs": [
    {
     "data": {
      "text/plain": [
       "48.20634 MW"
      ]
     },
     "execution_count": 9,
     "metadata": {},
     "output_type": "execute_result"
    }
   ],
   "source": [
    "# unitful and julia have slick syntax for unit conversions\n",
    "Ẇ_electrical |> MW"
   ]
  },
  {
   "cell_type": "markdown",
   "metadata": {},
   "source": [
    "<div class=\"btn-success\">&nbsp;<div class=\"badge\"></div><i class=\"fa fa-lightbulb-o\"></i><strong> Keep in Mind </strong></div>\n",
    "<div class=\"panel-success\"><div class=\"panel-heading\">   \n",
    "    \n",
    "We could have constructed our system such that it only included the turbine. Had we done that, we have to account for the water's depth and its velocity. By choosing the water surfaces, we eliminate both from consideration. This is a prime example of how a shrewd choice of system can make your life easier.\n",
    "</div></div>"
   ]
  },
  {
   "cell_type": "markdown",
   "metadata": {},
   "source": [
    "<footer style=\"background-color: #461d7c; color:rgba(253,208,35,0.35); line-height:2em; padding-left:1em; padding-right:0.5em; bottom:0; float:bottom; text-align:right;\"><i>ψᵟ</i></footer>"
   ]
  }
 ],
 "metadata": {
  "kernelspec": {
   "display_name": "Julia 1.0.2",
   "language": "julia",
   "name": "julia-1.0"
  },
  "language_info": {
   "file_extension": ".jl",
   "mimetype": "application/julia",
   "name": "julia",
   "version": "1.0.2"
  }
 },
 "nbformat": 4,
 "nbformat_minor": 2
}

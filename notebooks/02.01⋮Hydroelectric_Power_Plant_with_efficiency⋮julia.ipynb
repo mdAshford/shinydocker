{
 "cells": [
  {
   "cell_type": "markdown",
   "metadata": {},
   "source": [
    "<div style=\"display:inline-block; position:absolute; top:0; right:0; color: #230e3e; font:italic 1em serif;\">$\\LaTeX$<span style=\"display:inline-block; vertical-align:bottom\"><a href=\"https://www.mathjax.org\">\n",
    "    <img style=\"height:1.25em\" title=\"Powered by MathJax\"\n",
    "    src=\"https://www.mathjax.org/badge/mj_logo.png\"\n",
    "    border=\"0\" alt=\"Powered by MathJax\" />\n",
    "</a></span> </div>"
   ]
  },
  {
   "cell_type": "markdown",
   "metadata": {},
   "source": [
    "<p style=\"background-color: #461d7c; color:white; text-align:center;\">front matter</p>"
   ]
  },
  {
   "cell_type": "markdown",
   "metadata": {},
   "source": [
    "$\\require{cancel}     \n",
    "\\require{color}$ \n",
    "We are working in a ```Jupyter Notebook```, running an ```IJulia``` kernal of ```Julia 1.0.0```. We import the ```Unitful``` package to define, operate and manipulate physical quantities. A little housekeeping follows."
   ]
  },
  {
   "cell_type": "code",
   "execution_count": 1,
   "metadata": {},
   "outputs": [
    {
     "name": "stdout",
     "output_type": "stream",
     "text": [
      "\u001b[32m\u001b[1m  Updating\u001b[22m\u001b[39m registry at `~/.julia/registries/General`\n",
      "\u001b[32m\u001b[1m  Updating\u001b[22m\u001b[39m git-repo `https://github.com/JuliaRegistries/General.git`\n",
      "\u001b[?25l\u001b[2K\u001b[?25h\u001b[32m\u001b[1m Resolving\u001b[22m\u001b[39m package versions...\n",
      "\u001b[32m\u001b[1m  Updating\u001b[22m\u001b[39m `~/.julia/environments/v1.0/Project.toml`\n",
      "\u001b[90m [no changes]\u001b[39m\n",
      "\u001b[32m\u001b[1m  Updating\u001b[22m\u001b[39m `~/.julia/environments/v1.0/Manifest.toml`\n",
      "\u001b[90m [no changes]\u001b[39m\n"
     ]
    }
   ],
   "source": [
    "using Pkg;               # Julia package manager\n",
    "Pkg.add(\"Unitful\");      # Install and...\n",
    "using Unitful;           # use unitful.jl"
   ]
  },
  {
   "cell_type": "code",
   "execution_count": 2,
   "metadata": {},
   "outputs": [],
   "source": [
    "# ⋮⋮⋮⋮⋮ define these unit constants to make the code a bit more readable ⋮⋮⋮⋮⋮\n",
    "const m = u\"m\"; const s = u\"s\"; const kg = u\"kg\"; const MW = u\"MW\";"
   ]
  },
  {
   "cell_type": "markdown",
   "metadata": {},
   "source": [
    "<p style=\"background-color: #461d7c; color:white; padding-left:2rem;\">\n",
    "<a href=\"http://jupyter.org\" style=\"color:white;\">jupyter</a> | <a href=\"julialang.org\" style=\"color:white;\">julia</a> | <a href=\"https://ajkeller34.github.io/Unitful.jl/stable/\"  style=\"color:white;\">unitful.jl</a></p>"
   ]
  },
  {
   "cell_type": "markdown",
   "metadata": {},
   "source": [
    "# Hydroelectric Power Plant w/Efficiency\n",
    "In a hydroelectric power plant, 65 m³/s of water flows from an elevation of 90 m to a turbine, where electric power is generated. The overall efficiency of the turbine–generator is 84 percent. Disregarding frictional losses in piping, estimate the electric power output of this plant. <span style=\"color:#461d7c;\">_Answer: 48.2 MW_</span>\n",
    "\n",
    "  – *based on problem 2-122, Cengel, Y and M. Boles (2014) Thermodynamics: An Engineering Approach 8th Edition, McGraw-Hill*  \n",
    "\n",
    "<img src=\".\\figures\\ch02_cen98179_p02122_lg.jpg\" alt=\"Hydroelectric Power Plant\" style=\"height: 25em;\">"
   ]
  },
  {
   "cell_type": "markdown",
   "metadata": {},
   "source": [
    "### Given"
   ]
  },
  {
   "cell_type": "code",
   "execution_count": 3,
   "metadata": {},
   "outputs": [],
   "source": [
    "Δz = 90m;\n",
    "η = 0.84;\n",
    "V̇ = 65m^3/s;"
   ]
  },
  {
   "cell_type": "markdown",
   "metadata": {},
   "source": [
    "### Find\n",
    "\n",
    "Estimated electric power output $\\dot{W}_{electrical}$"
   ]
  },
  {
   "cell_type": "markdown",
   "metadata": {},
   "source": [
    "## Get Organized and Attack\n",
    "\n",
    "The physical principle we employ is the conservation of energy, aka the First Law (of Thermodynamics). We define our system as the hydroelectric plant and set the entrance to be the surface of the reservoir and exit to be the surface of the river below. The difference in mechanical energy between those points is the maximum energy available to the plant for conversion to electricty. Remember, that conversion isn't perfect, so we must account for efficiency.\n",
    "\n",
    "$$\\text{efficiency} = \\frac{\\text{desired output}}{\\text{required input}} \n",
    "        = \\frac{\\text{what you get}}{\\text{what you buy}}$$\n",
    "\n",
    "In our case, \n",
    "\n",
    "$$\\eta = \\frac{\\dot{W}_{electrical}}{\\dot{W}_{available}}$$\n",
    "\n",
    "or\n",
    "\n",
    "$$\\dot{W}_{electrical} = \\eta \\dot{W}_{available}$$"
   ]
  },
  {
   "cell_type": "markdown",
   "metadata": {},
   "source": [
    "### Assumptions\n",
    "\n",
    "1. We are given no information about gravity, so we assume the sea-level gravitational constant. $g = 9.81 \\ ^m ⁄ _{s^2}$  \n",
    "2. Steady flow: $\\frac{d}{dt} E_{sys} = 0$ and $\\dot{m}_{in} = \\dot{m}_{out} = \\dot{m}$  \n",
    "3. Water levels at the reservoir and river surfaces are constant: $\\vec{V_1} = \\vec{V_2} = 0$  \n",
    "4. No appreciable change in water temperature through the plant: $U_1 = U_2$ \n",
    "5. Water density $\\rho = 1000 \\ kg/m^3$ "
   ]
  },
  {
   "cell_type": "code",
   "execution_count": 4,
   "metadata": {},
   "outputs": [],
   "source": [
    "g = 9.81m/s^2;\n",
    "ρ = 1000kg/m^3;"
   ]
  },
  {
   "cell_type": "markdown",
   "metadata": {},
   "source": [
    "### Attack\n",
    "\n",
    "We seek power, so we use the power form of the energy equation:\n",
    "\n",
    "$$\\begin{align}\n",
    "       \\dot{E}_{in} - \\dot{E}_{out} &= \\frac{d}{dt} E_{sys} \\\\\n",
    "       \\\\\n",
    "       \\dot{E}_{1} - \\dot{E}_{2} - \\dot{W}_{available} &=  \\color{red}\\cancelto{\\ 0 \\ (A2)}{\\color{black}\\frac{d}{dt} E_{sys}} \\\\\n",
    "       \\\\\n",
    "       \\dot{W}_{available} &= \\dot{m} \\left( e_{1} - e_{2} \\right) \\\\\n",
    "       \\\\\n",
    "       \\dot{W}_{available} &= \\dot{m} \\left( \\color{red}\\cancelto{\\ 0 \\ (A4)}{\\color{black}\\left( u_{1} - u_{2} \\right)} \\color{black} + \n",
    "           \\color{red}\\cancelto{\\ 0 \\ (A3)}{\\color{black}\\frac{\\overrightarrow{V_1}^2 - \\overrightarrow{V_2}^2}{2}}\n",
    "           \\color{black} + g\\left( z_{1} - z_{2} \\right) \\right) \\\\\n",
    "       \\\\\n",
    "       \\dot{W}_{available} &= \\rho \\dot{V} g\\left( z_{1} - z_{2} \\right)\n",
    "        \\\\   \n",
    "        \\\\\n",
    "        \\text{and}\n",
    "        \\\\\n",
    "        \\\\\n",
    "        \\dot{W}_{electrical} &= \\eta \\dot{W}_{available} = \\eta \\rho \\dot{V} g \\Delta z\n",
    "   \\end{align}$$"
   ]
  },
  {
   "cell_type": "code",
   "execution_count": 5,
   "metadata": {},
   "outputs": [
    {
     "data": {
      "text/plain": [
       "4.820634e7 kg m^2 s^-3"
      ]
     },
     "execution_count": 5,
     "metadata": {},
     "output_type": "execute_result"
    }
   ],
   "source": [
    "Ẇ_electrical = η * ρ * V̇ * g * Δz"
   ]
  },
  {
   "cell_type": "code",
   "execution_count": 6,
   "metadata": {},
   "outputs": [
    {
     "data": {
      "text/plain": [
       "48.20634 MW"
      ]
     },
     "execution_count": 6,
     "metadata": {},
     "output_type": "execute_result"
    }
   ],
   "source": [
    "Ẇ_electrical |> MW"
   ]
  },
  {
   "cell_type": "markdown",
   "metadata": {},
   "source": [
    "<div class=\"alert alert-success\">\n",
    "\n",
    "<h2>Keep in mind</h2>\n",
    "\n",
    "<p>We could have constructed our system such that it only included the turbine. Had we done that, we have to account for the water's depth and its velocity. By choosing the water surfaces, we eliminate both from consideration. This is a prime example of how a shrewd choice of system can make your life easier.</p>\n",
    "</div>"
   ]
  },
  {
   "cell_type": "markdown",
   "metadata": {},
   "source": [
    "<footer style=\"background-color: #461d7c; color:rgba(253,208,35,0.35); line-height:2em; padding-left:1em; padding-right:0.5em; bottom:0; float:bottom; text-align:right;\"><i>ψᵟ</i></footer>"
   ]
  }
 ],
 "metadata": {
  "kernelspec": {
   "display_name": "Julia 1.0.0",
   "language": "julia",
   "name": "julia-1.0"
  },
  "language_info": {
   "file_extension": ".jl",
   "mimetype": "application/julia",
   "name": "julia",
   "version": "1.0.0"
  }
 },
 "nbformat": 4,
 "nbformat_minor": 2
}

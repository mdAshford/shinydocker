{
 "cells": [
  {
   "cell_type": "markdown",
   "metadata": {},
   "source": [
    " <div style=\"display:inline-block; position:absolute; top:0; right:0; color: #230e3e; font:italic 1em serif;\">$\\LaTeX$<span style=\"display:inline-block; vertical-align:bottom\">\n",
    "    <a href=\"https://www.mathjax.org\">\n",
    "    <img style=\"height:1.5em\" title=\"Powered by MathJax\"\n",
    "    src=\"https://www.mathjax.org/badge/mj_logo.png\"\n",
    "    border=\"0\" alt=\"Powered by MathJax\" >\n",
    "</a></span></div>\n",
    "<div style=\"display:inline-block; position:absolute; top:0; left:0; color: #230e3e; font:italic 1em serif;\"><a href=\"https://www.python.org\">\n",
    "    <img style=\"height:1.75em; vertical-align:top\" title=\"Python Powered\"\n",
    "    src=\"https://www.python.org/static/community_logos/python-powered-w-70x28.png\"\n",
    "    border=\"0\" alt=\"Python Powered\" >\n",
    "</a></div>"
   ]
  },
  {
   "cell_type": "markdown",
   "metadata": {},
   "source": [
    "<div style=\"text-align:center; font-weight:bold; border:solid 1px; background-color:#dfe1ee;\">\n",
    "ME215: Thermodynamics I⋮Test Two REVIEW⋮10 October 2018\n",
    "</div>"
   ]
  },
  {
   "cell_type": "code",
   "execution_count": 1,
   "metadata": {},
   "outputs": [],
   "source": [
    "import pint                  # pint units package for Python\n",
    "ureg = pint.UnitRegistry()   # make shortcuts to the pint unit registry class constructor\n",
    "kg = ureg.kg                         \n",
    "m = ureg.m     "
   ]
  },
  {
   "cell_type": "markdown",
   "metadata": {},
   "source": [
    "1. **(15) A tank contains 6 kg of saturated vapor ($ \\sf \\small v_g = 0.003488\\, m^3/kg$) and 3 kg saturated liquid ($\\sf \\small v_f = 0.001635\\, m^3/kg$). What is the quality of this mixture?**\n",
    "\n",
    "$$\\sf x = \\sf \\frac{m_{vapor}}{m_{total}} = \\frac{6\\, \\text{kg}}{6\\, \\text{kg} + 3\\, \\text{kg}} = 0.\\overline{666}$$"
   ]
  },
  {
   "cell_type": "code",
   "execution_count": 2,
   "metadata": {
    "scrolled": true
   },
   "outputs": [
    {
     "data": {
      "text/html": [
       "0.6666666666666666 dimensionless"
      ],
      "text/latex": [
       "$0.6666666666666666\\ dimensionless$"
      ],
      "text/plain": [
       "<Quantity(0.6666666666666666, 'dimensionless')>"
      ]
     },
     "execution_count": 2,
     "metadata": {},
     "output_type": "execute_result"
    }
   ],
   "source": [
    "m_g = 6 * kg\n",
    "m_f = 3 * kg\n",
    "\n",
    "x = m_g / (m_f + m_g) \n",
    "x"
   ]
  },
  {
   "cell_type": "markdown",
   "metadata": {},
   "source": [
    "<p style = \" background-image:  url(./figures/bacgroundTiles.png); line-height: 0.35em\" >&nbsp;</p>"
   ]
  },
  {
   "cell_type": "markdown",
   "metadata": {},
   "source": [
    "2. **(15) A tank contains 6 kg of saturated liquid ($ \\sf \\small v_f = 0.003488\\, m^3/kg$) and 3 kg saturated vapor ($\\sf \\small v_g = 0.006395\\, m^3/kg$). What is the volume of this mixture?**\n",
    "\n",
    "\n",
    "\n",
    "$$ \\sf V = \\sf V_{vapor} + V_{liquid} = \\sf m_{vapor}v_{vapor} + m_{liquid}v_{liquid} = 0.04011\\, m^3 $$"
   ]
  },
  {
   "cell_type": "code",
   "execution_count": 3,
   "metadata": {},
   "outputs": [
    {
     "data": {
      "text/html": [
       "0.040113 meter<sup>3</sup>"
      ],
      "text/latex": [
       "$0.040113\\ \\mathrm{meter}^{3}$"
      ],
      "text/plain": [
       "<Quantity(0.040113, 'meter ** 3')>"
      ]
     },
     "execution_count": 3,
     "metadata": {},
     "output_type": "execute_result"
    }
   ],
   "source": [
    "m_f = 6 * kg\n",
    "v_f = 0.003488 * m**3/kg\n",
    "\n",
    "m_g = 3 * kg\n",
    "v_g = 0.006395 * m**3/kg\n",
    "\n",
    "V = (m_f * v_f) + (m_g * v_g) \n",
    "V"
   ]
  },
  {
   "cell_type": "markdown",
   "metadata": {},
   "source": [
    "<p style = \" background-image:  url(./figures/bacgroundTiles.png); line-height: 0.35em\" >&nbsp;</p>"
   ]
  },
  {
   "cell_type": "markdown",
   "metadata": {},
   "source": [
    "3. **A system consists of a saturated liquid/vapor mixture. Heat is added to the system at constant pressure.**  \n",
    "\n",
    " - The system is a **saturated mixture** undergoing an **isobaric** process. Under saturation conditions, temperature and pressure are not independent, so holding one constant holds the other constant.  \n",
    " - Adding heat increases specific volume\n"
   ]
  },
  {
   "cell_type": "markdown",
   "metadata": {},
   "source": [
    "<p style = \" background-image:  url(./figures/bacgroundTiles.png); line-height: 0.35em\" >&nbsp;</p>"
   ]
  },
  {
   "cell_type": "markdown",
   "metadata": {},
   "source": [
    "4. **(15) Walking outdoors, you find a container of propane with its contents at the ambient temperature. You determine that the propane inside exists as both liquid and vapor. You decide to open the container. Does air flow in or does propane flow out? Why? Prove it using the property tables.**  \n",
    "\n",
    " The flow of air or propane will be in the direction of decreasing pressure. Knowing you have both liquid and vapor present tells you right away that saturation conditions exist inside the container. Then \n",
    " $$\\sf P_{container} = P_{sat@T}$$\n",
    " \n",
    " $$\\sf \\text{flow} = \\left\\{ \\begin{align}\n",
    "        \\sf P_{container} &> \\sf P_{atm} && \\sf \\text{propane out} \\\\\n",
    "        \\sf P_{container} &< \\sf P_{atm} && \\sf \\text{air in} \n",
    "      \\end{align} \\right. $$\n"
   ]
  },
  {
   "cell_type": "markdown",
   "metadata": {},
   "source": [
    "<p style = \" background-image:  url(./figures/bacgroundTiles.png); line-height: 0.35em\" >&nbsp;</p>"
   ]
  },
  {
   "cell_type": "markdown",
   "metadata": {},
   "source": [
    "5. **(15) A sealed rigid vessel ($ \\sf \\small volume = 4\\, m^3 $) contains 133.5 kg of propane. The tank bursts at 1.5 MPa. What is the maximum allowable temperature (to avoid bursting) [℃]?**  \n",
    "\n",
    " For a simple compressible system like this one, the state can be defined anywhere with pressure plus another intensive or specific property, except temperature (and P and T together will define a state outside of saturation conditions). In this case, use volume and mass to calculate specific volume, then P and v define your state.\n",
    " \n",
    " Determine the corresponding temperature, and do not exceed it."
   ]
  },
  {
   "cell_type": "markdown",
   "metadata": {},
   "source": [
    "<p style = \" background-image:  url(./figures/bacgroundTiles.png); line-height: 0.35em\" >&nbsp;</p>"
   ]
  },
  {
   "cell_type": "markdown",
   "metadata": {},
   "source": [
    "6. **On the P-V diagram below, identify the following:  \n",
    "(5) Compressed liquid region\n",
    "(5) Critical Point\n",
    "(5) Solid region\n",
    "(5) Saturated vapor line\n",
    "(5) Solid + Liquid region**\n",
    " \n",
    "![test-two,six.png](./figures/test-two,six.png)"
   ]
  },
  {
   "cell_type": "markdown",
   "metadata": {},
   "source": [
    "<footer style=\"background-color: #461d7c; color:rgba(253,208,35,0.35); line-height:2em; padding-left:1em; padding-right:0.5em; bottom:0; float:bottom; text-align:right;\"><i>ψᵟ</i></footer>"
   ]
  }
 ],
 "metadata": {
  "kernelspec": {
   "display_name": "Python 3",
   "language": "python",
   "name": "python3"
  },
  "language_info": {
   "codemirror_mode": {
    "name": "ipython",
    "version": 3
   },
   "file_extension": ".py",
   "mimetype": "text/x-python",
   "name": "python",
   "nbconvert_exporter": "python",
   "pygments_lexer": "ipython3",
   "version": "3.7.1"
  },
  "varInspector": {
   "cols": {
    "lenName": 16,
    "lenType": 16,
    "lenVar": 40
   },
   "kernels_config": {
    "python": {
     "delete_cmd_postfix": "",
     "delete_cmd_prefix": "del ",
     "library": "var_list.py",
     "varRefreshCmd": "print(var_dic_list())"
    },
    "r": {
     "delete_cmd_postfix": ") ",
     "delete_cmd_prefix": "rm(",
     "library": "var_list.r",
     "varRefreshCmd": "cat(var_dic_list()) "
    }
   },
   "types_to_exclude": [
    "module",
    "function",
    "builtin_function_or_method",
    "instance",
    "_Feature"
   ],
   "window_display": false
  }
 },
 "nbformat": 4,
 "nbformat_minor": 2
}

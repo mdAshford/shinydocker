{
 "cells": [
  {
   "cell_type": "markdown",
   "metadata": {},
   "source": [
    " <div style=\"display:inline-block; position:absolute; top:0; right:0; color: #230e3e; font:italic 1em serif;\">$\\LaTeX$<span style=\"display:inline-block; vertical-align:bottom\">\n",
    "    <a href=\"https://www.mathjax.org\">\n",
    "    <img style=\"height:1.5em\" title=\"Powered by MathJax\"\n",
    "    src=\"https://www.mathjax.org/badge/mj_logo.png\"\n",
    "    border=\"0\" alt=\"Powered by MathJax\" >\n",
    "</a></span></div>\n",
    "<div style=\"display:inline-block; position:absolute; top:0; left:0; color: #230e3e; font:italic 1em serif;\"><a href=\"https://www.python.org\">\n",
    "    <img style=\"height:1.75em; vertical-align:top\" title=\"Python Powered\"\n",
    "    src=\"https://www.python.org/static/community_logos/python-powered-w-70x28.png\"\n",
    "    border=\"0\" alt=\"Python Powered\" >\n",
    "</a></div>"
   ]
  },
  {
   "cell_type": "markdown",
   "metadata": {},
   "source": [
    "# Hydraulic Lift\n",
    "A hydraulic lift is to be used to lift a 2500 kg weight by putting a weight of 25 kg on a piston with a diameter of 10 cm. Determine the diameter of the piston on which the weight is to be placed. The hydraulic fluid has a specific gravity of 0.86.\n",
    "\n",
    "  – *based on problem 1-91, Cengel, Y and M. Boles (2014) Thermodynamics: An Engineering Approach 8th Edition, McGraw-Hill*  \n",
    "\n",
    "![Air Duct](https://notebooks.azure.com/MarcusAshford/libraries/thermoOne/raw/img%2Fch01_cen98179_p01091om_lg.jpg)\n"
   ]
  },
  {
   "cell_type": "markdown",
   "metadata": {},
   "source": [
    "<p style=\"background-color: #fff; text-align:center; background-image:'https://notebooks.azure.com/MarcusAshford/libraries/thermoOne/raw/img%2Fgriddles.png'; padding: 0;\">&nbsp;</p>\n",
    "\n",
    "We are working in a ```Jupyter Notebook```, running an ```IPython``` kernal of ```Python 3```. We import the ```pint``` package to define, operate and manipulate physical quantities. A little housekeeping follows."
   ]
  },
  {
   "cell_type": "code",
   "execution_count": 1,
   "metadata": {
    "scrolled": false
   },
   "outputs": [
    {
     "name": "stdout",
     "output_type": "stream",
     "text": [
      "Requirement already satisfied: pint in /anaconda3/lib/python3.6/site-packages (0.8.1)\n",
      "\u001b[31mdistributed 1.21.8 requires msgpack, which is not installed.\u001b[0m\n",
      "\u001b[33mYou are using pip version 10.0.1, however version 18.0 is available.\n",
      "You should consider upgrading via the 'pip install --upgrade pip' command.\u001b[0m\n"
     ]
    }
   ],
   "source": [
    "!pip install pint                     # install pint for use by our Python kernal\n",
    "import pint                           # make pint available for use this notebook's code chunks\n",
    "Q_ = pint.UnitRegistry().Quantity     # make shortcut to the pint unit registry class constructor\n",
    "from IPython.display import Math      # IPython library for extra-pretty LaTeX output. Note the UPPERCASE 'M'\n",
    "import math                           # Python math library. Note the lowercase 'm' "
   ]
  },
  {
   "cell_type": "markdown",
   "metadata": {},
   "source": [
    "[jupyter](http://jupyter.org) | [pint](https://pypi.org/project/Pint/) | [pip](https://pip.pypa.io/en/stable/installing/) |  [anaconda](https://www.anaconda.com) | [python](https://www.python.org)\n",
    "<p style=\"background-color: #fff; text-align:center; background-image:'https://notebooks.azure.com/MarcusAshford/libraries/thermoOne/raw/img%2Fgriddles.png';\">&nbsp;</p>"
   ]
  },
  {
   "cell_type": "markdown",
   "metadata": {},
   "source": [
    "### Given"
   ]
  },
  {
   "cell_type": "code",
   "execution_count": 2,
   "metadata": {
    "inputHidden": false,
    "outputHidden": false
   },
   "outputs": [],
   "source": [
    "# use pint class constructor to assign quantities\n",
    "m1 = Q_(25, 'kg')       \n",
    "m2 = Q_(2500, 'kg')      \n",
    "d1 = Q_(10, 'cm')"
   ]
  },
  {
   "cell_type": "markdown",
   "metadata": {},
   "source": [
    "### Find\n",
    "\n",
    "1. Calculate $D_2$"
   ]
  },
  {
   "cell_type": "markdown",
   "metadata": {},
   "source": [
    "## Get Organized and Attack\n",
    "\n",
    "The physical principles we employ is Pascal's Law (aka Pascal's Principle): the effect of pressure is felt everywhere equally. If we assume the hydraulic pistons are at the same elevation, the pressure in the adjacent fluid is the same. In our case, \n",
    "\n",
    "$$ P_{1} = P_{2}. $$"
   ]
  },
  {
   "cell_type": "markdown",
   "metadata": {},
   "source": [
    "### Assumptions\n",
    "\n",
    "Hydraulic pistons are at the same elevation, so $P_{1} = P_{2}.$   "
   ]
  },
  {
   "cell_type": "markdown",
   "metadata": {},
   "source": [
    "### Attack\n",
    "\n",
    "A little algebra before we dive into calculations can often make our lives much easier... *experience and personal preference direct whether you should start with algebraic manipulation or numerical calculation.* \n",
    "\n",
    "$$\n",
    "\\begin{align}\n",
    "               P_{1} & = P_{2} \\\\\n",
    "     \\\\\n",
    " \\frac{F_{1}}{A_{1}} & = \\frac{F_{2}}{A_{2}}  \\\\   \n",
    "     \\\\\n",
    " \\frac{m_{1}g}{\\frac{\\pi}{4}D_{1}^2} & = \\frac{m_{2}g}{\\frac{\\pi}{4}D_{2}^2}   \\\\  \n",
    "     \\\\\n",
    "\\end{align}\n",
    "$$\n",
    "\n",
    "<p style=\"padding-left:35%;\">\n",
    "    This all leads to \n",
    "<p>\n",
    "$$ D_{2} = D_{1} \\sqrt{\\frac{m_2}{m_1}}        $$"
   ]
  },
  {
   "cell_type": "code",
   "execution_count": 3,
   "metadata": {
    "inputHidden": false,
    "outputHidden": false,
    "scrolled": true
   },
   "outputs": [
    {
     "data": {
      "text/html": [
       "100.0 centimeter"
      ],
      "text/latex": [
       "$100.0\\ \\mathrm{centimeter}$"
      ],
      "text/plain": [
       "<Quantity(100.0, 'centimeter')>"
      ]
     },
     "execution_count": 3,
     "metadata": {},
     "output_type": "execute_result"
    }
   ],
   "source": [
    "d2 = d1 * math.sqrt(m2 / m1)          \n",
    "d2                                   # raw output"
   ]
  },
  {
   "cell_type": "code",
   "execution_count": 4,
   "metadata": {
    "scrolled": true
   },
   "outputs": [
    {
     "name": "stdout",
     "output_type": "stream",
     "text": [
      "D2 = 100.0 cm\n"
     ]
    }
   ],
   "source": [
    "print('D2 = {:~P}'.format(d2))        # pretty printing"
   ]
  },
  {
   "cell_type": "code",
   "execution_count": 5,
   "metadata": {
    "scrolled": true
   },
   "outputs": [
    {
     "data": {
      "text/latex": [
       "$$D_2 = 100.0\\ \\mathrm{cm}$$"
      ],
      "text/plain": [
       "<IPython.core.display.Math object>"
      ]
     },
     "execution_count": 5,
     "metadata": {},
     "output_type": "execute_result"
    }
   ],
   "source": [
    "Math(r'D_2 = {:~L}'.format(d2))       # rendering with LaTeX"
   ]
  },
  {
   "cell_type": "code",
   "execution_count": 6,
   "metadata": {
    "scrolled": true
   },
   "outputs": [
    {
     "data": {
      "text/latex": [
       "$$D_2 = 1.0\\ \\mathrm{m}$$"
      ],
      "text/plain": [
       "<IPython.core.display.Math object>"
      ]
     },
     "execution_count": 6,
     "metadata": {},
     "output_type": "execute_result"
    }
   ],
   "source": [
    "Math(r'D_2 = {:~L}'.format(d2.to_compact()))    # rendering with LaTeX and compact units"
   ]
  },
  {
   "cell_type": "markdown",
   "metadata": {},
   "source": [
    "<div class=\"alert alert-success\">\n",
    "\n",
    "\n",
    "*Check your understanding:*  \n",
    " 1. *What if the driving piston (25kg) were 3 m above the driven piston?*  \n",
    " 2. *Why didn't we account for atmospheric pressure?*\n",
    "\n",
    "</div>"
   ]
  },
  {
   "cell_type": "markdown",
   "metadata": {},
   "source": [
    "<footer style=\"background-color: #461d7c; color:rgba(253,208,35,0.35); line-height:2em; padding-left:1em; padding-right:0.5em; bottom:0; float:bottom; text-align:right;\"><i>ψᵟ</i></footer>"
   ]
  }
 ],
 "metadata": {
  "kernel_info": {
   "name": "python3"
  },
  "kernelspec": {
   "display_name": "Python 3",
   "language": "python",
   "name": "python3"
  },
  "language_info": {
   "codemirror_mode": {
    "name": "ipython",
    "version": 3
   },
   "file_extension": ".py",
   "mimetype": "text/x-python",
   "name": "python",
   "nbconvert_exporter": "python",
   "pygments_lexer": "ipython3",
   "version": "3.7.1"
  },
  "nteract": {
   "version": "0.11.6"
  }
 },
 "nbformat": 4,
 "nbformat_minor": 2
}

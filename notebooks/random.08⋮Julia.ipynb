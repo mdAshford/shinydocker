{
 "cells": [
  {
   "cell_type": "markdown",
   "metadata": {},
   "source": [
    " <div style=\"display:inline-block; position:absolute; top:0; right:0; color: #230e3e; font:italic 1em serif;\">$\\LaTeX$<span style=\"display:inline-block; vertical-align:bottom\">\n",
    "    <a href=\"https://www.mathjax.org\">\n",
    "    <img style=\"height:1.5em\" title=\"Powered by MathJax\"\n",
    "    src=\"https://www.mathjax.org/badge/mj_logo.png\"\n",
    "    border=\"0\" alt=\"Powered by MathJax\" >\n",
    "</a></span></div>\n",
    "\n",
    "<div style=\"display:inline-block; position:absolute; top:0; left:0; color: #230e3e; font:italic 1em serif;\"><a href=\"https://www.julialang.org\">\n",
    "    <img style=\"height:2.25em; vertical-align:top\" title=\"Powered by Julia\"\n",
    "    src=\"./figures/julia-logo-mask.png\"\n",
    "    border=\"0\" alt=\"Powered by Julia\" >\n",
    "</a></div>\n",
    "</a></div>$\\require{cancel} \\require{mhchem} \\require{bbox} \\require{color} \\require{enclose} \\require{AMSmath} \\require{AMSsymbols}$"
   ]
  },
  {
   "cell_type": "markdown",
   "metadata": {},
   "source": [
    "**Refrigerant 134a enters an adiabatic compressor as saturated vapor at 120 kPa at a rate of 0.3 m³/min and exits at 1 MPa. If the isentropic efficiency of the compressor is 80%, determine:**\n",
    "1. the temperature of the refrigerant at the exit of the compressor and\n",
    "1. the power input, in kW.       \n"
   ]
  },
  {
   "cell_type": "markdown",
   "metadata": {},
   "source": [
    "### Given\n",
    "<ol> \n",
    " $\\text{R-134a} \\left| \\begin{array}{ll} \n",
    "  P_{1} = 120\\, \\ce{kPa} \\\\[0pt]\n",
    "  x_{1} = \\text{sat vapor} \\\\[0pt]\n",
    "  \\dot V_{1} = 0.3\\, \\ce{m^3/min}\n",
    " \\end{array}\\right|\n",
    " \\xrightarrow{\\eta_{II} = 80\\%}\n",
    " $\n",
    " $\\left| \\begin{array}{ll} \n",
    "  \\\\[0pt]\n",
    "  P_{2} = 1\\, \\ce{MPa} \\\\[0pt]\n",
    "  \\\\[0pt]\n",
    " \\end{array}\\right|\n",
    " $\n",
    " "
   ]
  },
  {
   "cell_type": "code",
   "execution_count": 1,
   "metadata": {},
   "outputs": [],
   "source": [
    "using Unitful       # Unitful units package"
   ]
  },
  {
   "cell_type": "code",
   "execution_count": 2,
   "metadata": {},
   "outputs": [],
   "source": [
    "# Given \n",
    "P1 = 120u\"kPa\"  \n",
    "x1 = 1\n",
    "V̇1 = 0.3u\"m^3/minute\"\n",
    "ηii = 0.8;"
   ]
  },
  {
   "cell_type": "markdown",
   "metadata": {},
   "source": [
    "### Find \n",
    "1. the temperature of the refrigerant at the exit of the compressor and\n",
    "1. the power input, in kW. "
   ]
  },
  {
   "cell_type": "markdown",
   "metadata": {},
   "source": [
    "### Get Organized  and Attack\n",
    "We are given State 1 and an isentropic efficiency $(\\eta_{\\ce{II}})$, so we  \n",
    "1. determine the isentropic work from State 1 to State 2 ($\\dot W_s$),  \n",
    "2. use $\\eta_{\\ce{II}}$ to calculate the actual work ($\\dot W_a$), and  \n",
    "3. use $\\dot W_a$ to get State 2, which gives us $T_2$\n",
    "\n",
    "Conservation of mass is trivial, so we can jump right into conservation of energy. "
   ]
  },
  {
   "cell_type": "markdown",
   "metadata": {},
   "source": [
    "#### State 1 is GIven"
   ]
  },
  {
   "cell_type": "code",
   "execution_count": 3,
   "metadata": {},
   "outputs": [],
   "source": [
    "# STATE 1\n",
    "# P1 = 120 kPa, x1 = 1 ⋮ need s1, h1\n",
    "\n",
    "s1 = 0.9354u\"kJ/(kg*K)\"\n",
    "h1 = 233.86u\"kJ/kg\";"
   ]
  },
  {
   "cell_type": "markdown",
   "metadata": {},
   "source": [
    "#### Determine Isentropic State 2s  \n",
    "    \n",
    "$$ \\left. \\begin{array}{cl}\n",
    "  \\dot E_{in} &-& \\dot E_{out} &=& \\frac{d}{dt} E_{sys} \\\\[6pt]\n",
    "  \\dot m h_1 + \\dot m w_{s,in} &-& \\dot m h_{2s} &=& 0 \\\\[6pt]\n",
    "\\end{array} \\right\\} \\quad\n",
    " w_{s,in} =  h_{2s} - h_1  \\\\[6pt]\n",
    "$$  "
   ]
  },
  {
   "cell_type": "code",
   "execution_count": 4,
   "metadata": {},
   "outputs": [],
   "source": [
    "# STATE 2S\n",
    "# P2s = 1 MPa, s2 = s1 ⋮ superheated ⋮ need h2s ⋮ must interpolate\n",
    "# (h2s - h_40°C)/(h_50°C - h_40°C) = (s2 - s_40°C)/(s_50°C - s_40°C)\n",
    "\n",
    "s2 = s1\n",
    "s_40°C = 0.9066u\"kJ/(kg*K)\"\n",
    "s_50°C = 0.9428u\"kJ/(kg*K)\"\n",
    "h_40°C = 268.68u\"kJ/kg\"\n",
    "h_50°C = 280.19u\"kJ/kg\"\n",
    "\n",
    "h2s = h_40°C + (h_50°C - h_40°C)*(s2 - s_40°C)/(s_50°C - s_40°C);\n",
    "\n",
    "# println(\"h2s = \",h2s)"
   ]
  },
  {
   "cell_type": "markdown",
   "metadata": {},
   "source": [
    "#### Calculate Actual Work \n",
    "Remember, the isentropic work is the best-case scenario. Compressors are work-consuming devices, so we expect $ w_s < w_a,$ therefore,  \n",
    "\n",
    "$$\\displaystyle \\eta_{\\ce{II}} = \\frac{w_{s,in}}{w_{a,in}}$$  \n",
    "\n",
    "$$\\displaystyle w_{a,in} = \\frac{w_{s,in}}{\\eta_{\\ce{II}}} = \\frac{h_{2s} - h_1}{\\eta_{\\ce{II}}} $$  \n",
    "\n",
    "$$$$\n",
    "\n",
    "$$ \\color{red} \\dot W_{a,in} = \\dot m w_{a,in} = \\frac{\\dot V}{v}w_{a,in}$$"
   ]
  },
  {
   "cell_type": "code",
   "execution_count": 5,
   "metadata": {},
   "outputs": [
    {
     "name": "stdout",
     "output_type": "stream",
     "text": [
      "Ẇ_actual = 1.7029556641815053 kW\n"
     ]
    }
   ],
   "source": [
    "# Work_actual\n",
    "v1 = 0.1614u\"m^3/kg\"    # from saturation table\n",
    "\n",
    "w_a = (h2s - h1)/ηii\n",
    "Ẇ_a = w_a * V̇1/v1 |> u\"kW\"\n",
    "\n",
    "println(\"Ẇ_actual = \",Ẇ_a)"
   ]
  },
  {
   "cell_type": "markdown",
   "metadata": {},
   "source": [
    "<div class=\"panel-success\"><div class=\"panel-heading\"><div class=\"badge\"></div> $$\\ \\normalsize \\dot W_{in} = 1.703\\, \\ce{kW} $$\n",
    "</div></div>"
   ]
  },
  {
   "cell_type": "markdown",
   "metadata": {},
   "source": [
    "#### Get Actual State 2  for $T_2$\n",
    "\n",
    "With actual work in hand, it's a small matter to resolve State 2.  \n",
    "$$$$  \n",
    "$$ {w_{a,in}} = h_{2a} - h_1 $$\n",
    "\n",
    "$$$$\n",
    "\n",
    " $$\\text{R-134a} \\left| \\begin{array}{ll} \n",
    "  P_{1} = 120\\, \\ce{kPa} \\\\[0pt]\n",
    "  x_{1} = \\text{sat vapor} \\\\[0pt]\n",
    "  \\hline \n",
    "  \\text{get } s_1,\\ h_1 \\\\[0pt] \n",
    "  \\\\[0pt]\n",
    " \\end{array}\\right|\n",
    " \\longrightarrow\n",
    " \\left| \\begin{array}{ll} \n",
    "   P_{2s} = 1\\, \\ce{MPa} \\\\[0pt]\n",
    "   s_2 = s_1 \\\\[0pt]\n",
    "   \\hline\n",
    "   \\text{get } h_{2s} \\\\[0pt]\n",
    "   \\text{compute } w_s,\\ w_a \\\\[0pt]   \n",
    " \\end{array}\\right|\n",
    "  \\longrightarrow\n",
    " \\left| \\begin{array}{ll} \n",
    "   P_{2a} = 1\\, \\ce{MPa} \\\\[0pt]\n",
    "   h_{2a} = h_1 + {w_{a,in}} \\\\[0pt]\n",
    "   \\hline\n",
    "   \\color{red}\\text{get } T_{2a} \\\\[0pt]\n",
    "   \\\\[0pt]   \n",
    " \\end{array}\\right|\n",
    " $$"
   ]
  },
  {
   "cell_type": "code",
   "execution_count": 6,
   "metadata": {},
   "outputs": [
    {
     "name": "stdout",
     "output_type": "stream",
     "text": [
      "h2a = 288.831408839779 kJ kg^-1\n"
     ]
    }
   ],
   "source": [
    "# STATE 2\n",
    "# P2 = 1 MPa, h2a = h1 + w_a \n",
    "\n",
    "h2a = h1 + w_a\n",
    "println(\"h2a = \",h2a)"
   ]
  },
  {
   "cell_type": "code",
   "execution_count": 7,
   "metadata": {
    "scrolled": true
   },
   "outputs": [
    {
     "name": "stdout",
     "output_type": "stream",
     "text": [
      "T2 = 57.736265747340155 °C\n"
     ]
    }
   ],
   "source": [
    "#  need T2 ⋮ must interpolate\n",
    "# (T2 - 50°C)/(60°C - 50°C) = (h2a - h_50°C)/(h_60°C - h_50°C)\n",
    "\n",
    "h_50°C = 280.19u\"kJ/kg\"\n",
    "h_60°C = 291.36u\"kJ/kg\"\n",
    "\n",
    "T2 = 50u\"°C\" + (h2a - h_50°C)/(h_60°C - h_50°C)*10u\"K\"\n",
    "\n",
    "println(\"T2 = \",T2 |> u\"°C\")"
   ]
  },
  {
   "cell_type": "markdown",
   "metadata": {},
   "source": [
    "<div class=\"panel-success\"><div class=\"panel-heading\"><div class=\"badge\"></div> $$\\ \\normalsize T_2 = 57.74\\, \\ce{°C} $$\n",
    "</div></div>"
   ]
  },
  {
   "cell_type": "markdown",
   "metadata": {},
   "source": [
    "<footer style=\"background-color: #461d7c; color:rgba(253,208,35,0.35); line-height:2em; padding-left:1em; padding-right:0.5em; bottom:0; float:bottom; text-align:right;\"><i>ψᵟ</i></footer>"
   ]
  }
 ],
 "metadata": {
  "kernelspec": {
   "display_name": "Julia 1.0.2",
   "language": "julia",
   "name": "julia-1.0"
  },
  "language_info": {
   "file_extension": ".jl",
   "mimetype": "application/julia",
   "name": "julia",
   "version": "1.0.2"
  }
 },
 "nbformat": 4,
 "nbformat_minor": 2
}

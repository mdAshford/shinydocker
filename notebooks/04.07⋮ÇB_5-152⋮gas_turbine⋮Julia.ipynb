{
 "cells": [
  {
   "cell_type": "markdown",
   "metadata": {},
   "source": [
    " <div style=\"display:inline-block; position:absolute; top:0; right:0; color: #230e3e; font:italic 1em serif;\">$\\LaTeX$<span style=\"display:inline-block; vertical-align:bottom\">\n",
    "    <a href=\"https://www.mathjax.org\">\n",
    "    <img style=\"height:1.5em\" title=\"Powered by MathJax\"\n",
    "    src=\"https://www.mathjax.org/badge/mj_logo.png\"\n",
    "    border=\"0\" alt=\"Powered by MathJax\" >\n",
    "</a></span></div>\n",
    "\n",
    "<div style=\"display:inline-block; position:absolute; top:0; left:0; color: #230e3e; font:italic 1em serif;\"><a href=\"https://www.julialang.org\">\n",
    "    <img style=\"height:2.25em; vertical-align:top\" title=\"Powered by Julia\"\n",
    "    src=\"./figures/julia-logo-mask.png\"\n",
    "    border=\"0\" alt=\"Powered by Julia\" >\n",
    "</a></div>$\\require{cancel} \\require{mhchem} \\require{bbox} \\require{color} \\require{enclose} \\require{AMSmath} \\require{AMSsymbols}$"
   ]
  },
  {
   "cell_type": "markdown",
   "metadata": {},
   "source": [
    "<header style=\"background-color:#e7e2ee; color:#461d7c; line-height:2em; padding-left:1em; padding-right:1em; bottom:0; float:bottom; text-align:right; float:right; font-family:serif; font-size:small;\">Çengel, Y. A., and Boles, M. A. (2001). <i>Thermodynamics: An engineering approach.</i> Boston: McGraw-Hill.\n",
    "</header>"
   ]
  },
  {
   "cell_type": "markdown",
   "metadata": {},
   "source": [
    "**5.152.** An ideal gas expands in an adiabatic turbine from 1200 K and 900 kPa to 800 K. Determine the turbine inlet volume flow rate of the gas, in m³/s, required to produce turbine work output at the rate of 650 kW. The average values of the specific heats for this gas over the temperature range and the gas constant are cp = 1.13 kJ/kg·K, cv = 0.83 kJ/kg·K, and R = 0.30 kJ/kg·K."
   ]
  },
  {
   "cell_type": "markdown",
   "metadata": {},
   "source": [
    "### Given\n",
    " ![Cengelboles7ed4-126](./figures/cb5152gasturbine.png)\n",
    "\n",
    "So often, a figure is worth all the words."
   ]
  },
  {
   "cell_type": "markdown",
   "metadata": {},
   "source": [
    "### Find\n",
    "<ol type=\"A\">  \n",
    "   $\\dot V_1$     "
   ]
  },
  {
   "cell_type": "markdown",
   "metadata": {},
   "source": [
    "### Get Organized   \n",
    "\n",
    "We need $\\dot V_1.$  We can get it if we know $\\dot m,$ as $\\dot V_1 = \\dot m v_1$. Apply the conservation equations, find $\\dot m_1,$ then calculate $\\dot V_1. \\\\[6pt]$   \n",
    "\n",
    " <div class=\"panel-danger\"><div class=\"panel-heading\"><div class=\"badge\">Stay Vigilant</div>$ \\ $ Volume and volumetric flow are <strong>NOT</strong> conserved quantities. It's safest to assume <strong><i>V</i></strong> and <strong><i>V̇</i></strong> are unique to each state. </div></div>    \n",
    "\n",
    "We have an ideal gas flowing through a steady-state device, with one inlet and one outlet. Continuity (conservation of mass) is trivial, so we jump right into our trusty energy equation:  \n",
    "  \n",
    "\\begin{array}{ccccc}\n",
    "  \\dot E_{in} &-& \\dot E_{out} &=& \\frac{d}{dt} E_{sys}  \\\\[6pt]\n",
    "  \\dot H_{1} &-& \\dot H_{2} - \\dot W_{out} &=& 0 \\\\[6pt]\n",
    "  \\dot m h_{1} &-& \\dot m h_{2}  - \\dot W_{out} &=& 0  \\\\[24pt]\n",
    "\\end{array}   \n",
    "\n",
    "<br>\n",
    "\n",
    "$$  \\dot m = \\frac{\\dot W_{out}}{h_1 - h_2},$$\n",
    "$$\\textsf{with} \\quad \\dot m = \\frac{\\dot V_1}{v_1}, \\quad \\Delta h = c_p \\Delta T,   \n",
    "        \\quad \\textsf{and} \\quad P_1 v_1 = RT_1  \\\\[12pt] $$\n",
    "\n",
    "$$  \\dot V_1 = \\frac{R T_1 \\dot W_{out}}{P_1 c_P \\left( T_{1} - T_{2} \\right)} $$\n",
    "\n"
   ]
  },
  {
   "cell_type": "markdown",
   "metadata": {},
   "source": [
    "### Attack \n",
    "\n",
    " Today, we'll use Julia, with _Unitful.jl_, a package for calculation with physical units. Tracking units through your calculations is a great sanity check of your method."
   ]
  },
  {
   "cell_type": "code",
   "execution_count": 2,
   "metadata": {},
   "outputs": [],
   "source": [
    "using Unitful;       # Unitful units package"
   ]
  },
  {
   "cell_type": "code",
   "execution_count": 4,
   "metadata": {},
   "outputs": [
    {
     "data": {
      "text/plain": [
       "0.5752212389380532 m^3 s^-1"
      ]
     },
     "execution_count": 4,
     "metadata": {},
     "output_type": "execute_result"
    }
   ],
   "source": [
    " R = 0.30u\"kJ/(kg*K)\"\n",
    "cP = 1.13u\"kJ/(kg*K)\"\n",
    "\n",
    "T₁ = 1200u\"K\"\n",
    "P₁ = 900u\"kPa\"\n",
    "T₂ = 800u\"K\"\n",
    "\n",
    "Ẇ_out = 650u\"kW\"\n",
    "\n",
    "V̇ = (R * T₁ * Ẇ_out) / (P₁ * cP * (T₁ - T₂))\n",
    "V̇ |> u\"m^3/s\""
   ]
  },
  {
   "cell_type": "markdown",
   "metadata": {},
   "source": [
    "<div class=\"panel-success\"><div class=\"panel-heading\"><div class=\"badge\">✓</div> $\\ \\normalsize \\dot V_1 = 0.575\\, \\ce{m^3/s}$\n",
    "</div></div>"
   ]
  },
  {
   "cell_type": "markdown",
   "metadata": {},
   "source": [
    "<footer style=\"background-color: #461d7c; color:rgba(253,208,35,0.35); line-height:2em; padding-left:1em; padding-right:0.5em; bottom:0; float:bottom; text-align:right;\"><i>ψᵟ</i></footer>"
   ]
  }
 ],
 "metadata": {
  "kernelspec": {
   "display_name": "Julia 1.0.0",
   "language": "julia",
   "name": "julia-1.0"
  },
  "language_info": {
   "file_extension": ".jl",
   "mimetype": "application/julia",
   "name": "julia",
   "version": "1.0.0"
  }
 },
 "nbformat": 4,
 "nbformat_minor": 2
}

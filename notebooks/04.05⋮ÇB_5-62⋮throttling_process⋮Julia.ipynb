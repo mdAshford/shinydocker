{
 "cells": [
  {
   "cell_type": "markdown",
   "metadata": {},
   "source": [
    " <div style=\"display:inline-block; position:absolute; top:0; right:0; color: #230e3e; font:italic 1em serif;\">$\\LaTeX$<span style=\"display:inline-block; vertical-align:bottom\">\n",
    "    <a href=\"https://www.mathjax.org\">\n",
    "    <img style=\"height:1.5em\" title=\"Powered by MathJax\"\n",
    "    src=\"https://www.mathjax.org/badge/mj_logo.png\"\n",
    "    border=\"0\" alt=\"Powered by MathJax\" >\n",
    "</a></span></div>\n",
    "\n",
    "<div style=\"display:inline-block; position:absolute; top:0; left:0; color: #230e3e; font:italic 1em serif;\"><a href=\"https://www.julialang.org\">\n",
    "    <img style=\"height:2.25em; vertical-align:top\" title=\"Powered by Julia\"\n",
    "    src=\"./figures/julia-logo-mask.png\"\n",
    "    border=\"0\" alt=\"Powered by Julia\" >\n",
    "</a></div>\n",
    "</a></div>$\\require{cancel} \\require{mhchem} \\require{bbox} \\require{color} \\require{enclose} \\require{AMSmath} \\require{AMSsymbols}$"
   ]
  },
  {
   "cell_type": "markdown",
   "metadata": {},
   "source": [
    "<header style=\"background-color:#e7e2ee; color:#461d7c; line-height:2em; padding-left:1em; padding-right:1em; bottom:0; float:bottom; text-align:right; float:right; font-family:serif; font-size:small;\">Çengel, Y. A., and Boles, M. A. (2001). <i>Thermodynamics: An engineering approach.</i> Boston: McGraw-Hill.\n",
    "</header>"
   ]
  },
  {
   "cell_type": "markdown",
   "metadata": {},
   "source": [
    "**5.62.** Refrigerant-134a is throttled from the saturated liquid state at 700 kPa to a pressure of 160 kPa. Determine the temperature drop during this process and the final specific volume of the refrigerant. \n",
    "\n",
    "![Cengelboles7ed4-126](./figures/ch05_cen98179_p05062_lg.jpg)\n"
   ]
  },
  {
   "cell_type": "markdown",
   "metadata": {},
   "source": [
    "### Given\n",
    "<ol> \n",
    "$ \\text{R-134a}\\left|\\small \\begin{array}{l|l} P_1 = 700\\, \\ce{kPa} & P_2 = 160\\,\\ce{kPa} \\\\[-3pt]\n",
    "    x_1:\\text{sat liquid} \\end{array} \\right. \\\\[12pt]$     \n",
    " "
   ]
  },
  {
   "cell_type": "markdown",
   "metadata": {},
   "source": [
    "### Find\n",
    "<ol type=\"A\">  \n",
    "    \n",
    "  1. $T_2$     \n",
    "  2. $v_2$ \n"
   ]
  },
  {
   "cell_type": "markdown",
   "metadata": {},
   "source": [
    "### Get Organized   "
   ]
  },
  {
   "cell_type": "markdown",
   "metadata": {},
   "source": [
    "The most important thing to know about throttling processes is that they are **isenthalpic.** Beyond that, they are steady state devices.   "
   ]
  },
  {
   "cell_type": "markdown",
   "metadata": {},
   "source": [
    "### Attack "
   ]
  },
  {
   "cell_type": "markdown",
   "metadata": {},
   "source": [
    " Today, we'll use Julia, with _Unitful.jl_, a package for calculation with physical units."
   ]
  },
  {
   "cell_type": "code",
   "execution_count": 1,
   "metadata": {},
   "outputs": [],
   "source": [
    "using Unitful;       # Unitful units package"
   ]
  },
  {
   "cell_type": "markdown",
   "metadata": {},
   "source": [
    "Resolve state 1. Use $P_2$ and $h_2 = h_1$ to resolve state 2. Get to work.   \n",
    "\n",
    "  $\\quad \\text{R-134a} \\left| \\begin{array}{ll} \n",
    "         \\scriptsize \\begin{array}{l}{\\textit{700 kPa}}\\\\[-12pt] {\\textit{sat liquid}}\\end{array} & \\small h_1 = 86.78\\, \\ce{kJ/kg} & \\small T_1 = T_{sat@700kPa} = 26.72\\, \\ce{°C}   \\\\ \\hline\n",
    "         \\scriptsize \\begin{array}{l}{\\textit{160 kPa}}\\\\[-12pt] {h_2 = h_1}\\end{array} & \\small h_{f@160kPa} = 29.78\\, \\ce{kJ/kg} & \\small h_{g@160kPa} = 237.97\\ \\ce{kJ/kg} & \\small v_{f@160kPa} = 0.7435\\ \\ce{cm^3/g} & \\small v_{g@160kPa} = 0.1229\\ \\ce{m^3/kg} \n",
    "         \\end{array}\\right. \\\\[12pt]$    \n",
    "\n",
    "Based on $h_{2@160kPa},$ we have saturation conditions, so \n",
    "\n",
    "$$T_2 = T_{sat@160kPa} = -15.62\\, \\ce{°C},$$   \n",
    "\n",
    "and  \n",
    "\n",
    "$$\\ \\displaystyle \\frac{v_2 - v_f}{v_g - v_f} = x_2 = \\frac{h_2 - h_f}{h_g - h_f}.\\\\[12pt]$$   \n",
    "\n",
    "\n",
    "Solve for $v_2,$ put your feet up, and enjoy a beverage."
   ]
  },
  {
   "cell_type": "code",
   "execution_count": 2,
   "metadata": {},
   "outputs": [
    {
     "data": {
      "text/plain": [
       "0.03418852857966281 m^3 kg^-1"
      ]
     },
     "execution_count": 2,
     "metadata": {},
     "output_type": "execute_result"
    }
   ],
   "source": [
    "h₁ = 86.78u\"kJ/kg\"\n",
    "h₂ = h₁\n",
    "h𝑓 = 29.78u\"kJ/kg\"\n",
    "h𝑔 = 237.97u\"kJ/kg\"\n",
    "\n",
    "v𝑓 = 0.7435e-3u\"m^3/kg\"\n",
    "v𝑔 = 0.1229u\"m^3/kg\"\n",
    "\n",
    "x₂ = (h₂ - h𝑓)/(h𝑔 - h𝑓)\n",
    "\n",
    "v₂ = v𝑓 + x₂ * (v𝑔 - v𝑓)"
   ]
  },
  {
   "cell_type": "markdown",
   "metadata": {},
   "source": [
    "<p style = \"width:100vw; background-image:  url(./figures/bacgroundTiles.png); line-height: 0.35em\" >&nbsp;</p>"
   ]
  },
  {
   "cell_type": "code",
   "execution_count": 3,
   "metadata": {},
   "outputs": [
    {
     "data": {
      "text/plain": [
       "-42.339999999999996 K"
      ]
     },
     "execution_count": 3,
     "metadata": {},
     "output_type": "execute_result"
    }
   ],
   "source": [
    "T₁ = 26.72u\"°C\"\n",
    "T₂ = -15.62u\"°C\"\n",
    "\n",
    "ΔT = T₂ - T₁"
   ]
  },
  {
   "cell_type": "markdown",
   "metadata": {},
   "source": [
    "<div class=\"panel-success\"><div class=\"panel-heading\"><div class=\"badge\">A</div>\n",
    "$\\ \\normalsize \\Delta T = - 42.34\\, \\ce{°C}\\qquad$ <div class=\"badge\">B</div> $\\ \\normalsize v_2 = 0.0342\\, \\ce{m^3/kg}$\n",
    "</div></div>"
   ]
  },
  {
   "cell_type": "markdown",
   "metadata": {},
   "source": [
    "<footer style=\"background-color: #461d7c; color:rgba(253,208,35,0.35); line-height:2em; padding-left:1em; padding-right:0.5em; bottom:0; float:bottom; text-align:right;\"><i>ψᵟ</i></footer>"
   ]
  }
 ],
 "metadata": {
  "kernelspec": {
   "display_name": "Julia 1.0.0",
   "language": "julia",
   "name": "julia-1.0"
  },
  "language_info": {
   "file_extension": ".jl",
   "mimetype": "application/julia",
   "name": "julia",
   "version": "1.0.0"
  }
 },
 "nbformat": 4,
 "nbformat_minor": 2
}

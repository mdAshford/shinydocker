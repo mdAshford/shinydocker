{
 "cells": [
  {
   "cell_type": "markdown",
   "metadata": {},
   "source": [
    " <div style=\"display:inline-block; position:absolute; top:0; right:0; color: #230e3e; font:italic 1em serif;\">$\\LaTeX$<span style=\"display:inline-block; vertical-align:bottom\">\n",
    "    <a href=\"https://www.mathjax.org\">\n",
    "    <img style=\"height:1.5em\" title=\"Powered by MathJax\"\n",
    "    src=\"https://www.mathjax.org/badge/mj_logo.png\"\n",
    "    border=\"0\" alt=\"Powered by MathJax\" >\n",
    "</a></span></div>\n",
    "<div style=\"display:inline-block; position:absolute; top:0; left:0; color: #230e3e; font:italic 1em serif;\"><a href=\"https://www.julialang.org\">\n",
    "    <img style=\"height:2.25em; vertical-align:top\" title=\"Powered by Julia\"\n",
    "    src=\"./figures/julia-logo-mask.png\"\n",
    "    border=\"0\" alt=\"Powered by Julia\" >\n",
    "</a></div>\n",
    "</a></div>$\\require{cancel} \\require{mhchem} \\require{bbox} \\require{color} \\require{enclose} \\require{AMSmath} \\require{AMSsymbols}$"
   ]
  },
  {
   "cell_type": "markdown",
   "metadata": {},
   "source": [
    "A cold soda initially at 33 &#x2109; gains 30 BTU of heat in a room at 60 &#x2109; over a 25 min period. What is the average rate of heat transfer during this process [BTU/hr]?"
   ]
  },
  {
   "cell_type": "markdown",
   "metadata": {},
   "source": [
    "### Given\n",
    "\n",
    "$ Q_{in} = 30 \\ BTU;  \\; \\; \\; \\; \n",
    "T_{soda} = 33 \\ °F; \\; \\; \\; \\; \n",
    "T_{room} = 60 \\ °F;  \\; \\; \\; \\; \n",
    "time = 25 \\ minutes\n",
    "$"
   ]
  },
  {
   "cell_type": "markdown",
   "metadata": {},
   "source": [
    "### Find\n",
    "   The average rate of heat transfer during this process [BTU/hr]"
   ]
  },
  {
   "cell_type": "markdown",
   "metadata": {},
   "source": [
    "## Get Organized and Attack\n",
    "\n",
    "You must get organized before you start wildly writing equations and numbers. Determine the information that _you actually need_ in order to accomplish your goal. The average rate of heat transfer is simply\n",
    "\n",
    "$$\\dot{Q}_{average} = \\frac{Q_{transferred}}{time} = \\frac{30 \\ BTU}{25 \\ min}$$\n",
    "\n",
    "But we need BTU/hr: \n",
    "\n",
    "$$\\dot{Q}_{average}  = \\frac{30 \\ BTU}{25 \\ \\cancel{min}} \\frac{60 \\ \\cancel{min}}{hr}$$ \n",
    "\n",
    "$$\\bbox[0.75em,border:2px solid red]{\\dot{Q}_{average}  = 72 \\ \\frac{BTU}{hr}}$$ \n",
    "\n"
   ]
  },
  {
   "cell_type": "markdown",
   "metadata": {},
   "source": [
    "<div class=\"alert alert-success\">\n",
    "\n",
    "<h2>Keep in mind</h2>\n",
    "\n",
    "<p>In this case, ```Given``` and ```Find``` are trivial, but we write them anyway because it's great practice.</p>\n",
    "</div>"
   ]
  },
  {
   "cell_type": "markdown",
   "metadata": {},
   "source": [
    "<footer style=\"background-color: #461d7c; color:rgba(253,208,35,0.35); line-height:2em; padding-left:1em; padding-right:0.5em; bottom:0; float:bottom; text-align:right;\"><i>ψᵟ</i></footer>"
   ]
  }
 ],
 "metadata": {
  "kernelspec": {
   "display_name": "Julia 1.0.2",
   "language": "julia",
   "name": "julia-1.0"
  },
  "language_info": {
   "file_extension": ".jl",
   "mimetype": "application/julia",
   "name": "julia",
   "version": "1.0.2"
  }
 },
 "nbformat": 4,
 "nbformat_minor": 2
}

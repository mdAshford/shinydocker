{
 "cells": [
  {
   "cell_type": "markdown",
   "metadata": {},
   "source": [
    " <div style=\"display:inline-block; position:absolute; top:0; right:0; color: #230e3e; font:italic 1em serif;\">$\\LaTeX$<span style=\"display:inline-block; vertical-align:bottom\">\n",
    "    <a href=\"https://www.mathjax.org\">\n",
    "    <img style=\"height:1.5em\" title=\"Powered by MathJax\"\n",
    "    src=\"https://www.mathjax.org/badge/mj_logo.png\"\n",
    "    border=\"0\" alt=\"Powered by MathJax\" >\n",
    "</a></span></div>\n",
    "<div style=\"display:inline-block; position:absolute; top:0; left:0; color: #230e3e; font:italic 1em serif;\"><a href=\"https://www.julialang.org\">\n",
    "    <img style=\"height:2.25em; vertical-align:top\" title=\"Powered by Julia\"\n",
    "    src=\"./figures/julia-logo-mask.png\"\n",
    "    border=\"0\" alt=\"Powered by Julia\" >\n",
    "</a></div>\n",
    "</a></div>$\\require{cancel} \\require{mhchem} \\require{bbox} \\require{color} \\require{enclose} \\require{AMSmath} \\require{AMSsymbols}$"
   ]
  },
  {
   "cell_type": "markdown",
   "metadata": {},
   "source": [
    "A cold drink initially at 33 &#x2109; gains 30 BTU of heat in a room at 60 &#x2109; over a 25 minute period. What is the average rate of heat transfer during this process [BTU/hr]?"
   ]
  },
  {
   "cell_type": "markdown",
   "metadata": {},
   "source": [
    "### Given\n",
    "\n",
    "$ Q_\\ce{in} = 30 \\ \\ce{BTU} \\qquad \n",
    "T_\\ce{soda} = 33 \\ \\ce{°F} \\qquad \n",
    "T_\\ce{room} = 60 \\ \\ce{°F}  \\qquad \n",
    "\\ce{time} = 25 \\ \\ce{minutes}\n",
    "$"
   ]
  },
  {
   "cell_type": "markdown",
   "metadata": {},
   "source": [
    "### Find\n",
    "   The average rate of heat transfer during this process [BTU/hr]"
   ]
  },
  {
   "cell_type": "markdown",
   "metadata": {},
   "source": [
    "## Get Organized and Attack\n",
    "\n",
    "You must get organized before you start wildly writing equations and numbers. Determine the information that _you actually need_ in order to accomplish your goal. The average rate of heat transfer is simply\n",
    "\n",
    "$$\\dot{Q}_\\ce{average} = \\frac{Q_\\ce{transferred}}{\\ce{time}} = \\frac{30 \\ \\ce{BTU}}{25 \\ \\ce{min}}$$\n",
    "\n",
    "But we need BTU/hr: \n",
    "\n",
    "$$\\dot{Q}_\\ce{average}  = \\frac{30 \\ \\ce{BTU}}{25 \\ \\cancel{\\ce{min}}} \\frac{60 \\ \\cancel{\\ce{min}}}{\\ce{hr}}$$ \n",
    "\n",
    "$$ \n",
    "\\bbox[#dff0d8, 0.5em,border:2px solid #4cae4c]{\n",
    "\\color{#3c763d}\n",
    "\\dot{Q}_\\ce{average}  = 72 \\ \\frac{\\ce{BTU}}{\\ce{hr}}\n",
    "}\n",
    "$$"
   ]
  },
  {
   "cell_type": "markdown",
   "metadata": {},
   "source": [
    "<div class=\"btn-warning\">&nbsp;<div class=\"badge\"></div><i class=\"fa fa-exclamation-circle\"></i><strong> Sidebar: Terminology, Symbols, and other notes</strong> </div>\n",
    "<div class=\"panel-warning\"><div class=\"panel-heading\">\n",
    "    \n",
    "1. We're seeking a **rate** of **heat transfer**. \"Rate\" implies time derivative $\\frac{d}{dt},$ in our case, $\\frac{d}{dt}\\left(\\text{heat transfer}\\right).$ We use \"dot\" terminology to express time derivatives; hence, our average rate of heat transfer is expressed as  \n",
    "\n",
    "$$\\dot{Q}_\\ce{average} = \\frac{Q_\\ce{transferred}}{\\ce{time}}.$$  \n",
    "    \n",
    "2. In this case, **Given** and **Find** are trivial, but we write them anyway because it's sound practice.   \n",
    "\n",
    "\n",
    "3. The temperature of the room $\\left(T_\\ce{room} = 60 \\ \\ce{°F}\\right)$ is nice to know, but it's extraneous information. In the world outside of textbooks, you tend to have less information than you need and more noise than you want. Solid engineering judgement is what you'll need to win the day.  \n",
    "</div></div>"
   ]
  },
  {
   "cell_type": "markdown",
   "metadata": {},
   "source": [
    "<footer style=\"background-color: #461d7c; color:rgba(253,208,35,0.35); line-height:2em; padding-left:1em; padding-right:0.5em; bottom:0; float:bottom; text-align:right;\"><i>ψᵟ</i></footer>"
   ]
  }
 ],
 "metadata": {
  "kernelspec": {
   "display_name": "Julia 1.0.2",
   "language": "julia",
   "name": "julia-1.0"
  },
  "language_info": {
   "file_extension": ".jl",
   "mimetype": "application/julia",
   "name": "julia",
   "version": "1.0.2"
  },
  "varInspector": {
   "cols": {
    "lenName": 16,
    "lenType": 16,
    "lenVar": 40
   },
   "kernels_config": {
    "python": {
     "delete_cmd_postfix": "",
     "delete_cmd_prefix": "del ",
     "library": "var_list.py",
     "varRefreshCmd": "print(var_dic_list())"
    },
    "r": {
     "delete_cmd_postfix": ") ",
     "delete_cmd_prefix": "rm(",
     "library": "var_list.r",
     "varRefreshCmd": "cat(var_dic_list()) "
    }
   },
   "types_to_exclude": [
    "module",
    "function",
    "builtin_function_or_method",
    "instance",
    "_Feature"
   ],
   "window_display": false
  }
 },
 "nbformat": 4,
 "nbformat_minor": 2
}

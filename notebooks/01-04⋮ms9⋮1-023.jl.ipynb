{
 "cells": [
  {
   "cell_type": "markdown",
   "metadata": {},
   "source": [
    " <div style=\"display:inline-block; position:absolute; top:0; right:0; color: #230e3e; font:italic 1em serif;\">$\\LaTeX$<span style=\"display:inline-block; vertical-align:bottom\">\n",
    "    <a href=\"https://www.mathjax.org\">\n",
    "    <img style=\"height:1.5em\" title=\"Powered by MathJax\"\n",
    "    src=\"https://www.mathjax.org/badge/mj_logo.png\"\n",
    "    border=\"0\" alt=\"Powered by MathJax\" >\n",
    "</a></span></div>\n",
    "<div style=\"display:inline-block; position:absolute; top:0; left:0; color: #230e3e; font:italic 1em serif;\"><a href=\"https://www.julialang.org\">\n",
    "    <img style=\"height:2.25em; vertical-align:top\" title=\"Powered by Julia\"\n",
    "    src=\"./figures/julia-logo-mask.png\"\n",
    "    border=\"0\" alt=\"Powered by Julia\" >\n",
    "</a></div>\n",
    "</a></div>$\\require{cancel} \\require{mhchem} \\require{bbox} \\require{color} \\require{enclose} \\require{AMSmath} \\require{AMSsymbols}$"
   ]
  },
  {
   "cell_type": "markdown",
   "metadata": {},
   "source": [
    "<header style=\"background-color:#e7e2ee; color:#461d7c; line-height:2em; padding-left:1em; padding-right:1em; bottom:0; float:bottom; text-align:right; float:right; font-family:serif; font-size:small;\">Problem 1.023 ⋮ Moran, Shapiro, Boettner, Bailey, <i>Fundamentals of Engineering Thermodynamics</i>, 9th edition.</header>  "
   ]
  },
  {
   "cell_type": "markdown",
   "metadata": {},
   "source": [
    "# Problem 1.023\n",
    "A closed system consisting of 2 lb of a gas undergoes a process during which the relation between pressure and volume is $PV^n = \\small \\textsf{constant}$. The process begins with $P_1 = 25\\, \\small \\textsf{lbf/in}^2$, $V_1 = 10\\, \\small \\textsf{ft}^3$ and ends with $P_2 = 100\\, \\small \\textsf{lbf/in}^2$ The value of n = 1.3. Determine the final volume, $V_2$, in $\\small \\textsf{ft}^3$, and determine the specific volume at states 1 and 2, in $\\small \\textsf{ft}^3/\\textsf{lb}$."
   ]
  },
  {
   "cell_type": "markdown",
   "metadata": {},
   "source": [
    "<div class=\"btn-info\">&nbsp;<div class=\"badge\"></div><i class=\"fa fa-bomb\"></i><strong> Sidebar: Thermo notes</strong> </div>\n",
    "<div class=\"panel-info\"><div class=\"panel-heading\">\n",
    "    \n",
    "\n",
    "Processes where $\\small PV^n = \\textsf{constant}$ are called **polytropic processes**. They are very common; some examples are piston-cylinder devices like bicycle air pumps, engines, lungs, etc. You'll see them soon in Chapter 2.\n",
    "</div></div>"
   ]
  },
  {
   "cell_type": "code",
   "execution_count": 1,
   "metadata": {},
   "outputs": [],
   "source": [
    "# a little Julia housekeeping\n",
    "using Unitful;       # use unitful.jl units package for Julia"
   ]
  },
  {
   "cell_type": "code",
   "execution_count": 2,
   "metadata": {},
   "outputs": [],
   "source": [
    "# define these unit constants to make the units a bit more readable downstream\n",
    "const ft = u\"ft\"\n",
    "const psi = u\"lbf/inch\"\n",
    "const lbm = u\"lb\";   # unit constants let us assign \"lbm\" to \"lb\" for less ambiguity  "
   ]
  },
  {
   "cell_type": "markdown",
   "metadata": {},
   "source": [
    "## Given   \n",
    "\n",
    "Closed system process: $PV^n = \\small \\textsf{constant}$   \n",
    "1. $P_1 = 25$ psi; $V_1 = 10\\, \\small \\textsf{ft}^3$  \n",
    "1. $P_2 = 100$ psi\n",
    "3. $m$ = 2 lb; $n$ = 1.3"
   ]
  },
  {
   "cell_type": "code",
   "execution_count": 3,
   "metadata": {},
   "outputs": [],
   "source": [
    "# given\n",
    "P₁ = 25psi\n",
    "V₁ = 10ft^3\n",
    "\n",
    "P₂ = 100psi\n",
    "\n",
    "m = 2lbm\n",
    "n = 1.3;"
   ]
  },
  {
   "cell_type": "markdown",
   "metadata": {},
   "source": [
    "## Find  \n",
    "\n",
    " 1. $V_2$ $\\small \\left[\\textsf{ft}^3\\right]$  \n",
    " 2. $v_1 \\small \\left[ \\textsf{ft}^3/\\textsf{lb}\\right]$  \n",
    " 2. $v_2 \\small \\left[ \\textsf{ft}^3/\\textsf{lb}\\right]$"
   ]
  },
  {
   "cell_type": "markdown",
   "metadata": {},
   "source": [
    "## Assumptions  \n",
    "\n",
    "There is no mention of gage pressure anywhere, so assume the pressures you are given are absolute pressures. \n",
    "\n",
    "<div class=\"panel-warning\"><div class=\"panel-heading\">$\\small \\textit{Always work using absolute pressures, and convert your output to gage pressure when necessary.}$</div></div>"
   ]
  },
  {
   "cell_type": "markdown",
   "metadata": {},
   "source": [
    "## Get Organized\n",
    "\n",
    "You must get organized before you start wildly writing equations and numbers. \n",
    "Generally, consider what you need to find, and mentally plot a path to get there from what you know.  \n",
    "\n",
    "We are given a process in which  \n",
    "\n",
    "$$PV^n = \\small \\textsf{constant},$$  \n",
    "\n",
    "which translates to  \n",
    "\n",
    "$$P_1{V_1}^n = P_2{V_2}^n.$$    \n",
    "\n",
    "We need $V_2$. Conveniently, \n",
    "\n",
    "$$V_2 = V_1 \\left(\\frac{P_1}{P_2}\\right)^{1/n}. \\tag{1} \\label{eq:V_2} \\\\[18pt]$$   \n",
    "\n",
    "From here, we calculate $v_1$ and $v_2$ directly from the definition of specific volume  \n",
    "\n",
    "$$v \\equiv \\frac{V}{m}. \\tag{2} \\label{eq:v}$$  \n",
    "\n",
    "\n",
    "  From $\\ref{eq:V_2}$\n",
    "\n",
    "\n"
   ]
  },
  {
   "cell_type": "markdown",
   "metadata": {},
   "source": [
    "## Attack   \n",
    "\n",
    "We're organized and calm and ready to find everything we're supposed to find.  "
   ]
  },
  {
   "cell_type": "code",
   "execution_count": 4,
   "metadata": {},
   "outputs": [
    {
     "name": "stdout",
     "output_type": "stream",
     "text": [
      "V₂ = 3.4425236279856737 ft^3\n",
      "𝑣₁ = 5.0 ft^3 lb^-1\n",
      "𝑣₂ = 1.7212618139928368 ft^3 lb^-1\n"
     ]
    }
   ],
   "source": [
    "V₂ = V₁ * (P₁/P₂) ^ (1/n)    # from eq(1)\n",
    "𝑣₁ = V₁ / m                  # from eq(2)\n",
    "𝑣₂ = V₂ / m                  # from eq(2)\n",
    "println(\"V₂ = \",V₂)\n",
    "println(\"𝑣₁ = \",𝑣₁)\n",
    "println(\"𝑣₂ = \",𝑣₂)"
   ]
  },
  {
   "cell_type": "markdown",
   "metadata": {},
   "source": [
    "$$ \n",
    "\\bbox[#dff0d8, 0.5em, border:2.5pt solid #4cae4c]{\n",
    "\\color{#3c763d}\n",
    "V_2 = 3.443\\, \\small \\ce{ft}^3       \\qquad \n",
    "v_1 = 5 \\small  \\ce{\\frac{ft^3}{lb}}   \\qquad\n",
    "v_2 = 1.721 \\small  \\ce{\\frac{ft^3}{lb}}\n",
    "}\n",
    "$$"
   ]
  },
  {
   "cell_type": "markdown",
   "metadata": {},
   "source": [
    "<footer style=\"background-color: #461d7c; color:rgba(253,208,35,0.35); line-height:2em; padding-left:1em; padding-right:0.5em; bottom:0; float:bottom; text-align:right;\"><i>ψᵟ</i></footer>"
   ]
  }
 ],
 "metadata": {
  "kernelspec": {
   "display_name": "Julia 1.0.2",
   "language": "julia",
   "name": "julia-1.0"
  },
  "language_info": {
   "file_extension": ".jl",
   "mimetype": "application/julia",
   "name": "julia",
   "version": "1.0.2"
  }
 },
 "nbformat": 4,
 "nbformat_minor": 2
}

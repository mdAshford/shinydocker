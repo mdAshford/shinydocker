{
 "cells": [
  {
   "cell_type": "markdown",
   "metadata": {},
   "source": [
    " <div style=\"display:inline-block; position:absolute; top:0; right:0; color: #230e3e; font:italic 1em serif;\">$\\LaTeX$<span style=\"display:inline-block; vertical-align:bottom\">\n",
    "    <a href=\"https://www.mathjax.org\">\n",
    "    <img style=\"height:1.5em\" title=\"Powered by MathJax\"\n",
    "    src=\"https://www.mathjax.org/badge/mj_logo.png\"\n",
    "    border=\"0\" alt=\"Powered by MathJax\" >\n",
    "</a></span></div>\n",
    "<div style=\"display:inline-block; position:absolute; top:0; left:0; color: #230e3e; font:italic 1em serif;\"><a href=\"https://www.python.org\">\n",
    "    <img style=\"height:1.75em; vertical-align:top\" title=\"Python Powered\"\n",
    "    src=\"https://www.python.org/static/community_logos/python-powered-w-70x28.png\"\n",
    "    border=\"0\" alt=\"Python Powered\" >\n",
    "</a></div>"
   ]
  },
  {
   "cell_type": "markdown",
   "metadata": {},
   "source": [
    " <header style=\"background-color:#e7e2ee; color:#461d7c; line-height:2em; padding-left:1em; padding-right:1em; bottom:0; float:bottom; text-align:right; float:right; font-family:serif; font-size:small;\">Problem 1-91 ⋮ Çengel, Y. A., and Boles, M. A. (2014). <i>Thermodynamics: An engineering approach.</i> Boston: McGraw-Hill.</header>  \n",
    "\n",
    "$\\require{cancel} \\require{mhchem} \\require{bbox} \\require{color} \\require{enclose} \\require{AMSmath} \\require{AMSsymbols}$\n",
    "<style><link rel=\"stylesheet\" type=\"text/css\" href=\"./css/custom.css\"></style>"
   ]
  },
  {
   "cell_type": "markdown",
   "metadata": {},
   "source": [
    "# Hydraulic Lift\n",
    "A hydraulic lift is to be used to lift a 2500 kg weight by putting a weight of 25 kg on a piston with a diameter of 10 cm. Determine the diameter of the piston on which the weight is to be placed. The hydraulic fluid has a specific gravity of 0.86.\n",
    "\n",
    "![Air Duct](./figures/01.02_cengel-boles1_91.png)\n"
   ]
  },
  {
   "cell_type": "code",
   "execution_count": 1,
   "metadata": {
    "scrolled": false
   },
   "outputs": [],
   "source": [
    "# a little Python housekeeping\n",
    "from pint import UnitRegistry      # import the pint units package for Python\n",
    "ureg = UnitRegistry()              # make a shortcut to the pint unit registry class constructor\n",
    "import math                        # Python math library. Note the lowercase 'm' \n",
    "\n",
    "# not required\n",
    "from IPython.display import Math   # IPython library for extra-pretty LaTeX output. Note the UPPERCASE 'M'"
   ]
  },
  {
   "cell_type": "markdown",
   "metadata": {},
   "source": [
    "## Given\n",
    "\n",
    "Hydraulic lift as illustrated above, with $m_1 = 25\\,\\ce{kg}$, $m_2 = 2500\\,\\ce{kg}$, and $D_1 = 10\\,\\ce{cm}$."
   ]
  },
  {
   "cell_type": "code",
   "execution_count": 2,
   "metadata": {
    "inputHidden": false,
    "outputHidden": false
   },
   "outputs": [],
   "source": [
    "# use pint class constructor to assign quantities\n",
    "m_1 = ureg('25kg')       \n",
    "m_2 = ureg('2500kg')      \n",
    "D_1 = ureg('10cm')"
   ]
  },
  {
   "cell_type": "markdown",
   "metadata": {},
   "source": [
    "## Find\n",
    "\n",
    "Calculate $D_2$"
   ]
  },
  {
   "cell_type": "markdown",
   "metadata": {},
   "source": [
    "## Assumptions\n",
    "\n",
    "The physical principles we employ is Pascal's Law (aka Pascal's Principle): the effect of pressure is felt everywhere equally. If we assume the hydraulic pistons are at the same elevation, the pressure in the adjacent fluid is the same. In our case, \n",
    "\n",
    "$$ P_{1} = P_{2}. $$"
   ]
  },
  {
   "cell_type": "markdown",
   "metadata": {},
   "source": [
    "## Get Organized  \n",
    "\n",
    "A little algebra before we dive into calculations can often make our lives much easier... *experience and personal preference direct whether you should start with algebraic manipulation or numerical calculation.* \n",
    "\n",
    "$$\n",
    "\\begin{align}\n",
    "               P_{1} & = P_{2} \\\\\n",
    "     \\\\\n",
    " \\frac{F_{1}}{A_{1}} & = \\frac{F_{2}}{A_{2}}  \\\\   \n",
    "     \\\\\n",
    " \\frac{m_{1}g}{\\frac{\\pi}{4}D_{1}^2} & = \\frac{m_{2}g}{\\frac{\\pi}{4}D_{2}^2}   \\\\  \n",
    "     \\\\\n",
    "\\end{align}\n",
    "$$\n",
    "\n",
    "<p style=\"padding-left:35%;\">\n",
    "    yada, yada, algebra... \n",
    "<p>\n",
    "$$ D_{2} = D_{1} \\sqrt{\\frac{m_2}{m_1}}        $$"
   ]
  },
  {
   "cell_type": "markdown",
   "metadata": {},
   "source": [
    "## Attack\n",
    "\n",
    "Nothing left but the calculation."
   ]
  },
  {
   "cell_type": "code",
   "execution_count": 3,
   "metadata": {
    "inputHidden": false,
    "outputHidden": false,
    "scrolled": true
   },
   "outputs": [
    {
     "data": {
      "text/html": [
       "100.0 centimeter"
      ],
      "text/latex": [
       "$100.0\\ \\mathrm{centimeter}$"
      ],
      "text/plain": [
       "<Quantity(100.0, 'centimeter')>"
      ]
     },
     "execution_count": 3,
     "metadata": {},
     "output_type": "execute_result"
    }
   ],
   "source": [
    "D_2 = D_1 * math.sqrt(m_2 / m_1)          \n",
    "D_2                                    # raw output"
   ]
  },
  {
   "cell_type": "code",
   "execution_count": 4,
   "metadata": {},
   "outputs": [
    {
     "data": {
      "text/latex": [
       "$\\displaystyle D_2 = 100.0\\ \\mathrm{centimeter}$"
      ],
      "text/plain": [
       "<IPython.core.display.Math object>"
      ]
     },
     "execution_count": 4,
     "metadata": {},
     "output_type": "execute_result"
    }
   ],
   "source": [
    "# optional\n",
    "Math(r'D_2 = {:L}'.format(D_2))       # pretty rendering with LaTeX"
   ]
  },
  {
   "cell_type": "code",
   "execution_count": 5,
   "metadata": {},
   "outputs": [
    {
     "data": {
      "text/latex": [
       "$\\displaystyle D_2 = 100.0\\ \\mathrm{cm}$"
      ],
      "text/plain": [
       "<IPython.core.display.Math object>"
      ]
     },
     "execution_count": 5,
     "metadata": {},
     "output_type": "execute_result"
    }
   ],
   "source": [
    "# optional\n",
    "Math(r'D_2 = {:~L}'.format(D_2))       # pretty rendering with LaTeX"
   ]
  },
  {
   "cell_type": "markdown",
   "metadata": {},
   "source": [
    "<div class=\"btn-success\">&nbsp;<div class=\"badge\"></div><i class=\"fa fa-question-circle\"></i><strong> Check your understanding</strong></div>\n",
    "<div class=\"panel-success\"><div class=\"panel-heading\">\n",
    "    \n",
    "1. What if the driving piston (25kg) were 3 m above the driven piston?   \n",
    "2. Why didn't we account for atmospheric pressure?  \n",
    "</div></div>"
   ]
  },
  {
   "cell_type": "markdown",
   "metadata": {},
   "source": [
    "<footer style=\"background-color: #461d7c; color:rgba(253,208,35,0.35); line-height:2em; padding-left:1em; padding-right:0.5em; bottom:0; float:bottom; text-align:right;\"><i>ψᵟ</i></footer>"
   ]
  }
 ],
 "metadata": {
  "kernel_info": {
   "name": "python3"
  },
  "kernelspec": {
   "display_name": "Python 3",
   "language": "python",
   "name": "python3"
  },
  "language_info": {
   "codemirror_mode": {
    "name": "ipython",
    "version": 3
   },
   "file_extension": ".py",
   "mimetype": "text/x-python",
   "name": "python",
   "nbconvert_exporter": "python",
   "pygments_lexer": "ipython3",
   "version": "3.7.1"
  },
  "nteract": {
   "version": "0.11.6"
  }
 },
 "nbformat": 4,
 "nbformat_minor": 2
}

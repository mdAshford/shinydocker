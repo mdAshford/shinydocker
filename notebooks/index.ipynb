{
 "cells": [
  {
   "cell_type": "markdown",
   "metadata": {},
   "source": [
    "$\\require{cancel}  \\require{bbox} \\require{color} \\require{enclose} \\require{AMSmath} \\require{AMSsymbols} \\require{sinuitx} \\require{mhchem}$\n",
    "<div style=\"display:inline-block; position:absolute; top:0; right:0; color: #230e3e; font:italic 1em serif;\">$\\LaTeX$<span style=\"display:inline-block; vertical-align:bottom\"><a href=\"https://www.mathjax.org\">\n",
    "    <img style=\"height:1.55em\" title=\"Powered by MathJax\"\n",
    "    src=\"https://www.mathjax.org/badge/mj_logo.png\"\n",
    "    border=\"0\" alt=\"Powered by MathJax\" /></a></span> </div>\n",
    "    \n",
    "<p style=\"color: #461d7c; font-size: 250%; line-height:2em; margin-left:1em; font-weight:900; margin-top:-0.5em;\">\n",
    "youCAN do thermodynamics</p>\n",
    "\n",
    "<div style=\"margin-top:-0.68em; padding-botton:0; margin-bottom:-0.5em; background-color:#fcf8e3; \">\n",
    "    <p style=\"text-align:right; background-color:#461D7C; color:#fcf8e3; padding-right:1em;\">a production of the BENGAL-TIGER Laboratory at the University of Alabama</p>\n",
    "  <div style=\"background-color:#fcf8e3; color:#461d7c; padding:0.6em 1em 0 1em; margin-bottom:0;\">A repository of guided solutions to thermodynamics problems, presented in Jupyter Notebooks. Notebooks combine rich media with live code execution. More information about Jupyter Notebooks and the programming languages used herein can be found at  \n",
    "\n",
    "+ [Project Jupyter](https://jupyter.org)\n",
    "+ [Dataquest.io Jupyter Notebook for Beginners: A Tutorial](https://www.dataquest.io/blog/jupyter-notebook-tutorial#thenotebookinterface)\n",
    "+ [Python.org](https://www.python.org) <span style=\"display:inline-block; vertical-align:text-bottom\"><a href=\"https://www.python.org\"><img style=\"height:1em;\" src=\"./figures/flatPYTHONlogo.png\" alt=\"python\"></a></span> \n",
    "+ [The Julia Programming Language](https://www.julialang.org) <span style=\"display:inline-block; vertical-align:bottom\"><a href=\"https://www.julialang.org\"><img style=\"height:1.25em\" src=\"./figures/juliaLOGO-three-balls.png\" alt=\"julia\" ></a></span> \n",
    "+ [Python For Data Science Jupyter Notebook Cheat Sheet](./figures/Jupyter_Notebook_Cheat_Sheet.pdf)\n",
    "\n",
    "$$$$**Quickstart:**\n",
    "Double-click cells to edit. Execute cells with ⇧⏎. The Help menu is pretty good.\n",
    "  </div>\n",
    "  <p style = \"background-image: url(./figures/cream-tiles.png); background-color:blue; line-height: 2px; padding:0; margin-top:4px;\" >&nbsp;</p>\n",
    "</div>"
   ]
  },
  {
   "cell_type": "markdown",
   "metadata": {},
   "source": [
    "[00.01⋮Test One](00.01⋮2019⋮spring⋮test-one-AURUM⋮post-this-version.julia.ipynb)  <span style=\"display:inline-block; vertical-align:bottom\"><a href=\"https://www.julialang.org\"><img style=\"height:1.25em\" src=\"./figures/juliaLOGO-three-balls.png\" alt=\"julia\" ></a></span>  "
   ]
  },
  {
   "cell_type": "markdown",
   "metadata": {},
   "source": [
    "[00.02⋮Test Two](00.02⋮2019⋮spring⋮test-two.julia.ipynb)  <span style=\"display:inline-block; vertical-align:bottom\"><a href=\"https://www.julialang.org\"><img style=\"height:1.25em\" src=\"./figures/juliaLOGO-three-balls.png\" alt=\"julia\" ></a></span>  "
   ]
  },
  {
   "cell_type": "markdown",
   "metadata": {},
   "source": [
    "<p style = \"width:100%; background-image:  url(./figures/bacgroundTiles.png); line-height:0.5em; \" >&nbsp;</p>"
   ]
  },
  {
   "cell_type": "markdown",
   "metadata": {
    "extensions": {
     "jupyter_dashboards": {
      "version": 1,
      "views": {
       "grid_default": {
        "col": null,
        "height": 9,
        "hidden": false,
        "row": 8,
        "width": null
       },
       "report_default": {
        "hidden": false
       }
      }
     }
    }
   },
   "source": [
    "<img style=\"height:6em; float:right;\" title=\"classic_manometer\" src=\"./figures/classic_manometer.png\" border=\"0\" alt=\"classic_manometer\"> [01.01⋮çb9⋮problem 1-67](01.01⋮Classic_Manometer⋮python.ipynb)  <span style=\"display:inline-block; vertical-align:text-bottom\"><a href=\"https://www.python.org\"><img style=\"height:1em;\" src=\"./figures/flatPYTHONlogo.png\" alt=\"python\"></a></span>   \n",
    "A mercury manometer ( $\\rho_{\\rm Hg}$ = 13,600 kg/m$^3$) is connected to an air duct to measure the pressure inside. The difference in the manometer levels is 15 mm, and the atmospheric pressure is 100 kPa. (a) Judging from the figure, determine if the pressure in the duct is above or below the atmospheric pressure; and (b) determine the absolute pressure in the duct.  \n"
   ]
  },
  {
   "cell_type": "markdown",
   "metadata": {
    "extensions": {
     "jupyter_dashboards": {
      "version": 1,
      "views": {
       "grid_default": {
        "col": null,
        "height": 9,
        "hidden": false,
        "row": 8,
        "width": null
       },
       "report_default": {
        "hidden": false
       }
      }
     }
    }
   },
   "source": [
    "<img style=\"height:5em; float:right; padding-right:3em; padding-left:3em; \" title=\"01.02_cengel-boles1_91.png\" src=\"./figures/01.02_cengel-boles1_91.png\" border=\"0\" alt=\"01.02_cengel-boles1_91.png\">[01.02⋮çb9⋮problem 1-91](01.02⋮Pascals_Law_Hydraulic_Lift⋮python.ipynb)   <span style=\"display:inline-block; vertical-align:text-bottom\"><a href=\"https://www.python.org\"><img style=\"height:1em;\" src=\"./figures/flatPYTHONlogo.png\" alt=\"python\"></a></span>     \n",
    "A hydraulic lift is to be used to lift a 2500 kg weight by putting a weight of 25 kg on a piston with a diameter of 10 cm. Determine the diameter of the piston on which the weight is to be placed. The hydraulic fluid has a specific gravity of 0.86."
   ]
  },
  {
   "cell_type": "markdown",
   "metadata": {
    "extensions": {
     "jupyter_dashboards": {
      "version": 1,
      "views": {
       "grid_default": {
        "col": null,
        "height": 9,
        "hidden": false,
        "row": 8,
        "width": null
       },
       "report_default": {
        "hidden": false
       }
      }
     }
    }
   },
   "source": [
    "[01.03⋮Average_Rate_of_Heat_Transfer](01.03⋮average_rate_of_heat_transfer.ipynb)  <span style=\"display:inline-block; vertical-align:bottom\"><a href=\"https://www.julialang.org\"><img style=\"height:1.25em\" src=\"./figures/juliaLOGO-three-balls.png\" alt=\"julia\" ></a></span>  \n",
    "A cold soda initially at 33 ℉ gains 30 BTU of heat in a room at 60 ℉ over a 25 minute period. Calculate the average rate of heat transfer during this process, in BTU/hr?  "
   ]
  },
  {
   "cell_type": "markdown",
   "metadata": {
    "extensions": {
     "jupyter_dashboards": {
      "version": 1,
      "views": {
       "grid_default": {
        "col": null,
        "height": 9,
        "hidden": false,
        "row": 8,
        "width": null
       },
       "report_default": {
        "hidden": false
       }
      }
     }
    }
   },
   "source": [
    "[01.04⋮ms9⋮problem 1-023.jl.ipynb](01-04⋮ms9⋮1-023.jl.ipynb)  <span style=\"display:inline-block; vertical-align:bottom\"><a href=\"https://www.julialang.org\"><img style=\"height:1.25em\" src=\"./figures/juliaLOGO-three-balls.png\" alt=\"julia\" ></a></span>  \n",
    "A closed system consisting of 2 lb of a gas undergoes a process during which the relation between pressure and volume is $\\small PV^n = \\small \\textsf{constant}$. The process begins with $\\small P_1 = \\small 25\\, \\textsf{lbf/in}^2$, $\\small V_1 = \\small 10\\, \\textsf{ft}^3$ and ends with $\\small P_2 = \\small 100\\, \\textsf{lbf/in}^2$ The value of n = 1.3. Determine the final volume, $\\small V_2$, in $\\small \\textsf{ft}^3$, and determine the specific volume at states 1 and 2, in $\\small \\textsf{ft}^3/\\textsf{lb}$."
   ]
  },
  {
   "cell_type": "markdown",
   "metadata": {
    "extensions": {
     "jupyter_dashboards": {
      "version": 1,
      "views": {
       "grid_default": {
        "col": null,
        "height": 9,
        "hidden": false,
        "row": 8,
        "width": null
       },
       "report_default": {
        "hidden": false
       }
      }
     }
    }
   },
   "source": [
    "<img style=\"height:9em; float:right; padding-left:2em; padding-right:2em;\" title=\"1-038 figure\" src=\"./figures/ms9⋮1-038.png\" border=\"0\" alt=\"1-038 figure\">  [01.05⋮ms9⋮problem 1-038.jl.ipynb](01-05⋮ms9⋮1-038.jl.ipynb)  <span style=\"display:inline-block; vertical-align:bottom\"><a href=\"https://www.julialang.org\"><img style=\"height:1.25em\" src=\"./figures/juliaLOGO-three-balls.png\" alt=\"julia\" ></a></span>  \n",
    "As shown in the figure, an inclined manometer is used to measure the pressure of the gas within the reservoir. The manometer fluid is mercury, which has a density of 845 lb/ft³. The manometer fluid rises a distance\n",
    "7 inches along the manometer tube, which is inclined 30º from the horizontal. The atmospheric pressure is 14.7 lbf/in² and the acceleration of gravity is 32.2 ft/s². Determine the gas pressure, in lbf/in². Express the pressure as a gage or a vacuum pressure, as appropriate, in lbf/in². "
   ]
  },
  {
   "cell_type": "markdown",
   "metadata": {},
   "source": [
    "<p style = \"width:100%; background-image:  url(./figures/bacgroundTiles.png); line-height:0.5em; \" >&nbsp;</p>"
   ]
  },
  {
   "cell_type": "markdown",
   "metadata": {},
   "source": [
    "<img style=\"height:7em; float:right; padding-right:2em; padding-left:3em;\" title=\"1-038 figure\" src=\".\\figures\\ch02_cen98179_p02122_lg.jpg\" border=\"0\" alt=\"1-038 figure\">  [02.01⋮çb9⋮problem 2-122](02.01⋮Hydroelectric_Power_Plant_with_efficiency⋮julia.ipynb)  <span style=\"display:inline-block; vertical-align:bottom\"><a href=\"https://www.julialang.org\"><img style=\"height:1.25em\" src=\"./figures/juliaLOGO-three-balls.png\" alt=\"julia\" ></a></span>  \n",
    "In a hydroelectric power plant, 65 m³/s of water flows from an elevation of 90 m to a turbine, where electric power is generated. The overall efficiency of the turbine–generator is 84 percent. Disregarding frictional losses in piping, estimate the electric power output of this plant.  "
   ]
  },
  {
   "cell_type": "markdown",
   "metadata": {},
   "source": [
    "[02.02⋮Piston-Cylinder Device with Boundary Work and Heat Transfer](02.02⋮piston-cylinder-device-with-boundary-work-and-heat-transfer.ipynb)  <span style=\"display:inline-block; vertical-align:bottom\"><a href=\"https://www.julialang.org\"><img style=\"height:1.25em\" src=\"./figures/juliaLOGO-three-balls.png\" alt=\"julia\" ></a></span>   \n",
    "A piston cylinder device contains 3 kg of helium at 600 &#x2103;, 300 kPa. A process takes place such that the volume of the helium increases by 50% and the pressure becomes 150 kPa. During the process the internal energy of the helium decreases by 682 kJ/kg, and the helium does 982 kJ/kg of work on the piston. Determine the amount of heat transfer that occurred during the process, in kJ, and its direction."
   ]
  },
  {
   "cell_type": "markdown",
   "metadata": {},
   "source": [
    "<p style = \"width:100%; background-image:  url(./figures/bacgroundTiles.png); line-height:0.5em; \" >&nbsp;</p>"
   ]
  },
  {
   "cell_type": "markdown",
   "metadata": {},
   "source": [
    "[03.01⋮Step-by-Step Saturation Tables](03.01⋮sbs⋮saturation_pressure_table.ipynb)  <span style=\"display:inline-block; vertical-align:bottom\"><a href=\"https://www.julialang.org\"><img style=\"height:1.25em\" src=\"./figures/juliaLOGO-three-balls.png\" alt=\"julia\" ></a></span>  \n",
    "Given H₂O {P = 400 kPa, _u_ = 1450 kJ/kg}, describe the phase and calculate specific volume, enthalpy, and entropy.  "
   ]
  },
  {
   "cell_type": "markdown",
   "metadata": {},
   "source": [
    "[03.02⋮Step-by-Step Saturation Tables](03.02⋮sbs⋮saturation_temperature_table.ipynb)  <span style=\"display:inline-block; vertical-align:bottom\"><a href=\"https://www.julialang.org\"><img style=\"height:1.25em\" src=\"./figures/juliaLOGO-three-balls.png\" alt=\"julia\" ></a></span>  \n",
    "Given H₂O {T = 220 ℃, saturated vapor}, find specific volume, internal energy, enthalpy, and entropy.  "
   ]
  },
  {
   "cell_type": "markdown",
   "metadata": {},
   "source": [
    "[03.03⋮Step-by-Step Superheated Vapor Tables, with Interpolation](03.03⋮sbs⋮superheat_table_with_interpolation.ipynb)  <span style=\"display:inline-block; vertical-align:bottom\"><a href=\"https://www.julialang.org\"><img style=\"height:1.25em\" src=\"./figures/juliaLOGO-three-balls.png\" alt=\"julia\" ></a></span>  \n",
    "Given H₂O {P = 4000 kPa, _u_ = 3040 kJ/kg}, describe the phase and calculate temperature, specific volume, enthalpy, and entropy.  "
   ]
  },
  {
   "cell_type": "markdown",
   "metadata": {},
   "source": [
    "[03.04⋮problem 3.016SI, Moran and Shapiro, 9th edition](03.04⋮ms8⋮3.016si⋮r134a_closed_rigid_tank⋮initial_final_vapor_mass.ipynb)  <span style=\"display:inline-block; vertical-align:bottom\"><a href=\"https://www.julialang.org\"><img style=\"height:1.25em\" src=\"./figures/juliaLOGO-three-balls.png\" alt=\"julia\" ></a></span>   \n",
    "A closed, rigid tank whose volume is 1.8 m³ contains Refrigerant-134a, initially a two-phase liquid–vapor mixture at 10 °C. The refrigerant is heated to a final state where temperature is 50 °C and quality is 100%. Determine the mass of vapor present at the initial and final states, each in kg."
   ]
  },
  {
   "cell_type": "markdown",
   "metadata": {},
   "source": [
    "[03.05⋮problem 3.026, Moran and Shapiro, 9th edition](03.05⋮ms8⋮3.026⋮c3h8_pistonCylinder⋮polytropic⋮work_transfer⋮julia.ipynb)  <span style=\"display:inline-block; vertical-align:bottom\"><a href=\"https://www.julialang.org\"><img style=\"height:1.25em\" src=\"./figures/juliaLOGO-three-balls.png\" alt=\"julia\" ></a></span>  \n",
    "A piston–cylinder assembly contains 0.3 lb of propane. The propane expands from an initial state where P₁ = 60 lbf/in² and T₁ = 90°F to a final state where P₂ = 10 lbf/in². During the process, the pressure and specific volume are related by Pv² = constant. Determine the energy transfer by work, in Btu."
   ]
  },
  {
   "cell_type": "markdown",
   "metadata": {},
   "source": [
    "<p style = \"width:100%; background-image:  url(./figures/bacgroundTiles.png); line-height:0.5em; \" >&nbsp;</p>"
   ]
  },
  {
   "cell_type": "markdown",
   "metadata": {},
   "source": [
    "[04.01⋮NASA_Noise_Suppression_Water](04.01⋮NASA_Noise_Suppression_Water⋮python.ipynb)   <span style=\"display:inline-block; vertical-align:text-bottom\"><a href=\"https://www.python.org\"><img style=\"height:1em;\" src=\"./figures/flatPYTHONlogo.png\" alt=\"python\"></a></span>  \n",
    "NASA moves 450,000 gpm water to 100 ft elevation. How much power? "
   ]
  },
  {
   "cell_type": "markdown",
   "metadata": {},
   "source": [
    "[04.02⋮Open_System_Steady_State_Turbine](04.02⋮OpenSystem_SteadyStateTurbine⋮Julia.ipynb)    <span style=\"display:inline-block; vertical-align:bottom\"><a href=\"https://www.julialang.org\"><img style=\"height:1.25em\" src=\"./figures/juliaLOGO-three-balls.png\" alt=\"julia\" ></a></span>  \n",
    "Open System, Steady State Turbine "
   ]
  },
  {
   "cell_type": "markdown",
   "metadata": {},
   "source": [
    " \n",
    "[04.03⋮problem 4.126 Cengel & Boles, 7th edition](04.03⋮closed_system_PistonCylinder_with_stops⋮Julia.ipynb)    <span style=\"display:inline-block; vertical-align:bottom\"><a href=\"https://www.julialang.org\"><img style=\"height:1.25em\" src=\"./figures/juliaLOGO-three-balls.png\" alt=\"julia\" ></a></span>  \n",
    "A mass of 5 kg of saturated liquid–vapor mixture of water is contained in a piston–cylinder device at 125 kPa. Initially, 2 kg of the water is in the liquid phase and the rest is in the vapor phase. Heat is now transferred to the water, and the piston, which is resting on a set of stops, starts moving when the pressure inside reaches 300 kPa. Heat transfer continues until the total volume increases by 20 percent. Determine (a) the initial and final temperatures, (b) the mass of liquid water when the piston first starts moving, and (c) the work done during this process. Also, show the process on a P-v diagram. "
   ]
  },
  {
   "cell_type": "markdown",
   "metadata": {},
   "source": [
    "[04.04⋮problem 4.034, Moran and Shapiro, 9th edition](04.04⋮ms9⋮4.034⋮2_stage_turbine⋮julia.ipynb)    <span style=\"display:inline-block; vertical-align:bottom\"><a href=\"https://www.julialang.org\"><img style=\"height:1.25em\" src=\"./figures/juliaLOGO-three-balls.png\" alt=\"julia\" ></a></span>  \n",
    "Steam enters the first-stage turbine shown in the figure at 40 bar and 500°C with a mass flow rate of 40,000 kg/hr. Steam exits the first-stage turbine at 20 bar and 400°C. The steam is then reheated at constant pressure to 500°C before entering the second-stage turbine. Steam leaves the second stage as saturated vapor at 0.6 bar. Assume steady state operation and ignore stray heat transfer and kinetic and potential energy effects. Determine the volumetric flow rate of the steam at the inlet to the first-stage turbine, in m³/min, the rate of heat transfer to the steam flowing through the reheater, in kW, and the total power produced by the two stages of the turbine, in kW."
   ]
  },
  {
   "cell_type": "markdown",
   "metadata": {},
   "source": [
    "[04.05⋮problem 5.62, Cengel & Boles, 9th edition](04.05⋮ÇB_5-62⋮throttling_process⋮Julia.ipynb)    <span style=\"display:inline-block; vertical-align:bottom\"><a href=\"https://www.julialang.org\"><img style=\"height:1.25em\" src=\"./figures/juliaLOGO-three-balls.png\" alt=\"julia\" ></a></span>  \n",
    "Refrigerant-134a is throttled from the saturated liquid state at 700 kPa to a pressure of 160 kPa. Determine the temperature drop during this process and the final specific volume of the refrigerant."
   ]
  },
  {
   "cell_type": "markdown",
   "metadata": {},
   "source": [
    "[04.06⋮problem 5.112, Cengel & Boles, 9th edition](04.06⋮ÇB_5-112⋮charging_process⋮Julia.ipynb)    <span style=\"display:inline-block; vertical-align:bottom\"><a href=\"https://www.julialang.org\"><img style=\"height:1.25em\" src=\"./figures/juliaLOGO-three-balls.png\" alt=\"julia\" ></a></span>  \n",
    "A 2 m³ rigid insulated tank initially containing saturated water vapor at 1 MPa is connected through a valve to a supply line that carries steam at 400 °C. Now the valve is opened, and steam is allowed to flow slowly into the tank until the pressure in the tank rises to 2 MPa. At this instant the tank temperature is measured to be 300 °C. Determine the mass of the steam that has entered and the pressure of the steam in the supply line."
   ]
  },
  {
   "cell_type": "markdown",
   "metadata": {},
   "source": [
    "[04.07⋮problem 5.152, Cengel & Boles, 9th edition](04.07⋮ÇB_5-152⋮gas_turbine⋮Julia.ipynb)    <span style=\"display:inline-block; vertical-align:bottom\"><a href=\"https://www.julialang.org\"><img style=\"height:1.25em\" src=\"./figures/juliaLOGO-three-balls.png\" alt=\"julia\" ></a></span>  \n",
    "An ideal gas expands in an adiabatic turbine from 1200 K and 900 kPa to 800 K. Determine the turbine inlet volume flow rate of the gas, in m³/s, required to produce turbine work output at the rate of 650 kW. The average values of the specific heats for this gas over the temperature range and the gas constant are cp = 1.13 kJ/kg·K, cv = 0.83 kJ/kg·K, and R = 0.30 kJ/kg·K."
   ]
  },
  {
   "cell_type": "markdown",
   "metadata": {},
   "source": [
    "[04.08⋮problem 5-72, Cengel & Boles, 9th edition](04.08⋮ÇB_5-72⋮automobile_fuel_flow_thermal_efficiency⋮Julia.ipynb)    <span style=\"display:inline-block; vertical-align:bottom\"><a href=\"https://www.julialang.org\"><img style=\"height:1.25em\" src=\"./figures/juliaLOGO-three-balls.png\" alt=\"julia\" ></a></span>  \n",
    "In steam power plants, open feedwater heaters are frequently utilized to heat the feedwater by mixing it with steam bled off the turbine at some intermediate stage. Consider an open feedwater heater that operates at a pressure of 1000 kPa. Feedwater at 50°C and 1000 kPa is to be heated with superheated steam at 200°C and 1000 kPa. In an ideal feedwater heater, the mixture leaves the heater as saturated liquid at the feedwater pressure. Determine the ratio of the mass flow rates of the feedwater and the superheated vapor for this case."
   ]
  },
  {
   "cell_type": "markdown",
   "metadata": {},
   "source": [
    "[04.09⋮random](random.01⋮Julia.ipynb)    <span style=\"display:inline-block; vertical-align:bottom\"><a href=\"https://www.julialang.org\"><img style=\"height:1.25em\" src=\"./figures/juliaLOGO-three-balls.png\" alt=\"julia\" ></a></span>  \n",
    "Water vapor enters a subsonic diffuser at 0.5 bar, 175 °C, and 200 m/s. The diffuser inlet is 100 cm$^2$. During passage through the diffuser, the fluid velocity is reduced to 50 m/s, pressure increases to 1.0 bar and heat transfer to the surroundings is 0.5 kg/kJ. Determine (1) the final temperature, (2) the mass flow rate, in kg/s and (3) the outlet area, in cm²."
   ]
  },
  {
   "cell_type": "markdown",
   "metadata": {},
   "source": [
    "[04.10⋮random](random.02⋮Julia.ipynb)    <span style=\"display:inline-block; vertical-align:bottom\"><a href=\"https://www.julialang.org\"><img style=\"height:1.25em\" src=\"./figures/juliaLOGO-three-balls.png\" alt=\"julia\" ></a></span>  \n",
    "R-134a is throttled through a porous plug from a saturated liquid at 35 °C to a final state where the pressure is 1.5 bar. Determine the final temperature, and the physical state of the fluid at the exit."
   ]
  },
  {
   "cell_type": "markdown",
   "metadata": {},
   "source": [
    "[04.11⋮random](random.08⋮Julia.ipynb)    <span style=\"display:inline-block; vertical-align:bottom\"><a href=\"https://www.julialang.org\"><img style=\"height:1.25em\" src=\"./figures/juliaLOGO-three-balls.png\" alt=\"julia\" ></a></span>  \n",
    "Refrigerant 134a enters an adiabatic compressor as saturated vapor at 120 kPa at a rate of 0.3 m³/min and exits at 1 MPa. If the isentropic efficiency of the compressor is 80%, determine: (1) the temperature of the refrigerant at the exit of the compressor, and (2) the power input, in kW."
   ]
  },
  {
   "cell_type": "markdown",
   "metadata": {},
   "source": [
    "[04.12⋮random (10.random) SYMBOLIC](random.0510.SYMBOLIC⋮Julia.ipynb)    <span style=\"display:inline-block; vertical-align:bottom\"><a href=\"https://www.julialang.org\"><img style=\"height:1.25em\" src=\"./figures/juliaLOGO-three-balls.png\" alt=\"julia\" ></a></span>  \n",
    "<div class=\"ansibgyellow\"><b>  Example of symbolic solution</b></div>  \n",
    "Refrigerant 134a enters an air-cooled condenser as a superheated vapor at 10 bar and 60 °C and leaves as a saturated liquid at 10 bar. Atmospheric air at 30 °C is blown over the condenser tubes and leaves at 45 °C. The heat transfer between the two fluid streams equals 20 MJ/hr. Changes in potential and kinetic energy are negligible."
   ]
  },
  {
   "cell_type": "markdown",
   "metadata": {},
   "source": [
    "[04.13⋮random SYMBOLIC](random.07.SYMBOLIC⋮Julia.ipynb)    <span style=\"display:inline-block; vertical-align:bottom\"><a href=\"https://www.julialang.org\"><img style=\"height:1.25em\" src=\"./figures/juliaLOGO-three-balls.png\" alt=\"julia\" ></a></span>  \n",
    "<div class=\"ansibgyellow\"><b>  Example of symbolic solution</b></div>  \n",
    "A refrigeration system contains an adiabatic compressor which handles refrigerant 134a. Inlet conditions are 140 kPa and -15 °C and the exit state is 1.5 MPa and 90 °C. The changes in potential and kinetic energies are negligible. Find the isentropic efficiency of the compressor."
   ]
  },
  {
   "cell_type": "markdown",
   "metadata": {
    "extensions": {
     "jupyter_dashboards": {
      "version": 1,
      "views": {
       "grid_default": {
        "col": 0,
        "height": 4,
        "hidden": false,
        "row": 12,
        "width": 4
       },
       "report_default": {
        "hidden": false
       }
      }
     }
    }
   },
   "source": [
    "<p style = \"background-image: url(./figures/bacgroundTiles.png); background-color:#FDD023; line-height: 2px\" >&nbsp;</p>\n",
    "\n",
    "<div style=\"background-color:#fcf8e3; color:#461d7c;\">&nbsp;<div class=\"badge\"></div><i class=\"fa fa-book\"></i><strong> Sources</strong></div>\n",
    "<div class=\"panel-warning\"><div class=\"panel-heading\">   \n",
    "\n",
    "<div style=\"display:table-row;\">\n",
    "  <div style=\"display:table-cell; text-align:right;\"><div class=\"badge\" style=\"width:100%; background-color:#461d7c;\">çb8</div></div>\n",
    "  <div style=\"display:table-cell; width:0.5em; line-height:2em;\">&nbsp;</div>\n",
    "  <div style=\"display:table-cell; color:#461d7c;\"> Çengel, YA and Boles, MA (2014) <i>Thermodynamics: An Engineering Approach, 8th Edition</i>, McGraw-Hill Education.</div>  \n",
    "</div>\n",
    "\n",
    "<div style=\"display:table-row;\">\n",
    "  <div style=\"display:table-cell;\"><div class=\"badge\" style=\"width:100%; background-color:#461d7c;\">ms9</div></div>\n",
    "  <div style=\"display:table-cell; width:0.5em; line-height:2em;\"></div>\n",
    "  <div style=\"display:table-cell; color:#461d7c;\">Moran KJ, Shapiro, HN, Boettner DD, Bailey, MB (2018) <i>Fundamentals of Engineering Thermodynamics, Enhanced eText, 9th Edition,</i> John Wiley &amp; Sons, Inc.</div>\n",
    "</div>\n",
    "\n",
    "</div></div>\n",
    "\n",
    "<footer style=\"background-color: #461d7c; color:rgba(253,208,35,0.35); line-height:2em; padding-left:1em; padding-right:0.5em; bottom:0; float:bottom; text-align:right;\"><i>ψᵟ</i></footer>"
   ]
  }
 ],
 "metadata": {
  "extensions": {
   "jupyter_dashboards": {
    "activeView": "report_default",
    "version": 1,
    "views": {
     "grid_default": {
      "cellMargin": 10,
      "defaultCellHeight": 20,
      "maxColumns": 12,
      "name": "grid",
      "type": "grid"
     },
     "report_default": {
      "name": "report",
      "type": "report"
     }
    }
   }
  },
  "kernelspec": {
   "display_name": "Python 3",
   "language": "python",
   "name": "python3"
  },
  "language_info": {
   "codemirror_mode": {
    "name": "ipython",
    "version": 3
   },
   "file_extension": ".py",
   "mimetype": "text/x-python",
   "name": "python",
   "nbconvert_exporter": "python",
   "pygments_lexer": "ipython3",
   "version": "3.7.1"
  },
  "varInspector": {
   "cols": {
    "lenName": 16,
    "lenType": 16,
    "lenVar": 40
   },
   "kernels_config": {
    "python": {
     "delete_cmd_postfix": "",
     "delete_cmd_prefix": "del ",
     "library": "var_list.py",
     "varRefreshCmd": "print(var_dic_list())"
    },
    "r": {
     "delete_cmd_postfix": ") ",
     "delete_cmd_prefix": "rm(",
     "library": "var_list.r",
     "varRefreshCmd": "cat(var_dic_list()) "
    }
   },
   "types_to_exclude": [
    "module",
    "function",
    "builtin_function_or_method",
    "instance",
    "_Feature"
   ],
   "window_display": false
  }
 },
 "nbformat": 4,
 "nbformat_minor": 2
}

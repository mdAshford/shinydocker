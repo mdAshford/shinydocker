{
 "cells": [
  {
   "cell_type": "markdown",
   "metadata": {
    "extensions": {
     "jupyter_dashboards": {
      "version": 1,
      "views": {
       "grid_default": {
        "col": 0,
        "height": 4,
        "hidden": false,
        "row": 0,
        "width": null
       },
       "report_default": {
        "hidden": true
       }
      }
     }
    }
   },
   "source": [
    "$\\require{cancel}  \\require{bbox} \\require{color} \\require{enclose} \\require{AMSmath} \\require{AMSsymbols} \\require{sinuitx} \\require{mhchem}$\n",
    "<div style=\"display:inline-block; position:absolute; top:0; right:0; color: #230e3e; font:italic 1em serif;\">$\\LaTeX$<span style=\"display:inline-block; vertical-align:bottom\"><a href=\"https://www.mathjax.org\">\n",
    "    <img style=\"height:1.25em\" title=\"Powered by MathJax\"\n",
    "    src=\"https://www.mathjax.org/badge/mj_logo.png\"\n",
    "    border=\"0\" alt=\"Powered by MathJax\" />\n",
    "</a></span> </div>\n",
    "\n",
    "<h1 style=\"background-color: #461d7c; color:white; font-size: 250%; line-height:2em; padding-left:1em; \">\n",
    "YOU can do thermodynamics</h1>\n",
    "\n",
    "<footer style=\"background-color: #e7e2ee; color:#461d7c; line-height:2em; padding-left:1em; text-align:center; border-left:2px solid #461d7c; border-right:2px solid #461d7c; padding-bottom:1em; top:0em;\"><i>notebooks</i></footer>\n",
    "\n",
    "<footer style=\"background-color: white; color:#461d7c; line-height:1em; padding-left:1em; text-align:center; border-top:2px solid #461d7c; border-radius: 0.75vw 0.75vw 0 0; margin-top:-1em; margin-bottom:-1em\">&nbsp;</footer>"
   ]
  },
  {
   "cell_type": "markdown",
   "metadata": {},
   "source": [
    "[Test_Two_Review](00.02⋮test_two⋮REVIEW.ipynb)   <span style=\"display:inline-block; vertical-align:text-bottom\"><a href=\"https://www.python.org\"><img style=\"height:1em;\" src=\"./figures/flatPYTHONlogo.png\" alt=\"python\"></a></span>  \n",
    "\n",
    "[Test_One_Review](00.01⋮test_one⋮REVIEW.ipynb)    <span style=\"display:inline-block; vertical-align:bottom\"><a href=\"https://www.julialang.org\"><img style=\"height:1.25em\" src=\"./figures/juliaLOGO-three-balls.png\" alt=\"julia\" ></a></span>  "
   ]
  },
  {
   "cell_type": "markdown",
   "metadata": {},
   "source": [
    "<p style = \"width:100%; background-image:  url(./figures/bacgroundTiles.png); line-height:0.5em; \" >&nbsp;</p>"
   ]
  },
  {
   "cell_type": "markdown",
   "metadata": {},
   "source": [
    "[05.02⋮problem 6.23, Cengel & Boles, 9th edition](05.02⋮ÇB_6-23⋮automobile_fuel_flow_thermal_efficiency⋮Julia.ipynb)    <span style=\"display:inline-block; vertical-align:bottom\"><a href=\"https://www.julialang.org\"><img style=\"height:1.25em\" src=\"./figures/juliaLOGO-three-balls.png\" alt=\"julia\" ></a></span>  \n",
    "An automobile engine consumes fuel at a rate of 22 L/h and delivers 55 kW of power to the wheels. If the fuel has a heating value of 44,000 kJ/kg and a density of 0.8 g/cm³, determine the efficiency of this engine."
   ]
  },
  {
   "cell_type": "markdown",
   "metadata": {},
   "source": [
    "[05.01⋮problem 6.17E, Cengel & Boles, 9th edition](05.01⋮ÇB_6-17E⋮heat_engine_thermal_efficiency⋮Julia.ipynb)    <span style=\"display:inline-block; vertical-align:bottom\"><a href=\"https://www.julialang.org\"><img style=\"height:1.25em\" src=\"./figures/juliaLOGO-three-balls.png\" alt=\"julia\" ></a></span>  \n",
    "A heat engine has a heat input of 3 × 10⁴ Btu/h and a thermal efficiency of 40 percent. Calculate the power it will produce, in hp."
   ]
  },
  {
   "cell_type": "markdown",
   "metadata": {},
   "source": [
    "<p style = \"width:100%; background-image:  url(./figures/bacgroundTiles.png); line-height:0.5em; \" >&nbsp;</p>"
   ]
  },
  {
   "cell_type": "markdown",
   "metadata": {},
   "source": [
    "\n",
    "[04.08⋮problem 5-72, Cengel & Boles, 9th edition](04.08⋮ÇB_5-72⋮automobile_fuel_flow_thermal_efficiency⋮Julia)    <span style=\"display:inline-block; vertical-align:bottom\"><a href=\"https://www.julialang.org\"><img style=\"height:1.25em\" src=\"./figures/juliaLOGO-three-balls.png\" alt=\"julia\" ></a></span>  \n",
    "In steam power plants, open feedwater heaters are frequently utilized to heat the feedwater by mixing it with steam bled off the turbine at some intermediate stage. Consider an open feedwater heater that operates at a pressure of 1000 kPa. Feedwater at 50°C and 1000 kPa is to be heated with superheated steam at 200°C and 1000 kPa. In an ideal feedwater heater, the mixture leaves the heater as saturated liquid at the feedwater pressure. Determine the ratio of the mass flow rates of the feedwater and the superheated vapor for this case.\n",
    "\n",
    "[04.07⋮problem 5.152, Cengel & Boles, 9th edition](04.07⋮ÇB_5-152⋮gas_turbine⋮Julia.ipynb)    <span style=\"display:inline-block; vertical-align:bottom\"><a href=\"https://www.julialang.org\"><img style=\"height:1.25em\" src=\"./figures/juliaLOGO-three-balls.png\" alt=\"julia\" ></a></span>  \n",
    "An ideal gas expands in an adiabatic turbine from 1200 K and 900 kPa to 800 K. Determine the turbine inlet volume flow rate of the gas, in m³/s, required to produce turbine work output at the rate of 650 kW. The average values of the specific heats for this gas over the temperature range and the gas constant are cp = 1.13 kJ/kg·K, cv = 0.83 kJ/kg·K, and R = 0.30 kJ/kg·K.\n",
    "\n",
    "[04.06⋮problem 5.112, Cengel & Boles, 9th edition](04.06⋮ÇB_5-112⋮charging_process⋮Julia.ipynb)    <span style=\"display:inline-block; vertical-align:bottom\"><a href=\"https://www.julialang.org\"><img style=\"height:1.25em\" src=\"./figures/juliaLOGO-three-balls.png\" alt=\"julia\" ></a></span>  \n",
    "A 2 m³ rigid insulated tank initially containing saturated water vapor at 1 MPa is connected through a valve to a supply line that carries steam at 400 °C. Now the valve is opened, and steam is allowed to flow slowly into the tank until the pressure in the tank rises to 2 MPa. At this instant the tank temperature is measured to be 300 °C. Determine the mass of the steam that has entered and the pressure of the steam in the supply line.\n",
    "\n",
    "[04.05⋮problem 5.62, Cengel & Boles, 9th edition](04.05⋮ÇB_5-62⋮throttling_process⋮Julia.ipynb)    <span style=\"display:inline-block; vertical-align:bottom\"><a href=\"https://www.julialang.org\"><img style=\"height:1.25em\" src=\"./figures/juliaLOGO-three-balls.png\" alt=\"julia\" ></a></span>  \n",
    "Refrigerant-134a is throttled from the saturated liquid state at 700 kPa to a pressure of 160 kPa. Determine the temperature drop during this process and the final specific volume of the refrigerant.\n",
    "\n",
    "[04.04⋮problem 4.034, Moran and Shapiro, 9th edition](04.04⋮ms9⋮4.034⋮2_stage_turbine⋮julia.ipynb)    <span style=\"display:inline-block; vertical-align:bottom\"><a href=\"https://www.julialang.org\"><img style=\"height:1.25em\" src=\"./figures/juliaLOGO-three-balls.png\" alt=\"julia\" ></a></span>  \n",
    "Steam enters the first-stage turbine shown in the figure at 40 bar and 500°C with a mass flow rate of 40,000 kg/hr. Steam exits the first-stage turbine at 20 bar and 400°C. The steam is then reheated at constant pressure to 500°C before entering the second-stage turbine. Steam leaves the second stage as saturated vapor at 0.6 bar. Assume steady state operation and ignore stray heat transfer and kinetic and potential energy effects. Determine the volumetric flow rate of the steam at the inlet to the first-stage turbine, in m³/min, the rate of heat transfer to the steam flowing through the reheater, in kW, and the total power produced by the two stages of the turbine, in kW.\n",
    " \n",
    "[04.03⋮problem 4.126 Cengel & Boles, 7th edition](04.03⋮closed_system_PistonCylinder_with_stops⋮Julia.ipynb)    <span style=\"display:inline-block; vertical-align:bottom\"><a href=\"https://www.julialang.org\"><img style=\"height:1.25em\" src=\"./figures/juliaLOGO-three-balls.png\" alt=\"julia\" ></a></span>  \n",
    "A mass of 5 kg of saturated liquid–vapor mixture of water is contained in a piston–cylinder device at 125 kPa. Initially, 2 kg of the water is in the liquid phase and the rest is in the vapor phase. Heat is now transferred to the water, and the piston, which is resting on a set of stops, starts moving when the pressure inside reaches 300 kPa. Heat transfer continues until the total volume increases by 20 percent. Determine (a) the initial and final temperatures, (b) the mass of liquid water when the piston first starts moving, and (c) the work done during this process. Also, show the process on a P-v diagram. \n",
    "\n",
    "[04.02⋮Open_System_Steady_State_Turbine](04.02⋮OpenSystem_SteadyStateTurbine⋮Julia.ipynb)    <span style=\"display:inline-block; vertical-align:bottom\"><a href=\"https://www.julialang.org\"><img style=\"height:1.25em\" src=\"./figures/juliaLOGO-three-balls.png\" alt=\"julia\" ></a></span>  \n",
    "Open System, Steady State Turbine \n",
    "\n",
    "[04.01⋮NASA_Noise_Suppression_Water](04.01⋮NASA_Noise_Suppression_Water⋮python.ipynb)   <span style=\"display:inline-block; vertical-align:text-bottom\"><a href=\"https://www.python.org\"><img style=\"height:1em;\" src=\"./figures/flatPYTHONlogo.png\" alt=\"python\"></a></span>  \n",
    "NASA moves 450,000 gpm water to 100 ft elevation. How much power? "
   ]
  },
  {
   "cell_type": "markdown",
   "metadata": {},
   "source": [
    "<p style = \"width:100vw; background-image:  url(./figures/bacgroundTiles.png); line-height: 0.5em\" >&nbsp;</p>"
   ]
  },
  {
   "cell_type": "markdown",
   "metadata": {},
   "source": [
    "[03.05⋮problem 3.026, Moran and Shapiro, 9th edition](03.05⋮ms8⋮3.026⋮c3h8_pistonCylinder⋮polytropic⋮work_transfer⋮julia.ipynb)  <span style=\"display:inline-block; vertical-align:bottom\"><a href=\"https://www.julialang.org\"><img style=\"height:1.25em\" src=\"./figures/juliaLOGO-three-balls.png\" alt=\"julia\" ></a></span>  \n",
    "A piston–cylinder assembly contains 0.3 lb of propane. The propane expands from an initial state where P₁ = 60 lbf/in² and T₁ = 90°F to a final state where P₂ = 10 lbf/in². During the process, the pressure and specific volume are related by Pv² = constant. Determine the energy transfer by work, in Btu.\n",
    "\n",
    "[03.04⋮problem 3.016SI, Moran and Shapiro, 9th edition](03.04⋮ms8⋮3.016si⋮r134a_closed_rigid_tank⋮initial_final_vapor_mass.ipynb)  <span style=\"display:inline-block; vertical-align:bottom\"><a href=\"https://www.julialang.org\"><img style=\"height:1.25em\" src=\"./figures/juliaLOGO-three-balls.png\" alt=\"julia\" ></a></span>   \n",
    "A closed, rigid tank whose volume is 1.8 m³ contains Refrigerant-134a, initially a two-phase liquid–vapor mixture at 10 °C. The refrigerant is heated to a final state where temperature is 50 °C and quality is 100%. Determine the mass of vapor present at the initial and final states, each in kg.\n",
    "\n",
    "[03.03⋮Step-by-Step Superheated Vapor Tables, with Interpolation](03.03⋮sbs⋮superheat_table_with_interpolation.ipynb)  <span style=\"display:inline-block; vertical-align:bottom\"><a href=\"https://www.julialang.org\"><img style=\"height:1.25em\" src=\"./figures/juliaLOGO-three-balls.png\" alt=\"julia\" ></a></span>  \n",
    "Given H₂O {P = 4000 kPa, _u_ = 3040 kJ/kg}, describe the phase and calculate temperature, specific volume, enthalpy, and entropy.  \n",
    "\n",
    "[03.02⋮Step-by-Step Saturation Tables](03.02⋮sbs⋮saturation_temperature_table.ipynb)  <span style=\"display:inline-block; vertical-align:bottom\"><a href=\"https://www.julialang.org\"><img style=\"height:1.25em\" src=\"./figures/juliaLOGO-three-balls.png\" alt=\"julia\" ></a></span>  \n",
    "Given H₂O {T = 220 ℃, saturated vapor}, find specific volume, internal energy, enthalpy, and entropy.  \n",
    "\n",
    "[03.01⋮Step-by-Step Saturation Tables](03.01⋮sbs⋮saturation_pressure_table.ipynb)  <span style=\"display:inline-block; vertical-align:bottom\"><a href=\"https://www.julialang.org\"><img style=\"height:1.25em\" src=\"./figures/juliaLOGO-three-balls.png\" alt=\"julia\" ></a></span>  \n",
    "Given H₂O {P = 400 kPa, _u_ = 1450 kJ/kg}, describe the phase and calculate specific volume, enthalpy, and entropy.  "
   ]
  },
  {
   "cell_type": "markdown",
   "metadata": {},
   "source": [
    "<p style = \"width:100vw; background-image:  url(./figures/bacgroundTiles.png); line-height: 0.5em\" >&nbsp;</p>"
   ]
  },
  {
   "cell_type": "markdown",
   "metadata": {
    "extensions": {
     "jupyter_dashboards": {
      "version": 1,
      "views": {
       "grid_default": {
        "col": 0,
        "height": 7,
        "hidden": false,
        "row": 16,
        "width": 12
       },
       "report_default": {
        "hidden": false
       }
      }
     }
    }
   },
   "source": [
    "[02.02⋮Piston-Cylinder_Device_with_Boundary_Work_and_Heat_Transfer](02.02⋮Piston-Cylinder_Device_with_Boundary_Work_and_Heat_Transfer.ipynb)  <span style=\"display:inline-block; vertical-align:bottom\"><a href=\"https://www.julialang.org\"><img style=\"height:1.25em\" src=\"./figures/juliaLOGO-three-balls.png\" alt=\"julia\" ></a></span>   \n",
    "A piston cylinder device contains 3 kg of helium at 600 &#x2103;, 300 kPa. A process takes place such that the volume of the helium increases by 50% and the pressure becomes 150 kPa. During the process the internal energy of the helium decreases by 682 kJ/kg, and the helium does 982 kJ/kg of work on the piston. Determine the amount of heat transfer that occurred during the process, in kJ, and its direction.\n",
    "\n",
    "[02.01⋮Hydroelectric_Power_Plant_with_Efficiency](02.01⋮Hydroelectric_Power_Plant_with_efficiency⋮julia.ipynb)  <span style=\"display:inline-block; vertical-align:bottom\"><a href=\"https://www.julialang.org\"><img style=\"height:1.25em\" src=\"./figures/juliaLOGO-three-balls.png\" alt=\"julia\" ></a></span>  \n",
    "In a hydroelectric power plant, 65 m³/s of water flows from an elevation of 90 m to a turbine, where electric power is generated. The overall efficiency of the turbine–generator is 84 percent. Disregarding frictional losses in piping, estimate the electric power output of this plant.  "
   ]
  },
  {
   "cell_type": "markdown",
   "metadata": {},
   "source": [
    "<p style = \"width:100vw; background-image:  url(./figures/bacgroundTiles.png); line-height: 0.5em\" >&nbsp;</p>"
   ]
  },
  {
   "cell_type": "markdown",
   "metadata": {
    "extensions": {
     "jupyter_dashboards": {
      "version": 1,
      "views": {
       "grid_default": {
        "col": null,
        "height": 9,
        "hidden": false,
        "row": 8,
        "width": null
       },
       "report_default": {
        "hidden": false
       }
      }
     }
    }
   },
   "source": [
    "[01.03⋮Average_Rate_of_Heat_Transfer](01.03⋮Average_Rate_of_Heat_Transfer.ipynb)  <span style=\"display:inline-block; vertical-align:bottom\"><a href=\"https://www.julialang.org\"><img style=\"height:1.25em\" src=\"./figures/juliaLOGO-three-balls.png\" alt=\"julia\" ></a></span>  \n",
    "A cold soda initially at 33 ℉ gains 30 BTU of heat in a room at 60 ℉ over a 25 min period. What is the average rate of heat transfer during this process [BTU/hr]?  \n",
    "\n",
    "[01.02⋮Pascals_Law_Hydraulic_Lift](01.02⋮Pascals_Law_Hydraulic_Lift⋮python.ipynb)   <span style=\"display:inline-block; vertical-align:text-bottom\"><a href=\"https://www.python.org\"><img style=\"height:1em;\" src=\"./figures/flatPYTHONlogo.png\" alt=\"python\"></a></span>     \n",
    "A hydraulic lift is to be used to lift a 2500 kg weight by putting a weight of 25 kg on a piston with a diameter of 10 cm. Determine the diameter of the piston on which the weight is to be placed. The hydraulic fluid has a specific gravity of 0.86.  \n",
    "\n",
    "[01.01⋮Classic_Manometer](01.01⋮Classic_Manometer⋮python.ipynb)  <span style=\"display:inline-block; vertical-align:text-bottom\"><a href=\"https://www.python.org\"><img style=\"height:1em;\" src=\"./figures/flatPYTHONlogo.png\" alt=\"python\"></a></span>   \n",
    "A mercury manometer ( $\\rho_{\\rm Hg}$ = 13,600 kg/m$^3$) is connected to an air duct to measure the pressure inside. The difference in the manometer levels is 15 mm, and the atmospheric pressure is 100 kPa. (a) Judging from the figure, determine if the pressure in the duct is above or below the atmospheric pressure. (b) Determine the absolute pressure in the duct.  \n",
    " "
   ]
  },
  {
   "cell_type": "markdown",
   "metadata": {
    "extensions": {
     "jupyter_dashboards": {
      "version": 1,
      "views": {
       "grid_default": {
        "col": 0,
        "height": 4,
        "hidden": false,
        "row": 12,
        "width": 4
       },
       "report_default": {
        "hidden": false
       }
      }
     }
    }
   },
   "source": [
    "<footer style=\"background-color: #461d7c; color:rgba(253,208,35,0.35); line-height:2em; padding-left:1em; padding-right:0.5em; bottom:0; float:bottom; text-align:right;\"><i>ψᵟ</i></footer>"
   ]
  }
 ],
 "metadata": {
  "extensions": {
   "jupyter_dashboards": {
    "activeView": "report_default",
    "version": 1,
    "views": {
     "grid_default": {
      "cellMargin": 10,
      "defaultCellHeight": 20,
      "maxColumns": 12,
      "name": "grid",
      "type": "grid"
     },
     "report_default": {
      "name": "report",
      "type": "report"
     }
    }
   }
  },
  "kernelspec": {
   "display_name": "Python 3",
   "language": "python",
   "name": "python3"
  },
  "language_info": {
   "codemirror_mode": {
    "name": "ipython",
    "version": 3
   },
   "file_extension": ".py",
   "mimetype": "text/x-python",
   "name": "python",
   "nbconvert_exporter": "python",
   "pygments_lexer": "ipython3",
   "version": "3.6.6"
  }
 },
 "nbformat": 4,
 "nbformat_minor": 2
}

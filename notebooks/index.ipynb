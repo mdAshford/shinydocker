{
 "cells": [
  {
   "cell_type": "markdown",
   "metadata": {
    "extensions": {
     "jupyter_dashboards": {
      "version": 1,
      "views": {
       "grid_default": {
        "col": 0,
        "height": 4,
        "hidden": false,
        "row": 0,
        "width": null
       },
       "report_default": {
        "hidden": true
       }
      }
     }
    }
   },
   "source": [
    "$\\require{cancel} \\require{mhchem} \\require{bbox} \\require{color} \\require{enclose} \\require{AMSmath} \\require{AMSsymbols} \n",
    "$"
   ]
  },
  {
   "cell_type": "markdown",
   "metadata": {
    "extensions": {
     "jupyter_dashboards": {
      "version": 1,
      "views": {
       "grid_default": {
        "col": 0,
        "height": 4,
        "hidden": false,
        "row": 4,
        "width": 12
       },
       "report_default": {
        "hidden": false
       }
      }
     }
    }
   },
   "source": [
    "<h1 style=\"background-color: #461d7c; color:white; font-size: 250%; line-height:2em; padding-left:1em; \">\n",
    "YOU can do thermodynamics</h1>"
   ]
  },
  {
   "cell_type": "markdown",
   "metadata": {
    "extensions": {
     "jupyter_dashboards": {
      "version": 1,
      "views": {
       "grid_default": {
        "col": 0,
        "height": 4,
        "hidden": false,
        "row": 8,
        "width": 4
       },
       "report_default": {
        "hidden": false
       }
      }
     }
    }
   },
   "source": [
    "<footer style=\"background-color: #461d7c; color:white; line-height:2em; padding-left:1em; bottom:0; float:bottom; text-align:center;\"><i>notebooks</i></footer>"
   ]
  },
  {
   "cell_type": "markdown",
   "metadata": {
    "extensions": {
     "jupyter_dashboards": {
      "version": 1,
      "views": {
       "grid_default": {
        "col": null,
        "height": 9,
        "hidden": false,
        "row": 8,
        "width": null
       },
       "report_default": {
        "hidden": false
       }
      }
     }
    }
   },
   "source": [
    "[01.01⋮Classic_Manometer⋮python.ipynb](01.01⋮Classic_Manometer⋮python.ipynb)  \n",
    "A mercury manometer ( $\\rho_{Hg}$ = 13,600 kg/m$^3$) is connected to an air duct to measure the pressure inside. The difference in the manometer levels is 15 mm, and the atmospheric pressure is 100 kPa. (a) Judging from the figure, determine if the pressure in the duct is above or below the atmospheric pressure. (b) Determine the absolute pressure in the duct.  \n",
    "   \n",
    "[01.02⋮Pascals_Law_Hydraulic_Lift⋮python.ipynb](01.02⋮Pascals_Law_Hydraulic_Lift⋮python.ipynb)  \n",
    "A hydraulic lift is to be used to lift a 2500 kg weight by putting a weight of 25 kg on a piston with a diameter of 10 cm. Determine the diameter of the piston on which the weight is to be placed. The hydraulic fluid has a specific gravity of 0.86.  \n",
    "\n",
    "[01-03⋮Average_Rate_of_Heat_Transfer.ipynb](01-03⋮Average_Rate_of_Heat_Transfer.ipynb)  \n",
    "A cold soda initially at 33 ℉ gains 30 BTU of heat in a room at 60 ℉ over a 25 min period. What is the average rate of heat transfer during this process [BTU/hr]?  \n",
    "\n",
    "<p style=\"border-bottom: 1pt dotted #461d7c;\"></p>"
   ]
  },
  {
   "cell_type": "markdown",
   "metadata": {
    "extensions": {
     "jupyter_dashboards": {
      "version": 1,
      "views": {
       "grid_default": {
        "col": 0,
        "height": 7,
        "hidden": false,
        "row": 16,
        "width": 12
       },
       "report_default": {
        "hidden": false
       }
      }
     }
    }
   },
   "source": [
    "[02.01⋮Hydroelectric_Power_Plant_with_efficiency⋮julia.ipynb](02.01⋮Hydroelectric_Power_Plant_with_efficiency⋮julia.ipynb)  \n",
    "In a hydroelectric power plant, 65 m³/s of water flows from an elevation of 90 m to a turbine, where electric power is generated. The overall efficiency of the turbine–generator is 84 percent. Disregarding frictional losses in piping, estimate the electric power output of this plant.  \n",
    "\n",
    "[02.02⋮Piston-Cylinder_Device_with_Boundary_Work_and_Heat_Transfer.ipynb](02-02⋮Piston-Cylinder_Device_with_Boundary_Work_and_Heat_Transfer.ipynb)  \n",
    "A piston cylinder device contains 3 kg of helium at 600 &#x2103;, 300 kPa. A process takes place such that the volume of the helium increases by 50% and the pressure becomes 150 kPa. During the process the internal energy of the helium decreases by 682 kJ/kg, and the helium does 982 kJ/kg of work on the piston. Determine the amount of heat transfer that occurred during the process, in kJ, and its direction.\n",
    "\n",
    "<p style=\"border-bottom: 1pt dotted #461d7c;\"></p>"
   ]
  },
  {
   "cell_type": "markdown",
   "metadata": {
    "extensions": {
     "jupyter_dashboards": {
      "version": 1,
      "views": {
       "grid_default": {
        "col": 0,
        "height": 6,
        "hidden": false,
        "row": 23,
        "width": null
       },
       "report_default": {
        "hidden": false
       }
      }
     }
    }
   },
   "source": [
    "[03.01⋮Step-by-Step Saturation Tables](0301⋮SbS⋮Saturation_Pressure_Table.ipynb)  \n",
    "Given $\\ce{H2O} \\left\\{ \\begin{align} \\ce{P \\ &= \\ 400 kPa} \\\\\n",
    "    \\ce{u \\ &= \\ 1450 kJ/kg}\n",
    "    \\end{align} \n",
    "    \\right\\} ,$ describe the phase and calculate specific volume, enthalpy, and entropy. \n",
    "\n",
    "\n",
    "[03.02⋮Step-by-Step Saturation Tables](0302⋮SbS⋮Saturation_Temperature_Table.ipynb)  \n",
    "Given $\\ce{H2O} \\left\\{ \\begin{align} \\text{T}=220\\ ^\\circ\\text{C} \\\\\n",
    "    \\text{saturated vapor}\n",
    "    \\end{align} \n",
    "    \\right\\},$ find specific volume, internal energy, enthalpy, and entropy.\n",
    "\n",
    "\n",
    "[03.03⋮Step-by-Step Superheated Vapor Tables, with Interpolation](0303⋮SbS⋮Superheat_Table_with_Interpolation.ipynb)  \n",
    "Given $\\ce{H2O} \\left\\{ \\begin{align} \\ce{P \\ &= \\ 4000 kPa} \\\\\n",
    "    \\ce{u \\ &= \\ 3040 kJ/kg}\n",
    "    \\end{align}\n",
    "    \\right\\}$ describe the phase and calculate temperature, specific volume, enthalpy, and entropy.\n",
    "\n"
   ]
  },
  {
   "cell_type": "markdown",
   "metadata": {
    "extensions": {
     "jupyter_dashboards": {
      "version": 1,
      "views": {
       "grid_default": {
        "col": 0,
        "height": 4,
        "hidden": false,
        "row": 12,
        "width": 4
       },
       "report_default": {
        "hidden": false
       }
      }
     }
    }
   },
   "source": [
    "<footer style=\"background-color: #461d7c; color:#fdd023; line-height:2em; padding-left:1em; bottom:0; float:bottom; text-align:center;\"><i>ψᵟ</i></footer>"
   ]
  }
 ],
 "metadata": {
  "extensions": {
   "jupyter_dashboards": {
    "activeView": "report_default",
    "version": 1,
    "views": {
     "grid_default": {
      "cellMargin": 10,
      "defaultCellHeight": 20,
      "maxColumns": 12,
      "name": "grid",
      "type": "grid"
     },
     "report_default": {
      "name": "report",
      "type": "report"
     }
    }
   }
  },
  "kernelspec": {
   "display_name": "Python [default]",
   "language": "python",
   "name": "python3"
  },
  "language_info": {
   "codemirror_mode": {
    "name": "ipython",
    "version": 3
   },
   "file_extension": ".py",
   "mimetype": "text/x-python",
   "name": "python",
   "nbconvert_exporter": "python",
   "pygments_lexer": "ipython3",
   "version": "3.6.5"
  }
 },
 "nbformat": 4,
 "nbformat_minor": 2
}

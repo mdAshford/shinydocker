{
 "cells": [
  {
   "cell_type": "markdown",
   "metadata": {
    "extensions": {
     "jupyter_dashboards": {
      "version": 1,
      "views": {
       "grid_default": {
        "col": 0,
        "height": 4,
        "hidden": false,
        "row": 0,
        "width": null
       },
       "report_default": {
        "hidden": true
       }
      }
     }
    }
   },
   "source": [
    "$\\require{cancel}  \\require{bbox} \\require{color} \\require{enclose} \\require{AMSmath} \\require{AMSsymbols} \\require{sinuitx} \\require{mhchem}$\n",
    "<div style=\"display:inline-block; position:absolute; top:0; right:0; color: #230e3e; font:italic 1em serif;\">$\\LaTeX$<span style=\"display:inline-block; vertical-align:bottom\"><a href=\"https://www.mathjax.org\">\n",
    "    <img style=\"height:1.25em\" title=\"Powered by MathJax\"\n",
    "    src=\"https://www.mathjax.org/badge/mj_logo.png\"\n",
    "    border=\"0\" alt=\"Powered by MathJax\" />\n",
    "</a></span> </div>\n",
    "\n",
    "<h1 style=\"background-color: #461d7c; color:white; font-size: 250%; line-height:2em; padding-left:1em; \">\n",
    "YOU can do thermodynamics</h1>\n",
    "\n",
    "<footer style=\"background-color: #e7e2ee; color:#461d7c; line-height:2em; padding-left:1em; text-align:center; border-left:2px solid #461d7c; border-right:2px solid #461d7c; padding-bottom:1em; top:0em;\"><i>notebooks</i></footer>\n",
    "\n",
    "<footer style=\"background-color: white; color:#461d7c; line-height:1em; padding-left:1em; text-align:center; border-top:2px solid #461d7c; border-radius: 0.75vw 0.75vw 0 0; margin-top:-1em; margin-bottom:-1em\">&nbsp;</footer>"
   ]
  },
  {
   "cell_type": "markdown",
   "metadata": {
    "extensions": {
     "jupyter_dashboards": {
      "version": 1,
      "views": {
       "grid_default": {
        "col": null,
        "height": 9,
        "hidden": false,
        "row": 8,
        "width": null
       },
       "report_default": {
        "hidden": false
       }
      }
     }
    }
   },
   "source": [
    "[01.03⋮Average_Rate_of_Heat_Transfer](01.03⋮average_rate_of_heat_transfer.ipynb)  <span style=\"display:inline-block; vertical-align:bottom\"><a href=\"https://www.julialang.org\"><img style=\"height:1.25em\" src=\"./figures/juliaLOGO-three-balls.png\" alt=\"julia\" ></a></span>  \n",
    "A cold soda initially at 33 ℉ gains 30 BTU of heat in a room at 60 ℉ over a 25 min period. What is the average rate of heat transfer during this process [BTU/hr]?  \n",
    "\n",
    "[01.02⋮Pascals_Law_Hydraulic_Lift](01.02⋮Pascals_Law_Hydraulic_Lift⋮python.ipynb)   <span style=\"display:inline-block; vertical-align:text-bottom\"><a href=\"https://www.python.org\"><img style=\"height:1em;\" src=\"./figures/flatPYTHONlogo.png\" alt=\"python\"></a></span>     \n",
    "A hydraulic lift is to be used to lift a 2500 kg weight by putting a weight of 25 kg on a piston with a diameter of 10 cm. Determine the diameter of the piston on which the weight is to be placed. The hydraulic fluid has a specific gravity of 0.86.  \n",
    "\n",
    "[01.01⋮Classic_Manometer](01.01⋮Classic_Manometer⋮python.ipynb)  <span style=\"display:inline-block; vertical-align:text-bottom\"><a href=\"https://www.python.org\"><img style=\"height:1em;\" src=\"./figures/flatPYTHONlogo.png\" alt=\"python\"></a></span>   \n",
    "A mercury manometer ( $\\rho_{\\rm Hg}$ = 13,600 kg/m$^3$) is connected to an air duct to measure the pressure inside. The difference in the manometer levels is 15 mm, and the atmospheric pressure is 100 kPa. (a) Judging from the figure, determine if the pressure in the duct is above or below the atmospheric pressure. (b) Determine the absolute pressure in the duct.  \n",
    " "
   ]
  },
  {
   "cell_type": "markdown",
   "metadata": {
    "extensions": {
     "jupyter_dashboards": {
      "version": 1,
      "views": {
       "grid_default": {
        "col": 0,
        "height": 4,
        "hidden": false,
        "row": 12,
        "width": 4
       },
       "report_default": {
        "hidden": false
       }
      }
     }
    }
   },
   "source": [
    "<footer style=\"background-color: #461d7c; color:rgba(253,208,35,0.35); line-height:2em; padding-left:1em; padding-right:0.5em; bottom:0; float:bottom; text-align:right;\"><i>ψᵟ</i></footer>"
   ]
  }
 ],
 "metadata": {
  "extensions": {
   "jupyter_dashboards": {
    "activeView": "report_default",
    "version": 1,
    "views": {
     "grid_default": {
      "cellMargin": 10,
      "defaultCellHeight": 20,
      "maxColumns": 12,
      "name": "grid",
      "type": "grid"
     },
     "report_default": {
      "name": "report",
      "type": "report"
     }
    }
   }
  },
  "kernelspec": {
   "display_name": "Python 3",
   "language": "python",
   "name": "python3"
  },
  "language_info": {
   "codemirror_mode": {
    "name": "ipython",
    "version": 3
   },
   "file_extension": ".py",
   "mimetype": "text/x-python",
   "name": "python",
   "nbconvert_exporter": "python",
   "pygments_lexer": "ipython3",
   "version": "3.6.5"
  }
 },
 "nbformat": 4,
 "nbformat_minor": 2
}

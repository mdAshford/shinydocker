{
 "cells": [
  {
   "cell_type": "markdown",
   "metadata": {},
   "source": [
    "# YOU can do thermodynamics\n",
    "\n",
    "- [01.01⋮Classic_Manometer⋮python.ipynb](01.01⋮Classic_Manometer⋮python.ipynb)\n",
    "- [01.02⋮Pascals_Law_Hydraulic_Lift⋮python.ipynb](01.02⋮Pascals_Law_Hydraulic_Lift⋮python.ipynb)\n",
    "- [02.01⋮Hydroelectric_Power_Plant_with_efficiency⋮julia.ipynb](02.01⋮Hydroelectric_Power_Plant_with_efficiency⋮julia.ipynb)\n",
    "\n",
    "\n"
   ]
  },
  {
   "cell_type": "code",
   "execution_count": null,
   "metadata": {},
   "outputs": [],
   "source": []
  }
 ],
 "metadata": {
  "kernelspec": {
   "display_name": "Python [default]",
   "language": "python",
   "name": "python3"
  },
  "language_info": {
   "codemirror_mode": {
    "name": "ipython",
    "version": 3
   },
   "file_extension": ".py",
   "mimetype": "text/x-python",
   "name": "python",
   "nbconvert_exporter": "python",
   "pygments_lexer": "ipython3",
   "version": "3.6.5"
  }
 },
 "nbformat": 4,
 "nbformat_minor": 2
}

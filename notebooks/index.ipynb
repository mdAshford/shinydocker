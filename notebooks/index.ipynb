{
 "cells": [
  {
   "cell_type": "markdown",
   "metadata": {
    "extensions": {
     "jupyter_dashboards": {
      "version": 1,
      "views": {
       "grid_default": {
        "col": 0,
        "height": 4,
        "hidden": false,
        "row": 0,
        "width": null
       },
       "report_default": {
        "hidden": true
       }
      }
     }
    }
   },
   "source": [
    "$\\require{cancel}  \\require{bbox} \\require{color} \\require{enclose} \\require{AMSmath} \\require{AMSsymbols} \\require{sinuitx} \\require{mhchem}$\n",
    "<div style=\"display:inline-block; position:absolute; top:0; right:0; color: #230e3e; font:italic 1em serif;\">$\\LaTeX$<span style=\"display:inline-block; vertical-align:bottom\"><a href=\"https://www.mathjax.org\">\n",
    "    <img style=\"height:1.55em\" title=\"Powered by MathJax\"\n",
    "    src=\"https://www.mathjax.org/badge/mj_logo.png\"\n",
    "    border=\"0\" alt=\"Powered by MathJax\" />\n",
    "</a></span> </div>\n",
    "\n",
    "<p style=\"color: #461d7c; font-size: 250%; line-height:2em; margin-left:1em; font-weight:900; \">\n",
    "YOU can do thermodynamics</p>\n",
    "<p style=\"text-align:right; background-color:#461D7C; color:#fcf8e3; padding-right:1em; position:relative; top:-1.65em;\">a production of the BENGAL-TIGER Laboratory at the University of Alabama</p>"
   ]
  },
  {
   "cell_type": "markdown",
   "metadata": {
    "extensions": {
     "jupyter_dashboards": {
      "version": 1,
      "views": {
       "grid_default": {
        "col": null,
        "height": 9,
        "hidden": false,
        "row": 8,
        "width": null
       },
       "report_default": {
        "hidden": false
       }
      }
     }
    }
   },
   "source": [
    "A repository of guided solutions to thermodynamics problems, presented in Jupyter Notebooks. Notebooks combine rich media with live code execution. More information about Jupyter Notebooks and the programming languages used herein can be found at  \n",
    "\n",
    "+ [Project Jupyter](https://jupyter.org)\n",
    "+ Dataquest.io [Jupyter Notebook for Beginners: A Tutorial](https://www.dataquest.io/blog/jupyter-notebook-tutorial#thenotebookinterface)\n",
    "+ [Python.org](https://www.python.org) <span style=\"display:inline-block; vertical-align:text-bottom\"><a href=\"https://www.python.org\"><img style=\"height:1em;\" src=\"./figures/flatPYTHONlogo.png\" alt=\"python\"></a></span> \n",
    "+ [The Julia Programming Language](https://www.julialang.org) <span style=\"display:inline-block; vertical-align:bottom\"><a href=\"https://www.julialang.org\"><img style=\"height:1.25em\" src=\"./figures/juliaLOGO-three-balls.png\" alt=\"julia\" ></a></span> \n",
    "\n",
    "    \n",
    "Execute cells with `shift` `return` ⇧⏎.  "
   ]
  },
  {
   "cell_type": "markdown",
   "metadata": {},
   "source": [
    "<p style = \"background-image: url(./figures/bacgroundTiles.png); background-color:#FDD023; line-height: 0.5em\" >&nbsp;</p>"
   ]
  },
  {
   "cell_type": "markdown",
   "metadata": {
    "extensions": {
     "jupyter_dashboards": {
      "version": 1,
      "views": {
       "grid_default": {
        "col": null,
        "height": 9,
        "hidden": false,
        "row": 8,
        "width": null
       },
       "report_default": {
        "hidden": false
       }
      }
     }
    }
   },
   "source": [
    "  \n",
    "\n",
    "[01.01⋮ÇB9 1-67](01.01⋮Classic_Manometer⋮python.ipynb)  <span style=\"display:inline-block; vertical-align:text-bottom\"><a href=\"https://www.python.org\"><img style=\"height:1em;\" src=\"./figures/flatPYTHONlogo.png\" alt=\"python\"></a></span>   \n",
    "A mercury manometer ( $\\rho_{\\rm Hg}$ = 13,600 kg/m$^3$) is connected to an air duct to measure the pressure inside. The difference in the manometer levels is 15 mm, and the atmospheric pressure is 100 kPa. (a) Judging from the figure, determine if the pressure in the duct is above or below the atmospheric pressure; and (b) determine the absolute pressure in the duct.  \n",
    " "
   ]
  },
  {
   "cell_type": "markdown",
   "metadata": {
    "extensions": {
     "jupyter_dashboards": {
      "version": 1,
      "views": {
       "grid_default": {
        "col": null,
        "height": 9,
        "hidden": false,
        "row": 8,
        "width": null
       },
       "report_default": {
        "hidden": false
       }
      }
     }
    }
   },
   "source": [
    "[01.02⋮Pascals_Law_Hydraulic_Lift](01.02⋮Pascals_Law_Hydraulic_Lift⋮python.ipynb)   <span style=\"display:inline-block; vertical-align:text-bottom\"><a href=\"https://www.python.org\"><img style=\"height:1em;\" src=\"./figures/flatPYTHONlogo.png\" alt=\"python\"></a></span>     \n",
    "A hydraulic lift is to be used to lift a 2500 kg weight by putting a weight of 25 kg on a piston with a diameter of 10 cm. Determine the diameter of the piston on which the weight is to be placed. The hydraulic fluid has a specific gravity of 0.86."
   ]
  },
  {
   "cell_type": "markdown",
   "metadata": {
    "extensions": {
     "jupyter_dashboards": {
      "version": 1,
      "views": {
       "grid_default": {
        "col": null,
        "height": 9,
        "hidden": false,
        "row": 8,
        "width": null
       },
       "report_default": {
        "hidden": false
       }
      }
     }
    }
   },
   "source": [
    "[01.03⋮Average_Rate_of_Heat_Transfer](01.03⋮average_rate_of_heat_transfer.ipynb)  <span style=\"display:inline-block; vertical-align:bottom\"><a href=\"https://www.julialang.org\"><img style=\"height:1.25em\" src=\"./figures/juliaLOGO-three-balls.png\" alt=\"julia\" ></a></span>  \n",
    "A cold soda initially at 33 ℉ gains 30 BTU of heat in a room at 60 ℉ over a 25 min period. What is the average rate of heat transfer during this process [BTU/hr]?  "
   ]
  },
  {
   "cell_type": "markdown",
   "metadata": {
    "extensions": {
     "jupyter_dashboards": {
      "version": 1,
      "views": {
       "grid_default": {
        "col": 0,
        "height": 4,
        "hidden": false,
        "row": 12,
        "width": 4
       },
       "report_default": {
        "hidden": false
       }
      }
     }
    }
   },
   "source": [
    "<div style=\"background-color:#461d7c; color:#fcf8e3\">&nbsp;<div class=\"badge\"></div><i class=\"fa fa-book\"></i><strong> Sources</strong></div>\n",
    "<div class=\"panel-warning\"><div class=\"panel-heading\">   \n",
    "\n",
    "<div style=\"display:table-row;\">\n",
    "  <div style=\"display:table-cell; text-align:right;\"><div class=\"badge\" style=\"width:100%;\">ÇB8</div></div>\n",
    "  <div style=\"display:table-cell; width:0.5em; line-height:2em;\">&nbsp;</div>\n",
    "  <div style=\"display:table-cell;\"> Çengel, YA and Boles, MA (2014) <i>Thermodynamics: An Engineering Approach, 8th Edition</i>, McGraw-Hill Education.</div>  \n",
    "</div>\n",
    "\n",
    "<div style=\"display:table-row;\">\n",
    "  <div style=\"display:table-cell;\"><div class=\"badge\" style=\"width:100%;\">MSBB9</div></div>\n",
    "  <div style=\"display:table-cell; width:0.5em; line-height:2em;\"></div>\n",
    "  <div style=\"display:table-cell;\">Moran KJ, Shapiro, HN, Boettner DD, Bailey, MB (2018) <i>Fundamentals of Engineering Thermodynamics, Enhanced eText, 9th Edition,</i> John Wiley &amp; Sons, Inc.</div>\n",
    "</div>\n",
    "\n",
    "</div></div>\n",
    "\n",
    "<footer style=\"background-color: #461d7c; color:rgba(253,208,35,0.35); line-height:2em; padding-left:1em; padding-right:0.5em; bottom:0; float:bottom; text-align:right;\"><i>ψᵟ</i></footer>"
   ]
  }
 ],
 "metadata": {
  "extensions": {
   "jupyter_dashboards": {
    "activeView": "report_default",
    "version": 1,
    "views": {
     "grid_default": {
      "cellMargin": 10,
      "defaultCellHeight": 20,
      "maxColumns": 12,
      "name": "grid",
      "type": "grid"
     },
     "report_default": {
      "name": "report",
      "type": "report"
     }
    }
   }
  },
  "kernelspec": {
   "display_name": "Python 3",
   "language": "python",
   "name": "python3"
  },
  "language_info": {
   "codemirror_mode": {
    "name": "ipython",
    "version": 3
   },
   "file_extension": ".py",
   "mimetype": "text/x-python",
   "name": "python",
   "nbconvert_exporter": "python",
   "pygments_lexer": "ipython3",
   "version": "3.7.1"
  }
 },
 "nbformat": 4,
 "nbformat_minor": 2
}

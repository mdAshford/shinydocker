{
 "cells": [
  {
   "cell_type": "markdown",
   "metadata": {},
   "source": [
    " <div style=\"display:inline-block; position:absolute; top:0; right:0; color: #230e3e; font:italic 1em serif;\">$\\LaTeX$<span style=\"display:inline-block; vertical-align:bottom\">\n",
    "    <a href=\"https://www.mathjax.org\">\n",
    "    <img style=\"height:1.5em\" title=\"Powered by MathJax\"\n",
    "    src=\"https://www.mathjax.org/badge/mj_logo.png\"\n",
    "    border=\"0\" alt=\"Powered by MathJax\" >\n",
    "</a></span></div>\n",
    "\n",
    "<div style=\"display:inline-block; position:absolute; top:0; left:0; color: #230e3e; font:italic 1em serif;\"><a href=\"https://www.julialang.org\">\n",
    "    <img style=\"height:2.25em; vertical-align:top\" title=\"Powered by Julia\"\n",
    "    src=\"./figures/julia-logo-mask.png\"\n",
    "    border=\"0\" alt=\"Powered by Julia\" >\n",
    "</a></div>\n",
    "</a></div>$\\require{cancel} \\require{mhchem} \\require{bbox} \\require{color} \\require{enclose} \\require{AMSmath} \\require{AMSsymbols}$"
   ]
  },
  {
   "cell_type": "markdown",
   "metadata": {},
   "source": [
    "# <div class=\"panel-warning\"><div class=\"panel-heading\"><div style=\"line-height:1.2em;\">This is an example of working a problem symbolically. You work the problem in a way that the only tasks remaining are table lookup and arithmetic. </div></div></div>\n",
    "\n",
    "## Given\n",
    "A refrigeration system contains an adiabatic compressor which handles refrigerant 134a. Inlet conditions are 140 kPa and -15 °C and the exit state is 1.5 MPa and 90 °C. The changes in potential and kinetic energies are negligible. Find the isentropic efficiency of the compressor."
   ]
  },
  {
   "cell_type": "markdown",
   "metadata": {},
   "source": [
    "## Find\n",
    "\n",
    "The mass flow rates of the R134a and the air, in kg/hr."
   ]
  },
  {
   "cell_type": "markdown",
   "metadata": {},
   "source": [
    "## Get Organized and Attack"
   ]
  },
  {
   "cell_type": "markdown",
   "metadata": {},
   "source": [
    "Another compressor."
   ]
  },
  {
   "cell_type": "markdown",
   "metadata": {},
   "source": [
    "<p style = \"width:100%; background-image:  url(./figures/bacgroundTiles.png); line-height:0.5em; \" >&nbsp;</p>"
   ]
  },
  {
   "cell_type": "markdown",
   "metadata": {},
   "source": [
    "\n",
    " $\\begin{array}{r}\n",
    " \\qquad \\qquad \\qquad \\\\[0pt]\n",
    " \\text{R-134a} \\\\[0pt]\n",
    " \\\\[0pt]\n",
    " \\end{array}\n",
    " \\left| \n",
    " \\begin{align*} \n",
    "   P_{1} &= 140\\, \\ce{kPa}       \\\\[0pt]\n",
    "   T_{1} &= -15\\, \\ce{°C}         \n",
    " \\end{align*}\\right| \\\n",
    " \\xrightarrow{\\normalsize \\text{compressor, }\\eta_{II} < 1}\n",
    " $$\\ \\left| \n",
    " \\begin{align*}\n",
    "   P_{2} &= 1.5\\, \\ce{MPa}       \\\\[0pt]\n",
    "   T_{2} &= 90\\, \\ce{°C}  \n",
    " \\end{align*}\\right|\n",
    " $\n",
    "\n",
    "\n"
   ]
  },
  {
   "cell_type": "markdown",
   "metadata": {},
   "source": [
    "Energy equation: \n",
    "\n",
    "$ \\qquad \\qquad\n",
    "\\begin{array}{ccccl}\n",
    " \\dot E_{in} &-& \\dot E_{out} &=& \\frac{d}{dt} E_{sys}     \\\\[0pt]\n",
    " \\dot mh_{1} + \\dot W_{in} &-& \\dot mh_{2} &=& 0     \\\\[12pt] \\hline\n",
    " &&  w_{in} &=& h_2 - h_1     \\\\[0pt]\n",
    "\\end{array}\n",
    "$"
   ]
  },
  {
   "cell_type": "markdown",
   "metadata": {},
   "source": [
    "Compare isentropic case to actual case. It's a work-consuming device, so the ideal case consumes less energy than the actual case.  \n",
    "\n",
    "$ \\qquad \\qquad \\displaystyle\n",
    " \\eta_{II} = \\frac{w_s}{w_a} $"
   ]
  },
  {
   "cell_type": "markdown",
   "metadata": {},
   "source": [
    "So, on to our final answers. Make sure you get the right input properties in place. Note the nested properties (entropy) in this one. Arrange the properties as you like, as long as it's all clear. \n"
   ]
  },
  {
   "cell_type": "markdown",
   "metadata": {},
   "source": [
    "<div class=\"panel-success\"><div class=\"panel-heading\"><div class=\"badge\"></div> \n",
    " $ \\qquad \\qquad \\displaystyle\n",
    "  \\begin{align*}\n",
    " \\eta_{II} = \\frac{w_s}{w_a} &= \\frac{h_{2s} - h_1}{h_{2a} - h_1} \\\\[6pt]\n",
    " \\text{All properties for R-134a} \\\\[6pt]\n",
    "  h_{1} &= h(\\text{140 kPa, -15 °C}) \\\\[6pt]\n",
    "  h_{2s} &= h\\text{(1.5 MPa,}\\ s_2) \\\\[3pt]\n",
    "  & \\quad s_2 = s(\\text{140 kPa, -15 °C}) \\\\[6pt]\n",
    "  h_{2a} &= h\\text{(1.5 MPa, 90 °C)} \\\\[6pt]\n",
    "  \\end{align*}$\n",
    "</div></div>"
   ]
  },
  {
   "cell_type": "markdown",
   "metadata": {},
   "source": [
    "<footer style=\"background-color: #461d7c; color:rgba(253,208,35,0.35); line-height:2em; padding-left:1em; padding-right:0.5em; bottom:0; float:bottom; text-align:right;\"><i>ψᵟ</i></footer>"
   ]
  }
 ],
 "metadata": {
  "kernelspec": {
   "display_name": "Julia 1.0.2",
   "language": "julia",
   "name": "julia-1.0"
  },
  "language_info": {
   "file_extension": ".jl",
   "mimetype": "application/julia",
   "name": "julia",
   "version": "1.0.2"
  }
 },
 "nbformat": 4,
 "nbformat_minor": 2
}

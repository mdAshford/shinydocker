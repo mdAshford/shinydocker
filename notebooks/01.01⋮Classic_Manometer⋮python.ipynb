{
 "cells": [
  {
   "cell_type": "markdown",
   "metadata": {},
   "source": [
    " <div style=\"display:inline-block; position:absolute; top:0; right:0; color: #230e3e; font:italic 1em serif;\">$\\LaTeX$<span style=\"display:inline-block; vertical-align:bottom\"><a href=\"https://www.mathjax.org\">\n",
    "    <img style=\"height:1.25em\" title=\"Powered by MathJax\"\n",
    "    src=\"https://www.mathjax.org/badge/mj_logo.png\"\n",
    "    border=\"0\" alt=\"Powered by MathJax\" />\n",
    "</a></span> </div>"
   ]
  },
  {
   "cell_type": "markdown",
   "metadata": {},
   "source": [
    "<p style=\"background-color: #fff; text-align:center; background-image:'./figures/black-griddles.png'; padding: 0;\">&nbsp;</p>\n",
    "\n",
    "We are working in a ```Jupyter Notebook```, running a ```Python 3``` kernal within ```IPython```. We import the ```pint``` package to define, operate and manipulate physical quantities. A little housekeeping follows."
   ]
  },
  {
   "cell_type": "code",
   "execution_count": 1,
   "metadata": {
    "scrolled": false
   },
   "outputs": [],
   "source": [
    "import pint                           # make pint available for use this notebook's code chunks\n",
    "Q_ = pint.UnitRegistry().Quantity     # make shortcut to the pint unit registry class constructor\n",
    "from IPython.display import Math      # IPython library for extra-pretty LaTeX output. Note the UPPERCASE 'M'\n",
    "import math                           # Python math library. Note the lowercase 'm' "
   ]
  },
  {
   "cell_type": "markdown",
   "metadata": {},
   "source": [
    "[jupyter](http://jupyter.org) | [pint](https://pypi.org/project/Pint/) | [pip](https://pip.pypa.io/en/stable/installing/) |  [anaconda](https://www.anaconda.com) | [python](https://www.python.org)\n",
    "<p style=\"background-color: #fff; text-align:center; background-image:'./figures/black-griddles.png'; padding: 0;\">&nbsp;</p>"
   ]
  },
  {
   "cell_type": "markdown",
   "metadata": {},
   "source": [
    "# Classic Manometer\n",
    "A mercury manometer ( $\\rho_{Hg}$ = 13,600 kg/m$^3$) is connected to an air duct to measure the pressure inside. The difference in the manometer levels is 15 mm, and the atmospheric pressure is 100 kPa. (a) Judging from the figure, determine if the pressure in the duct is above or below the atmospheric pressure. (b) Determine the absolute pressure in the duct.   \n",
    "\n",
    "  – *based on Problem 1-67, Cengel, Y and M. Boles (2014) Thermodynamics: An Engineering Approach 8th Edition, McGraw-Hill*  \n",
    "\n",
    "![Air Duct](./figures/classic_manometer.png)\n"
   ]
  },
  {
   "cell_type": "markdown",
   "metadata": {},
   "source": [
    "### Given"
   ]
  },
  {
   "cell_type": "code",
   "execution_count": 2,
   "metadata": {
    "inputHidden": false,
    "outputHidden": false
   },
   "outputs": [],
   "source": [
    "# use pint class constructor to assign quantities\n",
    "rho_Hg = Q_(13600, 'kg/m**3')       \n",
    "dh_Hg  = Q_(15, 'mm')      \n",
    "P_atm  = Q_(100, 'kPa')"
   ]
  },
  {
   "cell_type": "markdown",
   "metadata": {},
   "source": [
    "### Find\n",
    "\n",
    "1. By inpection, is $P_{duct}$ above or below $P_{atm}$?\n",
    "2. $P_{duct}$"
   ]
  },
  {
   "cell_type": "markdown",
   "metadata": {},
   "source": [
    "## Get Organized and Attack\n",
    "\n",
    "The physical principles we employ involve pressure changes in fluids. We must traverse a path between the pressure we want $(P_{duct})$, and a pressure we know $(P_{atm})$, summing the pressure changes along the way. It's best to treat each fluid (or phase) separately; in this case, \n",
    "\n",
    "$$ P_{duct} = P_{atm} + \\Delta P_{outer} + \\Delta P_{Hg} +  \\Delta P_{inner} $$\n",
    "\n",
    "In a quiescent fluid, pressure is *hydrostatic*. That is, the only factor influencing pressure is elevation (depth). In mathematicl terms, \n",
    "\n",
    "$$\n",
    "\\\\\n",
    "\\begin{align}\n",
    "     \\Delta P  & = \\rho g \\Delta h, \\\\ \n",
    "     \\\\\n",
    "     \\textsf{where } \\rho & \\equiv \\textsf{fluid density,} \\\\\n",
    "        g & \\equiv \\textsf{gravitational acceleration value, and} \\\\\n",
    "     \\Delta h & \\equiv \\textsf{change in elevation.} \\\\\n",
    "     \\\\\n",
    "\\end{align}\n",
    "$$\n",
    "\n",
    "#### Keep in mind\n",
    "\n",
    " 1. Pressure increases with depth.  \n",
    "\n",
    " 2. With few exceptions, the densities of gases are so low that **very large** elevation changes are required to produce any meaningful change in hydrostatic pressure. Thus, we can neglect the contributions of $\\Delta P_{inner}$ and $\\Delta P_{outer}$.  \n",
    "\n",
    " 3. Pascal's Law tells us: **in a continuous fluid, the pressure is the same everywhere at the same elevation.**  We disregard the portion of the mercury leg below the level common to both legs; their respective hydrostatic pressure effects negate each other.  "
   ]
  },
  {
   "cell_type": "markdown",
   "metadata": {},
   "source": [
    "### Assumptions\n",
    "\n",
    "1. We are given no information about gravity, so we assume the sea-level gravitational constant. $g = 9.81 \\ ^m ⁄ _{s^2}$\n",
    "2. $\\Delta P_{inner} = \\Delta P_{outer} = 0$"
   ]
  },
  {
   "cell_type": "code",
   "execution_count": 3,
   "metadata": {},
   "outputs": [],
   "source": [
    "g = Q_('gravity')        # gravity is a built-in constant of the pint Python library"
   ]
  },
  {
   "cell_type": "markdown",
   "metadata": {},
   "source": [
    "### Attack\n",
    "\n",
    "Part 1: By inspection, is $P_{duct}$ greater than or less than $P_{atm}$?  \n",
    "\n",
    "> $P_{duct} > P_{atm}$\n",
    ">\n",
    "> The mercury in the leg of the manometer in communication with the atmosphere is pushed up by the higher pressure in the duct. \n",
    "\n",
    "\n",
    "Part 2: Find $P_{duct}$.\n",
    "\n",
    "> $\n",
    "\\begin{align}\n",
    "P_{duct} & = P_{atm} + \\Delta P_{outer} + \\Delta P_{Hg} +  \\Delta P_{inner} \\\\ \n",
    "\\\\\n",
    "& = P_{atm} + 0 + \\Delta P_{Hg} + 0 \\\\\n",
    "\\\\\n",
    "  & = P_{atm} + \\left[ \\rho_{Hg} \\right] \\big[ g \\big] \\left[\\Delta h_{Hg}\\right]  \\\\\n",
    "\\\\\n",
    "  & = \\text{100 kPa } + \\left( \\bigg[13600 \\frac{kg}{m^3} \\bigg]\n",
    "      \\bigg[9.807 \\frac{m}{s^2} \\bigg]\n",
    "      \\bigg[15 \\ mm \\bigg]\n",
    "      \\right) \\left(\n",
    "      \\bigg[\\frac{m}{1000 \\ mm} \\bigg]\n",
    "      \\bigg[\\frac{N}{kg \\cdot m \\cdot s^{-2}} \\bigg]\n",
    "      \\bigg[\\frac{kPa}{1000 \\ N \\cdot m^{-2}} \\bigg]\n",
    "      \\right) \n",
    "\\end{align}\n",
    "$\n",
    "\n"
   ]
  },
  {
   "cell_type": "code",
   "execution_count": 4,
   "metadata": {
    "inputHidden": false,
    "outputHidden": false,
    "scrolled": true
   },
   "outputs": [
    {
     "data": {
      "text/latex": [
       "$$P_{atm} = 100\\ \\mathrm{kPa}\\\\ \\\\ \\rho_{Hg} = 13600\\ \\frac{\\mathrm{kg}}{\\mathrm{m}^{3}}\\\\ \\\\ g = 9.80665\\ \\frac{\\mathrm{m}}{\\mathrm{s}^{2}}\\\\ \\\\ \\Delta h_{Hg} = 15\\ \\mathrm{mm}$$"
      ],
      "text/plain": [
       "<IPython.core.display.Math object>"
      ]
     },
     "execution_count": 4,
     "metadata": {},
     "output_type": "execute_result"
    }
   ],
   "source": [
    "prettyPrintKnownValues = 'P_{{atm}} = {:~L}'.format(P_atm)        \\\n",
    "        + '\\\\\\ \\\\\\ \\\\rho_{{Hg}} = {:~L}'.format(rho_Hg)           \\\n",
    "        + '\\\\\\ \\\\\\ g = {:~L}'.format(g.to('m/s**2'))              \\\n",
    "        + '\\\\\\ \\\\\\ \\\\Delta h_{{Hg}} = {:~L}'.format(dh_Hg)        \\\n",
    "\n",
    "Math(prettyPrintKnownValues)"
   ]
  },
  {
   "cell_type": "code",
   "execution_count": 5,
   "metadata": {
    "inputHidden": false,
    "outputHidden": false,
    "scrolled": true
   },
   "outputs": [
    {
     "data": {
      "text/html": [
       "102.0005566 kilopascal"
      ],
      "text/latex": [
       "$102.0005566\\ \\mathrm{kilopascal}$"
      ],
      "text/plain": [
       "<Quantity(102.0005566, 'kilopascal')>"
      ]
     },
     "execution_count": 5,
     "metadata": {},
     "output_type": "execute_result"
    }
   ],
   "source": [
    "P_duct = P_atm + (rho_Hg * g * dh_Hg)          # code\n",
    "P_duct"
   ]
  },
  {
   "cell_type": "code",
   "execution_count": 6,
   "metadata": {
    "scrolled": true
   },
   "outputs": [
    {
     "data": {
      "text/latex": [
       "$$P_{duct} = 102.0005566\\ \\mathrm{kPa}$$"
      ],
      "text/plain": [
       "<IPython.core.display.Math object>"
      ]
     },
     "execution_count": 6,
     "metadata": {},
     "output_type": "execute_result"
    }
   ],
   "source": [
    "Math(r'P_{{duct}} = {:~L}'.format(P_duct))      # pretty print"
   ]
  },
  {
   "cell_type": "markdown",
   "metadata": {},
   "source": [
    "<footer style=\"background-color: #461d7c; color:rgba(253,208,35,0.35); line-height:2em; padding-left:1em; padding-right:0.5em; bottom:0; float:bottom; text-align:right;\"><i>ψᵟ</i></footer>"
   ]
  }
 ],
 "metadata": {
  "kernel_info": {
   "name": "python3"
  },
  "kernelspec": {
   "display_name": "Python 3",
   "language": "python",
   "name": "python3"
  },
  "language_info": {
   "codemirror_mode": {
    "name": "ipython",
    "version": 3
   },
   "file_extension": ".py",
   "mimetype": "text/x-python",
   "name": "python",
   "nbconvert_exporter": "python",
   "pygments_lexer": "ipython3",
   "version": "3.6.6"
  },
  "nteract": {
   "version": "0.11.6"
  }
 },
 "nbformat": 4,
 "nbformat_minor": 2
}

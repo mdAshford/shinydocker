{
 "cells": [
  {
   "cell_type": "markdown",
   "metadata": {},
   "source": [
    " <div style=\"display:inline-block; position:absolute; top:0; right:0; color: #230e3e; font:italic 1em serif;\">$\\LaTeX$<span style=\"display:inline-block; vertical-align:bottom\">\n",
    "    <a href=\"https://www.mathjax.org\">\n",
    "    <img style=\"height:1.5em\" title=\"Powered by MathJax\"\n",
    "    src=\"https://www.mathjax.org/badge/mj_logo.png\"\n",
    "    border=\"0\" alt=\"Powered by MathJax\" >\n",
    "</a></span></div>\n",
    "<div style=\"display:inline-block; position:absolute; top:0; left:0; color: #230e3e; font:italic 1em serif;\"><a href=\"https://www.python.org\">\n",
    "    <img style=\"height:1.75em; vertical-align:top\" title=\"Python Powered\"\n",
    "    src=\"https://www.python.org/static/community_logos/python-powered-w-70x28.png\"\n",
    "    border=\"0\" alt=\"Python Powered\" >\n",
    "</a></div>\n",
    "\n",
    "<script type=\"text/x-mathjax-config\">\n",
    "MathJax.Hub.Config({\n",
    "  TeX: { equationNumbers: { autoNumber: \"AMS\" } }\n",
    "});\n",
    "</script>\n",
    "\n",
    "\n",
    "<script type=\"text/javascript\" async\n",
    "  src=\"https://cdnjs.cloudflare.com/ajax/libs/mathjax/2.7.5/MathJax.js?config=TeX-MML-AM_CHTML\">\n",
    "</script>"
   ]
  },
  {
   "cell_type": "markdown",
   "metadata": {},
   "source": [
    "<header style=\"background-color:#e7e2ee; color:#461d7c; line-height:2em; padding-left:1em; padding-right:1em; bottom:0; float:bottom; text-align:right; float:right; font-family:serif; font-size:small;\">Problem 1-67 ⋮ Çengel, Y. A., and Boles, M. A. (2001). <i>Thermodynamics: An Engineering Approach.</i> Boston: McGraw-Hill.</header>  \n",
    "\n",
    "$\\require{cancel} \\require{mhchem} \\require{bbox} \\require{color} \\require{enclose} \\require{AMSmath} \\require{AMSsymbols}$\n",
    "<style><link rel=\"stylesheet\" type=\"text/css\" href=\"./css/custom.css\"></style>"
   ]
  },
  {
   "cell_type": "markdown",
   "metadata": {},
   "source": [
    "<div class=\"btn-info\">&nbsp;<div class=\"badge\"></div><i class=\"fa fa-exclamation-circle\"></i><strong> Note</strong></div>\n",
    "<div class=\"panel-info\"><div class=\"panel-heading\">   \n",
    "    \n",
    " We will perform our calculations in Python, first \"by hand,\" then using the [_pint_](https://pypi.org/project/Pint) units package.\n",
    "</div></div>"
   ]
  },
  {
   "cell_type": "code",
   "execution_count": 1,
   "metadata": {},
   "outputs": [],
   "source": [
    "# a little Python housekeeping\n",
    "from pint import UnitRegistry      # import the pint units package for Python\n",
    "ureg = UnitRegistry()              # make a shortcut to the pint unit registry class constructor"
   ]
  },
  {
   "cell_type": "markdown",
   "metadata": {},
   "source": [
    "# Classic Manometer\n",
    "\n",
    "A mercury manometer ( $\\rho_{Hg}$ = 13,600 kg/m$^3$) is connected to an air duct to measure the pressure inside. The difference in the manometer levels is 15 mm, and the atmospheric pressure is 100 kPa. (a) Judging from the figure, determine if the pressure in the duct is above or below the atmospheric pressure. (b) Determine the absolute pressure in the duct.   \n",
    "\n",
    "\n",
    "![Air Duct](./figures/classic_manometer.png)"
   ]
  },
  {
   "cell_type": "markdown",
   "metadata": {},
   "source": [
    "## Given  \n",
    " Duct with manometer attached as in illustration above, with $\\rho_\\ce{Hg} = 13600\\, \\ce{\\frac{kg}{m^3}}$, \n",
    "$\\Delta h_\\ce{Hg} = 15\\, \\text{mm}$, and $P_\\ce{atm}  = 100\\, \\ce{kPa}.$"
   ]
  },
  {
   "cell_type": "code",
   "execution_count": 2,
   "metadata": {},
   "outputs": [],
   "source": [
    "# establish our Given values using pint's unit constructor\n",
    "ρ_Hg  = ureg('13600kg/m**3')\n",
    "Δh_Hg = ureg('15mm')\n",
    "P_atm = ureg('100kPa')"
   ]
  },
  {
   "cell_type": "markdown",
   "metadata": {},
   "source": [
    "## Find\n",
    "\n",
    "1. By inpection, is $P_{duct}$ above or below $P_{atm}$?\n",
    "2. $P_{duct}$"
   ]
  },
  {
   "cell_type": "markdown",
   "metadata": {},
   "source": [
    "## Get Organized\n",
    "\n",
    "The physical principles we employ involve pressure changes in fluids. We must traverse a path between the pressure we want $(P_{duct})$, and a pressure we know $(P_{atm})$, accounting for the pressure changes along the way. It's best to treat each fluid (or phase) separately; in this case, \n",
    "\n",
    "$$ P_{atm} \\rightarrow \\Delta P_{outer} \\rightarrow \\Delta P_\\ce{Hg} \\rightarrow \\Delta P_{inner} \\rightarrow P_{duct}, $$\n",
    "\n",
    "$$\\textsf{or}$$\n",
    "\n",
    "$$ P_{duct}\\rightarrow \\Delta P_{inner} \\rightarrow \\Delta P_\\ce{Hg} \\rightarrow \\Delta P_{outer} \\rightarrow P_{atm} . $$\n",
    "\n",
    "\n",
    "In a quiescent fluid like ours, pressure effects are *hydrostatic*. That is, the only factor influencing pressure is elevation (depth). In mathematical terms, \n",
    "\n",
    "$$\n",
    "\\\\\n",
    "\\begin{align}\n",
    "     \\Delta P  & = \\rho g \\Delta h, \\\\ \n",
    "     \\\\\n",
    "     \\textsf{where } \\rho & \\equiv \\textsf{fluid density,} \\\\\n",
    "        g & \\equiv \\textsf{gravitational acceleration value, and} \\\\\n",
    "     \\Delta h & \\equiv \\textsf{change in elevation.} \\\\\n",
    "     \\\\\n",
    "\\end{align}\n",
    "$$"
   ]
  },
  {
   "cell_type": "markdown",
   "metadata": {},
   "source": [
    "<div class=\"btn-warning\">&nbsp;<div class=\"badge\"></div><i class=\"fa fa-exclamation-circle\"></i><strong> Sidebar: What about signs?</strong> </div>\n",
    "<div class=\"panel-warning\"><div class=\"panel-heading\">\n",
    "Many fall prey to improper signs. One of these options should work for you. <img style=\"height:28em; float:right;\" title=\"water-tower\" src=\"./figures/water-tower.png\" border=\"0\" alt=\"metropolisville township water tower, 100m elevation\">\n",
    "   \n",
    "+ If you are most comfortable \"reasoning\" your way through physical problems, then remember **pressure increases in the same direction in which gravity acts.** Keep the magnitudes of all terms positive, and manipulate the signs between the terms. Considering the simple scenario in the figure,   \n",
    "$$\n",
    "\\begin{array}{c}\n",
    "\\\\\n",
    "P_2 + \\left| \\rho gh \\right| = P_1  \\\\\n",
    "\\small \\sf or    \\\\\n",
    "P_1 - \\left| \\rho gh \\right| = P_2,\n",
    "\\\\\n",
    "\\end{array}\n",
    "$$\n",
    "\n",
    "     depending on your choice of origin. \n",
    " \n",
    " \n",
    "+ However, if you prefer a stricter relationship with math and physics, establish a coordinate system and treat elevation $\\vec h$ and gravity $\\vec g$ as the **signed** vectors they truly are, keeping all signs between the terms positive. Remember, the sign on elevation is in accordance with the direction you traverse, relative to your coordinate system. Returning to our water tower,   \n",
    "    $$\n",
    "\\begin{array}{c}\n",
    "\\\\\n",
    "P_2 + (\\rho)(-|g|)(-h) = P_1  \\\\\n",
    "\\small \\sf or    \\\\\n",
    "P_1 + (\\rho)(-|g|)(+h) = P_2.\n",
    "\\end{array}\n",
    "$$\n",
    "\n",
    "We approached our water tower four different ways. Because we applied our physics consistently and harmoniously, our four approaches yielded four mathematically identical relationships. However, ...\n",
    "</div></div>\n",
    "\n",
    "<div style=\"padding:0.5em; color:#fcf8e3; background-color:#c9302c; font-weight: 900; font-stretch: ultra-expanded;\"><div class=\"badge\"></div><i style=\"float:left; padding-left:1em;\"class=\"fa fa-3x fa-warning\"></i><i style=\"float:right; padding-right:1em;\"class=\"fa fa-3x fa-warning\"></i><div style=\"padding-left:4em; font-size:120%; text-align:center;\">Do NOT mix methods. The failure rate for doing so is 100%.<br>Find your favorite methods and stick with them, perhaps for the rest of your natural life.</div></div>"
   ]
  },
  {
   "cell_type": "markdown",
   "metadata": {},
   "source": [
    "## Assumptions\n",
    "\n",
    "1. We are given no information about gravity, so we assume the sea-level gravitational constant $g = 9.81 \\ ^m ⁄ _{s^2}$.\n",
    "2. We can neglect the contributions of the air-filled manometer segments.  \n",
    "   Because $\\rho_\\ce{air} \\ll \\rho_\\ce{Hg}$, $\\Delta P_\\ce{air} \\ll \\Delta P_{Hg}$, and $\\Delta P_{inner} = \\Delta P_{outer} \\approx 0.$  \n",
    "   For $\\Delta P_\\ce{air}$ to make a significant contribution, we would need $\\Delta h_\\ce{air} \\approx 10000 \\Delta h_\\ce{Hg}. $"
   ]
  },
  {
   "cell_type": "code",
   "execution_count": 3,
   "metadata": {},
   "outputs": [],
   "source": [
    "g = ureg('gravity')    # pint has a built in gravitational constant"
   ]
  },
  {
   "cell_type": "markdown",
   "metadata": {},
   "source": [
    "## Attack\n",
    "\n",
    "1. By inspection, is $P_{duct}$ greater than or less than $P_{atm}$?  \n",
    "    \n",
    "    The mercury in the leg of the manometer in communication with the atmosphere is pushed up by the higher pressure in the duct.   \n",
    "    \n",
    "    $\\therefore P_{duct} > P_{atm} \\\\[12pt]$  \n",
    "\n",
    "\n",
    "2. Find $P_{duct}$. Traverse the manometer as we discussed earlier, keeping our assumptions in mind.  \n",
    "\n",
    "    $\n",
    "\\begin{array}{lccc}\n",
    "  P_{atm} &\\rightarrow& \\cancelto{0}{\\Delta P_{outer}} &\\rightarrow& \\Delta P_\\ce{Hg} &\\rightarrow& \\cancelto{0}{\\Delta P_{inner}} &\\rightarrow& P_{duct} \\\\\n",
    "\\\\\n",
    "  P_{atm} &&  &+& \\big|\\rho g \\Delta h \\big|_\\ce{Hg} && &=& P_{duct}  \\\\[3pt] \n",
    "  &&&& \\textsf{or} &&&&   \\\\[3pt] \n",
    "  P_{atm} &&  &+& \\rho_\\ce{Hg}(-g)(-\\Delta h)  && &=& P_{duct}  \n",
    "\\end{array}\n",
    "$  \n",
    "\n",
    "\n",
    "$$$$   \n",
    "  $ \n",
    " \\displaystyle\n",
    "P_{duct} = \\displaystyle \\text{100 kPa } + \\left( 13600 \\frac{\\color{red}\\cancel{\\color{black}kg}}{\\color{green}\\bcancel{\\color{black}m^3}} \\\n",
    "      \\cdot 9.807 \\frac{{\\color{green}\\bcancel{\\color{black}m}}}{\\color{green}\\cancel{\\color{black}s^2}}\n",
    "      \\cdot 15 \\ \\color{blue}\\cancel{\\color{black}mm} \\color{black} \n",
    "      \\right) \\left(\n",
    "      \\frac{{\\color{green}\\bcancel{\\color{black}m}}}{1000 \\ \\color{blue}\\cancel{\\color{black}mm}} \n",
    "      \\cdot \\frac{{\\color{blue}\\bcancel{\\color{black}N}}}{\\color{red}\\cancel{\\color{black}kg} \\color{black} \\cdot {\\color{green}\\bcancel{\\color{black}m}} \\cdot \\color{green}\\cancel{\\color{black}s^{-2}}} \n",
    "      \\cdot\\frac{kPa}{1000 \\ {\\color{blue}\\bcancel{\\color{black}N}} \\cdot {\\color{green}\\bcancel{\\color{black}m^{-2}}}} \n",
    "      \\right) \n",
    "$\n"
   ]
  },
  {
   "cell_type": "markdown",
   "metadata": {},
   "source": [
    "<p style = \"background-image:  url(./figures/bacgroundTiles.png); line-height: 0.35em\" >&nbsp;</p>"
   ]
  },
  {
   "cell_type": "markdown",
   "metadata": {},
   "source": [
    "**Calculating $P_{duct}$ \"by hand\"**"
   ]
  },
  {
   "cell_type": "code",
   "execution_count": 4,
   "metadata": {
    "inputHidden": false,
    "outputHidden": false,
    "scrolled": true
   },
   "outputs": [
    {
     "name": "stdout",
     "output_type": "stream",
     "text": [
      "P_duct = 102.000628 kPa\n"
     ]
    }
   ],
   "source": [
    "P_duct = 100 + 13600*9.807*15/1000**2  # kPa\n",
    "\n",
    "print(\"P_duct =\",P_duct,\"kPa\")"
   ]
  },
  {
   "cell_type": "markdown",
   "metadata": {},
   "source": [
    "<p style = \"background-image:  url(./figures/bacgroundTiles.png); line-height: 0.35em\" >&nbsp;</p>"
   ]
  },
  {
   "cell_type": "markdown",
   "metadata": {},
   "source": [
    "**Calculating $P_{duct}$ using pint**"
   ]
  },
  {
   "cell_type": "code",
   "execution_count": 5,
   "metadata": {
    "inputHidden": false,
    "outputHidden": false,
    "scrolled": true
   },
   "outputs": [
    {
     "name": "stdout",
     "output_type": "stream",
     "text": [
      "P_duct_pint = 102.0005566 kilopascal\n"
     ]
    }
   ],
   "source": [
    "P_duct_pint = P_atm + ρ_Hg * g * Δh_Hg\n",
    "\n",
    "print(\"P_duct_pint =\",P_duct_pint)"
   ]
  },
  {
   "cell_type": "markdown",
   "metadata": {},
   "source": [
    "<footer style=\"background-color: #461d7c; color:rgba(253,208,35,0.35); line-height:2em; padding-left:1em; padding-right:0.5em; bottom:0; float:bottom; text-align:right;\"><i>ψᵟ</i></footer>"
   ]
  }
 ],
 "metadata": {
  "kernel_info": {
   "name": "python3"
  },
  "kernelspec": {
   "display_name": "Python 3",
   "language": "python",
   "name": "python3"
  },
  "language_info": {
   "codemirror_mode": {
    "name": "ipython",
    "version": 3
   },
   "file_extension": ".py",
   "mimetype": "text/x-python",
   "name": "python",
   "nbconvert_exporter": "python",
   "pygments_lexer": "ipython3",
   "version": "3.7.1"
  },
  "nteract": {
   "version": "0.11.6"
  },
  "varInspector": {
   "cols": {
    "lenName": 16,
    "lenType": 16,
    "lenVar": 40
   },
   "kernels_config": {
    "python": {
     "delete_cmd_postfix": "",
     "delete_cmd_prefix": "del ",
     "library": "var_list.py",
     "varRefreshCmd": "print(var_dic_list())"
    },
    "r": {
     "delete_cmd_postfix": ") ",
     "delete_cmd_prefix": "rm(",
     "library": "var_list.r",
     "varRefreshCmd": "cat(var_dic_list()) "
    }
   },
   "types_to_exclude": [
    "module",
    "function",
    "builtin_function_or_method",
    "instance",
    "_Feature"
   ],
   "window_display": false
  }
 },
 "nbformat": 4,
 "nbformat_minor": 2
}
